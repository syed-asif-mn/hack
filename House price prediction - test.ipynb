{
 "cells": [
  {
   "cell_type": "code",
   "execution_count": 1,
   "metadata": {
    "colab": {
     "base_uri": "https://localhost:8080/"
    },
    "executionInfo": {
     "elapsed": 4566,
     "status": "ok",
     "timestamp": 1659261880066,
     "user": {
      "displayName": "Prerna Waghray",
      "userId": "08074246852708739388"
     },
     "user_tz": -330
    },
    "id": "VICaDPZYW8Ob",
    "outputId": "a7555a39-8cfd-41e5-d8ad-21629f5be885"
   },
   "outputs": [],
   "source": [
    "import warnings\n",
    "warnings.filterwarnings('ignore')"
   ]
  },
  {
   "cell_type": "code",
   "execution_count": 2,
   "metadata": {},
   "outputs": [
    {
     "name": "stdout",
     "output_type": "stream",
     "text": [
      "Requirement already satisfied: pyspark in /root/anaconda3/lib/python3.9/site-packages (3.3.1)\n",
      "Collecting py4j==0.10.9.5\n",
      "  Using cached py4j-0.10.9.5-py2.py3-none-any.whl (199 kB)\n",
      "Installing collected packages: py4j\n",
      "  Attempting uninstall: py4j\n",
      "    Found existing installation: py4j 0.10.9.7\n",
      "    Uninstalling py4j-0.10.9.7:\n",
      "      Successfully uninstalled py4j-0.10.9.7\n",
      "Successfully installed py4j-0.10.9.5\n",
      "\u001b[33mWARNING: Running pip as the 'root' user can result in broken permissions and conflicting behaviour with the system package manager. It is recommended to use a virtual environment instead: https://pip.pypa.io/warnings/venv\u001b[0m\n"
     ]
    }
   ],
   "source": [
    "# Installing pyspark\n",
    "!pip install pyspark"
   ]
  },
  {
   "cell_type": "code",
   "execution_count": 3,
   "metadata": {
    "colab": {
     "base_uri": "https://localhost:8080/"
    },
    "executionInfo": {
     "elapsed": 54042,
     "status": "ok",
     "timestamp": 1659261943525,
     "user": {
      "displayName": "Prerna Waghray",
      "userId": "08074246852708739388"
     },
     "user_tz": -330
    },
    "id": "qIYMowCfYWy1",
    "outputId": "50e34a38-ae03-4096-9128-a23bd679f00c"
   },
   "outputs": [
    {
     "name": "stdout",
     "output_type": "stream",
     "text": [
      "Requirement already satisfied: findspark in /root/anaconda3/lib/python3.9/site-packages (2.0.1)\n",
      "\u001b[33mWARNING: Running pip as the 'root' user can result in broken permissions and conflicting behaviour with the system package manager. It is recommended to use a virtual environment instead: https://pip.pypa.io/warnings/venv\u001b[0m\n"
     ]
    }
   ],
   "source": [
    "# Installing findspark\n",
    "!pip install findspark"
   ]
  },
  {
   "cell_type": "code",
   "execution_count": 4,
   "metadata": {
    "executionInfo": {
     "elapsed": 17688,
     "status": "ok",
     "timestamp": 1659261968053,
     "user": {
      "displayName": "Prerna Waghray",
      "userId": "08074246852708739388"
     },
     "user_tz": -330
    },
    "id": "12tJ7pkUZbLr"
   },
   "outputs": [],
   "source": [
    "# Installing java\n",
    "!apt-get install openjdk-8-jdk-headless -qq > /dev/null"
   ]
  },
  {
   "cell_type": "code",
   "execution_count": 5,
   "metadata": {
    "colab": {
     "base_uri": "https://localhost:8080/"
    },
    "executionInfo": {
     "elapsed": 10728,
     "status": "ok",
     "timestamp": 1659261993731,
     "user": {
      "displayName": "Prerna Waghray",
      "userId": "08074246852708739388"
     },
     "user_tz": -330
    },
    "id": "MTGqOrjvZcvy",
    "outputId": "612d75c0-40d6-4a09-ecdc-fa300cf16bc9"
   },
   "outputs": [
    {
     "name": "stdout",
     "output_type": "stream",
     "text": [
      "File ‘spark-3.3.1-bin-hadoop2.tgz’ already there; not retrieving.\r\n",
      "\r\n"
     ]
    }
   ],
   "source": [
    "# Installing spark\n",
    "!wget -nc https://downloads.apache.org/spark/spark-3.3.1/spark-3.3.1-bin-hadoop2.tgz"
   ]
  },
  {
   "cell_type": "code",
   "execution_count": 6,
   "metadata": {
    "executionInfo": {
     "elapsed": 425,
     "status": "ok",
     "timestamp": 1659261996959,
     "user": {
      "displayName": "Prerna Waghray",
      "userId": "08074246852708739388"
     },
     "user_tz": -330
    },
    "id": "8HVRGGVPcuwy"
   },
   "outputs": [],
   "source": [
    "import findspark\n",
    "findspark.init()"
   ]
  },
  {
   "cell_type": "code",
   "execution_count": 7,
   "metadata": {
    "executionInfo": {
     "elapsed": 381,
     "status": "ok",
     "timestamp": 1659262001260,
     "user": {
      "displayName": "Prerna Waghray",
      "userId": "08074246852708739388"
     },
     "user_tz": -330
    },
    "id": "t0ictynmeN-A"
   },
   "outputs": [],
   "source": [
    "import pyspark.sql.functions as pyf"
   ]
  },
  {
   "cell_type": "code",
   "execution_count": 8,
   "metadata": {
    "colab": {
     "base_uri": "https://localhost:8080/",
     "height": 216
    },
    "executionInfo": {
     "elapsed": 8154,
     "status": "ok",
     "timestamp": 1659262014047,
     "user": {
      "displayName": "Prerna Waghray",
      "userId": "08074246852708739388"
     },
     "user_tz": -330
    },
    "id": "x_D27qHMXuZ1",
    "outputId": "0500faa6-efe8-47ae-b524-28fff180952e"
   },
   "outputs": [
    {
     "name": "stderr",
     "output_type": "stream",
     "text": [
      "Setting default log level to \"WARN\".\n",
      "To adjust logging level use sc.setLogLevel(newLevel). For SparkR, use setLogLevel(newLevel).\n"
     ]
    },
    {
     "name": "stdout",
     "output_type": "stream",
     "text": [
      "23/02/08 14:21:41 WARN NativeCodeLoader: Unable to load native-hadoop library for your platform... using builtin-java classes where applicable\n",
      "23/02/08 14:21:41 WARN Utils: Service 'SparkUI' could not bind on port 4040. Attempting port 4041.\n",
      "23/02/08 14:21:41 WARN Utils: Service 'SparkUI' could not bind on port 4041. Attempting port 4042.\n"
     ]
    },
    {
     "data": {
      "text/html": [
       "\n",
       "            <div>\n",
       "                <p><b>SparkSession - in-memory</b></p>\n",
       "                \n",
       "        <div>\n",
       "            <p><b>SparkContext</b></p>\n",
       "\n",
       "            <p><a href=\"http://ip-172-31-22-154.ec2.internal:4042\">Spark UI</a></p>\n",
       "\n",
       "            <dl>\n",
       "              <dt>Version</dt>\n",
       "                <dd><code>v3.3.1</code></dd>\n",
       "              <dt>Master</dt>\n",
       "                <dd><code>local[*]</code></dd>\n",
       "              <dt>AppName</dt>\n",
       "                <dd><code>House Price Prediction</code></dd>\n",
       "            </dl>\n",
       "        </div>\n",
       "        \n",
       "            </div>\n",
       "        "
      ],
      "text/plain": [
       "<pyspark.sql.session.SparkSession at 0x7fac4c519700>"
      ]
     },
     "execution_count": 8,
     "metadata": {},
     "output_type": "execute_result"
    }
   ],
   "source": [
    "# Creating a spark session\n",
    "from pyspark.sql import DataFrame, SparkSession\n",
    "spark = SparkSession.builder.appName(\"House Price Prediction\").getOrCreate()\n",
    "spark"
   ]
  },
  {
   "cell_type": "code",
   "execution_count": 9,
   "metadata": {
    "executionInfo": {
     "elapsed": 353,
     "status": "ok",
     "timestamp": 1659262021235,
     "user": {
      "displayName": "Prerna Waghray",
      "userId": "08074246852708739388"
     },
     "user_tz": -330
    },
    "id": "U3FnE-5gX_7f"
   },
   "outputs": [],
   "source": [
    "# Specifying the file path\n",
    "file_location = \"data/test.csv\"\n",
    "file_type = \"csv\"\n",
    "# CSV options\n",
    "infer_schema = True\n",
    "first_row_is_header = True\n",
    "delimiter = \",\""
   ]
  },
  {
   "cell_type": "code",
   "execution_count": 10,
   "metadata": {
    "executionInfo": {
     "elapsed": 8204,
     "status": "ok",
     "timestamp": 1659262036250,
     "user": {
      "displayName": "Prerna Waghray",
      "userId": "08074246852708739388"
     },
     "user_tz": -330
    },
    "id": "4zd96WKbdmTf"
   },
   "outputs": [],
   "source": [
    "# The applied options are for CSV files. For other file types, these will be ignored.\n",
    "DF = spark.read.format(file_type) \\\n",
    "  .option(\"inferSchema\", infer_schema) \\\n",
    "  .option(\"header\", first_row_is_header) \\\n",
    "  .option(\"sep\", delimiter) \\\n",
    "  .load(file_location)"
   ]
  },
  {
   "cell_type": "code",
   "execution_count": 11,
   "metadata": {
    "colab": {
     "base_uri": "https://localhost:8080/"
    },
    "executionInfo": {
     "elapsed": 1782,
     "status": "ok",
     "timestamp": 1659262041743,
     "user": {
      "displayName": "Prerna Waghray",
      "userId": "08074246852708739388"
     },
     "user_tz": -330
    },
    "id": "K_ba4Fq2ds72",
    "outputId": "5418dfc3-fccb-451f-eb0c-9a74995d4a23"
   },
   "outputs": [
    {
     "name": "stdout",
     "output_type": "stream",
     "text": [
      "23/02/08 14:21:48 WARN package: Truncated the string representation of a plan since it was too large. This behavior can be adjusted by setting 'spark.sql.debug.maxToStringFields'.\n",
      "+----+----------+--------+-----------+-------+------+-----+--------+-----------+---------+---------+---------+------------+----------+----------+--------+----------+-----------+-----------+---------+------------+---------+--------+-----------+-----------+----------+----------+---------+---------+----------+--------+--------+------------+------------+----------+------------+----------+---------+-----------+-------+---------+----------+----------+--------+--------+------------+---------+------------+------------+--------+--------+------------+------------+-----------+------------+----------+----------+-----------+----------+-----------+------------+----------+----------+----------+----------+----------+----------+-----------+-------------+---------+-----------+--------+------+-----+-----------+-------+------+------+--------+-------------+\n",
      "|Id  |MSSubClass|MSZoning|LotFrontage|LotArea|Street|Alley|LotShape|LandContour|Utilities|LotConfig|LandSlope|Neighborhood|Condition1|Condition2|BldgType|HouseStyle|OverallQual|OverallCond|YearBuilt|YearRemodAdd|RoofStyle|RoofMatl|Exterior1st|Exterior2nd|MasVnrType|MasVnrArea|ExterQual|ExterCond|Foundation|BsmtQual|BsmtCond|BsmtExposure|BsmtFinType1|BsmtFinSF1|BsmtFinType2|BsmtFinSF2|BsmtUnfSF|TotalBsmtSF|Heating|HeatingQC|CentralAir|Electrical|1stFlrSF|2ndFlrSF|LowQualFinSF|GrLivArea|BsmtFullBath|BsmtHalfBath|FullBath|HalfBath|BedroomAbvGr|KitchenAbvGr|KitchenQual|TotRmsAbvGrd|Functional|Fireplaces|FireplaceQu|GarageType|GarageYrBlt|GarageFinish|GarageCars|GarageArea|GarageQual|GarageCond|PavedDrive|WoodDeckSF|OpenPorchSF|EnclosedPorch|3SsnPorch|ScreenPorch|PoolArea|PoolQC|Fence|MiscFeature|MiscVal|MoSold|YrSold|SaleType|SaleCondition|\n",
      "+----+----------+--------+-----------+-------+------+-----+--------+-----------+---------+---------+---------+------------+----------+----------+--------+----------+-----------+-----------+---------+------------+---------+--------+-----------+-----------+----------+----------+---------+---------+----------+--------+--------+------------+------------+----------+------------+----------+---------+-----------+-------+---------+----------+----------+--------+--------+------------+---------+------------+------------+--------+--------+------------+------------+-----------+------------+----------+----------+-----------+----------+-----------+------------+----------+----------+----------+----------+----------+----------+-----------+-------------+---------+-----------+--------+------+-----+-----------+-------+------+------+--------+-------------+\n",
      "|1461|20        |RH      |80         |11622  |Pave  |NA   |Reg     |Lvl        |AllPub   |Inside   |Gtl      |NAmes       |Feedr     |Norm      |1Fam    |1Story    |5          |6          |1961     |1961        |Gable    |CompShg |VinylSd    |VinylSd    |None      |0         |TA       |TA       |CBlock    |TA      |TA      |No          |Rec         |468       |LwQ         |144       |270      |882        |GasA   |TA       |Y         |SBrkr     |896     |0       |0           |896      |0           |0           |1       |0       |2           |1           |TA         |5           |Typ       |0         |NA         |Attchd    |1961       |Unf         |1         |730       |TA        |TA        |Y         |140       |0          |0            |0        |120        |0       |NA    |MnPrv|NA         |0      |6     |2010  |WD      |Normal       |\n",
      "|1462|20        |RL      |81         |14267  |Pave  |NA   |IR1     |Lvl        |AllPub   |Corner   |Gtl      |NAmes       |Norm      |Norm      |1Fam    |1Story    |6          |6          |1958     |1958        |Hip      |CompShg |Wd Sdng    |Wd Sdng    |BrkFace   |108       |TA       |TA       |CBlock    |TA      |TA      |No          |ALQ         |923       |Unf         |0         |406      |1329       |GasA   |TA       |Y         |SBrkr     |1329    |0       |0           |1329     |0           |0           |1       |1       |3           |1           |Gd         |6           |Typ       |0         |NA         |Attchd    |1958       |Unf         |1         |312       |TA        |TA        |Y         |393       |36         |0            |0        |0          |0       |NA    |NA   |Gar2       |12500  |6     |2010  |WD      |Normal       |\n",
      "|1463|60        |RL      |74         |13830  |Pave  |NA   |IR1     |Lvl        |AllPub   |Inside   |Gtl      |Gilbert     |Norm      |Norm      |1Fam    |2Story    |5          |5          |1997     |1998        |Gable    |CompShg |VinylSd    |VinylSd    |None      |0         |TA       |TA       |PConc     |Gd      |TA      |No          |GLQ         |791       |Unf         |0         |137      |928        |GasA   |Gd       |Y         |SBrkr     |928     |701     |0           |1629     |0           |0           |2       |1       |3           |1           |TA         |6           |Typ       |1         |TA         |Attchd    |1997       |Fin         |2         |482       |TA        |TA        |Y         |212       |34         |0            |0        |0          |0       |NA    |MnPrv|NA         |0      |3     |2010  |WD      |Normal       |\n",
      "|1464|60        |RL      |78         |9978   |Pave  |NA   |IR1     |Lvl        |AllPub   |Inside   |Gtl      |Gilbert     |Norm      |Norm      |1Fam    |2Story    |6          |6          |1998     |1998        |Gable    |CompShg |VinylSd    |VinylSd    |BrkFace   |20        |TA       |TA       |PConc     |TA      |TA      |No          |GLQ         |602       |Unf         |0         |324      |926        |GasA   |Ex       |Y         |SBrkr     |926     |678     |0           |1604     |0           |0           |2       |1       |3           |1           |Gd         |7           |Typ       |1         |Gd         |Attchd    |1998       |Fin         |2         |470       |TA        |TA        |Y         |360       |36         |0            |0        |0          |0       |NA    |NA   |NA         |0      |6     |2010  |WD      |Normal       |\n",
      "|1465|120       |RL      |43         |5005   |Pave  |NA   |IR1     |HLS        |AllPub   |Inside   |Gtl      |StoneBr     |Norm      |Norm      |TwnhsE  |1Story    |8          |5          |1992     |1992        |Gable    |CompShg |HdBoard    |HdBoard    |None      |0         |Gd       |TA       |PConc     |Gd      |TA      |No          |ALQ         |263       |Unf         |0         |1017     |1280       |GasA   |Ex       |Y         |SBrkr     |1280    |0       |0           |1280     |0           |0           |2       |0       |2           |1           |Gd         |5           |Typ       |0         |NA         |Attchd    |1992       |RFn         |2         |506       |TA        |TA        |Y         |0         |82         |0            |0        |144        |0       |NA    |NA   |NA         |0      |1     |2010  |WD      |Normal       |\n",
      "|1466|60        |RL      |75         |10000  |Pave  |NA   |IR1     |Lvl        |AllPub   |Corner   |Gtl      |Gilbert     |Norm      |Norm      |1Fam    |2Story    |6          |5          |1993     |1994        |Gable    |CompShg |HdBoard    |HdBoard    |None      |0         |TA       |TA       |PConc     |Gd      |TA      |No          |Unf         |0         |Unf         |0         |763      |763        |GasA   |Gd       |Y         |SBrkr     |763     |892     |0           |1655     |0           |0           |2       |1       |3           |1           |TA         |7           |Typ       |1         |TA         |Attchd    |1993       |Fin         |2         |440       |TA        |TA        |Y         |157       |84         |0            |0        |0          |0       |NA    |NA   |NA         |0      |4     |2010  |WD      |Normal       |\n",
      "|1467|20        |RL      |NA         |7980   |Pave  |NA   |IR1     |Lvl        |AllPub   |Inside   |Gtl      |Gilbert     |Norm      |Norm      |1Fam    |1Story    |6          |7          |1992     |2007        |Gable    |CompShg |HdBoard    |HdBoard    |None      |0         |TA       |Gd       |PConc     |Gd      |TA      |No          |ALQ         |935       |Unf         |0         |233      |1168       |GasA   |Ex       |Y         |SBrkr     |1187    |0       |0           |1187     |1           |0           |2       |0       |3           |1           |TA         |6           |Typ       |0         |NA         |Attchd    |1992       |Fin         |2         |420       |TA        |TA        |Y         |483       |21         |0            |0        |0          |0       |NA    |GdPrv|Shed       |500    |3     |2010  |WD      |Normal       |\n",
      "|1468|60        |RL      |63         |8402   |Pave  |NA   |IR1     |Lvl        |AllPub   |Inside   |Gtl      |Gilbert     |Norm      |Norm      |1Fam    |2Story    |6          |5          |1998     |1998        |Gable    |CompShg |VinylSd    |VinylSd    |None      |0         |TA       |TA       |PConc     |Gd      |TA      |No          |Unf         |0         |Unf         |0         |789      |789        |GasA   |Gd       |Y         |SBrkr     |789     |676     |0           |1465     |0           |0           |2       |1       |3           |1           |TA         |7           |Typ       |1         |Gd         |Attchd    |1998       |Fin         |2         |393       |TA        |TA        |Y         |0         |75         |0            |0        |0          |0       |NA    |NA   |NA         |0      |5     |2010  |WD      |Normal       |\n",
      "|1469|20        |RL      |85         |10176  |Pave  |NA   |Reg     |Lvl        |AllPub   |Inside   |Gtl      |Gilbert     |Norm      |Norm      |1Fam    |1Story    |7          |5          |1990     |1990        |Gable    |CompShg |HdBoard    |HdBoard    |None      |0         |TA       |TA       |PConc     |Gd      |TA      |Gd          |GLQ         |637       |Unf         |0         |663      |1300       |GasA   |Gd       |Y         |SBrkr     |1341    |0       |0           |1341     |1           |0           |1       |1       |2           |1           |Gd         |5           |Typ       |1         |Po         |Attchd    |1990       |Unf         |2         |506       |TA        |TA        |Y         |192       |0          |0            |0        |0          |0       |NA    |NA   |NA         |0      |2     |2010  |WD      |Normal       |\n",
      "|1470|20        |RL      |70         |8400   |Pave  |NA   |Reg     |Lvl        |AllPub   |Corner   |Gtl      |NAmes       |Norm      |Norm      |1Fam    |1Story    |4          |5          |1970     |1970        |Gable    |CompShg |Plywood    |Plywood    |None      |0         |TA       |TA       |CBlock    |TA      |TA      |No          |ALQ         |804       |Rec         |78        |0        |882        |GasA   |TA       |Y         |SBrkr     |882     |0       |0           |882      |1           |0           |1       |0       |2           |1           |TA         |4           |Typ       |0         |NA         |Attchd    |1970       |Fin         |2         |525       |TA        |TA        |Y         |240       |0          |0            |0        |0          |0       |NA    |MnPrv|NA         |0      |4     |2010  |WD      |Normal       |\n",
      "+----+----------+--------+-----------+-------+------+-----+--------+-----------+---------+---------+---------+------------+----------+----------+--------+----------+-----------+-----------+---------+------------+---------+--------+-----------+-----------+----------+----------+---------+---------+----------+--------+--------+------------+------------+----------+------------+----------+---------+-----------+-------+---------+----------+----------+--------+--------+------------+---------+------------+------------+--------+--------+------------+------------+-----------+------------+----------+----------+-----------+----------+-----------+------------+----------+----------+----------+----------+----------+----------+-----------+-------------+---------+-----------+--------+------+-----+-----------+-------+------+------+--------+-------------+\n",
      "only showing top 10 rows\n",
      "\n"
     ]
    }
   ],
   "source": [
    "# Reviewing the dataset\n",
    "DF.show(10, False)"
   ]
  },
  {
   "cell_type": "code",
   "execution_count": 12,
   "metadata": {
    "colab": {
     "base_uri": "https://localhost:8080/"
    },
    "executionInfo": {
     "elapsed": 6,
     "status": "ok",
     "timestamp": 1659262044026,
     "user": {
      "displayName": "Prerna Waghray",
      "userId": "08074246852708739388"
     },
     "user_tz": -330
    },
    "id": "sT_zxvopeJf5",
    "outputId": "4f2a9c92-e3ee-4224-de7a-dae346bd37f3"
   },
   "outputs": [
    {
     "name": "stdout",
     "output_type": "stream",
     "text": [
      "root\n",
      " |-- Id: integer (nullable = true)\n",
      " |-- MSSubClass: integer (nullable = true)\n",
      " |-- MSZoning: string (nullable = true)\n",
      " |-- LotFrontage: string (nullable = true)\n",
      " |-- LotArea: integer (nullable = true)\n",
      " |-- Street: string (nullable = true)\n",
      " |-- Alley: string (nullable = true)\n",
      " |-- LotShape: string (nullable = true)\n",
      " |-- LandContour: string (nullable = true)\n",
      " |-- Utilities: string (nullable = true)\n",
      " |-- LotConfig: string (nullable = true)\n",
      " |-- LandSlope: string (nullable = true)\n",
      " |-- Neighborhood: string (nullable = true)\n",
      " |-- Condition1: string (nullable = true)\n",
      " |-- Condition2: string (nullable = true)\n",
      " |-- BldgType: string (nullable = true)\n",
      " |-- HouseStyle: string (nullable = true)\n",
      " |-- OverallQual: integer (nullable = true)\n",
      " |-- OverallCond: integer (nullable = true)\n",
      " |-- YearBuilt: integer (nullable = true)\n",
      " |-- YearRemodAdd: integer (nullable = true)\n",
      " |-- RoofStyle: string (nullable = true)\n",
      " |-- RoofMatl: string (nullable = true)\n",
      " |-- Exterior1st: string (nullable = true)\n",
      " |-- Exterior2nd: string (nullable = true)\n",
      " |-- MasVnrType: string (nullable = true)\n",
      " |-- MasVnrArea: string (nullable = true)\n",
      " |-- ExterQual: string (nullable = true)\n",
      " |-- ExterCond: string (nullable = true)\n",
      " |-- Foundation: string (nullable = true)\n",
      " |-- BsmtQual: string (nullable = true)\n",
      " |-- BsmtCond: string (nullable = true)\n",
      " |-- BsmtExposure: string (nullable = true)\n",
      " |-- BsmtFinType1: string (nullable = true)\n",
      " |-- BsmtFinSF1: string (nullable = true)\n",
      " |-- BsmtFinType2: string (nullable = true)\n",
      " |-- BsmtFinSF2: string (nullable = true)\n",
      " |-- BsmtUnfSF: string (nullable = true)\n",
      " |-- TotalBsmtSF: string (nullable = true)\n",
      " |-- Heating: string (nullable = true)\n",
      " |-- HeatingQC: string (nullable = true)\n",
      " |-- CentralAir: string (nullable = true)\n",
      " |-- Electrical: string (nullable = true)\n",
      " |-- 1stFlrSF: integer (nullable = true)\n",
      " |-- 2ndFlrSF: integer (nullable = true)\n",
      " |-- LowQualFinSF: integer (nullable = true)\n",
      " |-- GrLivArea: integer (nullable = true)\n",
      " |-- BsmtFullBath: string (nullable = true)\n",
      " |-- BsmtHalfBath: string (nullable = true)\n",
      " |-- FullBath: integer (nullable = true)\n",
      " |-- HalfBath: integer (nullable = true)\n",
      " |-- BedroomAbvGr: integer (nullable = true)\n",
      " |-- KitchenAbvGr: integer (nullable = true)\n",
      " |-- KitchenQual: string (nullable = true)\n",
      " |-- TotRmsAbvGrd: integer (nullable = true)\n",
      " |-- Functional: string (nullable = true)\n",
      " |-- Fireplaces: integer (nullable = true)\n",
      " |-- FireplaceQu: string (nullable = true)\n",
      " |-- GarageType: string (nullable = true)\n",
      " |-- GarageYrBlt: string (nullable = true)\n",
      " |-- GarageFinish: string (nullable = true)\n",
      " |-- GarageCars: string (nullable = true)\n",
      " |-- GarageArea: string (nullable = true)\n",
      " |-- GarageQual: string (nullable = true)\n",
      " |-- GarageCond: string (nullable = true)\n",
      " |-- PavedDrive: string (nullable = true)\n",
      " |-- WoodDeckSF: integer (nullable = true)\n",
      " |-- OpenPorchSF: integer (nullable = true)\n",
      " |-- EnclosedPorch: integer (nullable = true)\n",
      " |-- 3SsnPorch: integer (nullable = true)\n",
      " |-- ScreenPorch: integer (nullable = true)\n",
      " |-- PoolArea: integer (nullable = true)\n",
      " |-- PoolQC: string (nullable = true)\n",
      " |-- Fence: string (nullable = true)\n",
      " |-- MiscFeature: string (nullable = true)\n",
      " |-- MiscVal: integer (nullable = true)\n",
      " |-- MoSold: integer (nullable = true)\n",
      " |-- YrSold: integer (nullable = true)\n",
      " |-- SaleType: string (nullable = true)\n",
      " |-- SaleCondition: string (nullable = true)\n",
      "\n"
     ]
    }
   ],
   "source": [
    "# Printing the info/schema \n",
    "DF.printSchema()"
   ]
  },
  {
   "cell_type": "code",
   "execution_count": 13,
   "metadata": {
    "colab": {
     "base_uri": "https://localhost:8080/"
    },
    "executionInfo": {
     "elapsed": 3309,
     "status": "ok",
     "timestamp": 1659262049412,
     "user": {
      "displayName": "Prerna Waghray",
      "userId": "08074246852708739388"
     },
     "user_tz": -330
    },
    "id": "0uYM9rj5dzHR",
    "outputId": "00d2ccd3-2a6e-4f81-be40-a3d69202f22a"
   },
   "outputs": [
    {
     "name": "stdout",
     "output_type": "stream",
     "text": [
      "+---+----------+--------+-----------+-------+------+-----+--------+-----------+---------+---------+---------+------------+----------+----------+--------+----------+-----------+-----------+---------+------------+---------+--------+-----------+-----------+----------+----------+---------+---------+----------+--------+--------+------------+------------+----------+------------+----------+---------+-----------+-------+---------+----------+----------+--------+--------+------------+---------+------------+------------+--------+--------+------------+------------+-----------+------------+----------+----------+-----------+----------+-----------+------------+----------+----------+----------+----------+----------+----------+-----------+-------------+---------+-----------+--------+------+-----+-----------+-------+------+------+--------+-------------+\n",
      "| Id|MSSubClass|MSZoning|LotFrontage|LotArea|Street|Alley|LotShape|LandContour|Utilities|LotConfig|LandSlope|Neighborhood|Condition1|Condition2|BldgType|HouseStyle|OverallQual|OverallCond|YearBuilt|YearRemodAdd|RoofStyle|RoofMatl|Exterior1st|Exterior2nd|MasVnrType|MasVnrArea|ExterQual|ExterCond|Foundation|BsmtQual|BsmtCond|BsmtExposure|BsmtFinType1|BsmtFinSF1|BsmtFinType2|BsmtFinSF2|BsmtUnfSF|TotalBsmtSF|Heating|HeatingQC|CentralAir|Electrical|1stFlrSF|2ndFlrSF|LowQualFinSF|GrLivArea|BsmtFullBath|BsmtHalfBath|FullBath|HalfBath|BedroomAbvGr|KitchenAbvGr|KitchenQual|TotRmsAbvGrd|Functional|Fireplaces|FireplaceQu|GarageType|GarageYrBlt|GarageFinish|GarageCars|GarageArea|GarageQual|GarageCond|PavedDrive|WoodDeckSF|OpenPorchSF|EnclosedPorch|3SsnPorch|ScreenPorch|PoolArea|PoolQC|Fence|MiscFeature|MiscVal|MoSold|YrSold|SaleType|SaleCondition|\n",
      "+---+----------+--------+-----------+-------+------+-----+--------+-----------+---------+---------+---------+------------+----------+----------+--------+----------+-----------+-----------+---------+------------+---------+--------+-----------+-----------+----------+----------+---------+---------+----------+--------+--------+------------+------------+----------+------------+----------+---------+-----------+-------+---------+----------+----------+--------+--------+------------+---------+------------+------------+--------+--------+------------+------------+-----------+------------+----------+----------+-----------+----------+-----------+------------+----------+----------+----------+----------+----------+----------+-----------+-------------+---------+-----------+--------+------+-----+-----------+-------+------+------+--------+-------------+\n",
      "|  0|         0|       0|          0|      0|     0|    0|       0|          0|        0|        0|        0|           0|         0|         0|       0|         0|          0|          0|        0|           0|        0|       0|          0|          0|         0|         0|        0|        0|         0|       0|       0|           0|           0|         0|           0|         0|        0|          0|      0|        0|         0|         0|       0|       0|           0|        0|           0|           0|       0|       0|           0|           0|          0|           0|         0|         0|          0|         0|          0|           0|         0|         0|         0|         0|         0|         0|          0|            0|        0|          0|       0|     0|    0|          0|      0|     0|     0|       0|            0|\n",
      "+---+----------+--------+-----------+-------+------+-----+--------+-----------+---------+---------+---------+------------+----------+----------+--------+----------+-----------+-----------+---------+------------+---------+--------+-----------+-----------+----------+----------+---------+---------+----------+--------+--------+------------+------------+----------+------------+----------+---------+-----------+-------+---------+----------+----------+--------+--------+------------+---------+------------+------------+--------+--------+------------+------------+-----------+------------+----------+----------+-----------+----------+-----------+------------+----------+----------+----------+----------+----------+----------+-----------+-------------+---------+-----------+--------+------+-----+-----------+-------+------+------+--------+-------------+\n",
      "\n"
     ]
    }
   ],
   "source": [
    "# Checking for null values\n",
    "from pyspark.sql.functions import isnull, when, count, col\n",
    "DF.select([count(when(isnull(c), c)).alias(c) for c in DF.columns]).show()"
   ]
  },
  {
   "cell_type": "code",
   "execution_count": 14,
   "metadata": {
    "colab": {
     "base_uri": "https://localhost:8080/"
    },
    "executionInfo": {
     "elapsed": 3003,
     "status": "ok",
     "timestamp": 1659262058534,
     "user": {
      "displayName": "Prerna Waghray",
      "userId": "08074246852708739388"
     },
     "user_tz": -330
    },
    "id": "_NVqLwgRek0R",
    "outputId": "d51a7b3d-7fd8-4723-d38f-7d97d5d1b65e"
   },
   "outputs": [
    {
     "name": "stdout",
     "output_type": "stream",
     "text": [
      "+----+----------+--------+-----------+-------+------+-----+--------+-----------+---------+---------+---------+------------+----------+----------+--------+----------+-----------+-----------+---------+------------+---------+--------+-----------+-----------+----------+----------+---------+---------+----------+--------+--------+------------+------------+----------+------------+----------+---------+-----------+-------+---------+----------+----------+--------+--------+------------+---------+------------+------------+--------+--------+------------+------------+-----------+------------+----------+----------+-----------+----------+-----------+------------+----------+----------+----------+----------+----------+----------+-----------+-------------+---------+-----------+--------+------+-----+-----------+-------+------+------+--------+-------------+\n",
      "|  Id|MSSubClass|MSZoning|LotFrontage|LotArea|Street|Alley|LotShape|LandContour|Utilities|LotConfig|LandSlope|Neighborhood|Condition1|Condition2|BldgType|HouseStyle|OverallQual|OverallCond|YearBuilt|YearRemodAdd|RoofStyle|RoofMatl|Exterior1st|Exterior2nd|MasVnrType|MasVnrArea|ExterQual|ExterCond|Foundation|BsmtQual|BsmtCond|BsmtExposure|BsmtFinType1|BsmtFinSF1|BsmtFinType2|BsmtFinSF2|BsmtUnfSF|TotalBsmtSF|Heating|HeatingQC|CentralAir|Electrical|1stFlrSF|2ndFlrSF|LowQualFinSF|GrLivArea|BsmtFullBath|BsmtHalfBath|FullBath|HalfBath|BedroomAbvGr|KitchenAbvGr|KitchenQual|TotRmsAbvGrd|Functional|Fireplaces|FireplaceQu|GarageType|GarageYrBlt|GarageFinish|GarageCars|GarageArea|GarageQual|GarageCond|PavedDrive|WoodDeckSF|OpenPorchSF|EnclosedPorch|3SsnPorch|ScreenPorch|PoolArea|PoolQC|Fence|MiscFeature|MiscVal|MoSold|YrSold|SaleType|SaleCondition|\n",
      "+----+----------+--------+-----------+-------+------+-----+--------+-----------+---------+---------+---------+------------+----------+----------+--------+----------+-----------+-----------+---------+------------+---------+--------+-----------+-----------+----------+----------+---------+---------+----------+--------+--------+------------+------------+----------+------------+----------+---------+-----------+-------+---------+----------+----------+--------+--------+------------+---------+------------+------------+--------+--------+------------+------------+-----------+------------+----------+----------+-----------+----------+-----------+------------+----------+----------+----------+----------+----------+----------+-----------+-------------+---------+-----------+--------+------+-----+-----------+-------+------+------+--------+-------------+\n",
      "|1561|        90|      RL|         72|  10773|  Pave|   NA|     Reg|        Lvl|   AllPub|   Inside|      Gtl|      Sawyer|      Norm|      Norm|  Duplex|    1Story|          4|          3|     1967|        1967|    Gable| Tar&Grv|    Plywood|    Plywood|   BrkFace|        72|       Fa|       Fa|    CBlock|      TA|      TA|          No|         ALQ|       704|         Unf|         0|     1128|       1832|   GasA|       TA|         N|     SBrkr|    1832|       0|           0|     1832|           2|           0|       2|       0|           4|           2|         TA|           8|       Typ|         0|         NA|        NA|         NA|          NA|         0|         0|        NA|        NA|         Y|         0|         58|            0|        0|          0|       0|    NA|   NA|         NA|      0|     5|  2010|      WD|       Normal|\n",
      "|1656|       160|      RL|         24|   2349|  Pave|   NA|     Reg|        Lvl|   AllPub|   Inside|      Gtl|     NPkVill|      Norm|      Norm|   Twnhs|    2Story|          6|          5|     1977|        1977|    Gable| CompShg|    Plywood|    Brk Cmn|      None|         0|       TA|       TA|    CBlock|      Gd|      TA|          No|         ALQ|       389|         Unf|         0|      466|        855|   GasA|       TA|         Y|     SBrkr|     855|     601|           0|     1456|           0|           0|       2|       1|           3|           1|         TA|           6|       Typ|         1|         TA|    Attchd|       1977|         Unf|         2|       440|        TA|        TA|         Y|         0|         28|            0|        0|          0|       0|    NA|   NA|         NA|      0|     5|  2009|      WD|       Normal|\n",
      "|1844|        85|      RL|         NA|   8014|  Pave|   NA|     IR1|        Lvl|   AllPub|  CulDSac|      Gtl|      Sawyer|      Norm|      Norm|    1Fam|    SFoyer|          6|          5|     1978|        1978|    Gable| CompShg|    Plywood|    HdBoard|   BrkFace|        23|       TA|       TA|    CBlock|      Gd|      TA|          Gd|         GLQ|       456|         Unf|         0|        0|        456|   GasA|       TA|         Y|     SBrkr|    1034|       0|           0|     1034|           0|           1|       1|       0|           3|           1|         TA|           5|       Typ|         1|         Fa|   Basment|       1978|         Fin|         2|       504|        TA|        TA|         Y|         0|          0|            0|        0|          0|       0|    NA|   NA|         NA|      0|     6|  2009|      WD|       Normal|\n",
      "|1848|        20|      RL|         NA|   9000|  Pave|   NA|     Reg|        Lvl|   AllPub|   Corner|      Gtl|      Sawyer|      Norm|      Norm|    1Fam|    1Story|          2|          2|     1947|        1950|    Gable| CompShg|    Wd Sdng|    Wd Sdng|      None|         0|       TA|       TA|      Slab|      NA|      NA|          NA|          NA|         0|          NA|         0|        0|          0|   GasA|       Fa|         N|     SBrkr|     660|       0|           0|      660|           0|           0|       1|       0|           2|           1|         Fa|           5|      Min2|         0|         NA|        NA|         NA|          NA|         0|         0|        NA|        NA|         N|         0|          0|          100|        0|          0|       0|    NA|   NA|         NA|      0|     6|  2009|      WD|       Normal|\n",
      "|1913|        70|      RM|         50|   8660|  Pave|   NA|     Reg|        Bnk|   AllPub|   Inside|      Gtl|      IDOTRR|      Norm|      Norm|    1Fam|    2Story|          5|          6|     1900|        1993|  Gambrel| CompShg|    AsbShng|    AsbShng|      None|         0|       TA|       TA|    BrkTil|      TA|      TA|          No|         Unf|         0|         Unf|         0|      760|        760|   GasA|       Ex|         N|     SBrkr|     928|     928|         312|     2168|           0|           0|       2|       0|           5|           1|         Gd|          11|       Typ|         0|         NA|    Detchd|       1998|         Unf|         2|       576|        TA|        TA|         Y|       467|        160|           78|        0|          0|       0|    NA|   NA|         NA|      0|    12|  2009|      WD|       Normal|\n",
      "|2289|        20|      RL|        110|  14333|  Pave|   NA|     Reg|        Lvl|   AllPub|   Corner|      Gtl|     NridgHt|      Norm|      Norm|    1Fam|    1Story|          8|          5|     2007|        2007|    Gable| CompShg|    VinylSd|    VinylSd|      None|         0|       Gd|       TA|     PConc|      Gd|      TA|          Gd|         GLQ|      1518|         Unf|         0|      590|       2108|   GasA|       Ex|         Y|     SBrkr|    2122|       0|           0|     2122|           1|           0|       2|       1|           2|           1|         Gd|           7|       Typ|         1|         Ex|    Attchd|       2007|         Fin|         3|       938|        TA|        TA|         Y|       130|        142|            0|        0|          0|       0|    NA|   NA|         NA|      0|    11|  2007|     New|      Partial|\n",
      "|2485|        20|      RL|         NA|   8169|  Pave|   NA|     Reg|        Lvl|   AllPub|   Corner|      Gtl|      Sawyer|     Feedr|      Norm|    1Fam|    1Story|          5|          7|     1966|        1966|    Gable| CompShg|    Plywood|    Plywood|      None|         0|       TA|       Gd|    CBlock|      TA|      TA|          No|         Rec|       216|         ALQ|       435|      261|        912|   GasA|       Ex|         Y|     SBrkr|     912|       0|           0|      912|           1|           0|       1|       0|           3|           1|         Gd|           6|       Typ|         0|         NA|    Detchd|       1966|         Unf|         1|       315|        TA|        TA|         Y|       204|          0|            0|        0|          0|       0|    NA|MnPrv|         NA|      0|     7|  2007|      WD|       Normal|\n",
      "|2836|        60|      RL|         78|   9316|  Pave|   NA|     IR1|        Lvl|   AllPub|   Inside|      Gtl|     CollgCr|      Norm|      Norm|    1Fam|    2Story|          7|          5|     2005|        2005|    Gable| CompShg|    VinylSd|    VinylSd|   BrkFace|       532|       Gd|       TA|     PConc|      Gd|      TA|          Av|         Unf|         0|         Unf|         0|      784|        784|   GasA|       Ex|         Y|     SBrkr|     784|     812|           0|     1596|           0|           0|       2|       1|           3|           1|         Gd|           6|       Typ|         0|         NA|    Attchd|       2005|         RFn|         2|       610|        TA|        TA|         Y|       144|         45|            0|        0|          0|       0|    NA|   NA|         NA|      0|     6|  2006|      WD|       Normal|\n",
      "|1529|        20|      RL|         81|   7635|  Pave|   NA|     IR1|        Lvl|   AllPub|   Corner|      Gtl|       NAmes|      Norm|      Norm|    1Fam|    1Story|          5|          6|     1960|        1960|    Gable| CompShg|    BrkFace|    Wd Sdng|      None|         0|       TA|       TA|    CBlock|      TA|      TA|          No|         Rec|       588|         LwQ|       350|      237|       1175|   GasA|       Ex|         Y|     SBrkr|    1175|       0|           0|     1175|           0|           0|       1|       1|           3|           1|         TA|           6|       Typ|         0|         NA|    Detchd|       1960|         RFn|         2|       484|        TA|        TA|         Y|         0|          0|            0|        0|          0|       0|    NA|   NA|         NA|      0|     6|  2010|      WD|       Normal|\n",
      "|1947|       120|      RL|         60|   8118|  Pave|   NA|     Reg|        HLS|   AllPub|   Inside|      Gtl|     StoneBr|      PosN|      PosN|  TwnhsE|    1Story|          9|          5|     2007|        2007|      Hip| CompShg|    MetalSd|    MetalSd|   BrkFace|       178|       Ex|       TA|     PConc|      Ex|      TA|          Gd|         GLQ|      1034|         Unf|         0|      676|       1710|   GasA|       Ex|         Y|     SBrkr|    1710|       0|           0|     1710|           1|           0|       2|       0|           2|           1|         Ex|           6|       Typ|         1|         Gd|    Attchd|       2007|         RFn|         2|       557|        TA|        TA|         Y|       156|         48|            0|        0|          0|       0|    NA|   NA|         NA|      0|     7|  2008|      WD|       Normal|\n",
      "|2129|        30|      RM|         NA|   6291|  Grvl|   NA|     IR1|        Lvl|   AllPub|   Inside|      Gtl|      IDOTRR|      RRNe|      Norm|    1Fam|    1Story|          6|          6|     1930|        1950|    Gable| CompShg|     Stucco|    Wd Shng|      None|         0|       Gd|       Gd|    BrkTil|      TA|      TA|          No|         Unf|         0|         Unf|         0|      768|        768|   GasA|       TA|         Y|     SBrkr|     768|       0|           0|      768|           0|           0|       1|       0|           1|           1|         TA|           4|       Typ|         0|         NA|    Detchd|       1930|         Unf|         2|       440|        TA|        TA|         N|         0|          0|           84|        0|          0|       0|    NA|   NA|         NA|      0|     7|  2008|      WD|       Normal|\n",
      "|2130|        70|      RM|         60|  10266|  Pave|   NA|     Reg|        Lvl|   AllPub|   Inside|      Gtl|      IDOTRR|      Norm|      Norm|    1Fam|    2Story|          6|          6|     1952|        1952|    Gable| CompShg|    MetalSd|    MetalSd|      None|         0|       TA|       TA|    CBlock|      TA|      TA|          No|         Rec|       372|         Unf|         0|      396|        768|   GasA|       TA|         Y|     FuseA|     768|     768|           0|     1536|           0|           0|       1|       1|           4|           1|         TA|           7|       Typ|         0|         NA|    Detchd|       1952|         Unf|         1|       308|        TA|        TA|         Y|         0|        216|           80|        0|          0|       0|    NA|   NA|         NA|      0|     5|  2008|     COD|      Abnorml|\n",
      "|2261|       120|      RL|         38|   4740|  Pave|   NA|     IR1|        Lvl|   AllPub|   Inside|      Gtl|     StoneBr|      Norm|      Norm|  TwnhsE|    1Story|          8|          5|     1988|        1988|    Gable| CompShg|    CemntBd|    CmentBd|      None|         0|       Gd|       TA|    CBlock|      Gd|      TA|          Gd|         GLQ|       248|         Unf|         0|      918|       1166|   GasA|       Gd|         Y|     SBrkr|    1179|       0|           0|     1179|           1|           0|       2|       0|           2|           1|         TA|           5|       Typ|         0|         NA|    Attchd|       1988|         RFn|         2|       480|        TA|        TA|         Y|         0|        108|            0|        0|        135|       0|    NA|   NA|         NA|      0|    10|  2007|      WD|       Normal|\n",
      "|2765|        60|      RL|         NA|  18275|  Pave|   NA|     IR1|        HLS|   AllPub|   Inside|      Gtl|       NAmes|      Norm|      Norm|    1Fam|    2Story|          7|          8|     1962|        1998|    Gable| CompShg|    Plywood|    Plywood|      None|         0|       TA|       TA|    CBlock|      TA|      TA|          Gd|         ALQ|       636|         Unf|         0|      802|       1438|   GasA|       TA|         Y|     SBrkr|    1900|     548|           0|     2448|           1|           0|       3|       0|           3|           1|         TA|           9|       Typ|         2|         Gd|    Attchd|       1962|         RFn|         2|       441|        TA|        TA|         Y|       520|        102|            0|        0|          0|       0|    NA|   NA|         NA|      0|     9|  2006|      WD|       Normal|\n",
      "|2788|        30|      RM|         48|   5747|  Pave|   NA|     Reg|        Lvl|   AllPub|   Inside|      Gtl|     OldTown|      Norm|      Norm|    1Fam|    1Story|          3|          4|     1920|        1950|    Gable| CompShg|    Wd Sdng|    Wd Sdng|      None|         0|       TA|       TA|     PConc|      TA|      TA|          No|         Unf|         0|         Unf|         0|      798|        798|   GasA|       Gd|         Y|     SBrkr|     840|       0|           0|      840|           0|           0|       1|       0|           2|           1|         Fa|           5|       Typ|         0|         NA|    Detchd|       1938|         Unf|         1|       250|        TA|        Fa|         N|       112|          0|            0|        0|          0|       0|    NA|   NA|         NA|      0|     6|  2006|      WD|       Normal|\n",
      "|1548|        50|      RM|         50|   6000|  Pave|   NA|     Reg|        Lvl|   AllPub|   Inside|      Gtl|     BrkSide|      Norm|      Norm|    1Fam|    1.5Fin|          6|          7|     1948|        1950|    Gable| CompShg|    Wd Sdng|    Wd Sdng|      None|         0|       TA|       TA|    CBlock|      TA|      TA|          No|         Rec|       300|         Unf|         0|      480|        780|   GasA|       TA|         Y|     SBrkr|     780|     636|           0|     1416|           0|           0|       1|       1|           3|           1|         TA|           6|       Typ|         0|         NA|    Detchd|       1948|         Unf|         1|       312|        TA|        TA|         P|       221|          0|           48|        0|          0|       0|    NA|   NA|         NA|      0|     3|  2010|      WD|       Normal|\n",
      "|1551|        30|      RM|         51|   6120|  Pave|   NA|     Reg|        Lvl|   AllPub|   Inside|      Gtl|     OldTown|    Artery|      Norm|    1Fam|    1Story|          6|          5|     1923|        1950|    Gable| CompShg|    Wd Sdng|    Wd Sdng|      None|         0|       TA|       TA|    BrkTil|      Fa|      Fa|          No|         ALQ|       960|         Unf|         0|      164|       1124|   GasA|       TA|         Y|     SBrkr|    1068|       0|           0|     1068|           1|           0|       1|       0|           2|           1|         TA|           5|       Typ|         1|         Gd|    Detchd|       1923|         Unf|         1|       288|        TA|        TA|         Y|         0|          0|          128|        0|          0|       0|    NA|   NA|         NA|      0|     3|  2010|      WD|       Normal|\n",
      "|1637|        60|      RL|         85|  11900|  Pave|   NA|     Reg|        Lvl|   AllPub|   Inside|      Gtl|     Gilbert|      Norm|      Norm|    1Fam|    2Story|          5|          6|     1977|        1977|    Gable| CompShg|    HdBoard|    Wd Sdng|   BrkFace|       157|       TA|       TA|     PConc|      Gd|      TA|          No|         ALQ|       400|         Unf|         0|      722|       1122|   GasA|       Ex|         Y|     SBrkr|     946|     988|           0|     1934|           1|           0|       2|       1|           3|           1|         TA|           6|       Typ|         1|         TA|    Attchd|       1977|         Unf|         2|       567|        TA|        TA|         P|         0|        176|            0|        0|        200|       0|    NA|   NA|         NA|      0|     7|  2009|      WD|       Normal|\n",
      "|1737|        20|      RL|         NA|  15676|  Pave|   NA|     IR1|        Low|   AllPub|   Inside|      Gtl|     Veenker|      Norm|      Norm|    1Fam|    1Story|          8|          8|     1980|        1980|    Gable| CompShg|    VinylSd|    VinylSd|   BrkFace|       115|       Gd|       Gd|    CBlock|      Gd|      Gd|          Gd|         ALQ|      1733|         Rec|        92|      189|       2014|   GasA|       Gd|         Y|     SBrkr|    2014|       0|           0|     2014|           1|           0|       2|       0|           2|           1|         Gd|           6|      Maj1|         2|         Gd|    Attchd|       1980|         RFn|         3|       864|        TA|        TA|         Y|       462|          0|            0|      255|          0|       0|    NA|MnPrv|         NA|      0|     4|  2009|      WD|       Normal|\n",
      "|1824|        30|      RL|         NA|   6615|  Pave|   NA|     Reg|        Lvl|   AllPub|   Inside|      Gtl|     BrkSide|      Norm|      Norm|    1Fam|    1Story|          6|          6|     1923|        1950|    Gable| CompShg|    MetalSd|    MetalSd|      None|         0|       TA|       TA|    BrkTil|      TA|      TA|          No|         Unf|         0|         Unf|         0|     1022|       1022|   GasA|       TA|         N|     FuseA|    1432|       0|           0|     1432|           0|           0|       1|       0|           3|           1|         Gd|           6|       Typ|         1|         Gd|   BuiltIn|       1923|         Unf|         1|       216|        Fa|        TA|         Y|       266|         61|            0|        0|          0|       0|    NA| GdWo|         NA|      0|     9|  2009|      WD|       Normal|\n",
      "+----+----------+--------+-----------+-------+------+-----+--------+-----------+---------+---------+---------+------------+----------+----------+--------+----------+-----------+-----------+---------+------------+---------+--------+-----------+-----------+----------+----------+---------+---------+----------+--------+--------+------------+------------+----------+------------+----------+---------+-----------+-------+---------+----------+----------+--------+--------+------------+---------+------------+------------+--------+--------+------------+------------+-----------+------------+----------+----------+-----------+----------+-----------+------------+----------+----------+----------+----------+----------+----------+-----------+-------------+---------+-----------+--------+------+-----+-----------+-------+------+------+--------+-------------+\n",
      "only showing top 20 rows\n",
      "\n"
     ]
    }
   ],
   "source": [
    "# Confirming that there are null values in the dataset\n",
    "DF.distinct().show()"
   ]
  },
  {
   "cell_type": "code",
   "execution_count": 15,
   "metadata": {
    "colab": {
     "base_uri": "https://localhost:8080/"
    },
    "executionInfo": {
     "elapsed": 1011,
     "status": "ok",
     "timestamp": 1659262061622,
     "user": {
      "displayName": "Prerna Waghray",
      "userId": "08074246852708739388"
     },
     "user_tz": -330
    },
    "id": "3Sil7rlpmE0j",
    "outputId": "410745d9-7cd0-4693-e77d-4e75a3873b21"
   },
   "outputs": [
    {
     "name": "stdout",
     "output_type": "stream",
     "text": [
      "+----+----------+--------+-----------+-------+------+-----+--------+-----------+---------+---------+---------+------------+----------+----------+--------+----------+-----------+-----------+---------+------------+---------+--------+-----------+-----------+----------+----------+---------+---------+----------+--------+--------+------------+------------+----------+------------+----------+---------+-----------+-------+---------+----------+----------+--------+--------+------------+---------+------------+------------+--------+--------+------------+------------+-----------+------------+----------+----------+-----------+----------+-----------+------------+----------+----------+----------+----------+----------+----------+-----------+-------------+---------+-----------+--------+------+-----+-----------+-------+------+------+--------+-------------+\n",
      "|  Id|MSSubClass|MSZoning|LotFrontage|LotArea|Street|Alley|LotShape|LandContour|Utilities|LotConfig|LandSlope|Neighborhood|Condition1|Condition2|BldgType|HouseStyle|OverallQual|OverallCond|YearBuilt|YearRemodAdd|RoofStyle|RoofMatl|Exterior1st|Exterior2nd|MasVnrType|MasVnrArea|ExterQual|ExterCond|Foundation|BsmtQual|BsmtCond|BsmtExposure|BsmtFinType1|BsmtFinSF1|BsmtFinType2|BsmtFinSF2|BsmtUnfSF|TotalBsmtSF|Heating|HeatingQC|CentralAir|Electrical|1stFlrSF|2ndFlrSF|LowQualFinSF|GrLivArea|BsmtFullBath|BsmtHalfBath|FullBath|HalfBath|BedroomAbvGr|KitchenAbvGr|KitchenQual|TotRmsAbvGrd|Functional|Fireplaces|FireplaceQu|GarageType|GarageYrBlt|GarageFinish|GarageCars|GarageArea|GarageQual|GarageCond|PavedDrive|WoodDeckSF|OpenPorchSF|EnclosedPorch|3SsnPorch|ScreenPorch|PoolArea|PoolQC|Fence|MiscFeature|MiscVal|MoSold|YrSold|SaleType|SaleCondition|\n",
      "+----+----------+--------+-----------+-------+------+-----+--------+-----------+---------+---------+---------+------------+----------+----------+--------+----------+-----------+-----------+---------+------------+---------+--------+-----------+-----------+----------+----------+---------+---------+----------+--------+--------+------------+------------+----------+------------+----------+---------+-----------+-------+---------+----------+----------+--------+--------+------------+---------+------------+------------+--------+--------+------------+------------+-----------+------------+----------+----------+-----------+----------+-----------+------------+----------+----------+----------+----------+----------+----------+-----------+-------------+---------+-----------+--------+------+-----+-----------+-------+------+------+--------+-------------+\n",
      "|1461|        20|      RH|       80.0|  11622|  Pave|   NA|     Reg|        Lvl|   AllPub|   Inside|      Gtl|       NAmes|     Feedr|      Norm|    1Fam|    1Story|          5|          6|     1961|        1961|    Gable| CompShg|    VinylSd|    VinylSd|      None|       0.0|       TA|       TA|    CBlock|      TA|      TA|          No|         Rec|       468|         LwQ|       144|      270|        882|   GasA|       TA|         Y|     SBrkr|     896|       0|           0|      896|           0|           0|       1|       0|           2|           1|         TA|           5|       Typ|         0|         NA|    Attchd|     1961.0|         Unf|         1|       730|        TA|        TA|         Y|       140|          0|            0|        0|        120|       0|    NA|MnPrv|         NA|      0|     6|  2010|      WD|       Normal|\n",
      "|1462|        20|      RL|       81.0|  14267|  Pave|   NA|     IR1|        Lvl|   AllPub|   Corner|      Gtl|       NAmes|      Norm|      Norm|    1Fam|    1Story|          6|          6|     1958|        1958|      Hip| CompShg|    Wd Sdng|    Wd Sdng|   BrkFace|     108.0|       TA|       TA|    CBlock|      TA|      TA|          No|         ALQ|       923|         Unf|         0|      406|       1329|   GasA|       TA|         Y|     SBrkr|    1329|       0|           0|     1329|           0|           0|       1|       1|           3|           1|         Gd|           6|       Typ|         0|         NA|    Attchd|     1958.0|         Unf|         1|       312|        TA|        TA|         Y|       393|         36|            0|        0|          0|       0|    NA|   NA|       Gar2|  12500|     6|  2010|      WD|       Normal|\n",
      "|1463|        60|      RL|       74.0|  13830|  Pave|   NA|     IR1|        Lvl|   AllPub|   Inside|      Gtl|     Gilbert|      Norm|      Norm|    1Fam|    2Story|          5|          5|     1997|        1998|    Gable| CompShg|    VinylSd|    VinylSd|      None|       0.0|       TA|       TA|     PConc|      Gd|      TA|          No|         GLQ|       791|         Unf|         0|      137|        928|   GasA|       Gd|         Y|     SBrkr|     928|     701|           0|     1629|           0|           0|       2|       1|           3|           1|         TA|           6|       Typ|         1|         TA|    Attchd|     1997.0|         Fin|         2|       482|        TA|        TA|         Y|       212|         34|            0|        0|          0|       0|    NA|MnPrv|         NA|      0|     3|  2010|      WD|       Normal|\n",
      "|1464|        60|      RL|       78.0|   9978|  Pave|   NA|     IR1|        Lvl|   AllPub|   Inside|      Gtl|     Gilbert|      Norm|      Norm|    1Fam|    2Story|          6|          6|     1998|        1998|    Gable| CompShg|    VinylSd|    VinylSd|   BrkFace|      20.0|       TA|       TA|     PConc|      TA|      TA|          No|         GLQ|       602|         Unf|         0|      324|        926|   GasA|       Ex|         Y|     SBrkr|     926|     678|           0|     1604|           0|           0|       2|       1|           3|           1|         Gd|           7|       Typ|         1|         Gd|    Attchd|     1998.0|         Fin|         2|       470|        TA|        TA|         Y|       360|         36|            0|        0|          0|       0|    NA|   NA|         NA|      0|     6|  2010|      WD|       Normal|\n",
      "|1465|       120|      RL|       43.0|   5005|  Pave|   NA|     IR1|        HLS|   AllPub|   Inside|      Gtl|     StoneBr|      Norm|      Norm|  TwnhsE|    1Story|          8|          5|     1992|        1992|    Gable| CompShg|    HdBoard|    HdBoard|      None|       0.0|       Gd|       TA|     PConc|      Gd|      TA|          No|         ALQ|       263|         Unf|         0|     1017|       1280|   GasA|       Ex|         Y|     SBrkr|    1280|       0|           0|     1280|           0|           0|       2|       0|           2|           1|         Gd|           5|       Typ|         0|         NA|    Attchd|     1992.0|         RFn|         2|       506|        TA|        TA|         Y|         0|         82|            0|        0|        144|       0|    NA|   NA|         NA|      0|     1|  2010|      WD|       Normal|\n",
      "|1466|        60|      RL|       75.0|  10000|  Pave|   NA|     IR1|        Lvl|   AllPub|   Corner|      Gtl|     Gilbert|      Norm|      Norm|    1Fam|    2Story|          6|          5|     1993|        1994|    Gable| CompShg|    HdBoard|    HdBoard|      None|       0.0|       TA|       TA|     PConc|      Gd|      TA|          No|         Unf|         0|         Unf|         0|      763|        763|   GasA|       Gd|         Y|     SBrkr|     763|     892|           0|     1655|           0|           0|       2|       1|           3|           1|         TA|           7|       Typ|         1|         TA|    Attchd|     1993.0|         Fin|         2|       440|        TA|        TA|         Y|       157|         84|            0|        0|          0|       0|    NA|   NA|         NA|      0|     4|  2010|      WD|       Normal|\n",
      "|1467|        20|      RL|       null|   7980|  Pave|   NA|     IR1|        Lvl|   AllPub|   Inside|      Gtl|     Gilbert|      Norm|      Norm|    1Fam|    1Story|          6|          7|     1992|        2007|    Gable| CompShg|    HdBoard|    HdBoard|      None|       0.0|       TA|       Gd|     PConc|      Gd|      TA|          No|         ALQ|       935|         Unf|         0|      233|       1168|   GasA|       Ex|         Y|     SBrkr|    1187|       0|           0|     1187|           1|           0|       2|       0|           3|           1|         TA|           6|       Typ|         0|         NA|    Attchd|     1992.0|         Fin|         2|       420|        TA|        TA|         Y|       483|         21|            0|        0|          0|       0|    NA|GdPrv|       Shed|    500|     3|  2010|      WD|       Normal|\n",
      "|1468|        60|      RL|       63.0|   8402|  Pave|   NA|     IR1|        Lvl|   AllPub|   Inside|      Gtl|     Gilbert|      Norm|      Norm|    1Fam|    2Story|          6|          5|     1998|        1998|    Gable| CompShg|    VinylSd|    VinylSd|      None|       0.0|       TA|       TA|     PConc|      Gd|      TA|          No|         Unf|         0|         Unf|         0|      789|        789|   GasA|       Gd|         Y|     SBrkr|     789|     676|           0|     1465|           0|           0|       2|       1|           3|           1|         TA|           7|       Typ|         1|         Gd|    Attchd|     1998.0|         Fin|         2|       393|        TA|        TA|         Y|         0|         75|            0|        0|          0|       0|    NA|   NA|         NA|      0|     5|  2010|      WD|       Normal|\n",
      "|1469|        20|      RL|       85.0|  10176|  Pave|   NA|     Reg|        Lvl|   AllPub|   Inside|      Gtl|     Gilbert|      Norm|      Norm|    1Fam|    1Story|          7|          5|     1990|        1990|    Gable| CompShg|    HdBoard|    HdBoard|      None|       0.0|       TA|       TA|     PConc|      Gd|      TA|          Gd|         GLQ|       637|         Unf|         0|      663|       1300|   GasA|       Gd|         Y|     SBrkr|    1341|       0|           0|     1341|           1|           0|       1|       1|           2|           1|         Gd|           5|       Typ|         1|         Po|    Attchd|     1990.0|         Unf|         2|       506|        TA|        TA|         Y|       192|          0|            0|        0|          0|       0|    NA|   NA|         NA|      0|     2|  2010|      WD|       Normal|\n",
      "|1470|        20|      RL|       70.0|   8400|  Pave|   NA|     Reg|        Lvl|   AllPub|   Corner|      Gtl|       NAmes|      Norm|      Norm|    1Fam|    1Story|          4|          5|     1970|        1970|    Gable| CompShg|    Plywood|    Plywood|      None|       0.0|       TA|       TA|    CBlock|      TA|      TA|          No|         ALQ|       804|         Rec|        78|        0|        882|   GasA|       TA|         Y|     SBrkr|     882|       0|           0|      882|           1|           0|       1|       0|           2|           1|         TA|           4|       Typ|         0|         NA|    Attchd|     1970.0|         Fin|         2|       525|        TA|        TA|         Y|       240|          0|            0|        0|          0|       0|    NA|MnPrv|         NA|      0|     4|  2010|      WD|       Normal|\n",
      "|1471|       120|      RH|       26.0|   5858|  Pave|   NA|     IR1|        Lvl|   AllPub|      FR2|      Gtl|       NAmes|      Norm|      Norm|  TwnhsE|    1Story|          7|          5|     1999|        1999|    Gable| CompShg|    MetalSd|    MetalSd|      None|       0.0|       Gd|       TA|     PConc|      Gd|      TA|          No|         GLQ|      1051|         BLQ|         0|      354|       1405|   GasA|       Ex|         Y|     SBrkr|    1337|       0|           0|     1337|           1|           0|       2|       0|           2|           1|         Gd|           5|       Typ|         1|         Fa|    Attchd|     1999.0|         Fin|         2|       511|        TA|        TA|         Y|       203|         68|            0|        0|          0|       0|    NA|   NA|         NA|      0|     6|  2010|      WD|       Normal|\n",
      "|1472|       160|      RM|       21.0|   1680|  Pave|   NA|     Reg|        Lvl|   AllPub|   Inside|      Gtl|      BrDale|      Norm|      Norm|   Twnhs|    2Story|          6|          5|     1971|        1971|    Gable| CompShg|    HdBoard|    HdBoard|   BrkFace|     504.0|       TA|       TA|    CBlock|      TA|      TA|          No|         Rec|       156|         Unf|         0|      327|        483|   GasA|       TA|         Y|     SBrkr|     483|     504|           0|      987|           0|           0|       1|       1|           2|           1|         TA|           5|       Typ|         0|         NA|    Detchd|     1971.0|         Unf|         1|       264|        TA|        TA|         Y|       275|          0|            0|        0|          0|       0|    NA|   NA|         NA|      0|     2|  2010|     COD|       Normal|\n",
      "|1473|       160|      RM|       21.0|   1680|  Pave|   NA|     Reg|        Lvl|   AllPub|   Inside|      Gtl|      BrDale|      Norm|      Norm|   Twnhs|    2Story|          5|          5|     1971|        1971|    Gable| CompShg|    HdBoard|    HdBoard|   BrkFace|     492.0|       TA|       TA|    CBlock|      TA|      TA|          No|         Rec|       300|         Unf|         0|      225|        525|   GasA|       TA|         Y|     SBrkr|     525|     567|           0|     1092|           0|           0|       1|       1|           3|           1|         TA|           6|       Typ|         0|         NA|    Detchd|     1997.0|         Unf|         1|       320|        TA|        TA|         Y|         0|          0|            0|        0|          0|       0|    NA|   NA|         NA|      0|     3|  2010|      WD|       Normal|\n",
      "|1474|       160|      RL|       24.0|   2280|  Pave|   NA|     Reg|        Lvl|   AllPub|      FR2|      Gtl|     NPkVill|      Norm|      Norm|   Twnhs|    2Story|          6|          6|     1975|        1975|    Gable| CompShg|    Plywood|    Brk Cmn|      None|       0.0|       TA|       TA|    CBlock|      TA|      TA|          No|         ALQ|       514|         Unf|         0|      341|        855|   GasA|       TA|         Y|     SBrkr|     855|     601|           0|     1456|           0|           0|       2|       1|           3|           1|         Gd|           6|       Typ|         1|         TA|    Attchd|     1975.0|         Unf|         2|       440|        TA|        TA|         Y|       173|          0|            0|        0|          0|       0|    NA|   NA|         NA|      0|     6|  2010|      WD|       Normal|\n",
      "|1475|       120|      RL|       24.0|   2280|  Pave|   NA|     Reg|        Lvl|   AllPub|      FR2|      Gtl|     NPkVill|      Norm|      Norm|   Twnhs|    1Story|          7|          6|     1975|        1975|    Gable| CompShg|    Plywood|    Brk Cmn|      None|       0.0|       TA|       TA|    CBlock|      Gd|      TA|          No|         Unf|         0|         Unf|         0|      836|        836|   GasA|       Ex|         Y|     SBrkr|     836|       0|           0|      836|           0|           0|       1|       0|           2|           1|         TA|           4|       Typ|         0|         NA|    Attchd|     1975.0|         Unf|         1|       308|        TA|        TA|         Y|         0|         30|            0|        0|          0|       0|    NA|   NA|         NA|      0|     6|  2010|      WD|       Normal|\n",
      "|1476|        60|      RL|      102.0|  12858|  Pave|   NA|     IR1|        Lvl|   AllPub|   Inside|      Gtl|     NridgHt|      Norm|      Norm|    1Fam|    2Story|          9|          5|     2009|        2010|    Gable| CompShg|    VinylSd|    VinylSd|     Stone|     162.0|       Ex|       TA|     PConc|      Ex|      TA|          No|         Unf|         0|         Unf|         0|     1590|       1590|   GasA|       Ex|         Y|     SBrkr|    1627|     707|           0|     2334|           0|           0|       2|       1|           3|           1|         Ex|          10|       Typ|         1|         Gd|    Attchd|     2009.0|         Fin|         3|       751|        TA|        TA|         Y|       144|        133|            0|        0|          0|       0|    NA|   NA|         NA|      0|     1|  2010|     New|      Partial|\n",
      "|1477|        20|      RL|       94.0|  12883|  Pave|   NA|     IR1|        Lvl|   AllPub|   Corner|      Gtl|     NridgHt|      Norm|      Norm|    1Fam|    1Story|          8|          5|     2009|        2010|    Gable| CompShg|    VinylSd|    VinylSd|     Stone|     256.0|       Gd|       TA|     PConc|      Gd|      TA|          No|         Unf|         0|         Unf|         0|     1544|       1544|   GasA|       Ex|         Y|     SBrkr|    1544|       0|           0|     1544|           0|           0|       2|       0|           3|           1|         Gd|           7|       Typ|         0|         NA|    Attchd|     2009.0|         RFn|         3|       868|        TA|        TA|         Y|         0|         35|            0|        0|          0|       0|    NA|   NA|         NA|      0|     6|  2010|     New|      Partial|\n",
      "|1478|        20|      RL|       90.0|  11520|  Pave|   NA|     Reg|        Lvl|   AllPub|   Inside|      Gtl|     NridgHt|      PosN|      Norm|    1Fam|    1Story|          9|          5|     2005|        2005|      Hip| CompShg|    VinylSd|    VinylSd|   BrkFace|     615.0|       Gd|       TA|     PConc|      Ex|      TA|          No|         GLQ|       110|         Unf|         0|     1588|       1698|   GasA|       Ex|         Y|     SBrkr|    1698|       0|           0|     1698|           0|           0|       2|       0|           3|           1|         Ex|           7|       Typ|         1|         Gd|    Attchd|     2005.0|         Fin|         3|       730|        TA|        TA|         Y|       192|         74|            0|        0|          0|       0|    NA|   NA|         NA|      0|     6|  2010|      WD|       Normal|\n",
      "|1479|        20|      RL|       79.0|  14122|  Pave|   NA|     IR1|        Lvl|   AllPub|   Inside|      Gtl|     NridgHt|      Norm|      Norm|    1Fam|    1Story|          8|          5|     2005|        2006|      Hip| CompShg|    CemntBd|    CmentBd|   BrkFace|     240.0|       Gd|       TA|     PConc|      Ex|      TA|          No|         GLQ|        28|         Unf|         0|     1794|       1822|   GasA|       Ex|         Y|     SBrkr|    1822|       0|           0|     1822|           0|           0|       2|       0|           3|           1|         Ex|           8|       Typ|         1|         Gd|    Attchd|     2005.0|         RFn|         3|       678|        TA|        TA|         Y|         0|        119|            0|        0|          0|       0|    NA|   NA|         NA|      0|     2|  2010|      WD|       Normal|\n",
      "|1480|        20|      RL|      110.0|  14300|  Pave|   NA|     Reg|        HLS|   AllPub|   Inside|      Mod|     NridgHt|      Norm|      Norm|    1Fam|    1Story|          9|          5|     2003|        2004|      Hip| CompShg|    VinylSd|    VinylSd|   BrkFace|    1095.0|       Ex|       TA|     PConc|      Ex|      TA|          Gd|         GLQ|      1373|         Unf|         0|     1473|       2846|   GasA|       Ex|         Y|     SBrkr|    2696|       0|           0|     2696|           1|           0|       2|       1|           3|           1|         Ex|          10|       Typ|         2|         Gd|    Attchd|     2003.0|         Fin|         3|       958|        TA|        TA|         Y|       220|        150|            0|        0|          0|       0|    NA|   NA|         NA|      0|     6|  2010|      WD|       Normal|\n",
      "+----+----------+--------+-----------+-------+------+-----+--------+-----------+---------+---------+---------+------------+----------+----------+--------+----------+-----------+-----------+---------+------------+---------+--------+-----------+-----------+----------+----------+---------+---------+----------+--------+--------+------------+------------+----------+------------+----------+---------+-----------+-------+---------+----------+----------+--------+--------+------------+---------+------------+------------+--------+--------+------------+------------+-----------+------------+----------+----------+-----------+----------+-----------+------------+----------+----------+----------+----------+----------+----------+-----------+-------------+---------+-----------+--------+------+-----+-----------+-------+------+------+--------+-------------+\n",
      "only showing top 20 rows\n",
      "\n"
     ]
    }
   ],
   "source": [
    "# Replacing NA to null values for imputation\n",
    "def fixing_null_values(DF, col_name):\n",
    "  if col_name != 'MasVnrType' and col_name != 'Electrical':\n",
    "    new_DF = DF.withColumn(col_name, when((col(col_name)=='NA'), None).otherwise(col(col_name)).cast(\"float\"))\n",
    "  else:\n",
    "    new_DF = DF.withColumn(col_name, when((col(col_name)=='NA'), None).otherwise(col(col_name)))\n",
    "  return new_DF\n",
    "\n",
    "DF2 = fixing_null_values(DF, 'LotFrontage')\n",
    "DF3 = fixing_null_values(DF2, 'MasVnrType')\n",
    "DF4 = fixing_null_values(DF3, 'MasVnrArea')\n",
    "DF5 = fixing_null_values(DF4, 'Electrical')\n",
    "DF6 = fixing_null_values(DF5, 'GarageYrBlt')\n",
    "DF6.show()"
   ]
  },
  {
   "cell_type": "code",
   "execution_count": 16,
   "metadata": {
    "colab": {
     "base_uri": "https://localhost:8080/"
    },
    "executionInfo": {
     "elapsed": 2402,
     "status": "ok",
     "timestamp": 1659262070515,
     "user": {
      "displayName": "Prerna Waghray",
      "userId": "08074246852708739388"
     },
     "user_tz": -330
    },
    "id": "S784ELRVtsXN",
    "outputId": "fd760942-ebb4-4c7e-c7c2-950547e86022"
   },
   "outputs": [
    {
     "name": "stdout",
     "output_type": "stream",
     "text": [
      "+----+----------+--------+-----------+-------+------+-----+--------+-----------+---------+---------+---------+------------+----------+----------+--------+----------+-----------+-----------+---------+------------+---------+--------+-----------+-----------+----------+----------+---------+---------+----------+--------+--------+------------+------------+----------+------------+----------+---------+-----------+-------+---------+----------+----------+--------+--------+------------+---------+------------+------------+--------+--------+------------+------------+-----------+------------+----------+----------+-----------+----------+-----------+------------+----------+----------+----------+----------+----------+----------+-----------+-------------+---------+-----------+--------+------+-----+-----------+-------+------+------+--------+-------------+\n",
      "|  Id|MSSubClass|MSZoning|LotFrontage|LotArea|Street|Alley|LotShape|LandContour|Utilities|LotConfig|LandSlope|Neighborhood|Condition1|Condition2|BldgType|HouseStyle|OverallQual|OverallCond|YearBuilt|YearRemodAdd|RoofStyle|RoofMatl|Exterior1st|Exterior2nd|MasVnrType|MasVnrArea|ExterQual|ExterCond|Foundation|BsmtQual|BsmtCond|BsmtExposure|BsmtFinType1|BsmtFinSF1|BsmtFinType2|BsmtFinSF2|BsmtUnfSF|TotalBsmtSF|Heating|HeatingQC|CentralAir|Electrical|1stFlrSF|2ndFlrSF|LowQualFinSF|GrLivArea|BsmtFullBath|BsmtHalfBath|FullBath|HalfBath|BedroomAbvGr|KitchenAbvGr|KitchenQual|TotRmsAbvGrd|Functional|Fireplaces|FireplaceQu|GarageType|GarageYrBlt|GarageFinish|GarageCars|GarageArea|GarageQual|GarageCond|PavedDrive|WoodDeckSF|OpenPorchSF|EnclosedPorch|3SsnPorch|ScreenPorch|PoolArea|PoolQC|Fence|MiscFeature|MiscVal|MoSold|YrSold|SaleType|SaleCondition|\n",
      "+----+----------+--------+-----------+-------+------+-----+--------+-----------+---------+---------+---------+------------+----------+----------+--------+----------+-----------+-----------+---------+------------+---------+--------+-----------+-----------+----------+----------+---------+---------+----------+--------+--------+------------+------------+----------+------------+----------+---------+-----------+-------+---------+----------+----------+--------+--------+------------+---------+------------+------------+--------+--------+------------+------------+-----------+------------+----------+----------+-----------+----------+-----------+------------+----------+----------+----------+----------+----------+----------+-----------+-------------+---------+-----------+--------+------+-----+-----------+-------+------+------+--------+-------------+\n",
      "|1809|        70|      RM|       90.0|   9900|  Pave|   NA|     Reg|        Lvl|   AllPub|   Corner|      Gtl|     OldTown|      Norm|      Norm|    1Fam|    2Story|          5|          8|     1910|        2002|    Gable| CompShg|    VinylSd|    VinylSd|      None|       0.0|       Gd|       TA|    CBlock|      TA|      TA|          No|         Unf|         0|         Unf|         0|      504|        504|   GasA|       Ex|         Y|     SBrkr|     764|     700|           0|     1464|           0|           0|       2|       0|           3|           1|         TA|           7|       Typ|         0|         NA|        NA|       null|          NA|         0|         0|        NA|        NA|         N|         0|          0|          176|        0|          0|       0|    NA|   NA|         NA|      0|     3|  2009|      WD|       Normal|\n",
      "|1848|        20|      RL|       null|   9000|  Pave|   NA|     Reg|        Lvl|   AllPub|   Corner|      Gtl|      Sawyer|      Norm|      Norm|    1Fam|    1Story|          2|          2|     1947|        1950|    Gable| CompShg|    Wd Sdng|    Wd Sdng|      None|       0.0|       TA|       TA|      Slab|      NA|      NA|          NA|          NA|         0|          NA|         0|        0|          0|   GasA|       Fa|         N|     SBrkr|     660|       0|           0|      660|           0|           0|       1|       0|           2|           1|         Fa|           5|      Min2|         0|         NA|        NA|       null|          NA|         0|         0|        NA|        NA|         N|         0|          0|          100|        0|          0|       0|    NA|   NA|         NA|      0|     6|  2009|      WD|       Normal|\n",
      "|1871|        20|      RL|       78.0|  11645|  Pave|   NA|     Reg|        Lvl|   AllPub|   Inside|      Gtl|     CollgCr|      Norm|      Norm|    1Fam|    1Story|          8|          5|     2005|        2006|    Gable| CompShg|    VinylSd|    VinylSd|     Stone|      76.0|       Gd|       TA|     PConc|      Ex|      TA|          Gd|         GLQ|        24|         Unf|         0|     1474|       1498|   GasA|       Ex|         Y|     SBrkr|    1498|       0|           0|     1498|           0|           0|       2|       0|           3|           1|         Gd|           7|       Typ|         1|         Gd|    Attchd|     2005.0|         Fin|         3|       844|        TA|        TA|         Y|       144|         98|            0|        0|          0|       0|    NA|   NA|         NA|      0|     3|  2009|      WD|       Normal|\n",
      "|1921|        20|      RL|      113.0|  13438|  Pave|   NA|     IR1|        HLS|   AllPub|   Corner|      Gtl|      Timber|      Norm|      Norm|    1Fam|    1Story|          9|          5|     2008|        2008|    Gable| CompShg|    CemntBd|    CmentBd|     Stone|     246.0|       Ex|       TA|    CBlock|      Ex|      TA|          Gd|         GLQ|      1758|         Unf|         0|      432|       2190|   GasA|       Ex|         Y|     SBrkr|    2036|       0|           0|     2036|           1|           0|       2|       0|           3|           1|         Ex|           9|       Typ|         1|         Ex|    Attchd|     2008.0|         Fin|         3|       780|        TA|        TA|         Y|        90|        154|            0|        0|          0|       0|    NA|   NA|         NA|      0|     7|  2009|      WD|       Normal|\n",
      "|1975|        20|      RL|      106.0|  12720|  Pave|   NA|     Reg|        HLS|   AllPub|   Inside|      Mod|     NridgHt|      Norm|      Norm|    1Fam|    1Story|         10|          5|     2003|        2003|      Hip| CompShg|    MetalSd|    MetalSd|     Stone|     680.0|       Ex|       TA|     PConc|      Ex|      TA|          Gd|         GLQ|      2257|         Unf|         0|      278|       2535|   GasA|       Ex|         Y|     SBrkr|    2470|       0|           0|     2470|           2|           0|       1|       1|           1|           1|         Ex|           7|       Typ|         2|         Gd|    Attchd|     2003.0|         Fin|         3|       789|        TA|        TA|         Y|       154|         65|            0|        0|        216|     144|    Ex|   NA|         NA|      0|     2|  2008|      WD|       Normal|\n",
      "|2089|        30|      RM|       60.0|   4800|  Pave|   NA|     Reg|        Lvl|   AllPub|   Corner|      Gtl|     OldTown|      Norm|      Norm|    1Fam|    1Story|          5|          4|     1940|        1950|    Gable| CompShg|    MetalSd|    MetalSd|      None|       0.0|       TA|       TA|    CBlock|      Fa|      TA|          No|         Unf|         0|         Unf|         0|      672|        672|   GasA|       TA|         Y|     SBrkr|     672|       0|           0|      672|           0|           0|       1|       0|           2|           1|         TA|           4|       Typ|         0|         NA|    Detchd|     1950.0|         Unf|         1|       256|        TA|        TA|         Y|         0|          0|            0|        0|          0|       0|    NA|MnPrv|         NA|      0|     8|  2008|      WD|       Normal|\n",
      "|2660|        60|      RL|       82.0|  11643|  Pave|   NA|     IR1|        Lvl|   AllPub|   Inside|      Gtl|     NridgHt|      Norm|      Norm|    1Fam|    2Story|          8|          5|     2005|        2006|      Hip| CompShg|    MetalSd|    MetalSd|   BrkFace|     142.0|       Gd|       TA|     PConc|      Ex|      TA|          Av|         GLQ|       880|         Unf|         0|      644|       1524|   GasA|       Ex|         Y|     SBrkr|    1544|     814|           0|     2358|           1|           0|       2|       1|           4|           1|         Ex|          10|       Typ|         1|         Gd|   BuiltIn|     2005.0|         Fin|         3|       784|        TA|        TA|         Y|       120|         34|            0|        0|          0|       0|    NA|   NA|         NA|      0|     8|  2006|     New|      Partial|\n",
      "|1779|        20|      RL|       75.0|   9533|  Pave|   NA|     Reg|        Lvl|   AllPub|   Inside|      Gtl|       NAmes|      Norm|      Norm|    1Fam|    1Story|          5|          5|     1953|        1953|      Hip| CompShg|    Wd Sdng|    Wd Sdng|   BrkFace|     140.0|       TA|       TA|      Slab|      NA|      NA|          NA|          NA|         0|          NA|         0|        0|          0|   GasA|       TA|         Y|     FuseA|    1210|       0|           0|     1210|           0|           0|       1|       1|           2|           1|         TA|           7|       Typ|         0|         NA|    Attchd|     1953.0|         Fin|         1|       616|        TA|        TA|         Y|       208|          0|          100|        0|          0|       0|    NA|MnPrv|         NA|      0|     8|  2009|   ConLD|       Normal|\n",
      "|1867|        20|      RL|       71.0|   9178|  Pave|   NA|     Reg|        Lvl|   AllPub|   Inside|      Gtl|     CollgCr|      Norm|      Norm|    1Fam|    1Story|          8|          5|     2008|        2008|    Gable| CompShg|    VinylSd|    VinylSd|      None|       0.0|       Gd|       TA|     PConc|      Gd|      TA|          Av|         Unf|         0|         Unf|         0|     1468|       1468|   GasA|       Ex|         Y|     SBrkr|    1468|       0|           0|     1468|           0|           0|       2|       0|           3|           1|         Gd|           6|       Typ|         1|         Gd|    Attchd|     2008.0|         RFn|         3|       904|        TA|        TA|         Y|       192|        142|            0|        0|          0|       0|    NA|   NA|         NA|      0|     6|  2009|      WD|       Normal|\n",
      "|2099|        20|      RM|       62.0|   7311|  Pave|   NA|     Reg|        Lvl|   AllPub|   Corner|      Gtl|     OldTown|      Norm|      Norm|    1Fam|    1Story|          2|          5|     1946|        1950|    Gable| CompShg|    VinylSd|    VinylSd|      None|       0.0|       TA|       Gd|    BrkTil|      TA|      TA|          No|         Unf|         0|         Unf|         0|      407|        407|   GasA|       TA|         N|     FuseA|     407|       0|           0|      407|           0|           0|       1|       0|           1|           1|         TA|           3|       Typ|         0|         NA|    Detchd|     1949.0|         Unf|         1|       297|        Fa|        TA|         Y|        76|          0|          120|        0|          0|       0|    NA|   NA|         NA|      0|     3|  2008|      WD|      Abnorml|\n",
      "|2174|        60|      RL|       null|  10400|  Pave|   NA|     Reg|        Lvl|   AllPub|   Inside|      Gtl|     CollgCr|      Norm|      Norm|    1Fam|    2Story|          7|          5|     2001|        2001|    Gable| CompShg|    VinylSd|    VinylSd|   BrkFace|     227.0|       Gd|       TA|     PConc|      Gd|      TA|          No|         Unf|         0|         Unf|         0|     1257|       1257|   GasA|       Ex|         Y|     SBrkr|    1290|     871|           0|     2161|           0|           0|       2|       1|           3|           1|         Gd|           8|       Typ|         1|         TA|    Attchd|     2001.0|         RFn|         2|       570|        TA|        TA|         Y|         0|         84|            0|        0|          0|       0|    NA|   NA|         NA|      0|     6|  2008|      WD|       Normal|\n",
      "|2442|        30|      RM|       56.0|   3153|  Pave| Grvl|     Reg|        Lvl|   AllPub|   Inside|      Gtl|     OldTown|      Norm|      Norm|    1Fam|    1Story|          5|          6|     1920|        1990|    Gable| CompShg|    MetalSd|    MetalSd|      None|       0.0|       TA|       TA|    BrkTil|      TA|      TA|          No|         Unf|         0|         Unf|         0|      967|        967|   GasA|       Gd|         Y|     SBrkr|     967|       0|           0|      967|           0|           0|       1|       0|           2|           1|         TA|           5|       Typ|         1|         Gd|    Detchd|     1920.0|         Unf|         1|       180|        Fa|        TA|         N|         0|          0|           26|        0|          0|       0|    NA|   NA|         NA|      0|     7|  2007|      WD|       Normal|\n",
      "|2465|        50|      RL|       60.0|   8850|  Pave| Pave|     Reg|        Bnk|   AllPub|   Inside|      Gtl|     BrkSide|      Norm|      Norm|    1Fam|    1.5Fin|          6|          7|     1920|        1950|    Gable| CompShg|    Wd Sdng|    Wd Shng|      None|       0.0|       TA|       Gd|     PConc|      TA|      TA|          No|         Unf|         0|         Unf|         0|      768|        768|   GasA|       Ex|         Y|     SBrkr|     752|     624|           0|     1376|           0|           0|       1|       0|           3|           1|         Gd|           7|       Typ|         0|         NA|    Detchd|     1977.0|         Unf|         2|       576|        TA|        TA|         P|         0|         54|          144|        0|          0|       0|    NA|   NA|         NA|      0|     2|  2007|      WD|       Normal|\n",
      "|2543|        85|      RL|       75.0|   9825|  Pave|   NA|     Reg|        Low|   AllPub|   Inside|      Gtl|     Edwards|      Norm|      Norm|    1Fam|    SFoyer|          5|          5|     1967|        1967|    Gable| CompShg|    HdBoard|    HdBoard|   BrkFace|     162.0|       TA|       TA|    CBlock|      Gd|      TA|          Gd|         ALQ|       936|         Unf|         0|        0|        936|   GasA|       Gd|         Y|     SBrkr|     936|       0|           0|      936|           1|           0|       1|       0|           2|           1|         TA|           4|       Typ|         1|         Fa|    Attchd|     1967.0|         Unf|         1|       384|        TA|        TA|         Y|       405|          0|            0|        0|          0|       0|    NA|   NA|       Shed|    450|     8|  2007|      WD|      Abnorml|\n",
      "|2755|        50|      RL|       50.0|   7500|  Pave|   NA|     Reg|        Lvl|   AllPub|   Inside|      Gtl|       NAmes|      Norm|      Norm|    1Fam|    1.5Fin|          6|          6|     1947|        1950|    Gable| CompShg|    VinylSd|    VinylSd|      None|       0.0|       TA|       TA|    CBlock|      TA|      TA|          No|         Unf|         0|         Unf|         0|      784|        784|   GasA|       Ex|         Y|     FuseA|     900|     412|           0|     1312|           0|           0|       1|       1|           3|           1|         TA|           6|       Typ|         0|         NA|    Detchd|     1953.0|         Unf|         2|       649|        TA|        TA|         Y|         0|         28|            0|        0|          0|       0|    NA|   NA|         NA|      0|    10|  2006|      WD|       Normal|\n",
      "|1668|        20|      RL|       87.0|  10367|  Pave|   NA|     IR1|        Lvl|   AllPub|   Inside|      Gtl|     NridgHt|      Norm|      Norm|    1Fam|    1Story|          9|          5|     2008|        2008|      Hip| CompShg|    VinylSd|    VinylSd|     Stone|     284.0|       Ex|       TA|     PConc|      Ex|      TA|          Mn|         GLQ|      1015|         Unf|         0|      724|       1739|   GasA|       Ex|         Y|     SBrkr|    1743|       0|           0|     1743|           1|           0|       2|       0|           3|           1|         Ex|           8|       Typ|         1|         Gd|    Attchd|     2008.0|         RFn|         3|       927|        TA|        TA|         Y|       168|         45|            0|        0|          0|       0|    NA|   NA|         NA|      0|     6|  2009|   ConLI|       Normal|\n",
      "|1728|        60|      RL|       70.0|   9109|  Pave|   NA|     Reg|        Lvl|   AllPub|   Inside|      Gtl|     SawyerW|      RRAe|      Norm|    1Fam|    2Story|          7|          5|     1994|        1994|    Gable| CompShg|    VinylSd|    VinylSd|      None|       0.0|       Gd|       TA|     PConc|      Gd|      TA|          No|         LwQ|        36|         GLQ|       596|      122|        754|   GasA|       Ex|         Y|     SBrkr|     754|     786|           0|     1540|           1|           0|       2|       1|           3|           1|         Gd|           6|       Typ|         0|         NA|    Attchd|     1994.0|         RFn|         2|       495|        TA|        TA|         Y|       140|         32|            0|        0|          0|       0|    NA|   NA|         NA|      0|    10|  2009|      WD|       Normal|\n",
      "|1802|        50|      RL|       60.0|   8064|  Pave|   NA|     Reg|        Lvl|   AllPub|   Corner|      Gtl|       NAmes|    Artery|      Norm|    1Fam|    1.5Fin|          6|          7|     1948|        1994|    Gable| CompShg|    MetalSd|    MetalSd|      None|       0.0|       TA|       TA|    CBlock|      TA|      TA|          No|         LwQ|       120|         Unf|         0|      744|        864|   GasA|       TA|         Y|     SBrkr|    1064|       0|         431|     1495|           0|           0|       1|       0|           3|           1|         TA|           6|       Typ|         0|         NA|    Detchd|     1994.0|         Unf|         2|       576|        TA|        TA|         Y|       180|         36|            0|        0|          0|       0|    NA|   NA|         NA|      0|     8|  2009|     COD|      Abnorml|\n",
      "|1819|        70|      RM|       60.0|   3600|  Pave| Grvl|     Reg|        Lvl|   AllPub|   Inside|      Gtl|     OldTown|      Norm|      Norm|    1Fam|    2Story|          6|          7|     1917|        2007|    Gable| CompShg|     Stucco|     Stucco|      None|       0.0|       TA|       TA|    BrkTil|      TA|      TA|          No|         Unf|         0|         Unf|         0|      624|        624|   GasA|       Ex|         Y|     SBrkr|     664|     624|           0|     1288|           1|           0|       1|       0|           3|           1|         Ex|           5|       Typ|         1|         Gd|    Attchd|     1917.0|         Unf|         1|       280|        TA|        TA|         N|         0|        103|            0|        0|          0|       0|    NA|   NA|         NA|      0|     5|  2009|      WD|       Normal|\n",
      "|1891|       180|      RM|       35.0|   3675|  Pave|   NA|     Reg|        Lvl|   AllPub|   Inside|      Gtl|     Edwards|      Norm|      Norm|  TwnhsE|    SFoyer|          6|          5|     2005|        2006|    Gable| CompShg|    VinylSd|    VinylSd|   BrkFace|      80.0|       TA|       TA|      Wood|      Gd|      TA|          Gd|         GLQ|       547|         Unf|         0|        0|        547|   GasA|       Gd|         Y|     SBrkr|    1072|       0|           0|     1072|           1|           0|       1|       0|           2|           1|         TA|           5|       Typ|         0|         NA|   Basment|     2005.0|         Fin|         2|       525|        TA|        TA|         Y|         0|         28|            0|        0|          0|       0|    NA|   NA|         NA|      0|     4|  2009|      WD|       Normal|\n",
      "+----+----------+--------+-----------+-------+------+-----+--------+-----------+---------+---------+---------+------------+----------+----------+--------+----------+-----------+-----------+---------+------------+---------+--------+-----------+-----------+----------+----------+---------+---------+----------+--------+--------+------------+------------+----------+------------+----------+---------+-----------+-------+---------+----------+----------+--------+--------+------------+---------+------------+------------+--------+--------+------------+------------+-----------+------------+----------+----------+-----------+----------+-----------+------------+----------+----------+----------+----------+----------+----------+-----------+-------------+---------+-----------+--------+------+-----+-----------+-------+------+------+--------+-------------+\n",
      "only showing top 20 rows\n",
      "\n"
     ]
    }
   ],
   "source": [
    "# Confirming that there are null values in the dataset\n",
    "DF6.distinct().show()"
   ]
  },
  {
   "cell_type": "code",
   "execution_count": 17,
   "metadata": {
    "colab": {
     "base_uri": "https://localhost:8080/"
    },
    "executionInfo": {
     "elapsed": 1877,
     "status": "ok",
     "timestamp": 1659262075041,
     "user": {
      "displayName": "Prerna Waghray",
      "userId": "08074246852708739388"
     },
     "user_tz": -330
    },
    "id": "D47iIUt_2978",
    "outputId": "44bbd6b0-a785-4f03-bdbc-3719341d10d9"
   },
   "outputs": [
    {
     "name": "stdout",
     "output_type": "stream",
     "text": [
      "+---+----------+--------+-----------+-------+------+-----+--------+-----------+---------+---------+---------+------------+----------+----------+--------+----------+-----------+-----------+---------+------------+---------+--------+-----------+-----------+----------+----------+---------+---------+----------+--------+--------+------------+------------+----------+------------+----------+---------+-----------+-------+---------+----------+----------+--------+--------+------------+---------+------------+------------+--------+--------+------------+------------+-----------+------------+----------+----------+-----------+----------+-----------+------------+----------+----------+----------+----------+----------+----------+-----------+-------------+---------+-----------+--------+------+-----+-----------+-------+------+------+--------+-------------+\n",
      "| Id|MSSubClass|MSZoning|LotFrontage|LotArea|Street|Alley|LotShape|LandContour|Utilities|LotConfig|LandSlope|Neighborhood|Condition1|Condition2|BldgType|HouseStyle|OverallQual|OverallCond|YearBuilt|YearRemodAdd|RoofStyle|RoofMatl|Exterior1st|Exterior2nd|MasVnrType|MasVnrArea|ExterQual|ExterCond|Foundation|BsmtQual|BsmtCond|BsmtExposure|BsmtFinType1|BsmtFinSF1|BsmtFinType2|BsmtFinSF2|BsmtUnfSF|TotalBsmtSF|Heating|HeatingQC|CentralAir|Electrical|1stFlrSF|2ndFlrSF|LowQualFinSF|GrLivArea|BsmtFullBath|BsmtHalfBath|FullBath|HalfBath|BedroomAbvGr|KitchenAbvGr|KitchenQual|TotRmsAbvGrd|Functional|Fireplaces|FireplaceQu|GarageType|GarageYrBlt|GarageFinish|GarageCars|GarageArea|GarageQual|GarageCond|PavedDrive|WoodDeckSF|OpenPorchSF|EnclosedPorch|3SsnPorch|ScreenPorch|PoolArea|PoolQC|Fence|MiscFeature|MiscVal|MoSold|YrSold|SaleType|SaleCondition|\n",
      "+---+----------+--------+-----------+-------+------+-----+--------+-----------+---------+---------+---------+------------+----------+----------+--------+----------+-----------+-----------+---------+------------+---------+--------+-----------+-----------+----------+----------+---------+---------+----------+--------+--------+------------+------------+----------+------------+----------+---------+-----------+-------+---------+----------+----------+--------+--------+------------+---------+------------+------------+--------+--------+------------+------------+-----------+------------+----------+----------+-----------+----------+-----------+------------+----------+----------+----------+----------+----------+----------+-----------+-------------+---------+-----------+--------+------+-----+-----------+-------+------+------+--------+-------------+\n",
      "|  0|         0|       0|        227|      0|     0|    0|       0|          0|        0|        0|        0|           0|         0|         0|       0|         0|          0|          0|        0|           0|        0|       0|          0|          0|        16|        15|        0|        0|         0|       0|       0|           0|           0|         0|           0|         0|        0|          0|      0|        0|         0|         0|       0|       0|           0|        0|           0|           0|       0|       0|           0|           0|          0|           0|         0|         0|          0|         0|         78|           0|         0|         0|         0|         0|         0|         0|          0|            0|        0|          0|       0|     0|    0|          0|      0|     0|     0|       0|            0|\n",
      "+---+----------+--------+-----------+-------+------+-----+--------+-----------+---------+---------+---------+------------+----------+----------+--------+----------+-----------+-----------+---------+------------+---------+--------+-----------+-----------+----------+----------+---------+---------+----------+--------+--------+------------+------------+----------+------------+----------+---------+-----------+-------+---------+----------+----------+--------+--------+------------+---------+------------+------------+--------+--------+------------+------------+-----------+------------+----------+----------+-----------+----------+-----------+------------+----------+----------+----------+----------+----------+----------+-----------+-------------+---------+-----------+--------+------+-----+-----------+-------+------+------+--------+-------------+\n",
      "\n"
     ]
    }
   ],
   "source": [
    "from pyspark.sql.functions import isnull, when, count, col\n",
    "DF6.select([count(when(isnull(c), c)).alias(c) for c in DF6.columns]).show()"
   ]
  },
  {
   "cell_type": "code",
   "execution_count": 18,
   "metadata": {
    "executionInfo": {
     "elapsed": 3,
     "status": "ok",
     "timestamp": 1659262077428,
     "user": {
      "displayName": "Prerna Waghray",
      "userId": "08074246852708739388"
     },
     "user_tz": -330
    },
    "id": "TZQTMZN4xG8p"
   },
   "outputs": [],
   "source": [
    "# Null value imputation\n",
    "from pyspark.ml.feature import Imputer\n",
    "\n",
    "imputer = Imputer(inputCols=['LotFrontage', 'MasVnrArea',  'GarageYrBlt'], outputCols=[\"{}_imputed\".format(c) for c in ['LotFrontage', 'MasVnrArea', 'GarageYrBlt']]).setStrategy(\"median\")"
   ]
  },
  {
   "cell_type": "code",
   "execution_count": 19,
   "metadata": {
    "colab": {
     "base_uri": "https://localhost:8080/"
    },
    "executionInfo": {
     "elapsed": 1643,
     "status": "ok",
     "timestamp": 1659262081924,
     "user": {
      "displayName": "Prerna Waghray",
      "userId": "08074246852708739388"
     },
     "user_tz": -330
    },
    "id": "dF6GlQsTxWjA",
    "outputId": "8f144f38-66f5-49cf-d968-e8506d359b96"
   },
   "outputs": [
    {
     "name": "stdout",
     "output_type": "stream",
     "text": [
      "+----+----------+--------+-----------+-------+------+-----+--------+-----------+---------+---------+---------+------------+----------+----------+--------+----------+-----------+-----------+---------+------------+---------+--------+-----------+-----------+----------+----------+---------+---------+----------+--------+--------+------------+------------+----------+------------+----------+---------+-----------+-------+---------+----------+----------+--------+--------+------------+---------+------------+------------+--------+--------+------------+------------+-----------+------------+----------+----------+-----------+----------+-----------+------------+----------+----------+----------+----------+----------+----------+-----------+-------------+---------+-----------+--------+------+-----+-----------+-------+------+------+--------+-------------+-------------------+------------------+-------------------+\n",
      "|  Id|MSSubClass|MSZoning|LotFrontage|LotArea|Street|Alley|LotShape|LandContour|Utilities|LotConfig|LandSlope|Neighborhood|Condition1|Condition2|BldgType|HouseStyle|OverallQual|OverallCond|YearBuilt|YearRemodAdd|RoofStyle|RoofMatl|Exterior1st|Exterior2nd|MasVnrType|MasVnrArea|ExterQual|ExterCond|Foundation|BsmtQual|BsmtCond|BsmtExposure|BsmtFinType1|BsmtFinSF1|BsmtFinType2|BsmtFinSF2|BsmtUnfSF|TotalBsmtSF|Heating|HeatingQC|CentralAir|Electrical|1stFlrSF|2ndFlrSF|LowQualFinSF|GrLivArea|BsmtFullBath|BsmtHalfBath|FullBath|HalfBath|BedroomAbvGr|KitchenAbvGr|KitchenQual|TotRmsAbvGrd|Functional|Fireplaces|FireplaceQu|GarageType|GarageYrBlt|GarageFinish|GarageCars|GarageArea|GarageQual|GarageCond|PavedDrive|WoodDeckSF|OpenPorchSF|EnclosedPorch|3SsnPorch|ScreenPorch|PoolArea|PoolQC|Fence|MiscFeature|MiscVal|MoSold|YrSold|SaleType|SaleCondition|LotFrontage_imputed|MasVnrArea_imputed|GarageYrBlt_imputed|\n",
      "+----+----------+--------+-----------+-------+------+-----+--------+-----------+---------+---------+---------+------------+----------+----------+--------+----------+-----------+-----------+---------+------------+---------+--------+-----------+-----------+----------+----------+---------+---------+----------+--------+--------+------------+------------+----------+------------+----------+---------+-----------+-------+---------+----------+----------+--------+--------+------------+---------+------------+------------+--------+--------+------------+------------+-----------+------------+----------+----------+-----------+----------+-----------+------------+----------+----------+----------+----------+----------+----------+-----------+-------------+---------+-----------+--------+------+-----+-----------+-------+------+------+--------+-------------+-------------------+------------------+-------------------+\n",
      "|1461|        20|      RH|       80.0|  11622|  Pave|   NA|     Reg|        Lvl|   AllPub|   Inside|      Gtl|       NAmes|     Feedr|      Norm|    1Fam|    1Story|          5|          6|     1961|        1961|    Gable| CompShg|    VinylSd|    VinylSd|      None|       0.0|       TA|       TA|    CBlock|      TA|      TA|          No|         Rec|       468|         LwQ|       144|      270|        882|   GasA|       TA|         Y|     SBrkr|     896|       0|           0|      896|           0|           0|       1|       0|           2|           1|         TA|           5|       Typ|         0|         NA|    Attchd|     1961.0|         Unf|         1|       730|        TA|        TA|         Y|       140|          0|            0|        0|        120|       0|    NA|MnPrv|         NA|      0|     6|  2010|      WD|       Normal|               80.0|               0.0|             1961.0|\n",
      "|1462|        20|      RL|       81.0|  14267|  Pave|   NA|     IR1|        Lvl|   AllPub|   Corner|      Gtl|       NAmes|      Norm|      Norm|    1Fam|    1Story|          6|          6|     1958|        1958|      Hip| CompShg|    Wd Sdng|    Wd Sdng|   BrkFace|     108.0|       TA|       TA|    CBlock|      TA|      TA|          No|         ALQ|       923|         Unf|         0|      406|       1329|   GasA|       TA|         Y|     SBrkr|    1329|       0|           0|     1329|           0|           0|       1|       1|           3|           1|         Gd|           6|       Typ|         0|         NA|    Attchd|     1958.0|         Unf|         1|       312|        TA|        TA|         Y|       393|         36|            0|        0|          0|       0|    NA|   NA|       Gar2|  12500|     6|  2010|      WD|       Normal|               81.0|             108.0|             1958.0|\n",
      "|1463|        60|      RL|       74.0|  13830|  Pave|   NA|     IR1|        Lvl|   AllPub|   Inside|      Gtl|     Gilbert|      Norm|      Norm|    1Fam|    2Story|          5|          5|     1997|        1998|    Gable| CompShg|    VinylSd|    VinylSd|      None|       0.0|       TA|       TA|     PConc|      Gd|      TA|          No|         GLQ|       791|         Unf|         0|      137|        928|   GasA|       Gd|         Y|     SBrkr|     928|     701|           0|     1629|           0|           0|       2|       1|           3|           1|         TA|           6|       Typ|         1|         TA|    Attchd|     1997.0|         Fin|         2|       482|        TA|        TA|         Y|       212|         34|            0|        0|          0|       0|    NA|MnPrv|         NA|      0|     3|  2010|      WD|       Normal|               74.0|               0.0|             1997.0|\n",
      "|1464|        60|      RL|       78.0|   9978|  Pave|   NA|     IR1|        Lvl|   AllPub|   Inside|      Gtl|     Gilbert|      Norm|      Norm|    1Fam|    2Story|          6|          6|     1998|        1998|    Gable| CompShg|    VinylSd|    VinylSd|   BrkFace|      20.0|       TA|       TA|     PConc|      TA|      TA|          No|         GLQ|       602|         Unf|         0|      324|        926|   GasA|       Ex|         Y|     SBrkr|     926|     678|           0|     1604|           0|           0|       2|       1|           3|           1|         Gd|           7|       Typ|         1|         Gd|    Attchd|     1998.0|         Fin|         2|       470|        TA|        TA|         Y|       360|         36|            0|        0|          0|       0|    NA|   NA|         NA|      0|     6|  2010|      WD|       Normal|               78.0|              20.0|             1998.0|\n",
      "|1465|       120|      RL|       43.0|   5005|  Pave|   NA|     IR1|        HLS|   AllPub|   Inside|      Gtl|     StoneBr|      Norm|      Norm|  TwnhsE|    1Story|          8|          5|     1992|        1992|    Gable| CompShg|    HdBoard|    HdBoard|      None|       0.0|       Gd|       TA|     PConc|      Gd|      TA|          No|         ALQ|       263|         Unf|         0|     1017|       1280|   GasA|       Ex|         Y|     SBrkr|    1280|       0|           0|     1280|           0|           0|       2|       0|           2|           1|         Gd|           5|       Typ|         0|         NA|    Attchd|     1992.0|         RFn|         2|       506|        TA|        TA|         Y|         0|         82|            0|        0|        144|       0|    NA|   NA|         NA|      0|     1|  2010|      WD|       Normal|               43.0|               0.0|             1992.0|\n",
      "|1466|        60|      RL|       75.0|  10000|  Pave|   NA|     IR1|        Lvl|   AllPub|   Corner|      Gtl|     Gilbert|      Norm|      Norm|    1Fam|    2Story|          6|          5|     1993|        1994|    Gable| CompShg|    HdBoard|    HdBoard|      None|       0.0|       TA|       TA|     PConc|      Gd|      TA|          No|         Unf|         0|         Unf|         0|      763|        763|   GasA|       Gd|         Y|     SBrkr|     763|     892|           0|     1655|           0|           0|       2|       1|           3|           1|         TA|           7|       Typ|         1|         TA|    Attchd|     1993.0|         Fin|         2|       440|        TA|        TA|         Y|       157|         84|            0|        0|          0|       0|    NA|   NA|         NA|      0|     4|  2010|      WD|       Normal|               75.0|               0.0|             1993.0|\n",
      "|1467|        20|      RL|       null|   7980|  Pave|   NA|     IR1|        Lvl|   AllPub|   Inside|      Gtl|     Gilbert|      Norm|      Norm|    1Fam|    1Story|          6|          7|     1992|        2007|    Gable| CompShg|    HdBoard|    HdBoard|      None|       0.0|       TA|       Gd|     PConc|      Gd|      TA|          No|         ALQ|       935|         Unf|         0|      233|       1168|   GasA|       Ex|         Y|     SBrkr|    1187|       0|           0|     1187|           1|           0|       2|       0|           3|           1|         TA|           6|       Typ|         0|         NA|    Attchd|     1992.0|         Fin|         2|       420|        TA|        TA|         Y|       483|         21|            0|        0|          0|       0|    NA|GdPrv|       Shed|    500|     3|  2010|      WD|       Normal|               67.0|               0.0|             1992.0|\n",
      "|1468|        60|      RL|       63.0|   8402|  Pave|   NA|     IR1|        Lvl|   AllPub|   Inside|      Gtl|     Gilbert|      Norm|      Norm|    1Fam|    2Story|          6|          5|     1998|        1998|    Gable| CompShg|    VinylSd|    VinylSd|      None|       0.0|       TA|       TA|     PConc|      Gd|      TA|          No|         Unf|         0|         Unf|         0|      789|        789|   GasA|       Gd|         Y|     SBrkr|     789|     676|           0|     1465|           0|           0|       2|       1|           3|           1|         TA|           7|       Typ|         1|         Gd|    Attchd|     1998.0|         Fin|         2|       393|        TA|        TA|         Y|         0|         75|            0|        0|          0|       0|    NA|   NA|         NA|      0|     5|  2010|      WD|       Normal|               63.0|               0.0|             1998.0|\n",
      "|1469|        20|      RL|       85.0|  10176|  Pave|   NA|     Reg|        Lvl|   AllPub|   Inside|      Gtl|     Gilbert|      Norm|      Norm|    1Fam|    1Story|          7|          5|     1990|        1990|    Gable| CompShg|    HdBoard|    HdBoard|      None|       0.0|       TA|       TA|     PConc|      Gd|      TA|          Gd|         GLQ|       637|         Unf|         0|      663|       1300|   GasA|       Gd|         Y|     SBrkr|    1341|       0|           0|     1341|           1|           0|       1|       1|           2|           1|         Gd|           5|       Typ|         1|         Po|    Attchd|     1990.0|         Unf|         2|       506|        TA|        TA|         Y|       192|          0|            0|        0|          0|       0|    NA|   NA|         NA|      0|     2|  2010|      WD|       Normal|               85.0|               0.0|             1990.0|\n",
      "|1470|        20|      RL|       70.0|   8400|  Pave|   NA|     Reg|        Lvl|   AllPub|   Corner|      Gtl|       NAmes|      Norm|      Norm|    1Fam|    1Story|          4|          5|     1970|        1970|    Gable| CompShg|    Plywood|    Plywood|      None|       0.0|       TA|       TA|    CBlock|      TA|      TA|          No|         ALQ|       804|         Rec|        78|        0|        882|   GasA|       TA|         Y|     SBrkr|     882|       0|           0|      882|           1|           0|       1|       0|           2|           1|         TA|           4|       Typ|         0|         NA|    Attchd|     1970.0|         Fin|         2|       525|        TA|        TA|         Y|       240|          0|            0|        0|          0|       0|    NA|MnPrv|         NA|      0|     4|  2010|      WD|       Normal|               70.0|               0.0|             1970.0|\n",
      "|1471|       120|      RH|       26.0|   5858|  Pave|   NA|     IR1|        Lvl|   AllPub|      FR2|      Gtl|       NAmes|      Norm|      Norm|  TwnhsE|    1Story|          7|          5|     1999|        1999|    Gable| CompShg|    MetalSd|    MetalSd|      None|       0.0|       Gd|       TA|     PConc|      Gd|      TA|          No|         GLQ|      1051|         BLQ|         0|      354|       1405|   GasA|       Ex|         Y|     SBrkr|    1337|       0|           0|     1337|           1|           0|       2|       0|           2|           1|         Gd|           5|       Typ|         1|         Fa|    Attchd|     1999.0|         Fin|         2|       511|        TA|        TA|         Y|       203|         68|            0|        0|          0|       0|    NA|   NA|         NA|      0|     6|  2010|      WD|       Normal|               26.0|               0.0|             1999.0|\n",
      "|1472|       160|      RM|       21.0|   1680|  Pave|   NA|     Reg|        Lvl|   AllPub|   Inside|      Gtl|      BrDale|      Norm|      Norm|   Twnhs|    2Story|          6|          5|     1971|        1971|    Gable| CompShg|    HdBoard|    HdBoard|   BrkFace|     504.0|       TA|       TA|    CBlock|      TA|      TA|          No|         Rec|       156|         Unf|         0|      327|        483|   GasA|       TA|         Y|     SBrkr|     483|     504|           0|      987|           0|           0|       1|       1|           2|           1|         TA|           5|       Typ|         0|         NA|    Detchd|     1971.0|         Unf|         1|       264|        TA|        TA|         Y|       275|          0|            0|        0|          0|       0|    NA|   NA|         NA|      0|     2|  2010|     COD|       Normal|               21.0|             504.0|             1971.0|\n",
      "|1473|       160|      RM|       21.0|   1680|  Pave|   NA|     Reg|        Lvl|   AllPub|   Inside|      Gtl|      BrDale|      Norm|      Norm|   Twnhs|    2Story|          5|          5|     1971|        1971|    Gable| CompShg|    HdBoard|    HdBoard|   BrkFace|     492.0|       TA|       TA|    CBlock|      TA|      TA|          No|         Rec|       300|         Unf|         0|      225|        525|   GasA|       TA|         Y|     SBrkr|     525|     567|           0|     1092|           0|           0|       1|       1|           3|           1|         TA|           6|       Typ|         0|         NA|    Detchd|     1997.0|         Unf|         1|       320|        TA|        TA|         Y|         0|          0|            0|        0|          0|       0|    NA|   NA|         NA|      0|     3|  2010|      WD|       Normal|               21.0|             492.0|             1997.0|\n",
      "|1474|       160|      RL|       24.0|   2280|  Pave|   NA|     Reg|        Lvl|   AllPub|      FR2|      Gtl|     NPkVill|      Norm|      Norm|   Twnhs|    2Story|          6|          6|     1975|        1975|    Gable| CompShg|    Plywood|    Brk Cmn|      None|       0.0|       TA|       TA|    CBlock|      TA|      TA|          No|         ALQ|       514|         Unf|         0|      341|        855|   GasA|       TA|         Y|     SBrkr|     855|     601|           0|     1456|           0|           0|       2|       1|           3|           1|         Gd|           6|       Typ|         1|         TA|    Attchd|     1975.0|         Unf|         2|       440|        TA|        TA|         Y|       173|          0|            0|        0|          0|       0|    NA|   NA|         NA|      0|     6|  2010|      WD|       Normal|               24.0|               0.0|             1975.0|\n",
      "|1475|       120|      RL|       24.0|   2280|  Pave|   NA|     Reg|        Lvl|   AllPub|      FR2|      Gtl|     NPkVill|      Norm|      Norm|   Twnhs|    1Story|          7|          6|     1975|        1975|    Gable| CompShg|    Plywood|    Brk Cmn|      None|       0.0|       TA|       TA|    CBlock|      Gd|      TA|          No|         Unf|         0|         Unf|         0|      836|        836|   GasA|       Ex|         Y|     SBrkr|     836|       0|           0|      836|           0|           0|       1|       0|           2|           1|         TA|           4|       Typ|         0|         NA|    Attchd|     1975.0|         Unf|         1|       308|        TA|        TA|         Y|         0|         30|            0|        0|          0|       0|    NA|   NA|         NA|      0|     6|  2010|      WD|       Normal|               24.0|               0.0|             1975.0|\n",
      "|1476|        60|      RL|      102.0|  12858|  Pave|   NA|     IR1|        Lvl|   AllPub|   Inside|      Gtl|     NridgHt|      Norm|      Norm|    1Fam|    2Story|          9|          5|     2009|        2010|    Gable| CompShg|    VinylSd|    VinylSd|     Stone|     162.0|       Ex|       TA|     PConc|      Ex|      TA|          No|         Unf|         0|         Unf|         0|     1590|       1590|   GasA|       Ex|         Y|     SBrkr|    1627|     707|           0|     2334|           0|           0|       2|       1|           3|           1|         Ex|          10|       Typ|         1|         Gd|    Attchd|     2009.0|         Fin|         3|       751|        TA|        TA|         Y|       144|        133|            0|        0|          0|       0|    NA|   NA|         NA|      0|     1|  2010|     New|      Partial|              102.0|             162.0|             2009.0|\n",
      "|1477|        20|      RL|       94.0|  12883|  Pave|   NA|     IR1|        Lvl|   AllPub|   Corner|      Gtl|     NridgHt|      Norm|      Norm|    1Fam|    1Story|          8|          5|     2009|        2010|    Gable| CompShg|    VinylSd|    VinylSd|     Stone|     256.0|       Gd|       TA|     PConc|      Gd|      TA|          No|         Unf|         0|         Unf|         0|     1544|       1544|   GasA|       Ex|         Y|     SBrkr|    1544|       0|           0|     1544|           0|           0|       2|       0|           3|           1|         Gd|           7|       Typ|         0|         NA|    Attchd|     2009.0|         RFn|         3|       868|        TA|        TA|         Y|         0|         35|            0|        0|          0|       0|    NA|   NA|         NA|      0|     6|  2010|     New|      Partial|               94.0|             256.0|             2009.0|\n",
      "|1478|        20|      RL|       90.0|  11520|  Pave|   NA|     Reg|        Lvl|   AllPub|   Inside|      Gtl|     NridgHt|      PosN|      Norm|    1Fam|    1Story|          9|          5|     2005|        2005|      Hip| CompShg|    VinylSd|    VinylSd|   BrkFace|     615.0|       Gd|       TA|     PConc|      Ex|      TA|          No|         GLQ|       110|         Unf|         0|     1588|       1698|   GasA|       Ex|         Y|     SBrkr|    1698|       0|           0|     1698|           0|           0|       2|       0|           3|           1|         Ex|           7|       Typ|         1|         Gd|    Attchd|     2005.0|         Fin|         3|       730|        TA|        TA|         Y|       192|         74|            0|        0|          0|       0|    NA|   NA|         NA|      0|     6|  2010|      WD|       Normal|               90.0|             615.0|             2005.0|\n",
      "|1479|        20|      RL|       79.0|  14122|  Pave|   NA|     IR1|        Lvl|   AllPub|   Inside|      Gtl|     NridgHt|      Norm|      Norm|    1Fam|    1Story|          8|          5|     2005|        2006|      Hip| CompShg|    CemntBd|    CmentBd|   BrkFace|     240.0|       Gd|       TA|     PConc|      Ex|      TA|          No|         GLQ|        28|         Unf|         0|     1794|       1822|   GasA|       Ex|         Y|     SBrkr|    1822|       0|           0|     1822|           0|           0|       2|       0|           3|           1|         Ex|           8|       Typ|         1|         Gd|    Attchd|     2005.0|         RFn|         3|       678|        TA|        TA|         Y|         0|        119|            0|        0|          0|       0|    NA|   NA|         NA|      0|     2|  2010|      WD|       Normal|               79.0|             240.0|             2005.0|\n",
      "|1480|        20|      RL|      110.0|  14300|  Pave|   NA|     Reg|        HLS|   AllPub|   Inside|      Mod|     NridgHt|      Norm|      Norm|    1Fam|    1Story|          9|          5|     2003|        2004|      Hip| CompShg|    VinylSd|    VinylSd|   BrkFace|    1095.0|       Ex|       TA|     PConc|      Ex|      TA|          Gd|         GLQ|      1373|         Unf|         0|     1473|       2846|   GasA|       Ex|         Y|     SBrkr|    2696|       0|           0|     2696|           1|           0|       2|       1|           3|           1|         Ex|          10|       Typ|         2|         Gd|    Attchd|     2003.0|         Fin|         3|       958|        TA|        TA|         Y|       220|        150|            0|        0|          0|       0|    NA|   NA|         NA|      0|     6|  2010|      WD|       Normal|              110.0|            1095.0|             2003.0|\n",
      "+----+----------+--------+-----------+-------+------+-----+--------+-----------+---------+---------+---------+------------+----------+----------+--------+----------+-----------+-----------+---------+------------+---------+--------+-----------+-----------+----------+----------+---------+---------+----------+--------+--------+------------+------------+----------+------------+----------+---------+-----------+-------+---------+----------+----------+--------+--------+------------+---------+------------+------------+--------+--------+------------+------------+-----------+------------+----------+----------+-----------+----------+-----------+------------+----------+----------+----------+----------+----------+----------+-----------+-------------+---------+-----------+--------+------+-----+-----------+-------+------+------+--------+-------------+-------------------+------------------+-------------------+\n",
      "only showing top 20 rows\n",
      "\n"
     ]
    }
   ],
   "source": [
    "imputer.fit(DF6).transform(DF6).show()"
   ]
  },
  {
   "cell_type": "code",
   "execution_count": 20,
   "metadata": {
    "executionInfo": {
     "elapsed": 4,
     "status": "ok",
     "timestamp": 1659262084621,
     "user": {
      "displayName": "Prerna Waghray",
      "userId": "08074246852708739388"
     },
     "user_tz": -330
    },
    "id": "2UD2ojQF2wdA"
   },
   "outputs": [],
   "source": [
    "# Replacing the null values in categorical columns\n",
    "DF7 = DF6.na.fill(\"None\",[\"MasVnrType\"]).na.fill(\"SBrkr\",[\"Electrical\"])"
   ]
  },
  {
   "cell_type": "code",
   "execution_count": 21,
   "metadata": {
    "executionInfo": {
     "elapsed": 3,
     "status": "ok",
     "timestamp": 1659262087070,
     "user": {
      "displayName": "Prerna Waghray",
      "userId": "08074246852708739388"
     },
     "user_tz": -330
    },
    "id": "JqCWQ5sp33k1"
   },
   "outputs": [],
   "source": [
    "# Dropping these columns post null value imputation\n",
    "DF8 = DF7.drop('LotFrontage', 'MasVnrArea',  'GarageYrBlt')"
   ]
  },
  {
   "cell_type": "code",
   "execution_count": 22,
   "metadata": {
    "colab": {
     "base_uri": "https://localhost:8080/"
    },
    "executionInfo": {
     "elapsed": 509,
     "status": "ok",
     "timestamp": 1659262089723,
     "user": {
      "displayName": "Prerna Waghray",
      "userId": "08074246852708739388"
     },
     "user_tz": -330
    },
    "id": "Z9tNzim_mEgd",
    "outputId": "a2f50921-28d1-46ba-c3ec-a8c099c6ba2a"
   },
   "outputs": [
    {
     "name": "stdout",
     "output_type": "stream",
     "text": [
      "+----+----------+--------+-------+------+-----+--------+-----------+---------+---------+---------+------------+----------+----------+--------+----------+-----------+-----------+---------+------------+---------+--------+-----------+-----------+----------+---------+---------+----------+--------+--------+------------+------------+----------+------------+----------+---------+-----------+-------+---------+----------+----------+--------+--------+------------+---------+------------+------------+--------+--------+------------+------------+-----------+------------+----------+----------+-----------+----------+------------+----------+----------+----------+----------+----------+----------+-----------+-------------+---------+-----------+--------+------+-----+-----------+-------+------+------+--------+-------------+\n",
      "|  Id|MSSubClass|MSZoning|LotArea|Street|Alley|LotShape|LandContour|Utilities|LotConfig|LandSlope|Neighborhood|Condition1|Condition2|BldgType|HouseStyle|OverallQual|OverallCond|YearBuilt|YearRemodAdd|RoofStyle|RoofMatl|Exterior1st|Exterior2nd|MasVnrType|ExterQual|ExterCond|Foundation|BsmtQual|BsmtCond|BsmtExposure|BsmtFinType1|BsmtFinSF1|BsmtFinType2|BsmtFinSF2|BsmtUnfSF|TotalBsmtSF|Heating|HeatingQC|CentralAir|Electrical|1stFlrSF|2ndFlrSF|LowQualFinSF|GrLivArea|BsmtFullBath|BsmtHalfBath|FullBath|HalfBath|BedroomAbvGr|KitchenAbvGr|KitchenQual|TotRmsAbvGrd|Functional|Fireplaces|FireplaceQu|GarageType|GarageFinish|GarageCars|GarageArea|GarageQual|GarageCond|PavedDrive|WoodDeckSF|OpenPorchSF|EnclosedPorch|3SsnPorch|ScreenPorch|PoolArea|PoolQC|Fence|MiscFeature|MiscVal|MoSold|YrSold|SaleType|SaleCondition|\n",
      "+----+----------+--------+-------+------+-----+--------+-----------+---------+---------+---------+------------+----------+----------+--------+----------+-----------+-----------+---------+------------+---------+--------+-----------+-----------+----------+---------+---------+----------+--------+--------+------------+------------+----------+------------+----------+---------+-----------+-------+---------+----------+----------+--------+--------+------------+---------+------------+------------+--------+--------+------------+------------+-----------+------------+----------+----------+-----------+----------+------------+----------+----------+----------+----------+----------+----------+-----------+-------------+---------+-----------+--------+------+-----+-----------+-------+------+------+--------+-------------+\n",
      "|1461|        20|      RH|  11622|  Pave|   NA|     Reg|        Lvl|   AllPub|   Inside|      Gtl|       NAmes|     Feedr|      Norm|    1Fam|    1Story|          5|          6|     1961|        1961|    Gable| CompShg|    VinylSd|    VinylSd|      None|       TA|       TA|    CBlock|      TA|      TA|          No|         Rec|       468|         LwQ|       144|      270|        882|   GasA|       TA|         Y|     SBrkr|     896|       0|           0|      896|           0|           0|       1|       0|           2|           1|         TA|           5|       Typ|         0|         NA|    Attchd|         Unf|         1|       730|        TA|        TA|         Y|       140|          0|            0|        0|        120|       0|    NA|MnPrv|         NA|      0|     6|  2010|      WD|       Normal|\n",
      "|1462|        20|      RL|  14267|  Pave|   NA|     IR1|        Lvl|   AllPub|   Corner|      Gtl|       NAmes|      Norm|      Norm|    1Fam|    1Story|          6|          6|     1958|        1958|      Hip| CompShg|    Wd Sdng|    Wd Sdng|   BrkFace|       TA|       TA|    CBlock|      TA|      TA|          No|         ALQ|       923|         Unf|         0|      406|       1329|   GasA|       TA|         Y|     SBrkr|    1329|       0|           0|     1329|           0|           0|       1|       1|           3|           1|         Gd|           6|       Typ|         0|         NA|    Attchd|         Unf|         1|       312|        TA|        TA|         Y|       393|         36|            0|        0|          0|       0|    NA|   NA|       Gar2|  12500|     6|  2010|      WD|       Normal|\n",
      "|1463|        60|      RL|  13830|  Pave|   NA|     IR1|        Lvl|   AllPub|   Inside|      Gtl|     Gilbert|      Norm|      Norm|    1Fam|    2Story|          5|          5|     1997|        1998|    Gable| CompShg|    VinylSd|    VinylSd|      None|       TA|       TA|     PConc|      Gd|      TA|          No|         GLQ|       791|         Unf|         0|      137|        928|   GasA|       Gd|         Y|     SBrkr|     928|     701|           0|     1629|           0|           0|       2|       1|           3|           1|         TA|           6|       Typ|         1|         TA|    Attchd|         Fin|         2|       482|        TA|        TA|         Y|       212|         34|            0|        0|          0|       0|    NA|MnPrv|         NA|      0|     3|  2010|      WD|       Normal|\n",
      "|1464|        60|      RL|   9978|  Pave|   NA|     IR1|        Lvl|   AllPub|   Inside|      Gtl|     Gilbert|      Norm|      Norm|    1Fam|    2Story|          6|          6|     1998|        1998|    Gable| CompShg|    VinylSd|    VinylSd|   BrkFace|       TA|       TA|     PConc|      TA|      TA|          No|         GLQ|       602|         Unf|         0|      324|        926|   GasA|       Ex|         Y|     SBrkr|     926|     678|           0|     1604|           0|           0|       2|       1|           3|           1|         Gd|           7|       Typ|         1|         Gd|    Attchd|         Fin|         2|       470|        TA|        TA|         Y|       360|         36|            0|        0|          0|       0|    NA|   NA|         NA|      0|     6|  2010|      WD|       Normal|\n",
      "|1465|       120|      RL|   5005|  Pave|   NA|     IR1|        HLS|   AllPub|   Inside|      Gtl|     StoneBr|      Norm|      Norm|  TwnhsE|    1Story|          8|          5|     1992|        1992|    Gable| CompShg|    HdBoard|    HdBoard|      None|       Gd|       TA|     PConc|      Gd|      TA|          No|         ALQ|       263|         Unf|         0|     1017|       1280|   GasA|       Ex|         Y|     SBrkr|    1280|       0|           0|     1280|           0|           0|       2|       0|           2|           1|         Gd|           5|       Typ|         0|         NA|    Attchd|         RFn|         2|       506|        TA|        TA|         Y|         0|         82|            0|        0|        144|       0|    NA|   NA|         NA|      0|     1|  2010|      WD|       Normal|\n",
      "|1466|        60|      RL|  10000|  Pave|   NA|     IR1|        Lvl|   AllPub|   Corner|      Gtl|     Gilbert|      Norm|      Norm|    1Fam|    2Story|          6|          5|     1993|        1994|    Gable| CompShg|    HdBoard|    HdBoard|      None|       TA|       TA|     PConc|      Gd|      TA|          No|         Unf|         0|         Unf|         0|      763|        763|   GasA|       Gd|         Y|     SBrkr|     763|     892|           0|     1655|           0|           0|       2|       1|           3|           1|         TA|           7|       Typ|         1|         TA|    Attchd|         Fin|         2|       440|        TA|        TA|         Y|       157|         84|            0|        0|          0|       0|    NA|   NA|         NA|      0|     4|  2010|      WD|       Normal|\n",
      "|1467|        20|      RL|   7980|  Pave|   NA|     IR1|        Lvl|   AllPub|   Inside|      Gtl|     Gilbert|      Norm|      Norm|    1Fam|    1Story|          6|          7|     1992|        2007|    Gable| CompShg|    HdBoard|    HdBoard|      None|       TA|       Gd|     PConc|      Gd|      TA|          No|         ALQ|       935|         Unf|         0|      233|       1168|   GasA|       Ex|         Y|     SBrkr|    1187|       0|           0|     1187|           1|           0|       2|       0|           3|           1|         TA|           6|       Typ|         0|         NA|    Attchd|         Fin|         2|       420|        TA|        TA|         Y|       483|         21|            0|        0|          0|       0|    NA|GdPrv|       Shed|    500|     3|  2010|      WD|       Normal|\n",
      "|1468|        60|      RL|   8402|  Pave|   NA|     IR1|        Lvl|   AllPub|   Inside|      Gtl|     Gilbert|      Norm|      Norm|    1Fam|    2Story|          6|          5|     1998|        1998|    Gable| CompShg|    VinylSd|    VinylSd|      None|       TA|       TA|     PConc|      Gd|      TA|          No|         Unf|         0|         Unf|         0|      789|        789|   GasA|       Gd|         Y|     SBrkr|     789|     676|           0|     1465|           0|           0|       2|       1|           3|           1|         TA|           7|       Typ|         1|         Gd|    Attchd|         Fin|         2|       393|        TA|        TA|         Y|         0|         75|            0|        0|          0|       0|    NA|   NA|         NA|      0|     5|  2010|      WD|       Normal|\n",
      "|1469|        20|      RL|  10176|  Pave|   NA|     Reg|        Lvl|   AllPub|   Inside|      Gtl|     Gilbert|      Norm|      Norm|    1Fam|    1Story|          7|          5|     1990|        1990|    Gable| CompShg|    HdBoard|    HdBoard|      None|       TA|       TA|     PConc|      Gd|      TA|          Gd|         GLQ|       637|         Unf|         0|      663|       1300|   GasA|       Gd|         Y|     SBrkr|    1341|       0|           0|     1341|           1|           0|       1|       1|           2|           1|         Gd|           5|       Typ|         1|         Po|    Attchd|         Unf|         2|       506|        TA|        TA|         Y|       192|          0|            0|        0|          0|       0|    NA|   NA|         NA|      0|     2|  2010|      WD|       Normal|\n",
      "|1470|        20|      RL|   8400|  Pave|   NA|     Reg|        Lvl|   AllPub|   Corner|      Gtl|       NAmes|      Norm|      Norm|    1Fam|    1Story|          4|          5|     1970|        1970|    Gable| CompShg|    Plywood|    Plywood|      None|       TA|       TA|    CBlock|      TA|      TA|          No|         ALQ|       804|         Rec|        78|        0|        882|   GasA|       TA|         Y|     SBrkr|     882|       0|           0|      882|           1|           0|       1|       0|           2|           1|         TA|           4|       Typ|         0|         NA|    Attchd|         Fin|         2|       525|        TA|        TA|         Y|       240|          0|            0|        0|          0|       0|    NA|MnPrv|         NA|      0|     4|  2010|      WD|       Normal|\n",
      "|1471|       120|      RH|   5858|  Pave|   NA|     IR1|        Lvl|   AllPub|      FR2|      Gtl|       NAmes|      Norm|      Norm|  TwnhsE|    1Story|          7|          5|     1999|        1999|    Gable| CompShg|    MetalSd|    MetalSd|      None|       Gd|       TA|     PConc|      Gd|      TA|          No|         GLQ|      1051|         BLQ|         0|      354|       1405|   GasA|       Ex|         Y|     SBrkr|    1337|       0|           0|     1337|           1|           0|       2|       0|           2|           1|         Gd|           5|       Typ|         1|         Fa|    Attchd|         Fin|         2|       511|        TA|        TA|         Y|       203|         68|            0|        0|          0|       0|    NA|   NA|         NA|      0|     6|  2010|      WD|       Normal|\n",
      "|1472|       160|      RM|   1680|  Pave|   NA|     Reg|        Lvl|   AllPub|   Inside|      Gtl|      BrDale|      Norm|      Norm|   Twnhs|    2Story|          6|          5|     1971|        1971|    Gable| CompShg|    HdBoard|    HdBoard|   BrkFace|       TA|       TA|    CBlock|      TA|      TA|          No|         Rec|       156|         Unf|         0|      327|        483|   GasA|       TA|         Y|     SBrkr|     483|     504|           0|      987|           0|           0|       1|       1|           2|           1|         TA|           5|       Typ|         0|         NA|    Detchd|         Unf|         1|       264|        TA|        TA|         Y|       275|          0|            0|        0|          0|       0|    NA|   NA|         NA|      0|     2|  2010|     COD|       Normal|\n",
      "|1473|       160|      RM|   1680|  Pave|   NA|     Reg|        Lvl|   AllPub|   Inside|      Gtl|      BrDale|      Norm|      Norm|   Twnhs|    2Story|          5|          5|     1971|        1971|    Gable| CompShg|    HdBoard|    HdBoard|   BrkFace|       TA|       TA|    CBlock|      TA|      TA|          No|         Rec|       300|         Unf|         0|      225|        525|   GasA|       TA|         Y|     SBrkr|     525|     567|           0|     1092|           0|           0|       1|       1|           3|           1|         TA|           6|       Typ|         0|         NA|    Detchd|         Unf|         1|       320|        TA|        TA|         Y|         0|          0|            0|        0|          0|       0|    NA|   NA|         NA|      0|     3|  2010|      WD|       Normal|\n",
      "|1474|       160|      RL|   2280|  Pave|   NA|     Reg|        Lvl|   AllPub|      FR2|      Gtl|     NPkVill|      Norm|      Norm|   Twnhs|    2Story|          6|          6|     1975|        1975|    Gable| CompShg|    Plywood|    Brk Cmn|      None|       TA|       TA|    CBlock|      TA|      TA|          No|         ALQ|       514|         Unf|         0|      341|        855|   GasA|       TA|         Y|     SBrkr|     855|     601|           0|     1456|           0|           0|       2|       1|           3|           1|         Gd|           6|       Typ|         1|         TA|    Attchd|         Unf|         2|       440|        TA|        TA|         Y|       173|          0|            0|        0|          0|       0|    NA|   NA|         NA|      0|     6|  2010|      WD|       Normal|\n",
      "|1475|       120|      RL|   2280|  Pave|   NA|     Reg|        Lvl|   AllPub|      FR2|      Gtl|     NPkVill|      Norm|      Norm|   Twnhs|    1Story|          7|          6|     1975|        1975|    Gable| CompShg|    Plywood|    Brk Cmn|      None|       TA|       TA|    CBlock|      Gd|      TA|          No|         Unf|         0|         Unf|         0|      836|        836|   GasA|       Ex|         Y|     SBrkr|     836|       0|           0|      836|           0|           0|       1|       0|           2|           1|         TA|           4|       Typ|         0|         NA|    Attchd|         Unf|         1|       308|        TA|        TA|         Y|         0|         30|            0|        0|          0|       0|    NA|   NA|         NA|      0|     6|  2010|      WD|       Normal|\n",
      "|1476|        60|      RL|  12858|  Pave|   NA|     IR1|        Lvl|   AllPub|   Inside|      Gtl|     NridgHt|      Norm|      Norm|    1Fam|    2Story|          9|          5|     2009|        2010|    Gable| CompShg|    VinylSd|    VinylSd|     Stone|       Ex|       TA|     PConc|      Ex|      TA|          No|         Unf|         0|         Unf|         0|     1590|       1590|   GasA|       Ex|         Y|     SBrkr|    1627|     707|           0|     2334|           0|           0|       2|       1|           3|           1|         Ex|          10|       Typ|         1|         Gd|    Attchd|         Fin|         3|       751|        TA|        TA|         Y|       144|        133|            0|        0|          0|       0|    NA|   NA|         NA|      0|     1|  2010|     New|      Partial|\n",
      "|1477|        20|      RL|  12883|  Pave|   NA|     IR1|        Lvl|   AllPub|   Corner|      Gtl|     NridgHt|      Norm|      Norm|    1Fam|    1Story|          8|          5|     2009|        2010|    Gable| CompShg|    VinylSd|    VinylSd|     Stone|       Gd|       TA|     PConc|      Gd|      TA|          No|         Unf|         0|         Unf|         0|     1544|       1544|   GasA|       Ex|         Y|     SBrkr|    1544|       0|           0|     1544|           0|           0|       2|       0|           3|           1|         Gd|           7|       Typ|         0|         NA|    Attchd|         RFn|         3|       868|        TA|        TA|         Y|         0|         35|            0|        0|          0|       0|    NA|   NA|         NA|      0|     6|  2010|     New|      Partial|\n",
      "|1478|        20|      RL|  11520|  Pave|   NA|     Reg|        Lvl|   AllPub|   Inside|      Gtl|     NridgHt|      PosN|      Norm|    1Fam|    1Story|          9|          5|     2005|        2005|      Hip| CompShg|    VinylSd|    VinylSd|   BrkFace|       Gd|       TA|     PConc|      Ex|      TA|          No|         GLQ|       110|         Unf|         0|     1588|       1698|   GasA|       Ex|         Y|     SBrkr|    1698|       0|           0|     1698|           0|           0|       2|       0|           3|           1|         Ex|           7|       Typ|         1|         Gd|    Attchd|         Fin|         3|       730|        TA|        TA|         Y|       192|         74|            0|        0|          0|       0|    NA|   NA|         NA|      0|     6|  2010|      WD|       Normal|\n",
      "|1479|        20|      RL|  14122|  Pave|   NA|     IR1|        Lvl|   AllPub|   Inside|      Gtl|     NridgHt|      Norm|      Norm|    1Fam|    1Story|          8|          5|     2005|        2006|      Hip| CompShg|    CemntBd|    CmentBd|   BrkFace|       Gd|       TA|     PConc|      Ex|      TA|          No|         GLQ|        28|         Unf|         0|     1794|       1822|   GasA|       Ex|         Y|     SBrkr|    1822|       0|           0|     1822|           0|           0|       2|       0|           3|           1|         Ex|           8|       Typ|         1|         Gd|    Attchd|         RFn|         3|       678|        TA|        TA|         Y|         0|        119|            0|        0|          0|       0|    NA|   NA|         NA|      0|     2|  2010|      WD|       Normal|\n",
      "|1480|        20|      RL|  14300|  Pave|   NA|     Reg|        HLS|   AllPub|   Inside|      Mod|     NridgHt|      Norm|      Norm|    1Fam|    1Story|          9|          5|     2003|        2004|      Hip| CompShg|    VinylSd|    VinylSd|   BrkFace|       Ex|       TA|     PConc|      Ex|      TA|          Gd|         GLQ|      1373|         Unf|         0|     1473|       2846|   GasA|       Ex|         Y|     SBrkr|    2696|       0|           0|     2696|           1|           0|       2|       1|           3|           1|         Ex|          10|       Typ|         2|         Gd|    Attchd|         Fin|         3|       958|        TA|        TA|         Y|       220|        150|            0|        0|          0|       0|    NA|   NA|         NA|      0|     6|  2010|      WD|       Normal|\n",
      "+----+----------+--------+-------+------+-----+--------+-----------+---------+---------+---------+------------+----------+----------+--------+----------+-----------+-----------+---------+------------+---------+--------+-----------+-----------+----------+---------+---------+----------+--------+--------+------------+------------+----------+------------+----------+---------+-----------+-------+---------+----------+----------+--------+--------+------------+---------+------------+------------+--------+--------+------------+------------+-----------+------------+----------+----------+-----------+----------+------------+----------+----------+----------+----------+----------+----------+-----------+-------------+---------+-----------+--------+------+-----+-----------+-------+------+------+--------+-------------+\n",
      "only showing top 20 rows\n",
      "\n"
     ]
    }
   ],
   "source": [
    "DF8.show()"
   ]
  },
  {
   "cell_type": "code",
   "execution_count": 23,
   "metadata": {
    "colab": {
     "base_uri": "https://localhost:8080/"
    },
    "executionInfo": {
     "elapsed": 1552,
     "status": "ok",
     "timestamp": 1659262093365,
     "user": {
      "displayName": "Prerna Waghray",
      "userId": "08074246852708739388"
     },
     "user_tz": -330
    },
    "id": "D0ShX7IL58BV",
    "outputId": "69147a73-4b10-47d2-9a7e-af817935a42b"
   },
   "outputs": [
    {
     "name": "stdout",
     "output_type": "stream",
     "text": [
      "+---+----------+--------+-------+------+-----+--------+-----------+---------+---------+---------+------------+----------+----------+--------+----------+-----------+-----------+---------+------------+---------+--------+-----------+-----------+----------+---------+---------+----------+--------+--------+------------+------------+----------+------------+----------+---------+-----------+-------+---------+----------+----------+--------+--------+------------+---------+------------+------------+--------+--------+------------+------------+-----------+------------+----------+----------+-----------+----------+------------+----------+----------+----------+----------+----------+----------+-----------+-------------+---------+-----------+--------+------+-----+-----------+-------+------+------+--------+-------------+\n",
      "| Id|MSSubClass|MSZoning|LotArea|Street|Alley|LotShape|LandContour|Utilities|LotConfig|LandSlope|Neighborhood|Condition1|Condition2|BldgType|HouseStyle|OverallQual|OverallCond|YearBuilt|YearRemodAdd|RoofStyle|RoofMatl|Exterior1st|Exterior2nd|MasVnrType|ExterQual|ExterCond|Foundation|BsmtQual|BsmtCond|BsmtExposure|BsmtFinType1|BsmtFinSF1|BsmtFinType2|BsmtFinSF2|BsmtUnfSF|TotalBsmtSF|Heating|HeatingQC|CentralAir|Electrical|1stFlrSF|2ndFlrSF|LowQualFinSF|GrLivArea|BsmtFullBath|BsmtHalfBath|FullBath|HalfBath|BedroomAbvGr|KitchenAbvGr|KitchenQual|TotRmsAbvGrd|Functional|Fireplaces|FireplaceQu|GarageType|GarageFinish|GarageCars|GarageArea|GarageQual|GarageCond|PavedDrive|WoodDeckSF|OpenPorchSF|EnclosedPorch|3SsnPorch|ScreenPorch|PoolArea|PoolQC|Fence|MiscFeature|MiscVal|MoSold|YrSold|SaleType|SaleCondition|\n",
      "+---+----------+--------+-------+------+-----+--------+-----------+---------+---------+---------+------------+----------+----------+--------+----------+-----------+-----------+---------+------------+---------+--------+-----------+-----------+----------+---------+---------+----------+--------+--------+------------+------------+----------+------------+----------+---------+-----------+-------+---------+----------+----------+--------+--------+------------+---------+------------+------------+--------+--------+------------+------------+-----------+------------+----------+----------+-----------+----------+------------+----------+----------+----------+----------+----------+----------+-----------+-------------+---------+-----------+--------+------+-----+-----------+-------+------+------+--------+-------------+\n",
      "|  0|         0|       0|      0|     0|    0|       0|          0|        0|        0|        0|           0|         0|         0|       0|         0|          0|          0|        0|           0|        0|       0|          0|          0|         0|        0|        0|         0|       0|       0|           0|           0|         0|           0|         0|        0|          0|      0|        0|         0|         0|       0|       0|           0|        0|           0|           0|       0|       0|           0|           0|          0|           0|         0|         0|          0|         0|           0|         0|         0|         0|         0|         0|         0|          0|            0|        0|          0|       0|     0|    0|          0|      0|     0|     0|       0|            0|\n",
      "+---+----------+--------+-------+------+-----+--------+-----------+---------+---------+---------+------------+----------+----------+--------+----------+-----------+-----------+---------+------------+---------+--------+-----------+-----------+----------+---------+---------+----------+--------+--------+------------+------------+----------+------------+----------+---------+-----------+-------+---------+----------+----------+--------+--------+------------+---------+------------+------------+--------+--------+------------+------------+-----------+------------+----------+----------+-----------+----------+------------+----------+----------+----------+----------+----------+----------+-----------+-------------+---------+-----------+--------+------+-----+-----------+-------+------+------+--------+-------------+\n",
      "\n"
     ]
    }
   ],
   "source": [
    "# Checking for null values one last time - no null values found\n",
    "from pyspark.sql.functions import isnull, when, count, col\n",
    "DF8.select([count(when(isnull(c), c)).alias(c) for c in DF8.columns]).show()"
   ]
  },
  {
   "cell_type": "code",
   "execution_count": 24,
   "metadata": {
    "colab": {
     "base_uri": "https://localhost:8080/"
    },
    "executionInfo": {
     "elapsed": 1587,
     "status": "ok",
     "timestamp": 1659262097130,
     "user": {
      "displayName": "Prerna Waghray",
      "userId": "08074246852708739388"
     },
     "user_tz": -330
    },
    "id": "D7BH_n2B5750",
    "outputId": "94056c33-004c-4b8e-8ed7-c0526c78f2c7"
   },
   "outputs": [
    {
     "name": "stdout",
     "output_type": "stream",
     "text": [
      "+---+----------+--------+-------+------+-----+--------+-----------+---------+---------+---------+------------+----------+----------+--------+----------+-----------+-----------+---------+------------+---------+--------+-----------+-----------+----------+---------+---------+----------+--------+--------+------------+------------+----------+------------+----------+---------+-----------+-------+---------+----------+----------+--------+--------+------------+---------+------------+------------+--------+--------+------------+------------+-----------+------------+----------+----------+-----------+----------+------------+----------+----------+----------+----------+----------+----------+-----------+-------------+---------+-----------+--------+------+-----+-----------+-------+------+------+--------+-------------+-----+\n",
      "| Id|MSSubClass|MSZoning|LotArea|Street|Alley|LotShape|LandContour|Utilities|LotConfig|LandSlope|Neighborhood|Condition1|Condition2|BldgType|HouseStyle|OverallQual|OverallCond|YearBuilt|YearRemodAdd|RoofStyle|RoofMatl|Exterior1st|Exterior2nd|MasVnrType|ExterQual|ExterCond|Foundation|BsmtQual|BsmtCond|BsmtExposure|BsmtFinType1|BsmtFinSF1|BsmtFinType2|BsmtFinSF2|BsmtUnfSF|TotalBsmtSF|Heating|HeatingQC|CentralAir|Electrical|1stFlrSF|2ndFlrSF|LowQualFinSF|GrLivArea|BsmtFullBath|BsmtHalfBath|FullBath|HalfBath|BedroomAbvGr|KitchenAbvGr|KitchenQual|TotRmsAbvGrd|Functional|Fireplaces|FireplaceQu|GarageType|GarageFinish|GarageCars|GarageArea|GarageQual|GarageCond|PavedDrive|WoodDeckSF|OpenPorchSF|EnclosedPorch|3SsnPorch|ScreenPorch|PoolArea|PoolQC|Fence|MiscFeature|MiscVal|MoSold|YrSold|SaleType|SaleCondition|count|\n",
      "+---+----------+--------+-------+------+-----+--------+-----------+---------+---------+---------+------------+----------+----------+--------+----------+-----------+-----------+---------+------------+---------+--------+-----------+-----------+----------+---------+---------+----------+--------+--------+------------+------------+----------+------------+----------+---------+-----------+-------+---------+----------+----------+--------+--------+------------+---------+------------+------------+--------+--------+------------+------------+-----------+------------+----------+----------+-----------+----------+------------+----------+----------+----------+----------+----------+----------+-----------+-------------+---------+-----------+--------+------+-----+-----------+-------+------+------+--------+-------------+-----+\n",
      "+---+----------+--------+-------+------+-----+--------+-----------+---------+---------+---------+------------+----------+----------+--------+----------+-----------+-----------+---------+------------+---------+--------+-----------+-----------+----------+---------+---------+----------+--------+--------+------------+------------+----------+------------+----------+---------+-----------+-------+---------+----------+----------+--------+--------+------------+---------+------------+------------+--------+--------+------------+------------+-----------+------------+----------+----------+-----------+----------+------------+----------+----------+----------+----------+----------+----------+-----------+-------------+---------+-----------+--------+------+-----+-----------+-------+------+------+--------+-------------+-----+\n",
      "\n"
     ]
    }
   ],
   "source": [
    "# Checking for duplicate values - no duplicate values found\n",
    "DF8.groupBy(DF8.columns).count().filter(\"count > 1\").show()"
   ]
  },
  {
   "cell_type": "code",
   "execution_count": 25,
   "metadata": {
    "colab": {
     "base_uri": "https://localhost:8080/"
    },
    "executionInfo": {
     "elapsed": 5,
     "status": "ok",
     "timestamp": 1659262099137,
     "user": {
      "displayName": "Prerna Waghray",
      "userId": "08074246852708739388"
     },
     "user_tz": -330
    },
    "id": "nueVcXdvlHvf",
    "outputId": "87e4dc2f-7216-4f43-ee4a-862d327d7a54"
   },
   "outputs": [
    {
     "data": {
      "text/plain": [
       "['Id',\n",
       " 'MSSubClass',\n",
       " 'MSZoning',\n",
       " 'LotFrontage',\n",
       " 'LotArea',\n",
       " 'Street',\n",
       " 'Alley',\n",
       " 'LotShape',\n",
       " 'LandContour',\n",
       " 'Utilities',\n",
       " 'LotConfig',\n",
       " 'LandSlope',\n",
       " 'Neighborhood',\n",
       " 'Condition1',\n",
       " 'Condition2',\n",
       " 'BldgType',\n",
       " 'HouseStyle',\n",
       " 'OverallQual',\n",
       " 'OverallCond',\n",
       " 'YearBuilt',\n",
       " 'YearRemodAdd',\n",
       " 'RoofStyle',\n",
       " 'RoofMatl',\n",
       " 'Exterior1st',\n",
       " 'Exterior2nd',\n",
       " 'MasVnrType',\n",
       " 'MasVnrArea',\n",
       " 'ExterQual',\n",
       " 'ExterCond',\n",
       " 'Foundation',\n",
       " 'BsmtQual',\n",
       " 'BsmtCond',\n",
       " 'BsmtExposure',\n",
       " 'BsmtFinType1',\n",
       " 'BsmtFinSF1',\n",
       " 'BsmtFinType2',\n",
       " 'BsmtFinSF2',\n",
       " 'BsmtUnfSF',\n",
       " 'TotalBsmtSF',\n",
       " 'Heating',\n",
       " 'HeatingQC',\n",
       " 'CentralAir',\n",
       " 'Electrical',\n",
       " '1stFlrSF',\n",
       " '2ndFlrSF',\n",
       " 'LowQualFinSF',\n",
       " 'GrLivArea',\n",
       " 'BsmtFullBath',\n",
       " 'BsmtHalfBath',\n",
       " 'FullBath',\n",
       " 'HalfBath',\n",
       " 'BedroomAbvGr',\n",
       " 'KitchenAbvGr',\n",
       " 'KitchenQual',\n",
       " 'TotRmsAbvGrd',\n",
       " 'Functional',\n",
       " 'Fireplaces',\n",
       " 'FireplaceQu',\n",
       " 'GarageType',\n",
       " 'GarageYrBlt',\n",
       " 'GarageFinish',\n",
       " 'GarageCars',\n",
       " 'GarageArea',\n",
       " 'GarageQual',\n",
       " 'GarageCond',\n",
       " 'PavedDrive',\n",
       " 'WoodDeckSF',\n",
       " 'OpenPorchSF',\n",
       " 'EnclosedPorch',\n",
       " '3SsnPorch',\n",
       " 'ScreenPorch',\n",
       " 'PoolArea',\n",
       " 'PoolQC',\n",
       " 'Fence',\n",
       " 'MiscFeature',\n",
       " 'MiscVal',\n",
       " 'MoSold',\n",
       " 'YrSold',\n",
       " 'SaleType',\n",
       " 'SaleCondition']"
      ]
     },
     "execution_count": 25,
     "metadata": {},
     "output_type": "execute_result"
    }
   ],
   "source": [
    "DF.columns"
   ]
  },
  {
   "cell_type": "code",
   "execution_count": 26,
   "metadata": {
    "colab": {
     "base_uri": "https://localhost:8080/"
    },
    "executionInfo": {
     "elapsed": 13155,
     "status": "ok",
     "timestamp": 1659262114205,
     "user": {
      "displayName": "Prerna Waghray",
      "userId": "08074246852708739388"
     },
     "user_tz": -330
    },
    "id": "8fL3-j8si0Fx",
    "outputId": "95034b58-d66b-446a-9644-d8c68fba79f4"
   },
   "outputs": [
    {
     "name": "stderr",
     "output_type": "stream",
     "text": [
      "                                                                                \r"
     ]
    },
    {
     "data": {
      "text/plain": [
       "DataFrame[summary: string, Id: string, MSSubClass: string, MSZoning: string, LotFrontage: string, LotArea: string, Street: string, Alley: string, LotShape: string, LandContour: string, Utilities: string, LotConfig: string, LandSlope: string, Neighborhood: string, Condition1: string, Condition2: string, BldgType: string, HouseStyle: string, OverallQual: string, OverallCond: string, YearBuilt: string, YearRemodAdd: string, RoofStyle: string, RoofMatl: string, Exterior1st: string, Exterior2nd: string, MasVnrType: string, MasVnrArea: string, ExterQual: string, ExterCond: string, Foundation: string, BsmtQual: string, BsmtCond: string, BsmtExposure: string, BsmtFinType1: string, BsmtFinSF1: string, BsmtFinType2: string, BsmtFinSF2: string, BsmtUnfSF: string, TotalBsmtSF: string, Heating: string, HeatingQC: string, CentralAir: string, Electrical: string, 1stFlrSF: string, 2ndFlrSF: string, LowQualFinSF: string, GrLivArea: string, BsmtFullBath: string, BsmtHalfBath: string, FullBath: string, HalfBath: string, BedroomAbvGr: string, KitchenAbvGr: string, KitchenQual: string, TotRmsAbvGrd: string, Functional: string, Fireplaces: string, FireplaceQu: string, GarageType: string, GarageYrBlt: string, GarageFinish: string, GarageCars: string, GarageArea: string, GarageQual: string, GarageCond: string, PavedDrive: string, WoodDeckSF: string, OpenPorchSF: string, EnclosedPorch: string, 3SsnPorch: string, ScreenPorch: string, PoolArea: string, PoolQC: string, Fence: string, MiscFeature: string, MiscVal: string, MoSold: string, YrSold: string, SaleType: string, SaleCondition: string]"
      ]
     },
     "execution_count": 26,
     "metadata": {},
     "output_type": "execute_result"
    }
   ],
   "source": [
    "DF.summary()"
   ]
  },
  {
   "cell_type": "code",
   "execution_count": 27,
   "metadata": {
    "executionInfo": {
     "elapsed": 7,
     "status": "ok",
     "timestamp": 1659262114206,
     "user": {
      "displayName": "Prerna Waghray",
      "userId": "08074246852708739388"
     },
     "user_tz": -330
    },
    "id": "FVE1uyqFwAxo"
   },
   "outputs": [],
   "source": [
    "columnList = [item[0] for item in DF8.dtypes if item[1].startswith('string')]"
   ]
  },
  {
   "cell_type": "code",
   "execution_count": 28,
   "metadata": {
    "executionInfo": {
     "elapsed": 362,
     "status": "ok",
     "timestamp": 1659262119173,
     "user": {
      "displayName": "Prerna Waghray",
      "userId": "08074246852708739388"
     },
     "user_tz": -330
    },
    "id": "wRWjBA9byErW"
   },
   "outputs": [],
   "source": [
    "output_column_list = list(map(lambda x: x+\"_index\", columnList))"
   ]
  },
  {
   "cell_type": "code",
   "execution_count": 29,
   "metadata": {
    "executionInfo": {
     "elapsed": 2862,
     "status": "ok",
     "timestamp": 1659262126493,
     "user": {
      "displayName": "Prerna Waghray",
      "userId": "08074246852708739388"
     },
     "user_tz": -330
    },
    "id": "bwiK_gB9pJbG"
   },
   "outputs": [
    {
     "name": "stderr",
     "output_type": "stream",
     "text": [
      "\r",
      "[Stage 30:>                                                         (0 + 1) / 1]\r",
      "\r",
      "                                                                                \r"
     ]
    }
   ],
   "source": [
    "# String indexer\n",
    "from pyspark.ml.feature import StringIndexer, OneHotEncoder\n",
    "indexers = StringIndexer(inputCols=columnList, \n",
    "                         outputCols=output_column_list)\n",
    "strindexedDF = indexers.fit(DF8).transform(DF8)\n",
    "DF9 = strindexedDF.select(\"*\")"
   ]
  },
  {
   "cell_type": "code",
   "execution_count": 30,
   "metadata": {
    "colab": {
     "base_uri": "https://localhost:8080/"
    },
    "executionInfo": {
     "elapsed": 1227,
     "status": "ok",
     "timestamp": 1659262134902,
     "user": {
      "displayName": "Prerna Waghray",
      "userId": "08074246852708739388"
     },
     "user_tz": -330
    },
    "id": "CIIVgszgv2pa",
    "outputId": "3d77a174-773a-4fa5-d64c-1fb801cd1f45"
   },
   "outputs": [
    {
     "name": "stdout",
     "output_type": "stream",
     "text": [
      "+----+----------+--------+-------+------+-----+--------+-----------+---------+---------+---------+------------+----------+----------+--------+----------+-----------+-----------+---------+------------+---------+--------+-----------+-----------+----------+---------+---------+----------+--------+--------+------------+------------+----------+------------+----------+---------+-----------+-------+---------+----------+----------+--------+--------+------------+---------+------------+------------+--------+--------+------------+------------+-----------+------------+----------+----------+-----------+----------+------------+----------+----------+----------+----------+----------+----------+-----------+-------------+---------+-----------+--------+------+-----+-----------+-------+------+------+--------+-------------+--------------+------------+-----------+--------------+-----------------+---------------+---------------+---------------+------------------+----------------+----------------+--------------+----------------+---------------+--------------+-----------------+-----------------+----------------+---------------+---------------+----------------+--------------+--------------+------------------+------------------+----------------+------------------+----------------+---------------+-----------------+-------------+---------------+----------------+----------------+------------------+------------------+-----------------+----------------+-----------------+----------------+------------------+----------------+----------------+----------------+----------------+----------------+------------+-----------+-----------------+--------------+-------------------+\n",
      "|  Id|MSSubClass|MSZoning|LotArea|Street|Alley|LotShape|LandContour|Utilities|LotConfig|LandSlope|Neighborhood|Condition1|Condition2|BldgType|HouseStyle|OverallQual|OverallCond|YearBuilt|YearRemodAdd|RoofStyle|RoofMatl|Exterior1st|Exterior2nd|MasVnrType|ExterQual|ExterCond|Foundation|BsmtQual|BsmtCond|BsmtExposure|BsmtFinType1|BsmtFinSF1|BsmtFinType2|BsmtFinSF2|BsmtUnfSF|TotalBsmtSF|Heating|HeatingQC|CentralAir|Electrical|1stFlrSF|2ndFlrSF|LowQualFinSF|GrLivArea|BsmtFullBath|BsmtHalfBath|FullBath|HalfBath|BedroomAbvGr|KitchenAbvGr|KitchenQual|TotRmsAbvGrd|Functional|Fireplaces|FireplaceQu|GarageType|GarageFinish|GarageCars|GarageArea|GarageQual|GarageCond|PavedDrive|WoodDeckSF|OpenPorchSF|EnclosedPorch|3SsnPorch|ScreenPorch|PoolArea|PoolQC|Fence|MiscFeature|MiscVal|MoSold|YrSold|SaleType|SaleCondition|MSZoning_index|Street_index|Alley_index|LotShape_index|LandContour_index|Utilities_index|LotConfig_index|LandSlope_index|Neighborhood_index|Condition1_index|Condition2_index|BldgType_index|HouseStyle_index|RoofStyle_index|RoofMatl_index|Exterior1st_index|Exterior2nd_index|MasVnrType_index|ExterQual_index|ExterCond_index|Foundation_index|BsmtQual_index|BsmtCond_index|BsmtExposure_index|BsmtFinType1_index|BsmtFinSF1_index|BsmtFinType2_index|BsmtFinSF2_index|BsmtUnfSF_index|TotalBsmtSF_index|Heating_index|HeatingQC_index|CentralAir_index|Electrical_index|BsmtFullBath_index|BsmtHalfBath_index|KitchenQual_index|Functional_index|FireplaceQu_index|GarageType_index|GarageFinish_index|GarageCars_index|GarageArea_index|GarageQual_index|GarageCond_index|PavedDrive_index|PoolQC_index|Fence_index|MiscFeature_index|SaleType_index|SaleCondition_index|\n",
      "+----+----------+--------+-------+------+-----+--------+-----------+---------+---------+---------+------------+----------+----------+--------+----------+-----------+-----------+---------+------------+---------+--------+-----------+-----------+----------+---------+---------+----------+--------+--------+------------+------------+----------+------------+----------+---------+-----------+-------+---------+----------+----------+--------+--------+------------+---------+------------+------------+--------+--------+------------+------------+-----------+------------+----------+----------+-----------+----------+------------+----------+----------+----------+----------+----------+----------+-----------+-------------+---------+-----------+--------+------+-----+-----------+-------+------+------+--------+-------------+--------------+------------+-----------+--------------+-----------------+---------------+---------------+---------------+------------------+----------------+----------------+--------------+----------------+---------------+--------------+-----------------+-----------------+----------------+---------------+---------------+----------------+--------------+--------------+------------------+------------------+----------------+------------------+----------------+---------------+-----------------+-------------+---------------+----------------+----------------+------------------+------------------+-----------------+----------------+-----------------+----------------+------------------+----------------+----------------+----------------+----------------+----------------+------------+-----------+-----------------+--------------+-------------------+\n",
      "|1461|        20|      RH|  11622|  Pave|   NA|     Reg|        Lvl|   AllPub|   Inside|      Gtl|       NAmes|     Feedr|      Norm|    1Fam|    1Story|          5|          6|     1961|        1961|    Gable| CompShg|    VinylSd|    VinylSd|      None|       TA|       TA|    CBlock|      TA|      TA|          No|         Rec|       468|         LwQ|       144|      270|        882|   GasA|       TA|         Y|     SBrkr|     896|       0|           0|      896|           0|           0|       1|       0|           2|           1|         TA|           5|       Typ|         0|         NA|    Attchd|         Unf|         1|       730|        TA|        TA|         Y|       140|          0|            0|        0|        120|       0|    NA|MnPrv|         NA|      0|     6|  2010|      WD|       Normal|           4.0|         0.0|        0.0|           0.0|              0.0|            0.0|            0.0|            0.0|               0.0|             1.0|             0.0|           0.0|             0.0|            0.0|           0.0|              0.0|              0.0|             0.0|            0.0|            0.0|             1.0|           0.0|           0.0|               0.0|               3.0|            14.0|               3.0|             5.0|           44.0|             66.0|          0.0|            1.0|             0.0|             0.0|               0.0|               0.0|              0.0|             0.0|              0.0|             0.0|               0.0|             1.0|            79.0|             0.0|             0.0|             0.0|         0.0|        1.0|              0.0|           0.0|                0.0|\n",
      "|1462|        20|      RL|  14267|  Pave|   NA|     IR1|        Lvl|   AllPub|   Corner|      Gtl|       NAmes|      Norm|      Norm|    1Fam|    1Story|          6|          6|     1958|        1958|      Hip| CompShg|    Wd Sdng|    Wd Sdng|   BrkFace|       TA|       TA|    CBlock|      TA|      TA|          No|         ALQ|       923|         Unf|         0|      406|       1329|   GasA|       TA|         Y|     SBrkr|    1329|       0|           0|     1329|           0|           0|       1|       1|           3|           1|         Gd|           6|       Typ|         0|         NA|    Attchd|         Unf|         1|       312|        TA|        TA|         Y|       393|         36|            0|        0|          0|       0|    NA|   NA|       Gar2|  12500|     6|  2010|      WD|       Normal|           0.0|         0.0|        0.0|           1.0|              0.0|            0.0|            1.0|            0.0|               0.0|             0.0|             0.0|           0.0|             0.0|            1.0|           0.0|              3.0|              3.0|             1.0|            0.0|            0.0|             1.0|           0.0|           0.0|               0.0|               2.0|           210.0|               0.0|             0.0|          594.0|            189.0|          0.0|            1.0|             0.0|             0.0|               0.0|               0.0|              1.0|             0.0|              0.0|             0.0|               0.0|             1.0|            20.0|             0.0|             0.0|             0.0|         0.0|        0.0|              2.0|           0.0|                0.0|\n",
      "|1463|        60|      RL|  13830|  Pave|   NA|     IR1|        Lvl|   AllPub|   Inside|      Gtl|     Gilbert|      Norm|      Norm|    1Fam|    2Story|          5|          5|     1997|        1998|    Gable| CompShg|    VinylSd|    VinylSd|      None|       TA|       TA|     PConc|      Gd|      TA|          No|         GLQ|       791|         Unf|         0|      137|        928|   GasA|       Gd|         Y|     SBrkr|     928|     701|           0|     1629|           0|           0|       2|       1|           3|           1|         TA|           6|       Typ|         1|         TA|    Attchd|         Fin|         2|       482|        TA|        TA|         Y|       212|         34|            0|        0|          0|       0|    NA|MnPrv|         NA|      0|     3|  2010|      WD|       Normal|           0.0|         0.0|        0.0|           1.0|              0.0|            0.0|            0.0|            0.0|               6.0|             0.0|             0.0|           0.0|             1.0|            0.0|           0.0|              0.0|              0.0|             0.0|            0.0|            0.0|             0.0|           1.0|           0.0|               0.0|               0.0|           191.0|               0.0|             0.0|          146.0|             70.0|          0.0|            2.0|             0.0|             0.0|               0.0|               0.0|              0.0|             0.0|              2.0|             0.0|               2.0|             0.0|            35.0|             0.0|             0.0|             0.0|         0.0|        1.0|              0.0|           0.0|                0.0|\n",
      "|1464|        60|      RL|   9978|  Pave|   NA|     IR1|        Lvl|   AllPub|   Inside|      Gtl|     Gilbert|      Norm|      Norm|    1Fam|    2Story|          6|          6|     1998|        1998|    Gable| CompShg|    VinylSd|    VinylSd|   BrkFace|       TA|       TA|     PConc|      TA|      TA|          No|         GLQ|       602|         Unf|         0|      324|        926|   GasA|       Ex|         Y|     SBrkr|     926|     678|           0|     1604|           0|           0|       2|       1|           3|           1|         Gd|           7|       Typ|         1|         Gd|    Attchd|         Fin|         2|       470|        TA|        TA|         Y|       360|         36|            0|        0|          0|       0|    NA|   NA|         NA|      0|     6|  2010|      WD|       Normal|           0.0|         0.0|        0.0|           1.0|              0.0|            0.0|            0.0|            0.0|               6.0|             0.0|             0.0|           0.0|             1.0|            0.0|           0.0|              0.0|              0.0|             1.0|            0.0|            0.0|             0.0|           0.0|           0.0|               0.0|               0.0|             3.0|               0.0|             0.0|           87.0|             38.0|          0.0|            0.0|             0.0|             0.0|               0.0|               0.0|              1.0|             0.0|              1.0|             0.0|               2.0|             0.0|            33.0|             0.0|             0.0|             0.0|         0.0|        0.0|              0.0|           0.0|                0.0|\n",
      "|1465|       120|      RL|   5005|  Pave|   NA|     IR1|        HLS|   AllPub|   Inside|      Gtl|     StoneBr|      Norm|      Norm|  TwnhsE|    1Story|          8|          5|     1992|        1992|    Gable| CompShg|    HdBoard|    HdBoard|      None|       Gd|       TA|     PConc|      Gd|      TA|          No|         ALQ|       263|         Unf|         0|     1017|       1280|   GasA|       Ex|         Y|     SBrkr|    1280|       0|           0|     1280|           0|           0|       2|       0|           2|           1|         Gd|           5|       Typ|         0|         NA|    Attchd|         RFn|         2|       506|        TA|        TA|         Y|         0|         82|            0|        0|        144|       0|    NA|   NA|         NA|      0|     1|  2010|      WD|       Normal|           0.0|         0.0|        0.0|           1.0|              1.0|            0.0|            0.0|            0.0|              16.0|             0.0|             0.0|           1.0|             0.0|            0.0|           0.0|              2.0|              2.0|             0.0|            1.0|            0.0|             0.0|           1.0|           0.0|               0.0|               2.0|           412.0|               0.0|             0.0|          131.0|             96.0|          0.0|            0.0|             0.0|             0.0|               0.0|               0.0|              1.0|             0.0|              0.0|             0.0|               1.0|             0.0|            13.0|             0.0|             0.0|             0.0|         0.0|        0.0|              0.0|           0.0|                0.0|\n",
      "|1466|        60|      RL|  10000|  Pave|   NA|     IR1|        Lvl|   AllPub|   Corner|      Gtl|     Gilbert|      Norm|      Norm|    1Fam|    2Story|          6|          5|     1993|        1994|    Gable| CompShg|    HdBoard|    HdBoard|      None|       TA|       TA|     PConc|      Gd|      TA|          No|         Unf|         0|         Unf|         0|      763|        763|   GasA|       Gd|         Y|     SBrkr|     763|     892|           0|     1655|           0|           0|       2|       1|           3|           1|         TA|           7|       Typ|         1|         TA|    Attchd|         Fin|         2|       440|        TA|        TA|         Y|       157|         84|            0|        0|          0|       0|    NA|   NA|         NA|      0|     4|  2010|      WD|       Normal|           0.0|         0.0|        0.0|           1.0|              0.0|            0.0|            1.0|            0.0|               6.0|             0.0|             0.0|           0.0|             1.0|            0.0|           0.0|              2.0|              2.0|             0.0|            0.0|            0.0|             0.0|           1.0|           0.0|               0.0|               1.0|             0.0|               0.0|             0.0|          268.0|            672.0|          0.0|            2.0|             0.0|             0.0|               0.0|               0.0|              0.0|             0.0|              2.0|             0.0|               2.0|             0.0|             2.0|             0.0|             0.0|             0.0|         0.0|        0.0|              0.0|           0.0|                0.0|\n",
      "|1467|        20|      RL|   7980|  Pave|   NA|     IR1|        Lvl|   AllPub|   Inside|      Gtl|     Gilbert|      Norm|      Norm|    1Fam|    1Story|          6|          7|     1992|        2007|    Gable| CompShg|    HdBoard|    HdBoard|      None|       TA|       Gd|     PConc|      Gd|      TA|          No|         ALQ|       935|         Unf|         0|      233|       1168|   GasA|       Ex|         Y|     SBrkr|    1187|       0|           0|     1187|           1|           0|       2|       0|           3|           1|         TA|           6|       Typ|         0|         NA|    Attchd|         Fin|         2|       420|        TA|        TA|         Y|       483|         21|            0|        0|          0|       0|    NA|GdPrv|       Shed|    500|     3|  2010|      WD|       Normal|           0.0|         0.0|        0.0|           1.0|              0.0|            0.0|            0.0|            0.0|               6.0|             0.0|             0.0|           0.0|             0.0|            0.0|           0.0|              2.0|              2.0|             0.0|            0.0|            1.0|             0.0|           1.0|           0.0|               0.0|               2.0|           647.0|               0.0|             0.0|          523.0|             20.0|          0.0|            0.0|             0.0|             0.0|               1.0|               0.0|              0.0|             0.0|              0.0|             0.0|               2.0|             0.0|            21.0|             0.0|             0.0|             0.0|         0.0|        2.0|              1.0|           0.0|                0.0|\n",
      "|1468|        60|      RL|   8402|  Pave|   NA|     IR1|        Lvl|   AllPub|   Inside|      Gtl|     Gilbert|      Norm|      Norm|    1Fam|    2Story|          6|          5|     1998|        1998|    Gable| CompShg|    VinylSd|    VinylSd|      None|       TA|       TA|     PConc|      Gd|      TA|          No|         Unf|         0|         Unf|         0|      789|        789|   GasA|       Gd|         Y|     SBrkr|     789|     676|           0|     1465|           0|           0|       2|       1|           3|           1|         TA|           7|       Typ|         1|         Gd|    Attchd|         Fin|         2|       393|        TA|        TA|         Y|         0|         75|            0|        0|          0|       0|    NA|   NA|         NA|      0|     5|  2010|      WD|       Normal|           0.0|         0.0|        0.0|           1.0|              0.0|            0.0|            0.0|            0.0|               6.0|             0.0|             0.0|           0.0|             1.0|            0.0|           0.0|              0.0|              0.0|             0.0|            0.0|            0.0|             0.0|           1.0|           0.0|               0.0|               1.0|             0.0|               0.0|             0.0|          272.0|            265.0|          0.0|            2.0|             0.0|             0.0|               0.0|               0.0|              0.0|             0.0|              1.0|             0.0|               2.0|             0.0|            64.0|             0.0|             0.0|             0.0|         0.0|        0.0|              0.0|           0.0|                0.0|\n",
      "|1469|        20|      RL|  10176|  Pave|   NA|     Reg|        Lvl|   AllPub|   Inside|      Gtl|     Gilbert|      Norm|      Norm|    1Fam|    1Story|          7|          5|     1990|        1990|    Gable| CompShg|    HdBoard|    HdBoard|      None|       TA|       TA|     PConc|      Gd|      TA|          Gd|         GLQ|       637|         Unf|         0|      663|       1300|   GasA|       Gd|         Y|     SBrkr|    1341|       0|           0|     1341|           1|           0|       1|       1|           2|           1|         Gd|           5|       Typ|         1|         Po|    Attchd|         Unf|         2|       506|        TA|        TA|         Y|       192|          0|            0|        0|          0|       0|    NA|   NA|         NA|      0|     2|  2010|      WD|       Normal|           0.0|         0.0|        0.0|           0.0|              0.0|            0.0|            0.0|            0.0|               6.0|             0.0|             0.0|           0.0|             0.0|            0.0|           0.0|              2.0|              2.0|             0.0|            0.0|            0.0|             0.0|           1.0|           0.0|               2.0|               0.0|            52.0|               0.0|             0.0|          254.0|            184.0|          0.0|            2.0|             0.0|             0.0|               1.0|               0.0|              1.0|             0.0|              4.0|             0.0|               0.0|             0.0|            13.0|             0.0|             0.0|             0.0|         0.0|        0.0|              0.0|           0.0|                0.0|\n",
      "|1470|        20|      RL|   8400|  Pave|   NA|     Reg|        Lvl|   AllPub|   Corner|      Gtl|       NAmes|      Norm|      Norm|    1Fam|    1Story|          4|          5|     1970|        1970|    Gable| CompShg|    Plywood|    Plywood|      None|       TA|       TA|    CBlock|      TA|      TA|          No|         ALQ|       804|         Rec|        78|        0|        882|   GasA|       TA|         Y|     SBrkr|     882|       0|           0|      882|           1|           0|       1|       0|           2|           1|         TA|           4|       Typ|         0|         NA|    Attchd|         Fin|         2|       525|        TA|        TA|         Y|       240|          0|            0|        0|          0|       0|    NA|MnPrv|         NA|      0|     4|  2010|      WD|       Normal|           0.0|         0.0|        0.0|           0.0|              0.0|            0.0|            1.0|            0.0|               0.0|             0.0|             0.0|           0.0|             0.0|            0.0|           0.0|              4.0|              4.0|             0.0|            0.0|            0.0|             1.0|           0.0|           0.0|               0.0|               2.0|           611.0|               1.0|           136.0|            0.0|             66.0|          0.0|            1.0|             0.0|             0.0|               1.0|               0.0|              0.0|             0.0|              0.0|             0.0|               2.0|             0.0|            19.0|             0.0|             0.0|             0.0|         0.0|        1.0|              0.0|           0.0|                0.0|\n",
      "|1471|       120|      RH|   5858|  Pave|   NA|     IR1|        Lvl|   AllPub|      FR2|      Gtl|       NAmes|      Norm|      Norm|  TwnhsE|    1Story|          7|          5|     1999|        1999|    Gable| CompShg|    MetalSd|    MetalSd|      None|       Gd|       TA|     PConc|      Gd|      TA|          No|         GLQ|      1051|         BLQ|         0|      354|       1405|   GasA|       Ex|         Y|     SBrkr|    1337|       0|           0|     1337|           1|           0|       2|       0|           2|           1|         Gd|           5|       Typ|         1|         Fa|    Attchd|         Fin|         2|       511|        TA|        TA|         Y|       203|         68|            0|        0|          0|       0|    NA|   NA|         NA|      0|     6|  2010|      WD|       Normal|           4.0|         0.0|        0.0|           1.0|              0.0|            0.0|            3.0|            0.0|               0.0|             0.0|             0.0|           1.0|             0.0|            0.0|           0.0|              1.0|              1.0|             0.0|            1.0|            0.0|             0.0|           1.0|           0.0|               0.0|               0.0|           241.0|               4.0|             0.0|          571.0|             51.0|          0.0|            0.0|             0.0|             0.0|               1.0|               0.0|              1.0|             0.0|              3.0|             0.0|               2.0|             0.0|           108.0|             0.0|             0.0|             0.0|         0.0|        0.0|              0.0|           0.0|                0.0|\n",
      "|1472|       160|      RM|   1680|  Pave|   NA|     Reg|        Lvl|   AllPub|   Inside|      Gtl|      BrDale|      Norm|      Norm|   Twnhs|    2Story|          6|          5|     1971|        1971|    Gable| CompShg|    HdBoard|    HdBoard|   BrkFace|       TA|       TA|    CBlock|      TA|      TA|          No|         Rec|       156|         Unf|         0|      327|        483|   GasA|       TA|         Y|     SBrkr|     483|     504|           0|      987|           0|           0|       1|       1|           2|           1|         TA|           5|       Typ|         0|         NA|    Detchd|         Unf|         1|       264|        TA|        TA|         Y|       275|          0|            0|        0|          0|       0|    NA|   NA|         NA|      0|     2|  2010|     COD|       Normal|           1.0|         0.0|        0.0|           0.0|              0.0|            0.0|            0.0|            0.0|              20.0|             0.0|             0.0|           3.0|             1.0|            0.0|           0.0|              2.0|              2.0|             1.0|            0.0|            0.0|             1.0|           0.0|           0.0|               0.0|               3.0|           351.0|               0.0|             0.0|          560.0|             21.0|          0.0|            1.0|             0.0|             0.0|               0.0|               0.0|              0.0|             0.0|              0.0|             1.0|               0.0|             1.0|             9.0|             0.0|             0.0|             0.0|         0.0|        0.0|              0.0|           2.0|                0.0|\n",
      "|1473|       160|      RM|   1680|  Pave|   NA|     Reg|        Lvl|   AllPub|   Inside|      Gtl|      BrDale|      Norm|      Norm|   Twnhs|    2Story|          5|          5|     1971|        1971|    Gable| CompShg|    HdBoard|    HdBoard|   BrkFace|       TA|       TA|    CBlock|      TA|      TA|          No|         Rec|       300|         Unf|         0|      225|        525|   GasA|       TA|         Y|     SBrkr|     525|     567|           0|     1092|           0|           0|       1|       1|           3|           1|         TA|           6|       Typ|         0|         NA|    Detchd|         Unf|         1|       320|        TA|        TA|         Y|         0|          0|            0|        0|          0|       0|    NA|   NA|         NA|      0|     3|  2010|      WD|       Normal|           1.0|         0.0|        0.0|           0.0|              0.0|            0.0|            0.0|            0.0|              20.0|             0.0|             0.0|           3.0|             1.0|            0.0|           0.0|              2.0|              2.0|             1.0|            0.0|            0.0|             1.0|           0.0|           0.0|               0.0|               3.0|             6.0|               0.0|             0.0|          521.0|             56.0|          0.0|            1.0|             0.0|             0.0|               0.0|               0.0|              0.0|             0.0|              0.0|             1.0|               0.0|             1.0|            46.0|             0.0|             0.0|             0.0|         0.0|        0.0|              0.0|           0.0|                0.0|\n",
      "|1474|       160|      RL|   2280|  Pave|   NA|     Reg|        Lvl|   AllPub|      FR2|      Gtl|     NPkVill|      Norm|      Norm|   Twnhs|    2Story|          6|          6|     1975|        1975|    Gable| CompShg|    Plywood|    Brk Cmn|      None|       TA|       TA|    CBlock|      TA|      TA|          No|         ALQ|       514|         Unf|         0|      341|        855|   GasA|       TA|         Y|     SBrkr|     855|     601|           0|     1456|           0|           0|       2|       1|           3|           1|         Gd|           6|       Typ|         1|         TA|    Attchd|         Unf|         2|       440|        TA|        TA|         Y|       173|          0|            0|        0|          0|       0|    NA|   NA|         NA|      0|     6|  2010|      WD|       Normal|           0.0|         0.0|        0.0|           0.0|              0.0|            0.0|            3.0|            0.0|              21.0|             0.0|             0.0|           3.0|             1.0|            0.0|           0.0|              4.0|             10.0|             0.0|            0.0|            0.0|             1.0|           0.0|           0.0|               0.0|               2.0|           514.0|               0.0|             0.0|          193.0|             35.0|          0.0|            1.0|             0.0|             0.0|               0.0|               0.0|              1.0|             0.0|              2.0|             0.0|               0.0|             0.0|             2.0|             0.0|             0.0|             0.0|         0.0|        0.0|              0.0|           0.0|                0.0|\n",
      "|1475|       120|      RL|   2280|  Pave|   NA|     Reg|        Lvl|   AllPub|      FR2|      Gtl|     NPkVill|      Norm|      Norm|   Twnhs|    1Story|          7|          6|     1975|        1975|    Gable| CompShg|    Plywood|    Brk Cmn|      None|       TA|       TA|    CBlock|      Gd|      TA|          No|         Unf|         0|         Unf|         0|      836|        836|   GasA|       Ex|         Y|     SBrkr|     836|       0|           0|      836|           0|           0|       1|       0|           2|           1|         TA|           4|       Typ|         0|         NA|    Attchd|         Unf|         1|       308|        TA|        TA|         Y|         0|         30|            0|        0|          0|       0|    NA|   NA|         NA|      0|     6|  2010|      WD|       Normal|           0.0|         0.0|        0.0|           0.0|              0.0|            0.0|            3.0|            0.0|              21.0|             0.0|             0.0|           3.0|             0.0|            0.0|           0.0|              4.0|             10.0|             0.0|            0.0|            0.0|             1.0|           1.0|           0.0|               0.0|               1.0|             0.0|               0.0|             0.0|          741.0|             33.0|          0.0|            0.0|             0.0|             0.0|               0.0|               0.0|              0.0|             0.0|              0.0|             0.0|               0.0|             1.0|             8.0|             0.0|             0.0|             0.0|         0.0|        0.0|              0.0|           0.0|                0.0|\n",
      "|1476|        60|      RL|  12858|  Pave|   NA|     IR1|        Lvl|   AllPub|   Inside|      Gtl|     NridgHt|      Norm|      Norm|    1Fam|    2Story|          9|          5|     2009|        2010|    Gable| CompShg|    VinylSd|    VinylSd|     Stone|       Ex|       TA|     PConc|      Ex|      TA|          No|         Unf|         0|         Unf|         0|     1590|       1590|   GasA|       Ex|         Y|     SBrkr|    1627|     707|           0|     2334|           0|           0|       2|       1|           3|           1|         Ex|          10|       Typ|         1|         Gd|    Attchd|         Fin|         3|       751|        TA|        TA|         Y|       144|        133|            0|        0|          0|       0|    NA|   NA|         NA|      0|     1|  2010|     New|      Partial|           0.0|         0.0|        0.0|           1.0|              0.0|            0.0|            0.0|            0.0|               5.0|             0.0|             0.0|           0.0|             1.0|            0.0|           0.0|              0.0|              0.0|             2.0|            2.0|            0.0|             0.0|           2.0|           0.0|               0.0|               1.0|             0.0|               0.0|             0.0|          454.0|            495.0|          0.0|            0.0|             0.0|             0.0|               0.0|               0.0|              2.0|             0.0|              1.0|             0.0|               2.0|             2.0|           210.0|             0.0|             0.0|             0.0|         0.0|        0.0|              0.0|           1.0|                1.0|\n",
      "|1477|        20|      RL|  12883|  Pave|   NA|     IR1|        Lvl|   AllPub|   Corner|      Gtl|     NridgHt|      Norm|      Norm|    1Fam|    1Story|          8|          5|     2009|        2010|    Gable| CompShg|    VinylSd|    VinylSd|     Stone|       Gd|       TA|     PConc|      Gd|      TA|          No|         Unf|         0|         Unf|         0|     1544|       1544|   GasA|       Ex|         Y|     SBrkr|    1544|       0|           0|     1544|           0|           0|       2|       0|           3|           1|         Gd|           7|       Typ|         0|         NA|    Attchd|         RFn|         3|       868|        TA|        TA|         Y|         0|         35|            0|        0|          0|       0|    NA|   NA|         NA|      0|     6|  2010|     New|      Partial|           0.0|         0.0|        0.0|           1.0|              0.0|            0.0|            1.0|            0.0|               5.0|             0.0|             0.0|           0.0|             0.0|            0.0|           0.0|              0.0|              0.0|             2.0|            1.0|            0.0|             0.0|           1.0|           0.0|               0.0|               1.0|             0.0|               0.0|             0.0|          444.0|            480.0|          0.0|            0.0|             0.0|             0.0|               0.0|               0.0|              1.0|             0.0|              0.0|             0.0|               1.0|             2.0|           434.0|             0.0|             0.0|             0.0|         0.0|        0.0|              0.0|           1.0|                1.0|\n",
      "|1478|        20|      RL|  11520|  Pave|   NA|     Reg|        Lvl|   AllPub|   Inside|      Gtl|     NridgHt|      PosN|      Norm|    1Fam|    1Story|          9|          5|     2005|        2005|      Hip| CompShg|    VinylSd|    VinylSd|   BrkFace|       Gd|       TA|     PConc|      Ex|      TA|          No|         GLQ|       110|         Unf|         0|     1588|       1698|   GasA|       Ex|         Y|     SBrkr|    1698|       0|           0|     1698|           0|           0|       2|       0|           3|           1|         Ex|           7|       Typ|         1|         Gd|    Attchd|         Fin|         3|       730|        TA|        TA|         Y|       192|         74|            0|        0|          0|       0|    NA|   NA|         NA|      0|     6|  2010|      WD|       Normal|           0.0|         0.0|        0.0|           0.0|              0.0|            0.0|            0.0|            0.0|               5.0|             4.0|             0.0|           0.0|             0.0|            1.0|           0.0|              0.0|              0.0|             1.0|            1.0|            0.0|             0.0|           2.0|           0.0|               0.0|               0.0|            26.0|               0.0|             0.0|          453.0|            522.0|          0.0|            0.0|             0.0|             0.0|               0.0|               0.0|              2.0|             0.0|              1.0|             0.0|               2.0|             2.0|            79.0|             0.0|             0.0|             0.0|         0.0|        0.0|              0.0|           0.0|                0.0|\n",
      "|1479|        20|      RL|  14122|  Pave|   NA|     IR1|        Lvl|   AllPub|   Inside|      Gtl|     NridgHt|      Norm|      Norm|    1Fam|    1Story|          8|          5|     2005|        2006|      Hip| CompShg|    CemntBd|    CmentBd|   BrkFace|       Gd|       TA|     PConc|      Ex|      TA|          No|         GLQ|        28|         Unf|         0|     1794|       1822|   GasA|       Ex|         Y|     SBrkr|    1822|       0|           0|     1822|           0|           0|       2|       0|           3|           1|         Ex|           8|       Typ|         1|         Gd|    Attchd|         RFn|         3|       678|        TA|        TA|         Y|         0|        119|            0|        0|          0|       0|    NA|   NA|         NA|      0|     2|  2010|      WD|       Normal|           0.0|         0.0|        0.0|           1.0|              0.0|            0.0|            0.0|            0.0|               5.0|             0.0|             0.0|           0.0|             0.0|            1.0|           0.0|              5.0|              5.0|             1.0|            1.0|            0.0|             0.0|           2.0|           0.0|               0.0|               0.0|           103.0|               0.0|             0.0|          493.0|            232.0|          0.0|            0.0|             0.0|             0.0|               0.0|               0.0|              2.0|             0.0|              1.0|             0.0|               1.0|             2.0|           129.0|             0.0|             0.0|             0.0|         0.0|        0.0|              0.0|           0.0|                0.0|\n",
      "|1480|        20|      RL|  14300|  Pave|   NA|     Reg|        HLS|   AllPub|   Inside|      Mod|     NridgHt|      Norm|      Norm|    1Fam|    1Story|          9|          5|     2003|        2004|      Hip| CompShg|    VinylSd|    VinylSd|   BrkFace|       Ex|       TA|     PConc|      Ex|      TA|          Gd|         GLQ|      1373|         Unf|         0|     1473|       2846|   GasA|       Ex|         Y|     SBrkr|    2696|       0|           0|     2696|           1|           0|       2|       1|           3|           1|         Ex|          10|       Typ|         2|         Gd|    Attchd|         Fin|         3|       958|        TA|        TA|         Y|       220|        150|            0|        0|          0|       0|    NA|   NA|         NA|      0|     6|  2010|      WD|       Normal|           0.0|         0.0|        0.0|           0.0|              1.0|            0.0|            0.0|            1.0|               5.0|             0.0|             0.0|           0.0|             0.0|            1.0|           0.0|              0.0|              0.0|             1.0|            2.0|            0.0|             0.0|           2.0|           0.0|               2.0|               0.0|            79.0|               0.0|             0.0|          430.0|            603.0|          0.0|            0.0|             0.0|             0.0|               1.0|               0.0|              2.0|             0.0|              1.0|             0.0|               2.0|             2.0|           453.0|             0.0|             0.0|             0.0|         0.0|        0.0|              0.0|           0.0|                0.0|\n",
      "+----+----------+--------+-------+------+-----+--------+-----------+---------+---------+---------+------------+----------+----------+--------+----------+-----------+-----------+---------+------------+---------+--------+-----------+-----------+----------+---------+---------+----------+--------+--------+------------+------------+----------+------------+----------+---------+-----------+-------+---------+----------+----------+--------+--------+------------+---------+------------+------------+--------+--------+------------+------------+-----------+------------+----------+----------+-----------+----------+------------+----------+----------+----------+----------+----------+----------+-----------+-------------+---------+-----------+--------+------+-----+-----------+-------+------+------+--------+-------------+--------------+------------+-----------+--------------+-----------------+---------------+---------------+---------------+------------------+----------------+----------------+--------------+----------------+---------------+--------------+-----------------+-----------------+----------------+---------------+---------------+----------------+--------------+--------------+------------------+------------------+----------------+------------------+----------------+---------------+-----------------+-------------+---------------+----------------+----------------+------------------+------------------+-----------------+----------------+-----------------+----------------+------------------+----------------+----------------+----------------+----------------+----------------+------------+-----------+-----------------+--------------+-------------------+\n",
      "only showing top 20 rows\n",
      "\n"
     ]
    }
   ],
   "source": [
    "DF9.show()"
   ]
  },
  {
   "cell_type": "code",
   "execution_count": 31,
   "metadata": {
    "executionInfo": {
     "elapsed": 3,
     "status": "ok",
     "timestamp": 1659262136932,
     "user": {
      "displayName": "Prerna Waghray",
      "userId": "08074246852708739388"
     },
     "user_tz": -330
    },
    "id": "FZqXdalI9KxJ"
   },
   "outputs": [],
   "source": [
    "# Dropping columns post String Indexing\n",
    "DF10 = DF9.drop(*columnList)"
   ]
  },
  {
   "cell_type": "code",
   "execution_count": 32,
   "metadata": {
    "colab": {
     "base_uri": "https://localhost:8080/"
    },
    "executionInfo": {
     "elapsed": 4,
     "status": "ok",
     "timestamp": 1659262138911,
     "user": {
      "displayName": "Prerna Waghray",
      "userId": "08074246852708739388"
     },
     "user_tz": -330
    },
    "id": "1Td2NNiC-EeU",
    "outputId": "3484a27c-5387-4a0f-a022-6c393bc64872"
   },
   "outputs": [
    {
     "name": "stdout",
     "output_type": "stream",
     "text": [
      "root\n",
      " |-- Id: integer (nullable = true)\n",
      " |-- MSSubClass: integer (nullable = true)\n",
      " |-- LotArea: integer (nullable = true)\n",
      " |-- OverallQual: integer (nullable = true)\n",
      " |-- OverallCond: integer (nullable = true)\n",
      " |-- YearBuilt: integer (nullable = true)\n",
      " |-- YearRemodAdd: integer (nullable = true)\n",
      " |-- 1stFlrSF: integer (nullable = true)\n",
      " |-- 2ndFlrSF: integer (nullable = true)\n",
      " |-- LowQualFinSF: integer (nullable = true)\n",
      " |-- GrLivArea: integer (nullable = true)\n",
      " |-- FullBath: integer (nullable = true)\n",
      " |-- HalfBath: integer (nullable = true)\n",
      " |-- BedroomAbvGr: integer (nullable = true)\n",
      " |-- KitchenAbvGr: integer (nullable = true)\n",
      " |-- TotRmsAbvGrd: integer (nullable = true)\n",
      " |-- Fireplaces: integer (nullable = true)\n",
      " |-- WoodDeckSF: integer (nullable = true)\n",
      " |-- OpenPorchSF: integer (nullable = true)\n",
      " |-- EnclosedPorch: integer (nullable = true)\n",
      " |-- 3SsnPorch: integer (nullable = true)\n",
      " |-- ScreenPorch: integer (nullable = true)\n",
      " |-- PoolArea: integer (nullable = true)\n",
      " |-- MiscVal: integer (nullable = true)\n",
      " |-- MoSold: integer (nullable = true)\n",
      " |-- YrSold: integer (nullable = true)\n",
      " |-- MSZoning_index: double (nullable = false)\n",
      " |-- Street_index: double (nullable = false)\n",
      " |-- Alley_index: double (nullable = false)\n",
      " |-- LotShape_index: double (nullable = false)\n",
      " |-- LandContour_index: double (nullable = false)\n",
      " |-- Utilities_index: double (nullable = false)\n",
      " |-- LotConfig_index: double (nullable = false)\n",
      " |-- LandSlope_index: double (nullable = false)\n",
      " |-- Neighborhood_index: double (nullable = false)\n",
      " |-- Condition1_index: double (nullable = false)\n",
      " |-- Condition2_index: double (nullable = false)\n",
      " |-- BldgType_index: double (nullable = false)\n",
      " |-- HouseStyle_index: double (nullable = false)\n",
      " |-- RoofStyle_index: double (nullable = false)\n",
      " |-- RoofMatl_index: double (nullable = false)\n",
      " |-- Exterior1st_index: double (nullable = false)\n",
      " |-- Exterior2nd_index: double (nullable = false)\n",
      " |-- MasVnrType_index: double (nullable = false)\n",
      " |-- ExterQual_index: double (nullable = false)\n",
      " |-- ExterCond_index: double (nullable = false)\n",
      " |-- Foundation_index: double (nullable = false)\n",
      " |-- BsmtQual_index: double (nullable = false)\n",
      " |-- BsmtCond_index: double (nullable = false)\n",
      " |-- BsmtExposure_index: double (nullable = false)\n",
      " |-- BsmtFinType1_index: double (nullable = false)\n",
      " |-- BsmtFinSF1_index: double (nullable = false)\n",
      " |-- BsmtFinType2_index: double (nullable = false)\n",
      " |-- BsmtFinSF2_index: double (nullable = false)\n",
      " |-- BsmtUnfSF_index: double (nullable = false)\n",
      " |-- TotalBsmtSF_index: double (nullable = false)\n",
      " |-- Heating_index: double (nullable = false)\n",
      " |-- HeatingQC_index: double (nullable = false)\n",
      " |-- CentralAir_index: double (nullable = false)\n",
      " |-- Electrical_index: double (nullable = false)\n",
      " |-- BsmtFullBath_index: double (nullable = false)\n",
      " |-- BsmtHalfBath_index: double (nullable = false)\n",
      " |-- KitchenQual_index: double (nullable = false)\n",
      " |-- Functional_index: double (nullable = false)\n",
      " |-- FireplaceQu_index: double (nullable = false)\n",
      " |-- GarageType_index: double (nullable = false)\n",
      " |-- GarageFinish_index: double (nullable = false)\n",
      " |-- GarageCars_index: double (nullable = false)\n",
      " |-- GarageArea_index: double (nullable = false)\n",
      " |-- GarageQual_index: double (nullable = false)\n",
      " |-- GarageCond_index: double (nullable = false)\n",
      " |-- PavedDrive_index: double (nullable = false)\n",
      " |-- PoolQC_index: double (nullable = false)\n",
      " |-- Fence_index: double (nullable = false)\n",
      " |-- MiscFeature_index: double (nullable = false)\n",
      " |-- SaleType_index: double (nullable = false)\n",
      " |-- SaleCondition_index: double (nullable = false)\n",
      "\n"
     ]
    }
   ],
   "source": [
    "DF10.printSchema()"
   ]
  },
  {
   "cell_type": "code",
   "execution_count": 33,
   "metadata": {
    "colab": {
     "base_uri": "https://localhost:8080/"
    },
    "executionInfo": {
     "elapsed": 997,
     "status": "ok",
     "timestamp": 1659262141736,
     "user": {
      "displayName": "Prerna Waghray",
      "userId": "08074246852708739388"
     },
     "user_tz": -330
    },
    "id": "uUXVj4td-Qxk",
    "outputId": "ac6ba791-a49f-4de6-d39c-33ae98313975"
   },
   "outputs": [
    {
     "name": "stdout",
     "output_type": "stream",
     "text": [
      "+----+----------+-------+-----------+-----------+---------+------------+--------+--------+------------+---------+--------+--------+------------+------------+------------+----------+----------+-----------+-------------+---------+-----------+--------+-------+------+------+--------------+------------+-----------+--------------+-----------------+---------------+---------------+---------------+------------------+----------------+----------------+--------------+----------------+---------------+--------------+-----------------+-----------------+----------------+---------------+---------------+----------------+--------------+--------------+------------------+------------------+----------------+------------------+----------------+---------------+-----------------+-------------+---------------+----------------+----------------+------------------+------------------+-----------------+----------------+-----------------+----------------+------------------+----------------+----------------+----------------+----------------+----------------+------------+-----------+-----------------+--------------+-------------------+\n",
      "|  Id|MSSubClass|LotArea|OverallQual|OverallCond|YearBuilt|YearRemodAdd|1stFlrSF|2ndFlrSF|LowQualFinSF|GrLivArea|FullBath|HalfBath|BedroomAbvGr|KitchenAbvGr|TotRmsAbvGrd|Fireplaces|WoodDeckSF|OpenPorchSF|EnclosedPorch|3SsnPorch|ScreenPorch|PoolArea|MiscVal|MoSold|YrSold|MSZoning_index|Street_index|Alley_index|LotShape_index|LandContour_index|Utilities_index|LotConfig_index|LandSlope_index|Neighborhood_index|Condition1_index|Condition2_index|BldgType_index|HouseStyle_index|RoofStyle_index|RoofMatl_index|Exterior1st_index|Exterior2nd_index|MasVnrType_index|ExterQual_index|ExterCond_index|Foundation_index|BsmtQual_index|BsmtCond_index|BsmtExposure_index|BsmtFinType1_index|BsmtFinSF1_index|BsmtFinType2_index|BsmtFinSF2_index|BsmtUnfSF_index|TotalBsmtSF_index|Heating_index|HeatingQC_index|CentralAir_index|Electrical_index|BsmtFullBath_index|BsmtHalfBath_index|KitchenQual_index|Functional_index|FireplaceQu_index|GarageType_index|GarageFinish_index|GarageCars_index|GarageArea_index|GarageQual_index|GarageCond_index|PavedDrive_index|PoolQC_index|Fence_index|MiscFeature_index|SaleType_index|SaleCondition_index|\n",
      "+----+----------+-------+-----------+-----------+---------+------------+--------+--------+------------+---------+--------+--------+------------+------------+------------+----------+----------+-----------+-------------+---------+-----------+--------+-------+------+------+--------------+------------+-----------+--------------+-----------------+---------------+---------------+---------------+------------------+----------------+----------------+--------------+----------------+---------------+--------------+-----------------+-----------------+----------------+---------------+---------------+----------------+--------------+--------------+------------------+------------------+----------------+------------------+----------------+---------------+-----------------+-------------+---------------+----------------+----------------+------------------+------------------+-----------------+----------------+-----------------+----------------+------------------+----------------+----------------+----------------+----------------+----------------+------------+-----------+-----------------+--------------+-------------------+\n",
      "|1461|        20|  11622|          5|          6|     1961|        1961|     896|       0|           0|      896|       1|       0|           2|           1|           5|         0|       140|          0|            0|        0|        120|       0|      0|     6|  2010|           4.0|         0.0|        0.0|           0.0|              0.0|            0.0|            0.0|            0.0|               0.0|             1.0|             0.0|           0.0|             0.0|            0.0|           0.0|              0.0|              0.0|             0.0|            0.0|            0.0|             1.0|           0.0|           0.0|               0.0|               3.0|            14.0|               3.0|             5.0|           44.0|             66.0|          0.0|            1.0|             0.0|             0.0|               0.0|               0.0|              0.0|             0.0|              0.0|             0.0|               0.0|             1.0|            79.0|             0.0|             0.0|             0.0|         0.0|        1.0|              0.0|           0.0|                0.0|\n",
      "|1462|        20|  14267|          6|          6|     1958|        1958|    1329|       0|           0|     1329|       1|       1|           3|           1|           6|         0|       393|         36|            0|        0|          0|       0|  12500|     6|  2010|           0.0|         0.0|        0.0|           1.0|              0.0|            0.0|            1.0|            0.0|               0.0|             0.0|             0.0|           0.0|             0.0|            1.0|           0.0|              3.0|              3.0|             1.0|            0.0|            0.0|             1.0|           0.0|           0.0|               0.0|               2.0|           210.0|               0.0|             0.0|          594.0|            189.0|          0.0|            1.0|             0.0|             0.0|               0.0|               0.0|              1.0|             0.0|              0.0|             0.0|               0.0|             1.0|            20.0|             0.0|             0.0|             0.0|         0.0|        0.0|              2.0|           0.0|                0.0|\n",
      "|1463|        60|  13830|          5|          5|     1997|        1998|     928|     701|           0|     1629|       2|       1|           3|           1|           6|         1|       212|         34|            0|        0|          0|       0|      0|     3|  2010|           0.0|         0.0|        0.0|           1.0|              0.0|            0.0|            0.0|            0.0|               6.0|             0.0|             0.0|           0.0|             1.0|            0.0|           0.0|              0.0|              0.0|             0.0|            0.0|            0.0|             0.0|           1.0|           0.0|               0.0|               0.0|           191.0|               0.0|             0.0|          146.0|             70.0|          0.0|            2.0|             0.0|             0.0|               0.0|               0.0|              0.0|             0.0|              2.0|             0.0|               2.0|             0.0|            35.0|             0.0|             0.0|             0.0|         0.0|        1.0|              0.0|           0.0|                0.0|\n",
      "|1464|        60|   9978|          6|          6|     1998|        1998|     926|     678|           0|     1604|       2|       1|           3|           1|           7|         1|       360|         36|            0|        0|          0|       0|      0|     6|  2010|           0.0|         0.0|        0.0|           1.0|              0.0|            0.0|            0.0|            0.0|               6.0|             0.0|             0.0|           0.0|             1.0|            0.0|           0.0|              0.0|              0.0|             1.0|            0.0|            0.0|             0.0|           0.0|           0.0|               0.0|               0.0|             3.0|               0.0|             0.0|           87.0|             38.0|          0.0|            0.0|             0.0|             0.0|               0.0|               0.0|              1.0|             0.0|              1.0|             0.0|               2.0|             0.0|            33.0|             0.0|             0.0|             0.0|         0.0|        0.0|              0.0|           0.0|                0.0|\n",
      "|1465|       120|   5005|          8|          5|     1992|        1992|    1280|       0|           0|     1280|       2|       0|           2|           1|           5|         0|         0|         82|            0|        0|        144|       0|      0|     1|  2010|           0.0|         0.0|        0.0|           1.0|              1.0|            0.0|            0.0|            0.0|              16.0|             0.0|             0.0|           1.0|             0.0|            0.0|           0.0|              2.0|              2.0|             0.0|            1.0|            0.0|             0.0|           1.0|           0.0|               0.0|               2.0|           412.0|               0.0|             0.0|          131.0|             96.0|          0.0|            0.0|             0.0|             0.0|               0.0|               0.0|              1.0|             0.0|              0.0|             0.0|               1.0|             0.0|            13.0|             0.0|             0.0|             0.0|         0.0|        0.0|              0.0|           0.0|                0.0|\n",
      "|1466|        60|  10000|          6|          5|     1993|        1994|     763|     892|           0|     1655|       2|       1|           3|           1|           7|         1|       157|         84|            0|        0|          0|       0|      0|     4|  2010|           0.0|         0.0|        0.0|           1.0|              0.0|            0.0|            1.0|            0.0|               6.0|             0.0|             0.0|           0.0|             1.0|            0.0|           0.0|              2.0|              2.0|             0.0|            0.0|            0.0|             0.0|           1.0|           0.0|               0.0|               1.0|             0.0|               0.0|             0.0|          268.0|            672.0|          0.0|            2.0|             0.0|             0.0|               0.0|               0.0|              0.0|             0.0|              2.0|             0.0|               2.0|             0.0|             2.0|             0.0|             0.0|             0.0|         0.0|        0.0|              0.0|           0.0|                0.0|\n",
      "|1467|        20|   7980|          6|          7|     1992|        2007|    1187|       0|           0|     1187|       2|       0|           3|           1|           6|         0|       483|         21|            0|        0|          0|       0|    500|     3|  2010|           0.0|         0.0|        0.0|           1.0|              0.0|            0.0|            0.0|            0.0|               6.0|             0.0|             0.0|           0.0|             0.0|            0.0|           0.0|              2.0|              2.0|             0.0|            0.0|            1.0|             0.0|           1.0|           0.0|               0.0|               2.0|           647.0|               0.0|             0.0|          523.0|             20.0|          0.0|            0.0|             0.0|             0.0|               1.0|               0.0|              0.0|             0.0|              0.0|             0.0|               2.0|             0.0|            21.0|             0.0|             0.0|             0.0|         0.0|        2.0|              1.0|           0.0|                0.0|\n",
      "|1468|        60|   8402|          6|          5|     1998|        1998|     789|     676|           0|     1465|       2|       1|           3|           1|           7|         1|         0|         75|            0|        0|          0|       0|      0|     5|  2010|           0.0|         0.0|        0.0|           1.0|              0.0|            0.0|            0.0|            0.0|               6.0|             0.0|             0.0|           0.0|             1.0|            0.0|           0.0|              0.0|              0.0|             0.0|            0.0|            0.0|             0.0|           1.0|           0.0|               0.0|               1.0|             0.0|               0.0|             0.0|          272.0|            265.0|          0.0|            2.0|             0.0|             0.0|               0.0|               0.0|              0.0|             0.0|              1.0|             0.0|               2.0|             0.0|            64.0|             0.0|             0.0|             0.0|         0.0|        0.0|              0.0|           0.0|                0.0|\n",
      "|1469|        20|  10176|          7|          5|     1990|        1990|    1341|       0|           0|     1341|       1|       1|           2|           1|           5|         1|       192|          0|            0|        0|          0|       0|      0|     2|  2010|           0.0|         0.0|        0.0|           0.0|              0.0|            0.0|            0.0|            0.0|               6.0|             0.0|             0.0|           0.0|             0.0|            0.0|           0.0|              2.0|              2.0|             0.0|            0.0|            0.0|             0.0|           1.0|           0.0|               2.0|               0.0|            52.0|               0.0|             0.0|          254.0|            184.0|          0.0|            2.0|             0.0|             0.0|               1.0|               0.0|              1.0|             0.0|              4.0|             0.0|               0.0|             0.0|            13.0|             0.0|             0.0|             0.0|         0.0|        0.0|              0.0|           0.0|                0.0|\n",
      "|1470|        20|   8400|          4|          5|     1970|        1970|     882|       0|           0|      882|       1|       0|           2|           1|           4|         0|       240|          0|            0|        0|          0|       0|      0|     4|  2010|           0.0|         0.0|        0.0|           0.0|              0.0|            0.0|            1.0|            0.0|               0.0|             0.0|             0.0|           0.0|             0.0|            0.0|           0.0|              4.0|              4.0|             0.0|            0.0|            0.0|             1.0|           0.0|           0.0|               0.0|               2.0|           611.0|               1.0|           136.0|            0.0|             66.0|          0.0|            1.0|             0.0|             0.0|               1.0|               0.0|              0.0|             0.0|              0.0|             0.0|               2.0|             0.0|            19.0|             0.0|             0.0|             0.0|         0.0|        1.0|              0.0|           0.0|                0.0|\n",
      "|1471|       120|   5858|          7|          5|     1999|        1999|    1337|       0|           0|     1337|       2|       0|           2|           1|           5|         1|       203|         68|            0|        0|          0|       0|      0|     6|  2010|           4.0|         0.0|        0.0|           1.0|              0.0|            0.0|            3.0|            0.0|               0.0|             0.0|             0.0|           1.0|             0.0|            0.0|           0.0|              1.0|              1.0|             0.0|            1.0|            0.0|             0.0|           1.0|           0.0|               0.0|               0.0|           241.0|               4.0|             0.0|          571.0|             51.0|          0.0|            0.0|             0.0|             0.0|               1.0|               0.0|              1.0|             0.0|              3.0|             0.0|               2.0|             0.0|           108.0|             0.0|             0.0|             0.0|         0.0|        0.0|              0.0|           0.0|                0.0|\n",
      "|1472|       160|   1680|          6|          5|     1971|        1971|     483|     504|           0|      987|       1|       1|           2|           1|           5|         0|       275|          0|            0|        0|          0|       0|      0|     2|  2010|           1.0|         0.0|        0.0|           0.0|              0.0|            0.0|            0.0|            0.0|              20.0|             0.0|             0.0|           3.0|             1.0|            0.0|           0.0|              2.0|              2.0|             1.0|            0.0|            0.0|             1.0|           0.0|           0.0|               0.0|               3.0|           351.0|               0.0|             0.0|          560.0|             21.0|          0.0|            1.0|             0.0|             0.0|               0.0|               0.0|              0.0|             0.0|              0.0|             1.0|               0.0|             1.0|             9.0|             0.0|             0.0|             0.0|         0.0|        0.0|              0.0|           2.0|                0.0|\n",
      "|1473|       160|   1680|          5|          5|     1971|        1971|     525|     567|           0|     1092|       1|       1|           3|           1|           6|         0|         0|          0|            0|        0|          0|       0|      0|     3|  2010|           1.0|         0.0|        0.0|           0.0|              0.0|            0.0|            0.0|            0.0|              20.0|             0.0|             0.0|           3.0|             1.0|            0.0|           0.0|              2.0|              2.0|             1.0|            0.0|            0.0|             1.0|           0.0|           0.0|               0.0|               3.0|             6.0|               0.0|             0.0|          521.0|             56.0|          0.0|            1.0|             0.0|             0.0|               0.0|               0.0|              0.0|             0.0|              0.0|             1.0|               0.0|             1.0|            46.0|             0.0|             0.0|             0.0|         0.0|        0.0|              0.0|           0.0|                0.0|\n",
      "|1474|       160|   2280|          6|          6|     1975|        1975|     855|     601|           0|     1456|       2|       1|           3|           1|           6|         1|       173|          0|            0|        0|          0|       0|      0|     6|  2010|           0.0|         0.0|        0.0|           0.0|              0.0|            0.0|            3.0|            0.0|              21.0|             0.0|             0.0|           3.0|             1.0|            0.0|           0.0|              4.0|             10.0|             0.0|            0.0|            0.0|             1.0|           0.0|           0.0|               0.0|               2.0|           514.0|               0.0|             0.0|          193.0|             35.0|          0.0|            1.0|             0.0|             0.0|               0.0|               0.0|              1.0|             0.0|              2.0|             0.0|               0.0|             0.0|             2.0|             0.0|             0.0|             0.0|         0.0|        0.0|              0.0|           0.0|                0.0|\n",
      "|1475|       120|   2280|          7|          6|     1975|        1975|     836|       0|           0|      836|       1|       0|           2|           1|           4|         0|         0|         30|            0|        0|          0|       0|      0|     6|  2010|           0.0|         0.0|        0.0|           0.0|              0.0|            0.0|            3.0|            0.0|              21.0|             0.0|             0.0|           3.0|             0.0|            0.0|           0.0|              4.0|             10.0|             0.0|            0.0|            0.0|             1.0|           1.0|           0.0|               0.0|               1.0|             0.0|               0.0|             0.0|          741.0|             33.0|          0.0|            0.0|             0.0|             0.0|               0.0|               0.0|              0.0|             0.0|              0.0|             0.0|               0.0|             1.0|             8.0|             0.0|             0.0|             0.0|         0.0|        0.0|              0.0|           0.0|                0.0|\n",
      "|1476|        60|  12858|          9|          5|     2009|        2010|    1627|     707|           0|     2334|       2|       1|           3|           1|          10|         1|       144|        133|            0|        0|          0|       0|      0|     1|  2010|           0.0|         0.0|        0.0|           1.0|              0.0|            0.0|            0.0|            0.0|               5.0|             0.0|             0.0|           0.0|             1.0|            0.0|           0.0|              0.0|              0.0|             2.0|            2.0|            0.0|             0.0|           2.0|           0.0|               0.0|               1.0|             0.0|               0.0|             0.0|          454.0|            495.0|          0.0|            0.0|             0.0|             0.0|               0.0|               0.0|              2.0|             0.0|              1.0|             0.0|               2.0|             2.0|           210.0|             0.0|             0.0|             0.0|         0.0|        0.0|              0.0|           1.0|                1.0|\n",
      "|1477|        20|  12883|          8|          5|     2009|        2010|    1544|       0|           0|     1544|       2|       0|           3|           1|           7|         0|         0|         35|            0|        0|          0|       0|      0|     6|  2010|           0.0|         0.0|        0.0|           1.0|              0.0|            0.0|            1.0|            0.0|               5.0|             0.0|             0.0|           0.0|             0.0|            0.0|           0.0|              0.0|              0.0|             2.0|            1.0|            0.0|             0.0|           1.0|           0.0|               0.0|               1.0|             0.0|               0.0|             0.0|          444.0|            480.0|          0.0|            0.0|             0.0|             0.0|               0.0|               0.0|              1.0|             0.0|              0.0|             0.0|               1.0|             2.0|           434.0|             0.0|             0.0|             0.0|         0.0|        0.0|              0.0|           1.0|                1.0|\n",
      "|1478|        20|  11520|          9|          5|     2005|        2005|    1698|       0|           0|     1698|       2|       0|           3|           1|           7|         1|       192|         74|            0|        0|          0|       0|      0|     6|  2010|           0.0|         0.0|        0.0|           0.0|              0.0|            0.0|            0.0|            0.0|               5.0|             4.0|             0.0|           0.0|             0.0|            1.0|           0.0|              0.0|              0.0|             1.0|            1.0|            0.0|             0.0|           2.0|           0.0|               0.0|               0.0|            26.0|               0.0|             0.0|          453.0|            522.0|          0.0|            0.0|             0.0|             0.0|               0.0|               0.0|              2.0|             0.0|              1.0|             0.0|               2.0|             2.0|            79.0|             0.0|             0.0|             0.0|         0.0|        0.0|              0.0|           0.0|                0.0|\n",
      "|1479|        20|  14122|          8|          5|     2005|        2006|    1822|       0|           0|     1822|       2|       0|           3|           1|           8|         1|         0|        119|            0|        0|          0|       0|      0|     2|  2010|           0.0|         0.0|        0.0|           1.0|              0.0|            0.0|            0.0|            0.0|               5.0|             0.0|             0.0|           0.0|             0.0|            1.0|           0.0|              5.0|              5.0|             1.0|            1.0|            0.0|             0.0|           2.0|           0.0|               0.0|               0.0|           103.0|               0.0|             0.0|          493.0|            232.0|          0.0|            0.0|             0.0|             0.0|               0.0|               0.0|              2.0|             0.0|              1.0|             0.0|               1.0|             2.0|           129.0|             0.0|             0.0|             0.0|         0.0|        0.0|              0.0|           0.0|                0.0|\n",
      "|1480|        20|  14300|          9|          5|     2003|        2004|    2696|       0|           0|     2696|       2|       1|           3|           1|          10|         2|       220|        150|            0|        0|          0|       0|      0|     6|  2010|           0.0|         0.0|        0.0|           0.0|              1.0|            0.0|            0.0|            1.0|               5.0|             0.0|             0.0|           0.0|             0.0|            1.0|           0.0|              0.0|              0.0|             1.0|            2.0|            0.0|             0.0|           2.0|           0.0|               2.0|               0.0|            79.0|               0.0|             0.0|          430.0|            603.0|          0.0|            0.0|             0.0|             0.0|               1.0|               0.0|              2.0|             0.0|              1.0|             0.0|               2.0|             2.0|           453.0|             0.0|             0.0|             0.0|         0.0|        0.0|              0.0|           0.0|                0.0|\n",
      "+----+----------+-------+-----------+-----------+---------+------------+--------+--------+------------+---------+--------+--------+------------+------------+------------+----------+----------+-----------+-------------+---------+-----------+--------+-------+------+------+--------------+------------+-----------+--------------+-----------------+---------------+---------------+---------------+------------------+----------------+----------------+--------------+----------------+---------------+--------------+-----------------+-----------------+----------------+---------------+---------------+----------------+--------------+--------------+------------------+------------------+----------------+------------------+----------------+---------------+-----------------+-------------+---------------+----------------+----------------+------------------+------------------+-----------------+----------------+-----------------+----------------+------------------+----------------+----------------+----------------+----------------+----------------+------------+-----------+-----------------+--------------+-------------------+\n",
      "only showing top 20 rows\n",
      "\n"
     ]
    }
   ],
   "source": [
    "DF10.show()"
   ]
  },
  {
   "cell_type": "code",
   "execution_count": 34,
   "metadata": {
    "colab": {
     "base_uri": "https://localhost:8080/"
    },
    "executionInfo": {
     "elapsed": 369,
     "status": "ok",
     "timestamp": 1659262143739,
     "user": {
      "displayName": "Prerna Waghray",
      "userId": "08074246852708739388"
     },
     "user_tz": -330
    },
    "id": "EGKge-HS-9Tn",
    "outputId": "7703a977-0a00-474e-b687-3038fee194ad"
   },
   "outputs": [
    {
     "data": {
      "text/plain": [
       "['Id',\n",
       " 'MSSubClass',\n",
       " 'LotArea',\n",
       " 'OverallQual',\n",
       " 'OverallCond',\n",
       " 'YearBuilt',\n",
       " 'YearRemodAdd',\n",
       " '1stFlrSF',\n",
       " '2ndFlrSF',\n",
       " 'LowQualFinSF',\n",
       " 'GrLivArea',\n",
       " 'FullBath',\n",
       " 'HalfBath',\n",
       " 'BedroomAbvGr',\n",
       " 'KitchenAbvGr',\n",
       " 'TotRmsAbvGrd',\n",
       " 'Fireplaces',\n",
       " 'WoodDeckSF',\n",
       " 'OpenPorchSF',\n",
       " 'EnclosedPorch',\n",
       " '3SsnPorch',\n",
       " 'ScreenPorch',\n",
       " 'PoolArea',\n",
       " 'MiscVal',\n",
       " 'MoSold',\n",
       " 'YrSold',\n",
       " 'MSZoning_index',\n",
       " 'Street_index',\n",
       " 'Alley_index',\n",
       " 'LotShape_index',\n",
       " 'LandContour_index',\n",
       " 'Utilities_index',\n",
       " 'LotConfig_index',\n",
       " 'LandSlope_index',\n",
       " 'Neighborhood_index',\n",
       " 'Condition1_index',\n",
       " 'Condition2_index',\n",
       " 'BldgType_index',\n",
       " 'HouseStyle_index',\n",
       " 'RoofStyle_index',\n",
       " 'RoofMatl_index',\n",
       " 'Exterior1st_index',\n",
       " 'Exterior2nd_index',\n",
       " 'MasVnrType_index',\n",
       " 'ExterQual_index',\n",
       " 'ExterCond_index',\n",
       " 'Foundation_index',\n",
       " 'BsmtQual_index',\n",
       " 'BsmtCond_index',\n",
       " 'BsmtExposure_index',\n",
       " 'BsmtFinType1_index',\n",
       " 'BsmtFinSF1_index',\n",
       " 'BsmtFinType2_index',\n",
       " 'BsmtFinSF2_index',\n",
       " 'BsmtUnfSF_index',\n",
       " 'TotalBsmtSF_index',\n",
       " 'Heating_index',\n",
       " 'HeatingQC_index',\n",
       " 'CentralAir_index',\n",
       " 'Electrical_index',\n",
       " 'BsmtFullBath_index',\n",
       " 'BsmtHalfBath_index',\n",
       " 'KitchenQual_index',\n",
       " 'Functional_index',\n",
       " 'FireplaceQu_index',\n",
       " 'GarageType_index',\n",
       " 'GarageFinish_index',\n",
       " 'GarageCars_index',\n",
       " 'GarageArea_index',\n",
       " 'GarageQual_index',\n",
       " 'GarageCond_index',\n",
       " 'PavedDrive_index',\n",
       " 'PoolQC_index',\n",
       " 'Fence_index',\n",
       " 'MiscFeature_index',\n",
       " 'SaleType_index',\n",
       " 'SaleCondition_index']"
      ]
     },
     "execution_count": 34,
     "metadata": {},
     "output_type": "execute_result"
    }
   ],
   "source": [
    "DF10.columns"
   ]
  },
  {
   "cell_type": "code",
   "execution_count": 35,
   "metadata": {
    "executionInfo": {
     "elapsed": 3,
     "status": "ok",
     "timestamp": 1659262145690,
     "user": {
      "displayName": "Prerna Waghray",
      "userId": "08074246852708739388"
     },
     "user_tz": -330
    },
    "id": "RoBftjJy_Kv_"
   },
   "outputs": [],
   "source": [
    "input_cols = ['MSSubClass',\n",
    " 'LotArea',\n",
    " 'OverallQual',\n",
    " 'OverallCond',\n",
    " 'YearBuilt',\n",
    " 'YearRemodAdd',\n",
    " '1stFlrSF',\n",
    " '2ndFlrSF',\n",
    " 'LowQualFinSF',\n",
    " 'GrLivArea',\n",
    " 'FullBath',\n",
    " 'HalfBath',\n",
    " 'BedroomAbvGr',\n",
    " 'KitchenAbvGr',\n",
    " 'TotRmsAbvGrd',\n",
    " 'Fireplaces',\n",
    " 'WoodDeckSF',\n",
    " 'OpenPorchSF',\n",
    " 'EnclosedPorch',\n",
    " '3SsnPorch',\n",
    " 'ScreenPorch',\n",
    " 'PoolArea',\n",
    " 'MiscVal',\n",
    " 'MoSold',\n",
    " 'YrSold']"
   ]
  },
  {
   "cell_type": "code",
   "execution_count": 36,
   "metadata": {
    "executionInfo": {
     "elapsed": 3,
     "status": "ok",
     "timestamp": 1659262147218,
     "user": {
      "displayName": "Prerna Waghray",
      "userId": "08074246852708739388"
     },
     "user_tz": -330
    },
    "id": "p1jIcYrV_P70"
   },
   "outputs": [],
   "source": [
    "output_cols = list(map(lambda x: x+\"_scaled\", input_cols))"
   ]
  },
  {
   "cell_type": "code",
   "execution_count": 37,
   "metadata": {
    "executionInfo": {
     "elapsed": 6,
     "status": "ok",
     "timestamp": 1659262149020,
     "user": {
      "displayName": "Prerna Waghray",
      "userId": "08074246852708739388"
     },
     "user_tz": -330
    },
    "id": "mwl8uxoLB4fZ"
   },
   "outputs": [],
   "source": [
    "# Vectorizing the independent features\n",
    "from pyspark.ml.feature import VectorAssembler\n",
    "featureassembler=VectorAssembler(inputCols=input_cols,outputCol=\"Independent_Features\")"
   ]
  },
  {
   "cell_type": "code",
   "execution_count": 38,
   "metadata": {
    "executionInfo": {
     "elapsed": 631,
     "status": "ok",
     "timestamp": 1659262152681,
     "user": {
      "displayName": "Prerna Waghray",
      "userId": "08074246852708739388"
     },
     "user_tz": -330
    },
    "id": "uf07Ew5BB4SZ"
   },
   "outputs": [],
   "source": [
    "DF11 = featureassembler.transform(DF10)"
   ]
  },
  {
   "cell_type": "code",
   "execution_count": 39,
   "metadata": {
    "colab": {
     "base_uri": "https://localhost:8080/"
    },
    "executionInfo": {
     "elapsed": 1214,
     "status": "ok",
     "timestamp": 1659262156774,
     "user": {
      "displayName": "Prerna Waghray",
      "userId": "08074246852708739388"
     },
     "user_tz": -330
    },
    "id": "LiPsB5BbCj_b",
    "outputId": "40ffd36a-05f7-4580-a900-a5d6cf349c07"
   },
   "outputs": [
    {
     "name": "stdout",
     "output_type": "stream",
     "text": [
      "+----+----------+-------+-----------+-----------+---------+------------+--------+--------+------------+---------+--------+--------+------------+------------+------------+----------+----------+-----------+-------------+---------+-----------+--------+-------+------+------+--------------+------------+-----------+--------------+-----------------+---------------+---------------+---------------+------------------+----------------+----------------+--------------+----------------+---------------+--------------+-----------------+-----------------+----------------+---------------+---------------+----------------+--------------+--------------+------------------+------------------+----------------+------------------+----------------+---------------+-----------------+-------------+---------------+----------------+----------------+------------------+------------------+-----------------+----------------+-----------------+----------------+------------------+----------------+----------------+----------------+----------------+----------------+------------+-----------+-----------------+--------------+-------------------+--------------------+\n",
      "|  Id|MSSubClass|LotArea|OverallQual|OverallCond|YearBuilt|YearRemodAdd|1stFlrSF|2ndFlrSF|LowQualFinSF|GrLivArea|FullBath|HalfBath|BedroomAbvGr|KitchenAbvGr|TotRmsAbvGrd|Fireplaces|WoodDeckSF|OpenPorchSF|EnclosedPorch|3SsnPorch|ScreenPorch|PoolArea|MiscVal|MoSold|YrSold|MSZoning_index|Street_index|Alley_index|LotShape_index|LandContour_index|Utilities_index|LotConfig_index|LandSlope_index|Neighborhood_index|Condition1_index|Condition2_index|BldgType_index|HouseStyle_index|RoofStyle_index|RoofMatl_index|Exterior1st_index|Exterior2nd_index|MasVnrType_index|ExterQual_index|ExterCond_index|Foundation_index|BsmtQual_index|BsmtCond_index|BsmtExposure_index|BsmtFinType1_index|BsmtFinSF1_index|BsmtFinType2_index|BsmtFinSF2_index|BsmtUnfSF_index|TotalBsmtSF_index|Heating_index|HeatingQC_index|CentralAir_index|Electrical_index|BsmtFullBath_index|BsmtHalfBath_index|KitchenQual_index|Functional_index|FireplaceQu_index|GarageType_index|GarageFinish_index|GarageCars_index|GarageArea_index|GarageQual_index|GarageCond_index|PavedDrive_index|PoolQC_index|Fence_index|MiscFeature_index|SaleType_index|SaleCondition_index|Independent_Features|\n",
      "+----+----------+-------+-----------+-----------+---------+------------+--------+--------+------------+---------+--------+--------+------------+------------+------------+----------+----------+-----------+-------------+---------+-----------+--------+-------+------+------+--------------+------------+-----------+--------------+-----------------+---------------+---------------+---------------+------------------+----------------+----------------+--------------+----------------+---------------+--------------+-----------------+-----------------+----------------+---------------+---------------+----------------+--------------+--------------+------------------+------------------+----------------+------------------+----------------+---------------+-----------------+-------------+---------------+----------------+----------------+------------------+------------------+-----------------+----------------+-----------------+----------------+------------------+----------------+----------------+----------------+----------------+----------------+------------+-----------+-----------------+--------------+-------------------+--------------------+\n",
      "|1461|        20|  11622|          5|          6|     1961|        1961|     896|       0|           0|      896|       1|       0|           2|           1|           5|         0|       140|          0|            0|        0|        120|       0|      0|     6|  2010|           4.0|         0.0|        0.0|           0.0|              0.0|            0.0|            0.0|            0.0|               0.0|             1.0|             0.0|           0.0|             0.0|            0.0|           0.0|              0.0|              0.0|             0.0|            0.0|            0.0|             1.0|           0.0|           0.0|               0.0|               3.0|            14.0|               3.0|             5.0|           44.0|             66.0|          0.0|            1.0|             0.0|             0.0|               0.0|               0.0|              0.0|             0.0|              0.0|             0.0|               0.0|             1.0|            79.0|             0.0|             0.0|             0.0|         0.0|        1.0|              0.0|           0.0|                0.0|[20.0,11622.0,5.0...|\n",
      "|1462|        20|  14267|          6|          6|     1958|        1958|    1329|       0|           0|     1329|       1|       1|           3|           1|           6|         0|       393|         36|            0|        0|          0|       0|  12500|     6|  2010|           0.0|         0.0|        0.0|           1.0|              0.0|            0.0|            1.0|            0.0|               0.0|             0.0|             0.0|           0.0|             0.0|            1.0|           0.0|              3.0|              3.0|             1.0|            0.0|            0.0|             1.0|           0.0|           0.0|               0.0|               2.0|           210.0|               0.0|             0.0|          594.0|            189.0|          0.0|            1.0|             0.0|             0.0|               0.0|               0.0|              1.0|             0.0|              0.0|             0.0|               0.0|             1.0|            20.0|             0.0|             0.0|             0.0|         0.0|        0.0|              2.0|           0.0|                0.0|[20.0,14267.0,6.0...|\n",
      "|1463|        60|  13830|          5|          5|     1997|        1998|     928|     701|           0|     1629|       2|       1|           3|           1|           6|         1|       212|         34|            0|        0|          0|       0|      0|     3|  2010|           0.0|         0.0|        0.0|           1.0|              0.0|            0.0|            0.0|            0.0|               6.0|             0.0|             0.0|           0.0|             1.0|            0.0|           0.0|              0.0|              0.0|             0.0|            0.0|            0.0|             0.0|           1.0|           0.0|               0.0|               0.0|           191.0|               0.0|             0.0|          146.0|             70.0|          0.0|            2.0|             0.0|             0.0|               0.0|               0.0|              0.0|             0.0|              2.0|             0.0|               2.0|             0.0|            35.0|             0.0|             0.0|             0.0|         0.0|        1.0|              0.0|           0.0|                0.0|[60.0,13830.0,5.0...|\n",
      "|1464|        60|   9978|          6|          6|     1998|        1998|     926|     678|           0|     1604|       2|       1|           3|           1|           7|         1|       360|         36|            0|        0|          0|       0|      0|     6|  2010|           0.0|         0.0|        0.0|           1.0|              0.0|            0.0|            0.0|            0.0|               6.0|             0.0|             0.0|           0.0|             1.0|            0.0|           0.0|              0.0|              0.0|             1.0|            0.0|            0.0|             0.0|           0.0|           0.0|               0.0|               0.0|             3.0|               0.0|             0.0|           87.0|             38.0|          0.0|            0.0|             0.0|             0.0|               0.0|               0.0|              1.0|             0.0|              1.0|             0.0|               2.0|             0.0|            33.0|             0.0|             0.0|             0.0|         0.0|        0.0|              0.0|           0.0|                0.0|[60.0,9978.0,6.0,...|\n",
      "|1465|       120|   5005|          8|          5|     1992|        1992|    1280|       0|           0|     1280|       2|       0|           2|           1|           5|         0|         0|         82|            0|        0|        144|       0|      0|     1|  2010|           0.0|         0.0|        0.0|           1.0|              1.0|            0.0|            0.0|            0.0|              16.0|             0.0|             0.0|           1.0|             0.0|            0.0|           0.0|              2.0|              2.0|             0.0|            1.0|            0.0|             0.0|           1.0|           0.0|               0.0|               2.0|           412.0|               0.0|             0.0|          131.0|             96.0|          0.0|            0.0|             0.0|             0.0|               0.0|               0.0|              1.0|             0.0|              0.0|             0.0|               1.0|             0.0|            13.0|             0.0|             0.0|             0.0|         0.0|        0.0|              0.0|           0.0|                0.0|[120.0,5005.0,8.0...|\n",
      "|1466|        60|  10000|          6|          5|     1993|        1994|     763|     892|           0|     1655|       2|       1|           3|           1|           7|         1|       157|         84|            0|        0|          0|       0|      0|     4|  2010|           0.0|         0.0|        0.0|           1.0|              0.0|            0.0|            1.0|            0.0|               6.0|             0.0|             0.0|           0.0|             1.0|            0.0|           0.0|              2.0|              2.0|             0.0|            0.0|            0.0|             0.0|           1.0|           0.0|               0.0|               1.0|             0.0|               0.0|             0.0|          268.0|            672.0|          0.0|            2.0|             0.0|             0.0|               0.0|               0.0|              0.0|             0.0|              2.0|             0.0|               2.0|             0.0|             2.0|             0.0|             0.0|             0.0|         0.0|        0.0|              0.0|           0.0|                0.0|[60.0,10000.0,6.0...|\n",
      "|1467|        20|   7980|          6|          7|     1992|        2007|    1187|       0|           0|     1187|       2|       0|           3|           1|           6|         0|       483|         21|            0|        0|          0|       0|    500|     3|  2010|           0.0|         0.0|        0.0|           1.0|              0.0|            0.0|            0.0|            0.0|               6.0|             0.0|             0.0|           0.0|             0.0|            0.0|           0.0|              2.0|              2.0|             0.0|            0.0|            1.0|             0.0|           1.0|           0.0|               0.0|               2.0|           647.0|               0.0|             0.0|          523.0|             20.0|          0.0|            0.0|             0.0|             0.0|               1.0|               0.0|              0.0|             0.0|              0.0|             0.0|               2.0|             0.0|            21.0|             0.0|             0.0|             0.0|         0.0|        2.0|              1.0|           0.0|                0.0|[20.0,7980.0,6.0,...|\n",
      "|1468|        60|   8402|          6|          5|     1998|        1998|     789|     676|           0|     1465|       2|       1|           3|           1|           7|         1|         0|         75|            0|        0|          0|       0|      0|     5|  2010|           0.0|         0.0|        0.0|           1.0|              0.0|            0.0|            0.0|            0.0|               6.0|             0.0|             0.0|           0.0|             1.0|            0.0|           0.0|              0.0|              0.0|             0.0|            0.0|            0.0|             0.0|           1.0|           0.0|               0.0|               1.0|             0.0|               0.0|             0.0|          272.0|            265.0|          0.0|            2.0|             0.0|             0.0|               0.0|               0.0|              0.0|             0.0|              1.0|             0.0|               2.0|             0.0|            64.0|             0.0|             0.0|             0.0|         0.0|        0.0|              0.0|           0.0|                0.0|[60.0,8402.0,6.0,...|\n",
      "|1469|        20|  10176|          7|          5|     1990|        1990|    1341|       0|           0|     1341|       1|       1|           2|           1|           5|         1|       192|          0|            0|        0|          0|       0|      0|     2|  2010|           0.0|         0.0|        0.0|           0.0|              0.0|            0.0|            0.0|            0.0|               6.0|             0.0|             0.0|           0.0|             0.0|            0.0|           0.0|              2.0|              2.0|             0.0|            0.0|            0.0|             0.0|           1.0|           0.0|               2.0|               0.0|            52.0|               0.0|             0.0|          254.0|            184.0|          0.0|            2.0|             0.0|             0.0|               1.0|               0.0|              1.0|             0.0|              4.0|             0.0|               0.0|             0.0|            13.0|             0.0|             0.0|             0.0|         0.0|        0.0|              0.0|           0.0|                0.0|[20.0,10176.0,7.0...|\n",
      "|1470|        20|   8400|          4|          5|     1970|        1970|     882|       0|           0|      882|       1|       0|           2|           1|           4|         0|       240|          0|            0|        0|          0|       0|      0|     4|  2010|           0.0|         0.0|        0.0|           0.0|              0.0|            0.0|            1.0|            0.0|               0.0|             0.0|             0.0|           0.0|             0.0|            0.0|           0.0|              4.0|              4.0|             0.0|            0.0|            0.0|             1.0|           0.0|           0.0|               0.0|               2.0|           611.0|               1.0|           136.0|            0.0|             66.0|          0.0|            1.0|             0.0|             0.0|               1.0|               0.0|              0.0|             0.0|              0.0|             0.0|               2.0|             0.0|            19.0|             0.0|             0.0|             0.0|         0.0|        1.0|              0.0|           0.0|                0.0|(25,[0,1,2,3,4,5,...|\n",
      "|1471|       120|   5858|          7|          5|     1999|        1999|    1337|       0|           0|     1337|       2|       0|           2|           1|           5|         1|       203|         68|            0|        0|          0|       0|      0|     6|  2010|           4.0|         0.0|        0.0|           1.0|              0.0|            0.0|            3.0|            0.0|               0.0|             0.0|             0.0|           1.0|             0.0|            0.0|           0.0|              1.0|              1.0|             0.0|            1.0|            0.0|             0.0|           1.0|           0.0|               0.0|               0.0|           241.0|               4.0|             0.0|          571.0|             51.0|          0.0|            0.0|             0.0|             0.0|               1.0|               0.0|              1.0|             0.0|              3.0|             0.0|               2.0|             0.0|           108.0|             0.0|             0.0|             0.0|         0.0|        0.0|              0.0|           0.0|                0.0|[120.0,5858.0,7.0...|\n",
      "|1472|       160|   1680|          6|          5|     1971|        1971|     483|     504|           0|      987|       1|       1|           2|           1|           5|         0|       275|          0|            0|        0|          0|       0|      0|     2|  2010|           1.0|         0.0|        0.0|           0.0|              0.0|            0.0|            0.0|            0.0|              20.0|             0.0|             0.0|           3.0|             1.0|            0.0|           0.0|              2.0|              2.0|             1.0|            0.0|            0.0|             1.0|           0.0|           0.0|               0.0|               3.0|           351.0|               0.0|             0.0|          560.0|             21.0|          0.0|            1.0|             0.0|             0.0|               0.0|               0.0|              0.0|             0.0|              0.0|             1.0|               0.0|             1.0|             9.0|             0.0|             0.0|             0.0|         0.0|        0.0|              0.0|           2.0|                0.0|[160.0,1680.0,6.0...|\n",
      "|1473|       160|   1680|          5|          5|     1971|        1971|     525|     567|           0|     1092|       1|       1|           3|           1|           6|         0|         0|          0|            0|        0|          0|       0|      0|     3|  2010|           1.0|         0.0|        0.0|           0.0|              0.0|            0.0|            0.0|            0.0|              20.0|             0.0|             0.0|           3.0|             1.0|            0.0|           0.0|              2.0|              2.0|             1.0|            0.0|            0.0|             1.0|           0.0|           0.0|               0.0|               3.0|             6.0|               0.0|             0.0|          521.0|             56.0|          0.0|            1.0|             0.0|             0.0|               0.0|               0.0|              0.0|             0.0|              0.0|             1.0|               0.0|             1.0|            46.0|             0.0|             0.0|             0.0|         0.0|        0.0|              0.0|           0.0|                0.0|[160.0,1680.0,5.0...|\n",
      "|1474|       160|   2280|          6|          6|     1975|        1975|     855|     601|           0|     1456|       2|       1|           3|           1|           6|         1|       173|          0|            0|        0|          0|       0|      0|     6|  2010|           0.0|         0.0|        0.0|           0.0|              0.0|            0.0|            3.0|            0.0|              21.0|             0.0|             0.0|           3.0|             1.0|            0.0|           0.0|              4.0|             10.0|             0.0|            0.0|            0.0|             1.0|           0.0|           0.0|               0.0|               2.0|           514.0|               0.0|             0.0|          193.0|             35.0|          0.0|            1.0|             0.0|             0.0|               0.0|               0.0|              1.0|             0.0|              2.0|             0.0|               0.0|             0.0|             2.0|             0.0|             0.0|             0.0|         0.0|        0.0|              0.0|           0.0|                0.0|[160.0,2280.0,6.0...|\n",
      "|1475|       120|   2280|          7|          6|     1975|        1975|     836|       0|           0|      836|       1|       0|           2|           1|           4|         0|         0|         30|            0|        0|          0|       0|      0|     6|  2010|           0.0|         0.0|        0.0|           0.0|              0.0|            0.0|            3.0|            0.0|              21.0|             0.0|             0.0|           3.0|             0.0|            0.0|           0.0|              4.0|             10.0|             0.0|            0.0|            0.0|             1.0|           1.0|           0.0|               0.0|               1.0|             0.0|               0.0|             0.0|          741.0|             33.0|          0.0|            0.0|             0.0|             0.0|               0.0|               0.0|              0.0|             0.0|              0.0|             0.0|               0.0|             1.0|             8.0|             0.0|             0.0|             0.0|         0.0|        0.0|              0.0|           0.0|                0.0|(25,[0,1,2,3,4,5,...|\n",
      "|1476|        60|  12858|          9|          5|     2009|        2010|    1627|     707|           0|     2334|       2|       1|           3|           1|          10|         1|       144|        133|            0|        0|          0|       0|      0|     1|  2010|           0.0|         0.0|        0.0|           1.0|              0.0|            0.0|            0.0|            0.0|               5.0|             0.0|             0.0|           0.0|             1.0|            0.0|           0.0|              0.0|              0.0|             2.0|            2.0|            0.0|             0.0|           2.0|           0.0|               0.0|               1.0|             0.0|               0.0|             0.0|          454.0|            495.0|          0.0|            0.0|             0.0|             0.0|               0.0|               0.0|              2.0|             0.0|              1.0|             0.0|               2.0|             2.0|           210.0|             0.0|             0.0|             0.0|         0.0|        0.0|              0.0|           1.0|                1.0|[60.0,12858.0,9.0...|\n",
      "|1477|        20|  12883|          8|          5|     2009|        2010|    1544|       0|           0|     1544|       2|       0|           3|           1|           7|         0|         0|         35|            0|        0|          0|       0|      0|     6|  2010|           0.0|         0.0|        0.0|           1.0|              0.0|            0.0|            1.0|            0.0|               5.0|             0.0|             0.0|           0.0|             0.0|            0.0|           0.0|              0.0|              0.0|             2.0|            1.0|            0.0|             0.0|           1.0|           0.0|               0.0|               1.0|             0.0|               0.0|             0.0|          444.0|            480.0|          0.0|            0.0|             0.0|             0.0|               0.0|               0.0|              1.0|             0.0|              0.0|             0.0|               1.0|             2.0|           434.0|             0.0|             0.0|             0.0|         0.0|        0.0|              0.0|           1.0|                1.0|(25,[0,1,2,3,4,5,...|\n",
      "|1478|        20|  11520|          9|          5|     2005|        2005|    1698|       0|           0|     1698|       2|       0|           3|           1|           7|         1|       192|         74|            0|        0|          0|       0|      0|     6|  2010|           0.0|         0.0|        0.0|           0.0|              0.0|            0.0|            0.0|            0.0|               5.0|             4.0|             0.0|           0.0|             0.0|            1.0|           0.0|              0.0|              0.0|             1.0|            1.0|            0.0|             0.0|           2.0|           0.0|               0.0|               0.0|            26.0|               0.0|             0.0|          453.0|            522.0|          0.0|            0.0|             0.0|             0.0|               0.0|               0.0|              2.0|             0.0|              1.0|             0.0|               2.0|             2.0|            79.0|             0.0|             0.0|             0.0|         0.0|        0.0|              0.0|           0.0|                0.0|[20.0,11520.0,9.0...|\n",
      "|1479|        20|  14122|          8|          5|     2005|        2006|    1822|       0|           0|     1822|       2|       0|           3|           1|           8|         1|         0|        119|            0|        0|          0|       0|      0|     2|  2010|           0.0|         0.0|        0.0|           1.0|              0.0|            0.0|            0.0|            0.0|               5.0|             0.0|             0.0|           0.0|             0.0|            1.0|           0.0|              5.0|              5.0|             1.0|            1.0|            0.0|             0.0|           2.0|           0.0|               0.0|               0.0|           103.0|               0.0|             0.0|          493.0|            232.0|          0.0|            0.0|             0.0|             0.0|               0.0|               0.0|              2.0|             0.0|              1.0|             0.0|               1.0|             2.0|           129.0|             0.0|             0.0|             0.0|         0.0|        0.0|              0.0|           0.0|                0.0|[20.0,14122.0,8.0...|\n",
      "|1480|        20|  14300|          9|          5|     2003|        2004|    2696|       0|           0|     2696|       2|       1|           3|           1|          10|         2|       220|        150|            0|        0|          0|       0|      0|     6|  2010|           0.0|         0.0|        0.0|           0.0|              1.0|            0.0|            0.0|            1.0|               5.0|             0.0|             0.0|           0.0|             0.0|            1.0|           0.0|              0.0|              0.0|             1.0|            2.0|            0.0|             0.0|           2.0|           0.0|               2.0|               0.0|            79.0|               0.0|             0.0|          430.0|            603.0|          0.0|            0.0|             0.0|             0.0|               1.0|               0.0|              2.0|             0.0|              1.0|             0.0|               2.0|             2.0|           453.0|             0.0|             0.0|             0.0|         0.0|        0.0|              0.0|           0.0|                0.0|[20.0,14300.0,9.0...|\n",
      "+----+----------+-------+-----------+-----------+---------+------------+--------+--------+------------+---------+--------+--------+------------+------------+------------+----------+----------+-----------+-------------+---------+-----------+--------+-------+------+------+--------------+------------+-----------+--------------+-----------------+---------------+---------------+---------------+------------------+----------------+----------------+--------------+----------------+---------------+--------------+-----------------+-----------------+----------------+---------------+---------------+----------------+--------------+--------------+------------------+------------------+----------------+------------------+----------------+---------------+-----------------+-------------+---------------+----------------+----------------+------------------+------------------+-----------------+----------------+-----------------+----------------+------------------+----------------+----------------+----------------+----------------+----------------+------------+-----------+-----------------+--------------+-------------------+--------------------+\n",
      "only showing top 20 rows\n",
      "\n"
     ]
    }
   ],
   "source": [
    "DF11.show()"
   ]
  },
  {
   "cell_type": "code",
   "execution_count": 40,
   "metadata": {
    "colab": {
     "base_uri": "https://localhost:8080/"
    },
    "executionInfo": {
     "elapsed": 1938,
     "status": "ok",
     "timestamp": 1659262161555,
     "user": {
      "displayName": "Prerna Waghray",
      "userId": "08074246852708739388"
     },
     "user_tz": -330
    },
    "id": "46zNCIY_-dn6",
    "outputId": "cb840d99-d3a1-4319-89a4-0f10d43833b7"
   },
   "outputs": [
    {
     "name": "stdout",
     "output_type": "stream",
     "text": [
      "+----+----------+-------+-----------+-----------+---------+------------+--------+--------+------------+---------+--------+--------+------------+------------+------------+----------+----------+-----------+-------------+---------+-----------+--------+-------+------+------+--------------+------------+-----------+--------------+-----------------+---------------+---------------+---------------+------------------+----------------+----------------+--------------+----------------+---------------+--------------+-----------------+-----------------+----------------+---------------+---------------+----------------+--------------+--------------+------------------+------------------+----------------+------------------+----------------+---------------+-----------------+-------------+---------------+----------------+----------------+------------------+------------------+-----------------+----------------+-----------------+----------------+------------------+----------------+----------------+----------------+----------------+----------------+------------+-----------+-----------------+--------------+-------------------+--------------------+--------------------+\n",
      "|  Id|MSSubClass|LotArea|OverallQual|OverallCond|YearBuilt|YearRemodAdd|1stFlrSF|2ndFlrSF|LowQualFinSF|GrLivArea|FullBath|HalfBath|BedroomAbvGr|KitchenAbvGr|TotRmsAbvGrd|Fireplaces|WoodDeckSF|OpenPorchSF|EnclosedPorch|3SsnPorch|ScreenPorch|PoolArea|MiscVal|MoSold|YrSold|MSZoning_index|Street_index|Alley_index|LotShape_index|LandContour_index|Utilities_index|LotConfig_index|LandSlope_index|Neighborhood_index|Condition1_index|Condition2_index|BldgType_index|HouseStyle_index|RoofStyle_index|RoofMatl_index|Exterior1st_index|Exterior2nd_index|MasVnrType_index|ExterQual_index|ExterCond_index|Foundation_index|BsmtQual_index|BsmtCond_index|BsmtExposure_index|BsmtFinType1_index|BsmtFinSF1_index|BsmtFinType2_index|BsmtFinSF2_index|BsmtUnfSF_index|TotalBsmtSF_index|Heating_index|HeatingQC_index|CentralAir_index|Electrical_index|BsmtFullBath_index|BsmtHalfBath_index|KitchenQual_index|Functional_index|FireplaceQu_index|GarageType_index|GarageFinish_index|GarageCars_index|GarageArea_index|GarageQual_index|GarageCond_index|PavedDrive_index|PoolQC_index|Fence_index|MiscFeature_index|SaleType_index|SaleCondition_index|Independent_Features|     Scaled_Features|\n",
      "+----+----------+-------+-----------+-----------+---------+------------+--------+--------+------------+---------+--------+--------+------------+------------+------------+----------+----------+-----------+-------------+---------+-----------+--------+-------+------+------+--------------+------------+-----------+--------------+-----------------+---------------+---------------+---------------+------------------+----------------+----------------+--------------+----------------+---------------+--------------+-----------------+-----------------+----------------+---------------+---------------+----------------+--------------+--------------+------------------+------------------+----------------+------------------+----------------+---------------+-----------------+-------------+---------------+----------------+----------------+------------------+------------------+-----------------+----------------+-----------------+----------------+------------------+----------------+----------------+----------------+----------------+----------------+------------+-----------+-----------------+--------------+-------------------+--------------------+--------------------+\n",
      "|1461|        20|  11622|          5|          6|     1961|        1961|     896|       0|           0|      896|       1|       0|           2|           1|           5|         0|       140|          0|            0|        0|        120|       0|      0|     6|  2010|           4.0|         0.0|        0.0|           0.0|              0.0|            0.0|            0.0|            0.0|               0.0|             1.0|             0.0|           0.0|             0.0|            0.0|           0.0|              0.0|              0.0|             0.0|            0.0|            0.0|             1.0|           0.0|           0.0|               0.0|               3.0|            14.0|               3.0|             5.0|           44.0|             66.0|          0.0|            1.0|             0.0|             0.0|               0.0|               0.0|              0.0|             0.0|              0.0|             0.0|               0.0|             1.0|            79.0|             0.0|             0.0|             0.0|         0.0|        1.0|              0.0|           0.0|                0.0|[20.0,11622.0,5.0...|[0.46787040781433...|\n",
      "|1462|        20|  14267|          6|          6|     1958|        1958|    1329|       0|           0|     1329|       1|       1|           3|           1|           6|         0|       393|         36|            0|        0|          0|       0|  12500|     6|  2010|           0.0|         0.0|        0.0|           1.0|              0.0|            0.0|            1.0|            0.0|               0.0|             0.0|             0.0|           0.0|             0.0|            1.0|           0.0|              3.0|              3.0|             1.0|            0.0|            0.0|             1.0|           0.0|           0.0|               0.0|               2.0|           210.0|               0.0|             0.0|          594.0|            189.0|          0.0|            1.0|             0.0|             0.0|               0.0|               0.0|              1.0|             0.0|              0.0|             0.0|               0.0|             1.0|            20.0|             0.0|             0.0|             0.0|         0.0|        0.0|              2.0|           0.0|                0.0|[20.0,14267.0,6.0...|[0.46787040781433...|\n",
      "|1463|        60|  13830|          5|          5|     1997|        1998|     928|     701|           0|     1629|       2|       1|           3|           1|           6|         1|       212|         34|            0|        0|          0|       0|      0|     3|  2010|           0.0|         0.0|        0.0|           1.0|              0.0|            0.0|            0.0|            0.0|               6.0|             0.0|             0.0|           0.0|             1.0|            0.0|           0.0|              0.0|              0.0|             0.0|            0.0|            0.0|             0.0|           1.0|           0.0|               0.0|               0.0|           191.0|               0.0|             0.0|          146.0|             70.0|          0.0|            2.0|             0.0|             0.0|               0.0|               0.0|              0.0|             0.0|              2.0|             0.0|               2.0|             0.0|            35.0|             0.0|             0.0|             0.0|         0.0|        1.0|              0.0|           0.0|                0.0|[60.0,13830.0,5.0...|[1.40361122344300...|\n",
      "|1464|        60|   9978|          6|          6|     1998|        1998|     926|     678|           0|     1604|       2|       1|           3|           1|           7|         1|       360|         36|            0|        0|          0|       0|      0|     6|  2010|           0.0|         0.0|        0.0|           1.0|              0.0|            0.0|            0.0|            0.0|               6.0|             0.0|             0.0|           0.0|             1.0|            0.0|           0.0|              0.0|              0.0|             1.0|            0.0|            0.0|             0.0|           0.0|           0.0|               0.0|               0.0|             3.0|               0.0|             0.0|           87.0|             38.0|          0.0|            0.0|             0.0|             0.0|               0.0|               0.0|              1.0|             0.0|              1.0|             0.0|               2.0|             0.0|            33.0|             0.0|             0.0|             0.0|         0.0|        0.0|              0.0|           0.0|                0.0|[60.0,9978.0,6.0,...|[1.40361122344300...|\n",
      "|1465|       120|   5005|          8|          5|     1992|        1992|    1280|       0|           0|     1280|       2|       0|           2|           1|           5|         0|         0|         82|            0|        0|        144|       0|      0|     1|  2010|           0.0|         0.0|        0.0|           1.0|              1.0|            0.0|            0.0|            0.0|              16.0|             0.0|             0.0|           1.0|             0.0|            0.0|           0.0|              2.0|              2.0|             0.0|            1.0|            0.0|             0.0|           1.0|           0.0|               0.0|               2.0|           412.0|               0.0|             0.0|          131.0|             96.0|          0.0|            0.0|             0.0|             0.0|               0.0|               0.0|              1.0|             0.0|              0.0|             0.0|               1.0|             0.0|            13.0|             0.0|             0.0|             0.0|         0.0|        0.0|              0.0|           0.0|                0.0|[120.0,5005.0,8.0...|[2.80722244688601...|\n",
      "|1466|        60|  10000|          6|          5|     1993|        1994|     763|     892|           0|     1655|       2|       1|           3|           1|           7|         1|       157|         84|            0|        0|          0|       0|      0|     4|  2010|           0.0|         0.0|        0.0|           1.0|              0.0|            0.0|            1.0|            0.0|               6.0|             0.0|             0.0|           0.0|             1.0|            0.0|           0.0|              2.0|              2.0|             0.0|            0.0|            0.0|             0.0|           1.0|           0.0|               0.0|               1.0|             0.0|               0.0|             0.0|          268.0|            672.0|          0.0|            2.0|             0.0|             0.0|               0.0|               0.0|              0.0|             0.0|              2.0|             0.0|               2.0|             0.0|             2.0|             0.0|             0.0|             0.0|         0.0|        0.0|              0.0|           0.0|                0.0|[60.0,10000.0,6.0...|[1.40361122344300...|\n",
      "|1467|        20|   7980|          6|          7|     1992|        2007|    1187|       0|           0|     1187|       2|       0|           3|           1|           6|         0|       483|         21|            0|        0|          0|       0|    500|     3|  2010|           0.0|         0.0|        0.0|           1.0|              0.0|            0.0|            0.0|            0.0|               6.0|             0.0|             0.0|           0.0|             0.0|            0.0|           0.0|              2.0|              2.0|             0.0|            0.0|            1.0|             0.0|           1.0|           0.0|               0.0|               2.0|           647.0|               0.0|             0.0|          523.0|             20.0|          0.0|            0.0|             0.0|             0.0|               1.0|               0.0|              0.0|             0.0|              0.0|             0.0|               2.0|             0.0|            21.0|             0.0|             0.0|             0.0|         0.0|        2.0|              1.0|           0.0|                0.0|[20.0,7980.0,6.0,...|[0.46787040781433...|\n",
      "|1468|        60|   8402|          6|          5|     1998|        1998|     789|     676|           0|     1465|       2|       1|           3|           1|           7|         1|         0|         75|            0|        0|          0|       0|      0|     5|  2010|           0.0|         0.0|        0.0|           1.0|              0.0|            0.0|            0.0|            0.0|               6.0|             0.0|             0.0|           0.0|             1.0|            0.0|           0.0|              0.0|              0.0|             0.0|            0.0|            0.0|             0.0|           1.0|           0.0|               0.0|               1.0|             0.0|               0.0|             0.0|          272.0|            265.0|          0.0|            2.0|             0.0|             0.0|               0.0|               0.0|              0.0|             0.0|              1.0|             0.0|               2.0|             0.0|            64.0|             0.0|             0.0|             0.0|         0.0|        0.0|              0.0|           0.0|                0.0|[60.0,8402.0,6.0,...|[1.40361122344300...|\n",
      "|1469|        20|  10176|          7|          5|     1990|        1990|    1341|       0|           0|     1341|       1|       1|           2|           1|           5|         1|       192|          0|            0|        0|          0|       0|      0|     2|  2010|           0.0|         0.0|        0.0|           0.0|              0.0|            0.0|            0.0|            0.0|               6.0|             0.0|             0.0|           0.0|             0.0|            0.0|           0.0|              2.0|              2.0|             0.0|            0.0|            0.0|             0.0|           1.0|           0.0|               2.0|               0.0|            52.0|               0.0|             0.0|          254.0|            184.0|          0.0|            2.0|             0.0|             0.0|               1.0|               0.0|              1.0|             0.0|              4.0|             0.0|               0.0|             0.0|            13.0|             0.0|             0.0|             0.0|         0.0|        0.0|              0.0|           0.0|                0.0|[20.0,10176.0,7.0...|[0.46787040781433...|\n",
      "|1470|        20|   8400|          4|          5|     1970|        1970|     882|       0|           0|      882|       1|       0|           2|           1|           4|         0|       240|          0|            0|        0|          0|       0|      0|     4|  2010|           0.0|         0.0|        0.0|           0.0|              0.0|            0.0|            1.0|            0.0|               0.0|             0.0|             0.0|           0.0|             0.0|            0.0|           0.0|              4.0|              4.0|             0.0|            0.0|            0.0|             1.0|           0.0|           0.0|               0.0|               2.0|           611.0|               1.0|           136.0|            0.0|             66.0|          0.0|            1.0|             0.0|             0.0|               1.0|               0.0|              0.0|             0.0|              0.0|             0.0|               2.0|             0.0|            19.0|             0.0|             0.0|             0.0|         0.0|        1.0|              0.0|           0.0|                0.0|(25,[0,1,2,3,4,5,...|(25,[0,1,2,3,4,5,...|\n",
      "|1471|       120|   5858|          7|          5|     1999|        1999|    1337|       0|           0|     1337|       2|       0|           2|           1|           5|         1|       203|         68|            0|        0|          0|       0|      0|     6|  2010|           4.0|         0.0|        0.0|           1.0|              0.0|            0.0|            3.0|            0.0|               0.0|             0.0|             0.0|           1.0|             0.0|            0.0|           0.0|              1.0|              1.0|             0.0|            1.0|            0.0|             0.0|           1.0|           0.0|               0.0|               0.0|           241.0|               4.0|             0.0|          571.0|             51.0|          0.0|            0.0|             0.0|             0.0|               1.0|               0.0|              1.0|             0.0|              3.0|             0.0|               2.0|             0.0|           108.0|             0.0|             0.0|             0.0|         0.0|        0.0|              0.0|           0.0|                0.0|[120.0,5858.0,7.0...|[2.80722244688601...|\n",
      "|1472|       160|   1680|          6|          5|     1971|        1971|     483|     504|           0|      987|       1|       1|           2|           1|           5|         0|       275|          0|            0|        0|          0|       0|      0|     2|  2010|           1.0|         0.0|        0.0|           0.0|              0.0|            0.0|            0.0|            0.0|              20.0|             0.0|             0.0|           3.0|             1.0|            0.0|           0.0|              2.0|              2.0|             1.0|            0.0|            0.0|             1.0|           0.0|           0.0|               0.0|               3.0|           351.0|               0.0|             0.0|          560.0|             21.0|          0.0|            1.0|             0.0|             0.0|               0.0|               0.0|              0.0|             0.0|              0.0|             1.0|               0.0|             1.0|             9.0|             0.0|             0.0|             0.0|         0.0|        0.0|              0.0|           2.0|                0.0|[160.0,1680.0,6.0...|[3.74296326251468...|\n",
      "|1473|       160|   1680|          5|          5|     1971|        1971|     525|     567|           0|     1092|       1|       1|           3|           1|           6|         0|         0|          0|            0|        0|          0|       0|      0|     3|  2010|           1.0|         0.0|        0.0|           0.0|              0.0|            0.0|            0.0|            0.0|              20.0|             0.0|             0.0|           3.0|             1.0|            0.0|           0.0|              2.0|              2.0|             1.0|            0.0|            0.0|             1.0|           0.0|           0.0|               0.0|               3.0|             6.0|               0.0|             0.0|          521.0|             56.0|          0.0|            1.0|             0.0|             0.0|               0.0|               0.0|              0.0|             0.0|              0.0|             1.0|               0.0|             1.0|            46.0|             0.0|             0.0|             0.0|         0.0|        0.0|              0.0|           0.0|                0.0|[160.0,1680.0,5.0...|[3.74296326251468...|\n",
      "|1474|       160|   2280|          6|          6|     1975|        1975|     855|     601|           0|     1456|       2|       1|           3|           1|           6|         1|       173|          0|            0|        0|          0|       0|      0|     6|  2010|           0.0|         0.0|        0.0|           0.0|              0.0|            0.0|            3.0|            0.0|              21.0|             0.0|             0.0|           3.0|             1.0|            0.0|           0.0|              4.0|             10.0|             0.0|            0.0|            0.0|             1.0|           0.0|           0.0|               0.0|               2.0|           514.0|               0.0|             0.0|          193.0|             35.0|          0.0|            1.0|             0.0|             0.0|               0.0|               0.0|              1.0|             0.0|              2.0|             0.0|               0.0|             0.0|             2.0|             0.0|             0.0|             0.0|         0.0|        0.0|              0.0|           0.0|                0.0|[160.0,2280.0,6.0...|[3.74296326251468...|\n",
      "|1475|       120|   2280|          7|          6|     1975|        1975|     836|       0|           0|      836|       1|       0|           2|           1|           4|         0|         0|         30|            0|        0|          0|       0|      0|     6|  2010|           0.0|         0.0|        0.0|           0.0|              0.0|            0.0|            3.0|            0.0|              21.0|             0.0|             0.0|           3.0|             0.0|            0.0|           0.0|              4.0|             10.0|             0.0|            0.0|            0.0|             1.0|           1.0|           0.0|               0.0|               1.0|             0.0|               0.0|             0.0|          741.0|             33.0|          0.0|            0.0|             0.0|             0.0|               0.0|               0.0|              0.0|             0.0|              0.0|             0.0|               0.0|             1.0|             8.0|             0.0|             0.0|             0.0|         0.0|        0.0|              0.0|           0.0|                0.0|(25,[0,1,2,3,4,5,...|(25,[0,1,2,3,4,5,...|\n",
      "|1476|        60|  12858|          9|          5|     2009|        2010|    1627|     707|           0|     2334|       2|       1|           3|           1|          10|         1|       144|        133|            0|        0|          0|       0|      0|     1|  2010|           0.0|         0.0|        0.0|           1.0|              0.0|            0.0|            0.0|            0.0|               5.0|             0.0|             0.0|           0.0|             1.0|            0.0|           0.0|              0.0|              0.0|             2.0|            2.0|            0.0|             0.0|           2.0|           0.0|               0.0|               1.0|             0.0|               0.0|             0.0|          454.0|            495.0|          0.0|            0.0|             0.0|             0.0|               0.0|               0.0|              2.0|             0.0|              1.0|             0.0|               2.0|             2.0|           210.0|             0.0|             0.0|             0.0|         0.0|        0.0|              0.0|           1.0|                1.0|[60.0,12858.0,9.0...|[1.40361122344300...|\n",
      "|1477|        20|  12883|          8|          5|     2009|        2010|    1544|       0|           0|     1544|       2|       0|           3|           1|           7|         0|         0|         35|            0|        0|          0|       0|      0|     6|  2010|           0.0|         0.0|        0.0|           1.0|              0.0|            0.0|            1.0|            0.0|               5.0|             0.0|             0.0|           0.0|             0.0|            0.0|           0.0|              0.0|              0.0|             2.0|            1.0|            0.0|             0.0|           1.0|           0.0|               0.0|               1.0|             0.0|               0.0|             0.0|          444.0|            480.0|          0.0|            0.0|             0.0|             0.0|               0.0|               0.0|              1.0|             0.0|              0.0|             0.0|               1.0|             2.0|           434.0|             0.0|             0.0|             0.0|         0.0|        0.0|              0.0|           1.0|                1.0|(25,[0,1,2,3,4,5,...|(25,[0,1,2,3,4,5,...|\n",
      "|1478|        20|  11520|          9|          5|     2005|        2005|    1698|       0|           0|     1698|       2|       0|           3|           1|           7|         1|       192|         74|            0|        0|          0|       0|      0|     6|  2010|           0.0|         0.0|        0.0|           0.0|              0.0|            0.0|            0.0|            0.0|               5.0|             4.0|             0.0|           0.0|             0.0|            1.0|           0.0|              0.0|              0.0|             1.0|            1.0|            0.0|             0.0|           2.0|           0.0|               0.0|               0.0|            26.0|               0.0|             0.0|          453.0|            522.0|          0.0|            0.0|             0.0|             0.0|               0.0|               0.0|              2.0|             0.0|              1.0|             0.0|               2.0|             2.0|            79.0|             0.0|             0.0|             0.0|         0.0|        0.0|              0.0|           0.0|                0.0|[20.0,11520.0,9.0...|[0.46787040781433...|\n",
      "|1479|        20|  14122|          8|          5|     2005|        2006|    1822|       0|           0|     1822|       2|       0|           3|           1|           8|         1|         0|        119|            0|        0|          0|       0|      0|     2|  2010|           0.0|         0.0|        0.0|           1.0|              0.0|            0.0|            0.0|            0.0|               5.0|             0.0|             0.0|           0.0|             0.0|            1.0|           0.0|              5.0|              5.0|             1.0|            1.0|            0.0|             0.0|           2.0|           0.0|               0.0|               0.0|           103.0|               0.0|             0.0|          493.0|            232.0|          0.0|            0.0|             0.0|             0.0|               0.0|               0.0|              2.0|             0.0|              1.0|             0.0|               1.0|             2.0|           129.0|             0.0|             0.0|             0.0|         0.0|        0.0|              0.0|           0.0|                0.0|[20.0,14122.0,8.0...|[0.46787040781433...|\n",
      "|1480|        20|  14300|          9|          5|     2003|        2004|    2696|       0|           0|     2696|       2|       1|           3|           1|          10|         2|       220|        150|            0|        0|          0|       0|      0|     6|  2010|           0.0|         0.0|        0.0|           0.0|              1.0|            0.0|            0.0|            1.0|               5.0|             0.0|             0.0|           0.0|             0.0|            1.0|           0.0|              0.0|              0.0|             1.0|            2.0|            0.0|             0.0|           2.0|           0.0|               2.0|               0.0|            79.0|               0.0|             0.0|          430.0|            603.0|          0.0|            0.0|             0.0|             0.0|               1.0|               0.0|              2.0|             0.0|              1.0|             0.0|               2.0|             2.0|           453.0|             0.0|             0.0|             0.0|         0.0|        0.0|              0.0|           0.0|                0.0|[20.0,14300.0,9.0...|[0.46787040781433...|\n",
      "+----+----------+-------+-----------+-----------+---------+------------+--------+--------+------------+---------+--------+--------+------------+------------+------------+----------+----------+-----------+-------------+---------+-----------+--------+-------+------+------+--------------+------------+-----------+--------------+-----------------+---------------+---------------+---------------+------------------+----------------+----------------+--------------+----------------+---------------+--------------+-----------------+-----------------+----------------+---------------+---------------+----------------+--------------+--------------+------------------+------------------+----------------+------------------+----------------+---------------+-----------------+-------------+---------------+----------------+----------------+------------------+------------------+-----------------+----------------+-----------------+----------------+------------------+----------------+----------------+----------------+----------------+----------------+------------+-----------+-----------------+--------------+-------------------+--------------------+--------------------+\n",
      "only showing top 20 rows\n",
      "\n"
     ]
    }
   ],
   "source": [
    "# Import StandardScaler from pyspark.ml.feature package\n",
    "from pyspark.ml.feature import StandardScaler\n",
    "\n",
    "# Create the StandardScaler object. It only take feature column (dense vector)\n",
    "stdscaler = StandardScaler(inputCol=\"Independent_Features\", outputCol=\"Scaled_Features\")\n",
    "\n",
    "# Fit the StandardScaler object on the output of the dense vector data and transform\n",
    "stdscaledDF = stdscaler.fit(DF11).transform(DF11)\n",
    "stdscaledDF.select(\"*\").show()"
   ]
  },
  {
   "cell_type": "code",
   "execution_count": 41,
   "metadata": {
    "executionInfo": {
     "elapsed": 400,
     "status": "ok",
     "timestamp": 1659262164243,
     "user": {
      "displayName": "Prerna Waghray",
      "userId": "08074246852708739388"
     },
     "user_tz": -330
    },
    "id": "bukb4isYB3-M"
   },
   "outputs": [],
   "source": [
    "DF12 = stdscaledDF.drop(*input_cols, \"Independent_Features\")"
   ]
  },
  {
   "cell_type": "code",
   "execution_count": 42,
   "metadata": {
    "colab": {
     "base_uri": "https://localhost:8080/"
    },
    "executionInfo": {
     "elapsed": 1170,
     "status": "ok",
     "timestamp": 1659262170758,
     "user": {
      "displayName": "Prerna Waghray",
      "userId": "08074246852708739388"
     },
     "user_tz": -330
    },
    "id": "JkMrnJ1-DedQ",
    "outputId": "b45f8332-a9d7-4465-e57b-c0c7f10130ff"
   },
   "outputs": [
    {
     "name": "stdout",
     "output_type": "stream",
     "text": [
      "+----+--------------+------------+-----------+--------------+-----------------+---------------+---------------+---------------+------------------+----------------+----------------+--------------+----------------+---------------+--------------+-----------------+-----------------+----------------+---------------+---------------+----------------+--------------+--------------+------------------+------------------+----------------+------------------+----------------+---------------+-----------------+-------------+---------------+----------------+----------------+------------------+------------------+-----------------+----------------+-----------------+----------------+------------------+----------------+----------------+----------------+----------------+----------------+------------+-----------+-----------------+--------------+-------------------+--------------------+\n",
      "|  Id|MSZoning_index|Street_index|Alley_index|LotShape_index|LandContour_index|Utilities_index|LotConfig_index|LandSlope_index|Neighborhood_index|Condition1_index|Condition2_index|BldgType_index|HouseStyle_index|RoofStyle_index|RoofMatl_index|Exterior1st_index|Exterior2nd_index|MasVnrType_index|ExterQual_index|ExterCond_index|Foundation_index|BsmtQual_index|BsmtCond_index|BsmtExposure_index|BsmtFinType1_index|BsmtFinSF1_index|BsmtFinType2_index|BsmtFinSF2_index|BsmtUnfSF_index|TotalBsmtSF_index|Heating_index|HeatingQC_index|CentralAir_index|Electrical_index|BsmtFullBath_index|BsmtHalfBath_index|KitchenQual_index|Functional_index|FireplaceQu_index|GarageType_index|GarageFinish_index|GarageCars_index|GarageArea_index|GarageQual_index|GarageCond_index|PavedDrive_index|PoolQC_index|Fence_index|MiscFeature_index|SaleType_index|SaleCondition_index|     Scaled_Features|\n",
      "+----+--------------+------------+-----------+--------------+-----------------+---------------+---------------+---------------+------------------+----------------+----------------+--------------+----------------+---------------+--------------+-----------------+-----------------+----------------+---------------+---------------+----------------+--------------+--------------+------------------+------------------+----------------+------------------+----------------+---------------+-----------------+-------------+---------------+----------------+----------------+------------------+------------------+-----------------+----------------+-----------------+----------------+------------------+----------------+----------------+----------------+----------------+----------------+------------+-----------+-----------------+--------------+-------------------+--------------------+\n",
      "|1461|           4.0|         0.0|        0.0|           0.0|              0.0|            0.0|            0.0|            0.0|               0.0|             1.0|             0.0|           0.0|             0.0|            0.0|           0.0|              0.0|              0.0|             0.0|            0.0|            0.0|             1.0|           0.0|           0.0|               0.0|               3.0|            14.0|               3.0|             5.0|           44.0|             66.0|          0.0|            1.0|             0.0|             0.0|               0.0|               0.0|              0.0|             0.0|              0.0|             0.0|               0.0|             1.0|            79.0|             0.0|             0.0|             0.0|         0.0|        1.0|              0.0|           0.0|                0.0|[0.46787040781433...|\n",
      "|1462|           0.0|         0.0|        0.0|           1.0|              0.0|            0.0|            1.0|            0.0|               0.0|             0.0|             0.0|           0.0|             0.0|            1.0|           0.0|              3.0|              3.0|             1.0|            0.0|            0.0|             1.0|           0.0|           0.0|               0.0|               2.0|           210.0|               0.0|             0.0|          594.0|            189.0|          0.0|            1.0|             0.0|             0.0|               0.0|               0.0|              1.0|             0.0|              0.0|             0.0|               0.0|             1.0|            20.0|             0.0|             0.0|             0.0|         0.0|        0.0|              2.0|           0.0|                0.0|[0.46787040781433...|\n",
      "|1463|           0.0|         0.0|        0.0|           1.0|              0.0|            0.0|            0.0|            0.0|               6.0|             0.0|             0.0|           0.0|             1.0|            0.0|           0.0|              0.0|              0.0|             0.0|            0.0|            0.0|             0.0|           1.0|           0.0|               0.0|               0.0|           191.0|               0.0|             0.0|          146.0|             70.0|          0.0|            2.0|             0.0|             0.0|               0.0|               0.0|              0.0|             0.0|              2.0|             0.0|               2.0|             0.0|            35.0|             0.0|             0.0|             0.0|         0.0|        1.0|              0.0|           0.0|                0.0|[1.40361122344300...|\n",
      "|1464|           0.0|         0.0|        0.0|           1.0|              0.0|            0.0|            0.0|            0.0|               6.0|             0.0|             0.0|           0.0|             1.0|            0.0|           0.0|              0.0|              0.0|             1.0|            0.0|            0.0|             0.0|           0.0|           0.0|               0.0|               0.0|             3.0|               0.0|             0.0|           87.0|             38.0|          0.0|            0.0|             0.0|             0.0|               0.0|               0.0|              1.0|             0.0|              1.0|             0.0|               2.0|             0.0|            33.0|             0.0|             0.0|             0.0|         0.0|        0.0|              0.0|           0.0|                0.0|[1.40361122344300...|\n",
      "|1465|           0.0|         0.0|        0.0|           1.0|              1.0|            0.0|            0.0|            0.0|              16.0|             0.0|             0.0|           1.0|             0.0|            0.0|           0.0|              2.0|              2.0|             0.0|            1.0|            0.0|             0.0|           1.0|           0.0|               0.0|               2.0|           412.0|               0.0|             0.0|          131.0|             96.0|          0.0|            0.0|             0.0|             0.0|               0.0|               0.0|              1.0|             0.0|              0.0|             0.0|               1.0|             0.0|            13.0|             0.0|             0.0|             0.0|         0.0|        0.0|              0.0|           0.0|                0.0|[2.80722244688601...|\n",
      "|1466|           0.0|         0.0|        0.0|           1.0|              0.0|            0.0|            1.0|            0.0|               6.0|             0.0|             0.0|           0.0|             1.0|            0.0|           0.0|              2.0|              2.0|             0.0|            0.0|            0.0|             0.0|           1.0|           0.0|               0.0|               1.0|             0.0|               0.0|             0.0|          268.0|            672.0|          0.0|            2.0|             0.0|             0.0|               0.0|               0.0|              0.0|             0.0|              2.0|             0.0|               2.0|             0.0|             2.0|             0.0|             0.0|             0.0|         0.0|        0.0|              0.0|           0.0|                0.0|[1.40361122344300...|\n",
      "|1467|           0.0|         0.0|        0.0|           1.0|              0.0|            0.0|            0.0|            0.0|               6.0|             0.0|             0.0|           0.0|             0.0|            0.0|           0.0|              2.0|              2.0|             0.0|            0.0|            1.0|             0.0|           1.0|           0.0|               0.0|               2.0|           647.0|               0.0|             0.0|          523.0|             20.0|          0.0|            0.0|             0.0|             0.0|               1.0|               0.0|              0.0|             0.0|              0.0|             0.0|               2.0|             0.0|            21.0|             0.0|             0.0|             0.0|         0.0|        2.0|              1.0|           0.0|                0.0|[0.46787040781433...|\n",
      "|1468|           0.0|         0.0|        0.0|           1.0|              0.0|            0.0|            0.0|            0.0|               6.0|             0.0|             0.0|           0.0|             1.0|            0.0|           0.0|              0.0|              0.0|             0.0|            0.0|            0.0|             0.0|           1.0|           0.0|               0.0|               1.0|             0.0|               0.0|             0.0|          272.0|            265.0|          0.0|            2.0|             0.0|             0.0|               0.0|               0.0|              0.0|             0.0|              1.0|             0.0|               2.0|             0.0|            64.0|             0.0|             0.0|             0.0|         0.0|        0.0|              0.0|           0.0|                0.0|[1.40361122344300...|\n",
      "|1469|           0.0|         0.0|        0.0|           0.0|              0.0|            0.0|            0.0|            0.0|               6.0|             0.0|             0.0|           0.0|             0.0|            0.0|           0.0|              2.0|              2.0|             0.0|            0.0|            0.0|             0.0|           1.0|           0.0|               2.0|               0.0|            52.0|               0.0|             0.0|          254.0|            184.0|          0.0|            2.0|             0.0|             0.0|               1.0|               0.0|              1.0|             0.0|              4.0|             0.0|               0.0|             0.0|            13.0|             0.0|             0.0|             0.0|         0.0|        0.0|              0.0|           0.0|                0.0|[0.46787040781433...|\n",
      "|1470|           0.0|         0.0|        0.0|           0.0|              0.0|            0.0|            1.0|            0.0|               0.0|             0.0|             0.0|           0.0|             0.0|            0.0|           0.0|              4.0|              4.0|             0.0|            0.0|            0.0|             1.0|           0.0|           0.0|               0.0|               2.0|           611.0|               1.0|           136.0|            0.0|             66.0|          0.0|            1.0|             0.0|             0.0|               1.0|               0.0|              0.0|             0.0|              0.0|             0.0|               2.0|             0.0|            19.0|             0.0|             0.0|             0.0|         0.0|        1.0|              0.0|           0.0|                0.0|(25,[0,1,2,3,4,5,...|\n",
      "|1471|           4.0|         0.0|        0.0|           1.0|              0.0|            0.0|            3.0|            0.0|               0.0|             0.0|             0.0|           1.0|             0.0|            0.0|           0.0|              1.0|              1.0|             0.0|            1.0|            0.0|             0.0|           1.0|           0.0|               0.0|               0.0|           241.0|               4.0|             0.0|          571.0|             51.0|          0.0|            0.0|             0.0|             0.0|               1.0|               0.0|              1.0|             0.0|              3.0|             0.0|               2.0|             0.0|           108.0|             0.0|             0.0|             0.0|         0.0|        0.0|              0.0|           0.0|                0.0|[2.80722244688601...|\n",
      "|1472|           1.0|         0.0|        0.0|           0.0|              0.0|            0.0|            0.0|            0.0|              20.0|             0.0|             0.0|           3.0|             1.0|            0.0|           0.0|              2.0|              2.0|             1.0|            0.0|            0.0|             1.0|           0.0|           0.0|               0.0|               3.0|           351.0|               0.0|             0.0|          560.0|             21.0|          0.0|            1.0|             0.0|             0.0|               0.0|               0.0|              0.0|             0.0|              0.0|             1.0|               0.0|             1.0|             9.0|             0.0|             0.0|             0.0|         0.0|        0.0|              0.0|           2.0|                0.0|[3.74296326251468...|\n",
      "|1473|           1.0|         0.0|        0.0|           0.0|              0.0|            0.0|            0.0|            0.0|              20.0|             0.0|             0.0|           3.0|             1.0|            0.0|           0.0|              2.0|              2.0|             1.0|            0.0|            0.0|             1.0|           0.0|           0.0|               0.0|               3.0|             6.0|               0.0|             0.0|          521.0|             56.0|          0.0|            1.0|             0.0|             0.0|               0.0|               0.0|              0.0|             0.0|              0.0|             1.0|               0.0|             1.0|            46.0|             0.0|             0.0|             0.0|         0.0|        0.0|              0.0|           0.0|                0.0|[3.74296326251468...|\n",
      "|1474|           0.0|         0.0|        0.0|           0.0|              0.0|            0.0|            3.0|            0.0|              21.0|             0.0|             0.0|           3.0|             1.0|            0.0|           0.0|              4.0|             10.0|             0.0|            0.0|            0.0|             1.0|           0.0|           0.0|               0.0|               2.0|           514.0|               0.0|             0.0|          193.0|             35.0|          0.0|            1.0|             0.0|             0.0|               0.0|               0.0|              1.0|             0.0|              2.0|             0.0|               0.0|             0.0|             2.0|             0.0|             0.0|             0.0|         0.0|        0.0|              0.0|           0.0|                0.0|[3.74296326251468...|\n",
      "|1475|           0.0|         0.0|        0.0|           0.0|              0.0|            0.0|            3.0|            0.0|              21.0|             0.0|             0.0|           3.0|             0.0|            0.0|           0.0|              4.0|             10.0|             0.0|            0.0|            0.0|             1.0|           1.0|           0.0|               0.0|               1.0|             0.0|               0.0|             0.0|          741.0|             33.0|          0.0|            0.0|             0.0|             0.0|               0.0|               0.0|              0.0|             0.0|              0.0|             0.0|               0.0|             1.0|             8.0|             0.0|             0.0|             0.0|         0.0|        0.0|              0.0|           0.0|                0.0|(25,[0,1,2,3,4,5,...|\n",
      "|1476|           0.0|         0.0|        0.0|           1.0|              0.0|            0.0|            0.0|            0.0|               5.0|             0.0|             0.0|           0.0|             1.0|            0.0|           0.0|              0.0|              0.0|             2.0|            2.0|            0.0|             0.0|           2.0|           0.0|               0.0|               1.0|             0.0|               0.0|             0.0|          454.0|            495.0|          0.0|            0.0|             0.0|             0.0|               0.0|               0.0|              2.0|             0.0|              1.0|             0.0|               2.0|             2.0|           210.0|             0.0|             0.0|             0.0|         0.0|        0.0|              0.0|           1.0|                1.0|[1.40361122344300...|\n",
      "|1477|           0.0|         0.0|        0.0|           1.0|              0.0|            0.0|            1.0|            0.0|               5.0|             0.0|             0.0|           0.0|             0.0|            0.0|           0.0|              0.0|              0.0|             2.0|            1.0|            0.0|             0.0|           1.0|           0.0|               0.0|               1.0|             0.0|               0.0|             0.0|          444.0|            480.0|          0.0|            0.0|             0.0|             0.0|               0.0|               0.0|              1.0|             0.0|              0.0|             0.0|               1.0|             2.0|           434.0|             0.0|             0.0|             0.0|         0.0|        0.0|              0.0|           1.0|                1.0|(25,[0,1,2,3,4,5,...|\n",
      "|1478|           0.0|         0.0|        0.0|           0.0|              0.0|            0.0|            0.0|            0.0|               5.0|             4.0|             0.0|           0.0|             0.0|            1.0|           0.0|              0.0|              0.0|             1.0|            1.0|            0.0|             0.0|           2.0|           0.0|               0.0|               0.0|            26.0|               0.0|             0.0|          453.0|            522.0|          0.0|            0.0|             0.0|             0.0|               0.0|               0.0|              2.0|             0.0|              1.0|             0.0|               2.0|             2.0|            79.0|             0.0|             0.0|             0.0|         0.0|        0.0|              0.0|           0.0|                0.0|[0.46787040781433...|\n",
      "|1479|           0.0|         0.0|        0.0|           1.0|              0.0|            0.0|            0.0|            0.0|               5.0|             0.0|             0.0|           0.0|             0.0|            1.0|           0.0|              5.0|              5.0|             1.0|            1.0|            0.0|             0.0|           2.0|           0.0|               0.0|               0.0|           103.0|               0.0|             0.0|          493.0|            232.0|          0.0|            0.0|             0.0|             0.0|               0.0|               0.0|              2.0|             0.0|              1.0|             0.0|               1.0|             2.0|           129.0|             0.0|             0.0|             0.0|         0.0|        0.0|              0.0|           0.0|                0.0|[0.46787040781433...|\n",
      "|1480|           0.0|         0.0|        0.0|           0.0|              1.0|            0.0|            0.0|            1.0|               5.0|             0.0|             0.0|           0.0|             0.0|            1.0|           0.0|              0.0|              0.0|             1.0|            2.0|            0.0|             0.0|           2.0|           0.0|               2.0|               0.0|            79.0|               0.0|             0.0|          430.0|            603.0|          0.0|            0.0|             0.0|             0.0|               1.0|               0.0|              2.0|             0.0|              1.0|             0.0|               2.0|             2.0|           453.0|             0.0|             0.0|             0.0|         0.0|        0.0|              0.0|           0.0|                0.0|[0.46787040781433...|\n",
      "+----+--------------+------------+-----------+--------------+-----------------+---------------+---------------+---------------+------------------+----------------+----------------+--------------+----------------+---------------+--------------+-----------------+-----------------+----------------+---------------+---------------+----------------+--------------+--------------+------------------+------------------+----------------+------------------+----------------+---------------+-----------------+-------------+---------------+----------------+----------------+------------------+------------------+-----------------+----------------+-----------------+----------------+------------------+----------------+----------------+----------------+----------------+----------------+------------+-----------+-----------------+--------------+-------------------+--------------------+\n",
      "only showing top 20 rows\n",
      "\n"
     ]
    }
   ],
   "source": [
    "DF12.show()"
   ]
  },
  {
   "cell_type": "code",
   "execution_count": 43,
   "metadata": {
    "colab": {
     "base_uri": "https://localhost:8080/"
    },
    "executionInfo": {
     "elapsed": 4,
     "status": "ok",
     "timestamp": 1659262173366,
     "user": {
      "displayName": "Prerna Waghray",
      "userId": "08074246852708739388"
     },
     "user_tz": -330
    },
    "id": "_qQ8qDTTEu_l",
    "outputId": "4f517d6f-0886-4d1e-f68e-89911f6ac970"
   },
   "outputs": [
    {
     "data": {
      "text/plain": [
       "['Id',\n",
       " 'MSZoning_index',\n",
       " 'Street_index',\n",
       " 'Alley_index',\n",
       " 'LotShape_index',\n",
       " 'LandContour_index',\n",
       " 'Utilities_index',\n",
       " 'LotConfig_index',\n",
       " 'LandSlope_index',\n",
       " 'Neighborhood_index',\n",
       " 'Condition1_index',\n",
       " 'Condition2_index',\n",
       " 'BldgType_index',\n",
       " 'HouseStyle_index',\n",
       " 'RoofStyle_index',\n",
       " 'RoofMatl_index',\n",
       " 'Exterior1st_index',\n",
       " 'Exterior2nd_index',\n",
       " 'MasVnrType_index',\n",
       " 'ExterQual_index',\n",
       " 'ExterCond_index',\n",
       " 'Foundation_index',\n",
       " 'BsmtQual_index',\n",
       " 'BsmtCond_index',\n",
       " 'BsmtExposure_index',\n",
       " 'BsmtFinType1_index',\n",
       " 'BsmtFinSF1_index',\n",
       " 'BsmtFinType2_index',\n",
       " 'BsmtFinSF2_index',\n",
       " 'BsmtUnfSF_index',\n",
       " 'TotalBsmtSF_index',\n",
       " 'Heating_index',\n",
       " 'HeatingQC_index',\n",
       " 'CentralAir_index',\n",
       " 'Electrical_index',\n",
       " 'BsmtFullBath_index',\n",
       " 'BsmtHalfBath_index',\n",
       " 'KitchenQual_index',\n",
       " 'Functional_index',\n",
       " 'FireplaceQu_index',\n",
       " 'GarageType_index',\n",
       " 'GarageFinish_index',\n",
       " 'GarageCars_index',\n",
       " 'GarageArea_index',\n",
       " 'GarageQual_index',\n",
       " 'GarageCond_index',\n",
       " 'PavedDrive_index',\n",
       " 'PoolQC_index',\n",
       " 'Fence_index',\n",
       " 'MiscFeature_index',\n",
       " 'SaleType_index',\n",
       " 'SaleCondition_index',\n",
       " 'Scaled_Features']"
      ]
     },
     "execution_count": 43,
     "metadata": {},
     "output_type": "execute_result"
    }
   ],
   "source": [
    "DF12.columns"
   ]
  },
  {
   "cell_type": "code",
   "execution_count": 44,
   "metadata": {
    "executionInfo": {
     "elapsed": 4,
     "status": "ok",
     "timestamp": 1659262175544,
     "user": {
      "displayName": "Prerna Waghray",
      "userId": "08074246852708739388"
     },
     "user_tz": -330
    },
    "id": "tWRgMYEq1TOC"
   },
   "outputs": [],
   "source": [
    "# Import VectorAssembler from pyspark.ml.feature package\n",
    "from pyspark.ml.feature import VectorAssembler\n",
    "# Create a list of all the variables that you want to create feature vectors\n",
    "# These features are then further used for training model\n",
    "features_col = ['MSZoning_index',\n",
    " 'Street_index',\n",
    " 'Alley_index',\n",
    " 'LotShape_index',\n",
    " 'LandContour_index',\n",
    " 'Utilities_index',\n",
    " 'LotConfig_index',\n",
    " 'LandSlope_index',\n",
    " 'Neighborhood_index',\n",
    " 'Condition1_index',\n",
    " 'Condition2_index',\n",
    " 'BldgType_index',\n",
    " 'HouseStyle_index',\n",
    " 'RoofStyle_index',\n",
    " 'RoofMatl_index',\n",
    " 'Exterior1st_index',\n",
    " 'Exterior2nd_index',\n",
    " 'MasVnrType_index',\n",
    " 'ExterQual_index',\n",
    " 'ExterCond_index',\n",
    " 'Foundation_index',\n",
    " 'BsmtQual_index',\n",
    " 'BsmtCond_index',\n",
    " 'BsmtExposure_index',\n",
    " 'BsmtFinType1_index',\n",
    " 'BsmtFinSF1_index',\n",
    " 'BsmtFinType2_index',\n",
    " 'BsmtFinSF2_index',\n",
    " 'BsmtUnfSF_index',\n",
    " 'TotalBsmtSF_index',\n",
    " 'Heating_index',\n",
    " 'HeatingQC_index',\n",
    " 'CentralAir_index',\n",
    " 'Electrical_index',\n",
    " 'BsmtFullBath_index',\n",
    " 'BsmtHalfBath_index',\n",
    " 'KitchenQual_index',\n",
    " 'Functional_index',\n",
    " 'FireplaceQu_index',\n",
    " 'GarageType_index',\n",
    " 'GarageFinish_index',\n",
    " 'GarageCars_index',\n",
    " 'GarageArea_index',\n",
    " 'GarageQual_index',\n",
    " 'GarageCond_index',\n",
    " 'PavedDrive_index',\n",
    " 'PoolQC_index',\n",
    " 'Fence_index',\n",
    " 'MiscFeature_index',\n",
    " 'SaleType_index',\n",
    " 'SaleCondition_index',\n",
    " 'Scaled_Features']\n",
    "# Create the VectorAssembler object\n",
    "assembler = VectorAssembler(inputCols=features_col, outputCol=\"independent_features\")\n",
    "DF13 = assembler.transform(DF12)\n",
    "final_DF = DF13.select('independent_features')"
   ]
  },
  {
   "cell_type": "code",
   "execution_count": 45,
   "metadata": {},
   "outputs": [
    {
     "name": "stdout",
     "output_type": "stream",
     "text": [
      "+--------------------+\n",
      "|independent_features|\n",
      "+--------------------+\n",
      "|(76,[0,9,20,24,25...|\n",
      "|(76,[3,6,13,15,16...|\n",
      "|(76,[3,8,12,21,25...|\n",
      "|(76,[3,8,12,17,25...|\n",
      "|(76,[3,4,8,11,15,...|\n",
      "|(76,[3,6,8,12,15,...|\n",
      "|(76,[3,8,15,16,19...|\n",
      "|(76,[3,8,12,21,24...|\n",
      "|(76,[8,15,16,21,2...|\n",
      "|(76,[6,15,16,20,2...|\n",
      "|(76,[0,3,6,11,15,...|\n",
      "|(76,[0,8,11,12,15...|\n",
      "|(76,[0,8,11,12,15...|\n",
      "|(76,[6,8,11,12,15...|\n",
      "|(76,[6,8,11,15,16...|\n",
      "|(76,[3,8,12,17,18...|\n",
      "|(76,[3,6,8,17,18,...|\n",
      "|(76,[8,9,13,17,18...|\n",
      "|(76,[3,8,13,15,16...|\n",
      "|(76,[4,7,8,13,17,...|\n",
      "+--------------------+\n",
      "only showing top 20 rows\n",
      "\n"
     ]
    },
    {
     "data": {
      "text/plain": [
       "pyspark.sql.dataframe.DataFrame"
      ]
     },
     "execution_count": 45,
     "metadata": {},
     "output_type": "execute_result"
    }
   ],
   "source": [
    "final_DF.show()"
   ]
  },
  {
   "cell_type": "markdown",
   "metadata": {
    "id": "sp1S02LQtcBD"
   },
   "source": [
    "We will apply the saved models to our cleaned test dataset"
   ]
  },
  {
   "cell_type": "code",
   "execution_count": 46,
   "metadata": {
    "executionInfo": {
     "elapsed": 3255,
     "status": "ok",
     "timestamp": 1659262189223,
     "user": {
      "displayName": "Prerna Waghray",
      "userId": "08074246852708739388"
     },
     "user_tz": -330
    },
    "id": "UgNcIYkgF9NA"
   },
   "outputs": [],
   "source": [
    "# Linear Regression\n",
    "from pyspark.ml.regression import LinearRegressionModel\n",
    "lr_model=LinearRegressionModel.load(\"generated_models/linearmodel\")"
   ]
  },
  {
   "cell_type": "code",
   "execution_count": 47,
   "metadata": {
    "colab": {
     "base_uri": "https://localhost:8080/"
    },
    "executionInfo": {
     "elapsed": 7,
     "status": "ok",
     "timestamp": 1659262189224,
     "user": {
      "displayName": "Prerna Waghray",
      "userId": "08074246852708739388"
     },
     "user_tz": -330
    },
    "id": "vjoP3HWiF8-O",
    "outputId": "a65b996c-051e-4fba-ec78-930adeb56a30"
   },
   "outputs": [
    {
     "data": {
      "text/plain": [
       "DenseVector([-2857.0925, -47968.1021, 1643.3955, 263.7653, -2083.8409, 0.0, -1231.1822, -53.0367, 460.9573, -3305.0283, -8459.24, -728.7072, 709.5898, 1183.653, -15633.982, 719.0596, -1010.4721, 2461.3493, 7510.0157, 281.3312, 1172.016, 5356.962, -960.5859, 3243.0437, -248.691, 516.9691, 2970.491, -870.4007, -983.3592, -1905.0134, 7098.3983, -3180.8034, 28.5964, 813.1712, 3240.1565, 3235.964, -541.4267, -702.6708, 34034.8004, 276.3908, -5753.7204, 1688.7708, -965.5654, -6013.0748, 6466.9888, 18682.8416, 7331.9977, 11375.9013, 2100.3906, 5062.4144, -1099.3225, -2407.1152, 8263.6284, -1797.3451, -3399.4822, -1825.9489, 30425.7122, 2471.9599, -84.5084, 2168.9866, 1830.2452, -3814.1159, -516.5243, 2815.1836, 3568.3722, 3910.1823, 3762.0656, 2126.2477, -1083.2873, 1508.8138, 1421.0493, 3793.6418, -2610.3263, -623.8505, -460.5123, -674.1686])"
      ]
     },
     "execution_count": 47,
     "metadata": {},
     "output_type": "execute_result"
    }
   ],
   "source": [
    "# Coefficients\n",
    "lr_model.coefficients"
   ]
  },
  {
   "cell_type": "code",
   "execution_count": 48,
   "metadata": {
    "colab": {
     "base_uri": "https://localhost:8080/"
    },
    "executionInfo": {
     "elapsed": 5,
     "status": "ok",
     "timestamp": 1659262193034,
     "user": {
      "displayName": "Prerna Waghray",
      "userId": "08074246852708739388"
     },
     "user_tz": -330
    },
    "id": "obkLek501VxA",
    "outputId": "780b8081-b116-406b-d367-90986cf25ef3"
   },
   "outputs": [
    {
     "data": {
      "text/plain": [
       "20906.40520492312"
      ]
     },
     "execution_count": 48,
     "metadata": {},
     "output_type": "execute_result"
    }
   ],
   "source": [
    "# Intercepts\n",
    "lr_model.intercept"
   ]
  },
  {
   "cell_type": "code",
   "execution_count": 49,
   "metadata": {
    "executionInfo": {
     "elapsed": 363,
     "status": "ok",
     "timestamp": 1659262196681,
     "user": {
      "displayName": "Prerna Waghray",
      "userId": "08074246852708739388"
     },
     "user_tz": -330
    },
    "id": "YuR5-RRIGtmh"
   },
   "outputs": [],
   "source": [
    "# Prediction\n",
    "pred_results_lr=lr_model.transform(final_DF)"
   ]
  },
  {
   "cell_type": "code",
   "execution_count": 50,
   "metadata": {
    "colab": {
     "base_uri": "https://localhost:8080/"
    },
    "executionInfo": {
     "elapsed": 404,
     "status": "ok",
     "timestamp": 1659262198879,
     "user": {
      "displayName": "Prerna Waghray",
      "userId": "08074246852708739388"
     },
     "user_tz": -330
    },
    "id": "tiUmdsKz1hJv",
    "outputId": "51ce5b75-4ae1-45d7-bed0-39a793a62505"
   },
   "outputs": [
    {
     "name": "stdout",
     "output_type": "stream",
     "text": [
      "+--------------------+------------------+\n",
      "|independent_features|        prediction|\n",
      "+--------------------+------------------+\n",
      "|(76,[0,9,20,24,25...| 1489813.835004431|\n",
      "|(76,[3,6,13,15,16...| 868992.3055432143|\n",
      "|(76,[3,8,12,21,25...|1641859.6081462593|\n",
      "|(76,[3,8,12,17,25...|1616720.1217185745|\n",
      "|(76,[3,4,8,11,15,...|1647978.7248497459|\n",
      "|(76,[3,6,8,12,15,...| 281354.4967799336|\n",
      "|(76,[3,8,15,16,19...|1567060.2115053588|\n",
      "|(76,[3,8,12,21,24...| 960317.9055176594|\n",
      "|(76,[8,15,16,21,2...|1329133.6725010204|\n",
      "|(76,[6,15,16,20,2...|1784890.5356217374|\n",
      "|(76,[0,3,6,11,15,...| 1224558.883760914|\n",
      "|(76,[0,8,11,12,15...|1308567.4337964135|\n",
      "|(76,[0,8,11,12,15...|1059170.3589270853|\n",
      "|(76,[6,8,11,12,15...|1790095.3337479106|\n",
      "|(76,[6,8,11,15,16...| 914572.9128193792|\n",
      "|(76,[3,8,12,17,18...| 278382.2140470559|\n",
      "|(76,[3,6,8,17,18,...| 43891.35004307772|\n",
      "|(76,[8,9,13,17,18...| 326546.1577776787|\n",
      "|(76,[3,8,13,15,16...|  856606.212390708|\n",
      "|(76,[4,7,8,13,17,...|-85442.35858420655|\n",
      "+--------------------+------------------+\n",
      "only showing top 20 rows\n",
      "\n"
     ]
    }
   ],
   "source": [
    "pred_results_lr.show()"
   ]
  },
  {
   "cell_type": "code",
   "execution_count": 51,
   "metadata": {
    "executionInfo": {
     "elapsed": 3962,
     "status": "ok",
     "timestamp": 1659262205443,
     "user": {
      "displayName": "Prerna Waghray",
      "userId": "08074246852708739388"
     },
     "user_tz": -330
    },
    "id": "fOJT4Kw8DNOi"
   },
   "outputs": [
    {
     "name": "stderr",
     "output_type": "stream",
     "text": [
      "WARNING: An illegal reflective access operation has occurred\n",
      "WARNING: Illegal reflective access by org.apache.spark.util.SizeEstimator$ (file:/root/anaconda3/lib/python3.9/site-packages/pyspark/jars/spark-core_2.12-3.3.1.jar) to field java.math.BigInteger.mag\n",
      "WARNING: Please consider reporting this to the maintainers of org.apache.spark.util.SizeEstimator$\n",
      "WARNING: Use --illegal-access=warn to enable warnings of further illegal reflective access operations\n",
      "WARNING: All illegal access operations will be denied in a future release\n"
     ]
    }
   ],
   "source": [
    "# Random Forest Regression\n",
    "from pyspark.ml.regression import RandomForestRegressionModel\n",
    "rf_model=RandomForestRegressionModel.load(\"generated_models/rfmodel\")"
   ]
  },
  {
   "cell_type": "code",
   "execution_count": 52,
   "metadata": {
    "executionInfo": {
     "elapsed": 6,
     "status": "ok",
     "timestamp": 1659262205444,
     "user": {
      "displayName": "Prerna Waghray",
      "userId": "08074246852708739388"
     },
     "user_tz": -330
    },
    "id": "X4JYrzxjDNAf"
   },
   "outputs": [],
   "source": [
    "# Prediction\n",
    "pred_results_rf=rf_model.transform(final_DF)"
   ]
  },
  {
   "cell_type": "code",
   "execution_count": 53,
   "metadata": {
    "colab": {
     "base_uri": "https://localhost:8080/"
    },
    "executionInfo": {
     "elapsed": 773,
     "status": "ok",
     "timestamp": 1659262211001,
     "user": {
      "displayName": "Prerna Waghray",
      "userId": "08074246852708739388"
     },
     "user_tz": -330
    },
    "id": "ovpfW9XxHG9x",
    "outputId": "696abfe1-bea1-4d13-d392-84301955c6f9"
   },
   "outputs": [
    {
     "name": "stdout",
     "output_type": "stream",
     "text": [
      "+--------------------+------------------+\n",
      "|independent_features|        prediction|\n",
      "+--------------------+------------------+\n",
      "|(76,[0,9,20,24,25...|147163.17771086574|\n",
      "|(76,[3,6,13,15,16...|180573.98072608537|\n",
      "|(76,[3,8,12,21,25...|166245.71174900996|\n",
      "|(76,[3,8,12,17,25...|160813.31645248504|\n",
      "|(76,[3,4,8,11,15,...|149449.43789227653|\n",
      "|(76,[3,6,8,12,15,...|153710.95837052216|\n",
      "|(76,[3,8,15,16,19...|163606.51895264184|\n",
      "|(76,[3,8,12,21,24...|146811.02504270457|\n",
      "|(76,[8,15,16,21,2...|156829.58190747543|\n",
      "|(76,[6,15,16,20,2...|148453.88508068526|\n",
      "|(76,[0,3,6,11,15,...|167069.44393840863|\n",
      "|(76,[0,8,11,12,15...|160739.60794460768|\n",
      "|(76,[0,8,11,12,15...|141079.08760605444|\n",
      "|(76,[6,8,11,12,15...|158382.87458250608|\n",
      "|(76,[6,8,11,15,16...| 141577.4497375889|\n",
      "|(76,[3,8,12,17,18...|164089.42440293374|\n",
      "|(76,[3,6,8,17,18,...|160474.29269886136|\n",
      "|(76,[8,9,13,17,18...|160494.94862969645|\n",
      "|(76,[3,8,13,15,16...|169661.84269305257|\n",
      "|(76,[4,7,8,13,17,...|219739.27643824913|\n",
      "+--------------------+------------------+\n",
      "only showing top 20 rows\n",
      "\n"
     ]
    }
   ],
   "source": [
    "pred_results_rf.show()"
   ]
  },
  {
   "cell_type": "code",
   "execution_count": 54,
   "metadata": {
    "executionInfo": {
     "elapsed": 3384,
     "status": "ok",
     "timestamp": 1659262220818,
     "user": {
      "displayName": "Prerna Waghray",
      "userId": "08074246852708739388"
     },
     "user_tz": -330
    },
    "id": "TJZHu0o-HG4k"
   },
   "outputs": [],
   "source": [
    "# Gradient Boost Regression\n",
    "from pyspark.ml.regression import GBTRegressionModel\n",
    "gbr_model=GBTRegressionModel.load(\"generated_models/gbrmodel\")"
   ]
  },
  {
   "cell_type": "code",
   "execution_count": 55,
   "metadata": {
    "executionInfo": {
     "elapsed": 6,
     "status": "ok",
     "timestamp": 1659262220820,
     "user": {
      "displayName": "Prerna Waghray",
      "userId": "08074246852708739388"
     },
     "user_tz": -330
    },
    "id": "b3ehgyy1HGrg"
   },
   "outputs": [],
   "source": [
    "pred_results_gb = gbr_model.transform(final_DF)"
   ]
  },
  {
   "cell_type": "code",
   "execution_count": 56,
   "metadata": {
    "colab": {
     "base_uri": "https://localhost:8080/"
    },
    "executionInfo": {
     "elapsed": 641,
     "status": "ok",
     "timestamp": 1659262222894,
     "user": {
      "displayName": "Prerna Waghray",
      "userId": "08074246852708739388"
     },
     "user_tz": -330
    },
    "id": "FKneR6XSM8Vo",
    "outputId": "37f62fda-187b-4224-a342-978a4fcc6519"
   },
   "outputs": [
    {
     "name": "stdout",
     "output_type": "stream",
     "text": [
      "23/02/08 14:22:17 WARN InstanceBuilder$NativeBLAS: Failed to load implementation from:dev.ludovic.netlib.blas.JNIBLAS\n",
      "23/02/08 14:22:17 WARN InstanceBuilder$NativeBLAS: Failed to load implementation from:dev.ludovic.netlib.blas.ForeignLinkerBLAS\n",
      "+--------------------+------------------+\n",
      "|independent_features|        prediction|\n",
      "+--------------------+------------------+\n",
      "|(76,[0,9,20,24,25...| 58205.14714140962|\n",
      "|(76,[3,6,13,15,16...|65309.127243216964|\n",
      "|(76,[3,8,12,21,25...| 75897.97012278036|\n",
      "|(76,[3,8,12,17,25...| 71260.46515116341|\n",
      "|(76,[3,4,8,11,15,...| 71429.92537059434|\n",
      "|(76,[3,6,8,12,15,...|65436.241823255914|\n",
      "|(76,[3,8,15,16,19...| 64621.42688327808|\n",
      "|(76,[3,8,12,21,24...| 73199.28151798372|\n",
      "|(76,[8,15,16,21,2...| 69800.48199147012|\n",
      "|(76,[6,15,16,20,2...| 58233.65416897122|\n",
      "|(76,[0,3,6,11,15,...|45331.073998627704|\n",
      "|(76,[0,8,11,12,15...| 50040.66272347527|\n",
      "|(76,[0,8,11,12,15...| 33601.06821755017|\n",
      "|(76,[6,8,11,12,15...| 70443.55525345495|\n",
      "|(76,[6,8,11,15,16...| 77372.81340516632|\n",
      "|(76,[3,8,12,17,18...| 92037.00259396707|\n",
      "|(76,[3,6,8,17,18,...| 86654.26452228522|\n",
      "|(76,[8,9,13,17,18...| 85021.03342284432|\n",
      "|(76,[3,8,13,15,16...| 82721.58379327104|\n",
      "|(76,[4,7,8,13,17,...|  97118.4741924672|\n",
      "+--------------------+------------------+\n",
      "only showing top 20 rows\n",
      "\n"
     ]
    }
   ],
   "source": [
    "pred_results_gb.show()"
   ]
  },
  {
   "cell_type": "code",
   "execution_count": 57,
   "metadata": {
    "executionInfo": {
     "elapsed": 3,
     "status": "ok",
     "timestamp": 1659262225408,
     "user": {
      "displayName": "Prerna Waghray",
      "userId": "08074246852708739388"
     },
     "user_tz": -330
    },
    "id": "LuyIKDlaEVep"
   },
   "outputs": [],
   "source": [
    "# Extracting output csv file for submission\n",
    "id_column = DF12.select(\"id\")"
   ]
  },
  {
   "cell_type": "code",
   "execution_count": 58,
   "metadata": {
    "executionInfo": {
     "elapsed": 355,
     "status": "ok",
     "timestamp": 1659262228410,
     "user": {
      "displayName": "Prerna Waghray",
      "userId": "08074246852708739388"
     },
     "user_tz": -330
    },
    "id": "euGORwDcGjIq"
   },
   "outputs": [],
   "source": [
    "pred_column = pred_results_rf.select(\"prediction\")"
   ]
  },
  {
   "cell_type": "code",
   "execution_count": 59,
   "metadata": {
    "executionInfo": {
     "elapsed": 402,
     "status": "ok",
     "timestamp": 1659262230529,
     "user": {
      "displayName": "Prerna Waghray",
      "userId": "08074246852708739388"
     },
     "user_tz": -330
    },
    "id": "Ei0Z3w27GbDH"
   },
   "outputs": [],
   "source": [
    "id_pandas = id_column.toPandas()"
   ]
  },
  {
   "cell_type": "code",
   "execution_count": 60,
   "metadata": {
    "executionInfo": {
     "elapsed": 770,
     "status": "ok",
     "timestamp": 1659262232116,
     "user": {
      "displayName": "Prerna Waghray",
      "userId": "08074246852708739388"
     },
     "user_tz": -330
    },
    "id": "nCFtpPOMIPPZ"
   },
   "outputs": [],
   "source": [
    "pred_pandas = pred_column.toPandas()"
   ]
  },
  {
   "cell_type": "code",
   "execution_count": 61,
   "metadata": {
    "colab": {
     "base_uri": "https://localhost:8080/"
    },
    "executionInfo": {
     "elapsed": 5,
     "status": "ok",
     "timestamp": 1659262233502,
     "user": {
      "displayName": "Prerna Waghray",
      "userId": "08074246852708739388"
     },
     "user_tz": -330
    },
    "id": "cQlpMLKCJjiz",
    "outputId": "703109b0-732a-4f7e-9e35-66d5944d2eaf"
   },
   "outputs": [
    {
     "data": {
      "text/plain": [
       "pandas.core.frame.DataFrame"
      ]
     },
     "execution_count": 61,
     "metadata": {},
     "output_type": "execute_result"
    }
   ],
   "source": [
    "type(id_pandas)"
   ]
  },
  {
   "cell_type": "code",
   "execution_count": 62,
   "metadata": {
    "executionInfo": {
     "elapsed": 3,
     "status": "ok",
     "timestamp": 1659262235574,
     "user": {
      "displayName": "Prerna Waghray",
      "userId": "08074246852708739388"
     },
     "user_tz": -330
    },
    "id": "E-9V-Z3cI5_N"
   },
   "outputs": [],
   "source": [
    "import pandas as pd\n",
    "submission = pd.concat([id_pandas,pred_pandas], axis=1)"
   ]
  },
  {
   "cell_type": "code",
   "execution_count": 63,
   "metadata": {
    "colab": {
     "base_uri": "https://localhost:8080/",
     "height": 419
    },
    "executionInfo": {
     "elapsed": 11,
     "status": "ok",
     "timestamp": 1659262238328,
     "user": {
      "displayName": "Prerna Waghray",
      "userId": "08074246852708739388"
     },
     "user_tz": -330
    },
    "id": "jvYGycmOKxT6",
    "outputId": "5afdc10a-bcbb-45db-c8a6-f01c3aee5b5d"
   },
   "outputs": [
    {
     "data": {
      "text/html": [
       "<div>\n",
       "<style scoped>\n",
       "    .dataframe tbody tr th:only-of-type {\n",
       "        vertical-align: middle;\n",
       "    }\n",
       "\n",
       "    .dataframe tbody tr th {\n",
       "        vertical-align: top;\n",
       "    }\n",
       "\n",
       "    .dataframe thead th {\n",
       "        text-align: right;\n",
       "    }\n",
       "</style>\n",
       "<table border=\"1\" class=\"dataframe\">\n",
       "  <thead>\n",
       "    <tr style=\"text-align: right;\">\n",
       "      <th></th>\n",
       "      <th>id</th>\n",
       "      <th>prediction</th>\n",
       "    </tr>\n",
       "  </thead>\n",
       "  <tbody>\n",
       "    <tr>\n",
       "      <th>0</th>\n",
       "      <td>1461</td>\n",
       "      <td>147163.177711</td>\n",
       "    </tr>\n",
       "    <tr>\n",
       "      <th>1</th>\n",
       "      <td>1462</td>\n",
       "      <td>180573.980726</td>\n",
       "    </tr>\n",
       "    <tr>\n",
       "      <th>2</th>\n",
       "      <td>1463</td>\n",
       "      <td>166245.711749</td>\n",
       "    </tr>\n",
       "    <tr>\n",
       "      <th>3</th>\n",
       "      <td>1464</td>\n",
       "      <td>160813.316452</td>\n",
       "    </tr>\n",
       "    <tr>\n",
       "      <th>4</th>\n",
       "      <td>1465</td>\n",
       "      <td>149449.437892</td>\n",
       "    </tr>\n",
       "    <tr>\n",
       "      <th>...</th>\n",
       "      <td>...</td>\n",
       "      <td>...</td>\n",
       "    </tr>\n",
       "    <tr>\n",
       "      <th>1454</th>\n",
       "      <td>2915</td>\n",
       "      <td>128780.992124</td>\n",
       "    </tr>\n",
       "    <tr>\n",
       "      <th>1455</th>\n",
       "      <td>2916</td>\n",
       "      <td>127249.487124</td>\n",
       "    </tr>\n",
       "    <tr>\n",
       "      <th>1456</th>\n",
       "      <td>2917</td>\n",
       "      <td>167386.945879</td>\n",
       "    </tr>\n",
       "    <tr>\n",
       "      <th>1457</th>\n",
       "      <td>2918</td>\n",
       "      <td>145812.913468</td>\n",
       "    </tr>\n",
       "    <tr>\n",
       "      <th>1458</th>\n",
       "      <td>2919</td>\n",
       "      <td>150172.581876</td>\n",
       "    </tr>\n",
       "  </tbody>\n",
       "</table>\n",
       "<p>1459 rows × 2 columns</p>\n",
       "</div>"
      ],
      "text/plain": [
       "        id     prediction\n",
       "0     1461  147163.177711\n",
       "1     1462  180573.980726\n",
       "2     1463  166245.711749\n",
       "3     1464  160813.316452\n",
       "4     1465  149449.437892\n",
       "...    ...            ...\n",
       "1454  2915  128780.992124\n",
       "1455  2916  127249.487124\n",
       "1456  2917  167386.945879\n",
       "1457  2918  145812.913468\n",
       "1458  2919  150172.581876\n",
       "\n",
       "[1459 rows x 2 columns]"
      ]
     },
     "execution_count": 63,
     "metadata": {},
     "output_type": "execute_result"
    }
   ],
   "source": [
    "submission"
   ]
  },
  {
   "cell_type": "code",
   "execution_count": 64,
   "metadata": {
    "executionInfo": {
     "elapsed": 3,
     "status": "ok",
     "timestamp": 1659262239996,
     "user": {
      "displayName": "Prerna Waghray",
      "userId": "08074246852708739388"
     },
     "user_tz": -330
    },
    "id": "_q5d9X_QJfMb"
   },
   "outputs": [],
   "source": [
    "submission.to_csv(\"data/final_predictions.csv\", index=False)"
   ]
  }
 ],
 "metadata": {
  "colab": {
   "collapsed_sections": [],
   "name": "Hackathon 2 - House price prediction - test.ipynb",
   "provenance": [
    {
     "file_id": "1yNedFfRyTBfqRSmPiJVLXadxvHbVg8yR",
     "timestamp": 1659114052991
    }
   ]
  },
  "kernelspec": {
   "display_name": "Python 3 (ipykernel)",
   "language": "python",
   "name": "python3"
  },
  "language_info": {
   "codemirror_mode": {
    "name": "ipython",
    "version": 3
   },
   "file_extension": ".py",
   "mimetype": "text/x-python",
   "name": "python",
   "nbconvert_exporter": "python",
   "pygments_lexer": "ipython3",
   "version": "3.9.7"
  }
 },
 "nbformat": 4,
 "nbformat_minor": 1
}
