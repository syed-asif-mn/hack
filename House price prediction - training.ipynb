{
 "cells": [
  {
   "cell_type": "code",
   "execution_count": 1,
   "metadata": {
    "colab": {
     "base_uri": "https://localhost:8080/"
    },
    "executionInfo": {
     "elapsed": 4492,
     "status": "ok",
     "timestamp": 1659260368174,
     "user": {
      "displayName": "Prerna Waghray",
      "userId": "08074246852708739388"
     },
     "user_tz": -330
    },
    "id": "VICaDPZYW8Ob",
    "outputId": "40c4960d-5223-4ec0-8f81-2479c29f7106"
   },
   "outputs": [],
   "source": [
    "import warnings\n",
    "warnings.filterwarnings('ignore')"
   ]
  },
  {
   "cell_type": "code",
   "execution_count": 2,
   "metadata": {},
   "outputs": [
    {
     "name": "stdout",
     "output_type": "stream",
     "text": [
      "Hit:1 http://us-east-1.ec2.archive.ubuntu.com/ubuntu jammy InRelease\n",
      "Get:2 http://us-east-1.ec2.archive.ubuntu.com/ubuntu jammy-updates InRelease [114 kB]\n",
      "Get:3 http://us-east-1.ec2.archive.ubuntu.com/ubuntu jammy-backports InRelease [107 kB]\n",
      "Get:4 http://security.ubuntu.com/ubuntu jammy-security InRelease [110 kB]      \n",
      "Fetched 331 kB in 0s (689 kB/s)    \n",
      "Reading package lists... Done\n"
     ]
    }
   ],
   "source": [
    "# Installing findspark\n",
    "!sudo apt-get update"
   ]
  },
  {
   "cell_type": "code",
   "execution_count": 3,
   "metadata": {},
   "outputs": [
    {
     "name": "stdout",
     "output_type": "stream",
     "text": [
      "Requirement already satisfied: findspark in /root/anaconda3/lib/python3.9/site-packages (2.0.1)\n",
      "\u001b[33mWARNING: Running pip as the 'root' user can result in broken permissions and conflicting behaviour with the system package manager. It is recommended to use a virtual environment instead: https://pip.pypa.io/warnings/venv\u001b[0m\n"
     ]
    }
   ],
   "source": [
    "# Installing findspark\n",
    "!pip install findspark"
   ]
  },
  {
   "cell_type": "code",
   "execution_count": 4,
   "metadata": {
    "colab": {
     "base_uri": "https://localhost:8080/"
    },
    "executionInfo": {
     "elapsed": 52775,
     "status": "ok",
     "timestamp": 1659260423632,
     "user": {
      "displayName": "Prerna Waghray",
      "userId": "08074246852708739388"
     },
     "user_tz": -330
    },
    "id": "qIYMowCfYWy1",
    "outputId": "44384964-564d-4ed6-a0c7-32a16ff2f9e6"
   },
   "outputs": [
    {
     "name": "stdout",
     "output_type": "stream",
     "text": [
      "Requirement already satisfied: pyspark in /root/anaconda3/lib/python3.9/site-packages (3.3.1)\n",
      "Requirement already satisfied: py4j==0.10.9.5 in /root/anaconda3/lib/python3.9/site-packages (from pyspark) (0.10.9.5)\n",
      "\u001b[33mWARNING: Running pip as the 'root' user can result in broken permissions and conflicting behaviour with the system package manager. It is recommended to use a virtual environment instead: https://pip.pypa.io/warnings/venv\u001b[0m\n"
     ]
    }
   ],
   "source": [
    "# Installing pyspark\n",
    "!pip install pyspark"
   ]
  },
  {
   "cell_type": "code",
   "execution_count": 5,
   "metadata": {
    "executionInfo": {
     "elapsed": 13649,
     "status": "ok",
     "timestamp": 1659260450835,
     "user": {
      "displayName": "Prerna Waghray",
      "userId": "08074246852708739388"
     },
     "user_tz": -330
    },
    "id": "12tJ7pkUZbLr"
   },
   "outputs": [],
   "source": [
    "# Installing java\n",
    "!apt-get install openjdk-8-jdk-headless -qq > /dev/null"
   ]
  },
  {
   "cell_type": "code",
   "execution_count": 6,
   "metadata": {
    "scrolled": true
   },
   "outputs": [
    {
     "name": "stdout",
     "output_type": "stream",
     "text": [
      "Requirement already satisfied: sdv in /root/anaconda3/lib/python3.9/site-packages (0.18.0)\n",
      "Requirement already satisfied: copulas<0.9,>=0.8.0 in /root/anaconda3/lib/python3.9/site-packages (from sdv) (0.8.0)\n",
      "Requirement already satisfied: deepecho<0.5,>=0.4.0 in /root/anaconda3/lib/python3.9/site-packages (from sdv) (0.4.0)\n",
      "Requirement already satisfied: pandas<2,>=1.1.3 in /root/anaconda3/lib/python3.9/site-packages (from sdv) (1.3.4)\n",
      "Requirement already satisfied: ctgan<0.8,>=0.7.0 in /root/anaconda3/lib/python3.9/site-packages (from sdv) (0.7.0)\n",
      "Requirement already satisfied: rdt<2,>=1.3.0 in /root/anaconda3/lib/python3.9/site-packages (from sdv) (1.3.0)\n",
      "Requirement already satisfied: numpy<2,>=1.20.0 in /root/anaconda3/lib/python3.9/site-packages (from sdv) (1.20.3)\n",
      "Requirement already satisfied: cloudpickle<3.0,>=2.1.0 in /root/anaconda3/lib/python3.9/site-packages (from sdv) (2.2.1)\n",
      "Requirement already satisfied: sdmetrics<0.10,>=0.9.0 in /root/anaconda3/lib/python3.9/site-packages (from sdv) (0.9.0)\n",
      "Requirement already satisfied: tqdm<5,>=4.15 in /root/anaconda3/lib/python3.9/site-packages (from sdv) (4.62.3)\n",
      "Requirement already satisfied: Faker<15,>=10 in /root/anaconda3/lib/python3.9/site-packages (from sdv) (14.2.1)\n",
      "Requirement already satisfied: graphviz<1,>=0.13.2 in /root/anaconda3/lib/python3.9/site-packages (from sdv) (0.20.1)\n",
      "Requirement already satisfied: matplotlib<4,>=3.4.0 in /root/anaconda3/lib/python3.9/site-packages (from copulas<0.9,>=0.8.0->sdv) (3.4.3)\n",
      "Requirement already satisfied: scipy<2,>=1.5.4 in /root/anaconda3/lib/python3.9/site-packages (from copulas<0.9,>=0.8.0->sdv) (1.7.1)\n",
      "Requirement already satisfied: torch<2,>=1.8.0 in /root/anaconda3/lib/python3.9/site-packages (from ctgan<0.8,>=0.7.0->sdv) (1.13.1)\n",
      "Requirement already satisfied: packaging<22,>=20 in /root/anaconda3/lib/python3.9/site-packages (from ctgan<0.8,>=0.7.0->sdv) (21.0)\n",
      "Requirement already satisfied: python-dateutil>=2.4 in /root/anaconda3/lib/python3.9/site-packages (from Faker<15,>=10->sdv) (2.8.2)\n",
      "Requirement already satisfied: cycler>=0.10 in /root/anaconda3/lib/python3.9/site-packages (from matplotlib<4,>=3.4.0->copulas<0.9,>=0.8.0->sdv) (0.10.0)\n",
      "Requirement already satisfied: pyparsing>=2.2.1 in /root/anaconda3/lib/python3.9/site-packages (from matplotlib<4,>=3.4.0->copulas<0.9,>=0.8.0->sdv) (3.0.4)\n",
      "Requirement already satisfied: pillow>=6.2.0 in /root/anaconda3/lib/python3.9/site-packages (from matplotlib<4,>=3.4.0->copulas<0.9,>=0.8.0->sdv) (8.4.0)\n",
      "Requirement already satisfied: kiwisolver>=1.0.1 in /root/anaconda3/lib/python3.9/site-packages (from matplotlib<4,>=3.4.0->copulas<0.9,>=0.8.0->sdv) (1.3.1)\n",
      "Requirement already satisfied: six in /root/anaconda3/lib/python3.9/site-packages (from cycler>=0.10->matplotlib<4,>=3.4.0->copulas<0.9,>=0.8.0->sdv) (1.16.0)\n",
      "Requirement already satisfied: pytz>=2017.3 in /root/anaconda3/lib/python3.9/site-packages (from pandas<2,>=1.1.3->sdv) (2021.3)\n",
      "Requirement already satisfied: psutil<6,>=5.7 in /root/anaconda3/lib/python3.9/site-packages (from rdt<2,>=1.3.0->sdv) (5.8.0)\n",
      "Requirement already satisfied: scikit-learn<2,>=0.24 in /root/anaconda3/lib/python3.9/site-packages (from rdt<2,>=1.3.0->sdv) (0.24.2)\n",
      "Requirement already satisfied: joblib>=0.11 in /root/anaconda3/lib/python3.9/site-packages (from scikit-learn<2,>=0.24->rdt<2,>=1.3.0->sdv) (1.1.0)\n",
      "Requirement already satisfied: threadpoolctl>=2.0.0 in /root/anaconda3/lib/python3.9/site-packages (from scikit-learn<2,>=0.24->rdt<2,>=1.3.0->sdv) (2.2.0)\n",
      "Requirement already satisfied: plotly<6,>=5.10.0 in /root/anaconda3/lib/python3.9/site-packages (from sdmetrics<0.10,>=0.9.0->sdv) (5.13.0)\n",
      "Requirement already satisfied: tenacity>=6.2.0 in /root/anaconda3/lib/python3.9/site-packages (from plotly<6,>=5.10.0->sdmetrics<0.10,>=0.9.0->sdv) (8.1.0)\n",
      "Requirement already satisfied: nvidia-cuda-nvrtc-cu11==11.7.99 in /root/anaconda3/lib/python3.9/site-packages (from torch<2,>=1.8.0->ctgan<0.8,>=0.7.0->sdv) (11.7.99)\n",
      "Requirement already satisfied: nvidia-cudnn-cu11==8.5.0.96 in /root/anaconda3/lib/python3.9/site-packages (from torch<2,>=1.8.0->ctgan<0.8,>=0.7.0->sdv) (8.5.0.96)\n",
      "Requirement already satisfied: typing-extensions in /root/anaconda3/lib/python3.9/site-packages (from torch<2,>=1.8.0->ctgan<0.8,>=0.7.0->sdv) (3.10.0.2)\n",
      "Requirement already satisfied: nvidia-cuda-runtime-cu11==11.7.99 in /root/anaconda3/lib/python3.9/site-packages (from torch<2,>=1.8.0->ctgan<0.8,>=0.7.0->sdv) (11.7.99)\n",
      "Requirement already satisfied: nvidia-cublas-cu11==11.10.3.66 in /root/anaconda3/lib/python3.9/site-packages (from torch<2,>=1.8.0->ctgan<0.8,>=0.7.0->sdv) (11.10.3.66)\n",
      "Requirement already satisfied: wheel in /root/anaconda3/lib/python3.9/site-packages (from nvidia-cublas-cu11==11.10.3.66->torch<2,>=1.8.0->ctgan<0.8,>=0.7.0->sdv) (0.37.0)\n",
      "Requirement already satisfied: setuptools in /root/anaconda3/lib/python3.9/site-packages (from nvidia-cublas-cu11==11.10.3.66->torch<2,>=1.8.0->ctgan<0.8,>=0.7.0->sdv) (58.0.4)\n",
      "\u001b[33mWARNING: Running pip as the 'root' user can result in broken permissions and conflicting behaviour with the system package manager. It is recommended to use a virtual environment instead: https://pip.pypa.io/warnings/venv\u001b[0m\n"
     ]
    }
   ],
   "source": [
    "# Installing sdv for data synthesis\n",
    "!pip install sdv"
   ]
  },
  {
   "cell_type": "code",
   "execution_count": 7,
   "metadata": {
    "colab": {
     "base_uri": "https://localhost:8080/"
    },
    "executionInfo": {
     "elapsed": 19094,
     "status": "ok",
     "timestamp": 1659260536447,
     "user": {
      "displayName": "Prerna Waghray",
      "userId": "08074246852708739388"
     },
     "user_tz": -330
    },
    "id": "MTGqOrjvZcvy",
    "outputId": "66208399-575d-4dad-ec91-9e0b5eb2b1cc"
   },
   "outputs": [
    {
     "name": "stdout",
     "output_type": "stream",
     "text": [
      "File ‘spark-3.3.1-bin-hadoop2.tgz’ already there; not retrieving.\r\n",
      "\r\n"
     ]
    }
   ],
   "source": [
    "# Installing spark\n",
    "!wget -nc https://downloads.apache.org/spark/spark-3.3.1/spark-3.3.1-bin-hadoop2.tgz"
   ]
  },
  {
   "cell_type": "code",
   "execution_count": 8,
   "metadata": {
    "executionInfo": {
     "elapsed": 382,
     "status": "ok",
     "timestamp": 1659260541651,
     "user": {
      "displayName": "Prerna Waghray",
      "userId": "08074246852708739388"
     },
     "user_tz": -330
    },
    "id": "8HVRGGVPcuwy"
   },
   "outputs": [],
   "source": [
    "import findspark\n",
    "findspark.init()"
   ]
  },
  {
   "cell_type": "code",
   "execution_count": 9,
   "metadata": {
    "colab": {
     "base_uri": "https://localhost:8080/",
     "height": 216
    },
    "executionInfo": {
     "elapsed": 9053,
     "status": "ok",
     "timestamp": 1659260558195,
     "user": {
      "displayName": "Prerna Waghray",
      "userId": "08074246852708739388"
     },
     "user_tz": -330
    },
    "id": "x_D27qHMXuZ1",
    "outputId": "8e6c6392-702f-427f-f6fc-d8233a027b29"
   },
   "outputs": [
    {
     "name": "stderr",
     "output_type": "stream",
     "text": [
      "Setting default log level to \"WARN\".\n",
      "To adjust logging level use sc.setLogLevel(newLevel). For SparkR, use setLogLevel(newLevel).\n"
     ]
    },
    {
     "name": "stdout",
     "output_type": "stream",
     "text": [
      "23/02/05 17:05:43 WARN NativeCodeLoader: Unable to load native-hadoop library for your platform... using builtin-java classes where applicable\n",
      "23/02/05 17:05:44 WARN Utils: Service 'SparkUI' could not bind on port 4040. Attempting port 4041.\n"
     ]
    },
    {
     "data": {
      "text/html": [
       "\n",
       "            <div>\n",
       "                <p><b>SparkSession - in-memory</b></p>\n",
       "                \n",
       "        <div>\n",
       "            <p><b>SparkContext</b></p>\n",
       "\n",
       "            <p><a href=\"http://ip-172-31-22-154.ec2.internal:4041\">Spark UI</a></p>\n",
       "\n",
       "            <dl>\n",
       "              <dt>Version</dt>\n",
       "                <dd><code>v3.3.1</code></dd>\n",
       "              <dt>Master</dt>\n",
       "                <dd><code>local[*]</code></dd>\n",
       "              <dt>AppName</dt>\n",
       "                <dd><code>House Price Prediction</code></dd>\n",
       "            </dl>\n",
       "        </div>\n",
       "        \n",
       "            </div>\n",
       "        "
      ],
      "text/plain": [
       "<pyspark.sql.session.SparkSession at 0x7fde100edb20>"
      ]
     },
     "execution_count": 9,
     "metadata": {},
     "output_type": "execute_result"
    }
   ],
   "source": [
    "# Creating a spark session\n",
    "from pyspark.sql import DataFrame, SparkSession\n",
    "spark = SparkSession.builder.appName(\"House Price Prediction\").getOrCreate()\n",
    "spark"
   ]
  },
  {
   "cell_type": "code",
   "execution_count": 10,
   "metadata": {
    "executionInfo": {
     "elapsed": 376,
     "status": "ok",
     "timestamp": 1659260561899,
     "user": {
      "displayName": "Prerna Waghray",
      "userId": "08074246852708739388"
     },
     "user_tz": -330
    },
    "id": "U3FnE-5gX_7f"
   },
   "outputs": [],
   "source": [
    "# Specifying the file path\n",
    "file_location = \"data/train.csv\"\n",
    "file_type = \"csv\"\n",
    "# CSV options\n",
    "infer_schema = True\n",
    "first_row_is_header = True\n",
    "delimiter = \",\""
   ]
  },
  {
   "cell_type": "code",
   "execution_count": 11,
   "metadata": {
    "executionInfo": {
     "elapsed": 7781,
     "status": "ok",
     "timestamp": 1659260576390,
     "user": {
      "displayName": "Prerna Waghray",
      "userId": "08074246852708739388"
     },
     "user_tz": -330
    },
    "id": "4zd96WKbdmTf"
   },
   "outputs": [],
   "source": [
    "# The applied options are for CSV files. For other file types, these will be ignored.\n",
    "DF = spark.read.format(file_type) \\\n",
    "  .option(\"inferSchema\", infer_schema) \\\n",
    "  .option(\"header\", first_row_is_header) \\\n",
    "  .option(\"sep\", delimiter) \\\n",
    "  .load(file_location)"
   ]
  },
  {
   "cell_type": "code",
   "execution_count": 12,
   "metadata": {
    "colab": {
     "base_uri": "https://localhost:8080/"
    },
    "executionInfo": {
     "elapsed": 2066,
     "status": "ok",
     "timestamp": 1659260582256,
     "user": {
      "displayName": "Prerna Waghray",
      "userId": "08074246852708739388"
     },
     "user_tz": -330
    },
    "id": "K_ba4Fq2ds72",
    "outputId": "f01b417b-9807-46ff-8853-2049bea03a07"
   },
   "outputs": [
    {
     "name": "stdout",
     "output_type": "stream",
     "text": [
      "23/02/05 17:05:50 WARN package: Truncated the string representation of a plan since it was too large. This behavior can be adjusted by setting 'spark.sql.debug.maxToStringFields'.\n",
      "+---+----------+--------+-----------+-------+------+-----+--------+-----------+---------+---------+---------+------------+----------+----------+--------+----------+-----------+-----------+---------+------------+---------+--------+-----------+-----------+----------+----------+---------+---------+----------+--------+--------+------------+------------+----------+------------+----------+---------+-----------+-------+---------+----------+----------+--------+--------+------------+---------+------------+------------+--------+--------+------------+------------+-----------+------------+----------+----------+-----------+----------+-----------+------------+----------+----------+----------+----------+----------+----------+-----------+-------------+---------+-----------+--------+------+-----+-----------+-------+------+------+--------+-------------+---------+\n",
      "|Id |MSSubClass|MSZoning|LotFrontage|LotArea|Street|Alley|LotShape|LandContour|Utilities|LotConfig|LandSlope|Neighborhood|Condition1|Condition2|BldgType|HouseStyle|OverallQual|OverallCond|YearBuilt|YearRemodAdd|RoofStyle|RoofMatl|Exterior1st|Exterior2nd|MasVnrType|MasVnrArea|ExterQual|ExterCond|Foundation|BsmtQual|BsmtCond|BsmtExposure|BsmtFinType1|BsmtFinSF1|BsmtFinType2|BsmtFinSF2|BsmtUnfSF|TotalBsmtSF|Heating|HeatingQC|CentralAir|Electrical|1stFlrSF|2ndFlrSF|LowQualFinSF|GrLivArea|BsmtFullBath|BsmtHalfBath|FullBath|HalfBath|BedroomAbvGr|KitchenAbvGr|KitchenQual|TotRmsAbvGrd|Functional|Fireplaces|FireplaceQu|GarageType|GarageYrBlt|GarageFinish|GarageCars|GarageArea|GarageQual|GarageCond|PavedDrive|WoodDeckSF|OpenPorchSF|EnclosedPorch|3SsnPorch|ScreenPorch|PoolArea|PoolQC|Fence|MiscFeature|MiscVal|MoSold|YrSold|SaleType|SaleCondition|SalePrice|\n",
      "+---+----------+--------+-----------+-------+------+-----+--------+-----------+---------+---------+---------+------------+----------+----------+--------+----------+-----------+-----------+---------+------------+---------+--------+-----------+-----------+----------+----------+---------+---------+----------+--------+--------+------------+------------+----------+------------+----------+---------+-----------+-------+---------+----------+----------+--------+--------+------------+---------+------------+------------+--------+--------+------------+------------+-----------+------------+----------+----------+-----------+----------+-----------+------------+----------+----------+----------+----------+----------+----------+-----------+-------------+---------+-----------+--------+------+-----+-----------+-------+------+------+--------+-------------+---------+\n",
      "|1  |60        |RL      |65         |8450   |Pave  |NA   |Reg     |Lvl        |AllPub   |Inside   |Gtl      |CollgCr     |Norm      |Norm      |1Fam    |2Story    |7          |5          |2003     |2003        |Gable    |CompShg |VinylSd    |VinylSd    |BrkFace   |196       |Gd       |TA       |PConc     |Gd      |TA      |No          |GLQ         |706       |Unf         |0         |150      |856        |GasA   |Ex       |Y         |SBrkr     |856     |854     |0           |1710     |1           |0           |2       |1       |3           |1           |Gd         |8           |Typ       |0         |NA         |Attchd    |2003       |RFn         |2         |548       |TA        |TA        |Y         |0         |61         |0            |0        |0          |0       |NA    |NA   |NA         |0      |2     |2008  |WD      |Normal       |208500   |\n",
      "|2  |20        |RL      |80         |9600   |Pave  |NA   |Reg     |Lvl        |AllPub   |FR2      |Gtl      |Veenker     |Feedr     |Norm      |1Fam    |1Story    |6          |8          |1976     |1976        |Gable    |CompShg |MetalSd    |MetalSd    |None      |0         |TA       |TA       |CBlock    |Gd      |TA      |Gd          |ALQ         |978       |Unf         |0         |284      |1262       |GasA   |Ex       |Y         |SBrkr     |1262    |0       |0           |1262     |0           |1           |2       |0       |3           |1           |TA         |6           |Typ       |1         |TA         |Attchd    |1976       |RFn         |2         |460       |TA        |TA        |Y         |298       |0          |0            |0        |0          |0       |NA    |NA   |NA         |0      |5     |2007  |WD      |Normal       |181500   |\n",
      "|3  |60        |RL      |68         |11250  |Pave  |NA   |IR1     |Lvl        |AllPub   |Inside   |Gtl      |CollgCr     |Norm      |Norm      |1Fam    |2Story    |7          |5          |2001     |2002        |Gable    |CompShg |VinylSd    |VinylSd    |BrkFace   |162       |Gd       |TA       |PConc     |Gd      |TA      |Mn          |GLQ         |486       |Unf         |0         |434      |920        |GasA   |Ex       |Y         |SBrkr     |920     |866     |0           |1786     |1           |0           |2       |1       |3           |1           |Gd         |6           |Typ       |1         |TA         |Attchd    |2001       |RFn         |2         |608       |TA        |TA        |Y         |0         |42         |0            |0        |0          |0       |NA    |NA   |NA         |0      |9     |2008  |WD      |Normal       |223500   |\n",
      "|4  |70        |RL      |60         |9550   |Pave  |NA   |IR1     |Lvl        |AllPub   |Corner   |Gtl      |Crawfor     |Norm      |Norm      |1Fam    |2Story    |7          |5          |1915     |1970        |Gable    |CompShg |Wd Sdng    |Wd Shng    |None      |0         |TA       |TA       |BrkTil    |TA      |Gd      |No          |ALQ         |216       |Unf         |0         |540      |756        |GasA   |Gd       |Y         |SBrkr     |961     |756     |0           |1717     |1           |0           |1       |0       |3           |1           |Gd         |7           |Typ       |1         |Gd         |Detchd    |1998       |Unf         |3         |642       |TA        |TA        |Y         |0         |35         |272          |0        |0          |0       |NA    |NA   |NA         |0      |2     |2006  |WD      |Abnorml      |140000   |\n",
      "|5  |60        |RL      |84         |14260  |Pave  |NA   |IR1     |Lvl        |AllPub   |FR2      |Gtl      |NoRidge     |Norm      |Norm      |1Fam    |2Story    |8          |5          |2000     |2000        |Gable    |CompShg |VinylSd    |VinylSd    |BrkFace   |350       |Gd       |TA       |PConc     |Gd      |TA      |Av          |GLQ         |655       |Unf         |0         |490      |1145       |GasA   |Ex       |Y         |SBrkr     |1145    |1053    |0           |2198     |1           |0           |2       |1       |4           |1           |Gd         |9           |Typ       |1         |TA         |Attchd    |2000       |RFn         |3         |836       |TA        |TA        |Y         |192       |84         |0            |0        |0          |0       |NA    |NA   |NA         |0      |12    |2008  |WD      |Normal       |250000   |\n",
      "|6  |50        |RL      |85         |14115  |Pave  |NA   |IR1     |Lvl        |AllPub   |Inside   |Gtl      |Mitchel     |Norm      |Norm      |1Fam    |1.5Fin    |5          |5          |1993     |1995        |Gable    |CompShg |VinylSd    |VinylSd    |None      |0         |TA       |TA       |Wood      |Gd      |TA      |No          |GLQ         |732       |Unf         |0         |64       |796        |GasA   |Ex       |Y         |SBrkr     |796     |566     |0           |1362     |1           |0           |1       |1       |1           |1           |TA         |5           |Typ       |0         |NA         |Attchd    |1993       |Unf         |2         |480       |TA        |TA        |Y         |40        |30         |0            |320      |0          |0       |NA    |MnPrv|Shed       |700    |10    |2009  |WD      |Normal       |143000   |\n",
      "|7  |20        |RL      |75         |10084  |Pave  |NA   |Reg     |Lvl        |AllPub   |Inside   |Gtl      |Somerst     |Norm      |Norm      |1Fam    |1Story    |8          |5          |2004     |2005        |Gable    |CompShg |VinylSd    |VinylSd    |Stone     |186       |Gd       |TA       |PConc     |Ex      |TA      |Av          |GLQ         |1369      |Unf         |0         |317      |1686       |GasA   |Ex       |Y         |SBrkr     |1694    |0       |0           |1694     |1           |0           |2       |0       |3           |1           |Gd         |7           |Typ       |1         |Gd         |Attchd    |2004       |RFn         |2         |636       |TA        |TA        |Y         |255       |57         |0            |0        |0          |0       |NA    |NA   |NA         |0      |8     |2007  |WD      |Normal       |307000   |\n",
      "|8  |60        |RL      |NA         |10382  |Pave  |NA   |IR1     |Lvl        |AllPub   |Corner   |Gtl      |NWAmes      |PosN      |Norm      |1Fam    |2Story    |7          |6          |1973     |1973        |Gable    |CompShg |HdBoard    |HdBoard    |Stone     |240       |TA       |TA       |CBlock    |Gd      |TA      |Mn          |ALQ         |859       |BLQ         |32        |216      |1107       |GasA   |Ex       |Y         |SBrkr     |1107    |983     |0           |2090     |1           |0           |2       |1       |3           |1           |TA         |7           |Typ       |2         |TA         |Attchd    |1973       |RFn         |2         |484       |TA        |TA        |Y         |235       |204        |228          |0        |0          |0       |NA    |NA   |Shed       |350    |11    |2009  |WD      |Normal       |200000   |\n",
      "|9  |50        |RM      |51         |6120   |Pave  |NA   |Reg     |Lvl        |AllPub   |Inside   |Gtl      |OldTown     |Artery    |Norm      |1Fam    |1.5Fin    |7          |5          |1931     |1950        |Gable    |CompShg |BrkFace    |Wd Shng    |None      |0         |TA       |TA       |BrkTil    |TA      |TA      |No          |Unf         |0         |Unf         |0         |952      |952        |GasA   |Gd       |Y         |FuseF     |1022    |752     |0           |1774     |0           |0           |2       |0       |2           |2           |TA         |8           |Min1      |2         |TA         |Detchd    |1931       |Unf         |2         |468       |Fa        |TA        |Y         |90        |0          |205          |0        |0          |0       |NA    |NA   |NA         |0      |4     |2008  |WD      |Abnorml      |129900   |\n",
      "|10 |190       |RL      |50         |7420   |Pave  |NA   |Reg     |Lvl        |AllPub   |Corner   |Gtl      |BrkSide     |Artery    |Artery    |2fmCon  |1.5Unf    |5          |6          |1939     |1950        |Gable    |CompShg |MetalSd    |MetalSd    |None      |0         |TA       |TA       |BrkTil    |TA      |TA      |No          |GLQ         |851       |Unf         |0         |140      |991        |GasA   |Ex       |Y         |SBrkr     |1077    |0       |0           |1077     |1           |0           |1       |0       |2           |2           |TA         |5           |Typ       |2         |TA         |Attchd    |1939       |RFn         |1         |205       |Gd        |TA        |Y         |0         |4          |0            |0        |0          |0       |NA    |NA   |NA         |0      |1     |2008  |WD      |Normal       |118000   |\n",
      "+---+----------+--------+-----------+-------+------+-----+--------+-----------+---------+---------+---------+------------+----------+----------+--------+----------+-----------+-----------+---------+------------+---------+--------+-----------+-----------+----------+----------+---------+---------+----------+--------+--------+------------+------------+----------+------------+----------+---------+-----------+-------+---------+----------+----------+--------+--------+------------+---------+------------+------------+--------+--------+------------+------------+-----------+------------+----------+----------+-----------+----------+-----------+------------+----------+----------+----------+----------+----------+----------+-----------+-------------+---------+-----------+--------+------+-----+-----------+-------+------+------+--------+-------------+---------+\n",
      "only showing top 10 rows\n",
      "\n"
     ]
    }
   ],
   "source": [
    "# Reviewing the dataset\n",
    "DF.show(10, False)"
   ]
  },
  {
   "cell_type": "code",
   "execution_count": 13,
   "metadata": {
    "colab": {
     "base_uri": "https://localhost:8080/"
    },
    "executionInfo": {
     "elapsed": 401,
     "status": "ok",
     "timestamp": 1659260586142,
     "user": {
      "displayName": "Prerna Waghray",
      "userId": "08074246852708739388"
     },
     "user_tz": -330
    },
    "id": "sT_zxvopeJf5",
    "outputId": "3e967225-3054-4352-af97-6030b7c76ce0"
   },
   "outputs": [
    {
     "name": "stdout",
     "output_type": "stream",
     "text": [
      "root\n",
      " |-- Id: integer (nullable = true)\n",
      " |-- MSSubClass: integer (nullable = true)\n",
      " |-- MSZoning: string (nullable = true)\n",
      " |-- LotFrontage: string (nullable = true)\n",
      " |-- LotArea: integer (nullable = true)\n",
      " |-- Street: string (nullable = true)\n",
      " |-- Alley: string (nullable = true)\n",
      " |-- LotShape: string (nullable = true)\n",
      " |-- LandContour: string (nullable = true)\n",
      " |-- Utilities: string (nullable = true)\n",
      " |-- LotConfig: string (nullable = true)\n",
      " |-- LandSlope: string (nullable = true)\n",
      " |-- Neighborhood: string (nullable = true)\n",
      " |-- Condition1: string (nullable = true)\n",
      " |-- Condition2: string (nullable = true)\n",
      " |-- BldgType: string (nullable = true)\n",
      " |-- HouseStyle: string (nullable = true)\n",
      " |-- OverallQual: integer (nullable = true)\n",
      " |-- OverallCond: integer (nullable = true)\n",
      " |-- YearBuilt: integer (nullable = true)\n",
      " |-- YearRemodAdd: integer (nullable = true)\n",
      " |-- RoofStyle: string (nullable = true)\n",
      " |-- RoofMatl: string (nullable = true)\n",
      " |-- Exterior1st: string (nullable = true)\n",
      " |-- Exterior2nd: string (nullable = true)\n",
      " |-- MasVnrType: string (nullable = true)\n",
      " |-- MasVnrArea: string (nullable = true)\n",
      " |-- ExterQual: string (nullable = true)\n",
      " |-- ExterCond: string (nullable = true)\n",
      " |-- Foundation: string (nullable = true)\n",
      " |-- BsmtQual: string (nullable = true)\n",
      " |-- BsmtCond: string (nullable = true)\n",
      " |-- BsmtExposure: string (nullable = true)\n",
      " |-- BsmtFinType1: string (nullable = true)\n",
      " |-- BsmtFinSF1: integer (nullable = true)\n",
      " |-- BsmtFinType2: string (nullable = true)\n",
      " |-- BsmtFinSF2: integer (nullable = true)\n",
      " |-- BsmtUnfSF: integer (nullable = true)\n",
      " |-- TotalBsmtSF: integer (nullable = true)\n",
      " |-- Heating: string (nullable = true)\n",
      " |-- HeatingQC: string (nullable = true)\n",
      " |-- CentralAir: string (nullable = true)\n",
      " |-- Electrical: string (nullable = true)\n",
      " |-- 1stFlrSF: integer (nullable = true)\n",
      " |-- 2ndFlrSF: integer (nullable = true)\n",
      " |-- LowQualFinSF: integer (nullable = true)\n",
      " |-- GrLivArea: integer (nullable = true)\n",
      " |-- BsmtFullBath: integer (nullable = true)\n",
      " |-- BsmtHalfBath: integer (nullable = true)\n",
      " |-- FullBath: integer (nullable = true)\n",
      " |-- HalfBath: integer (nullable = true)\n",
      " |-- BedroomAbvGr: integer (nullable = true)\n",
      " |-- KitchenAbvGr: integer (nullable = true)\n",
      " |-- KitchenQual: string (nullable = true)\n",
      " |-- TotRmsAbvGrd: integer (nullable = true)\n",
      " |-- Functional: string (nullable = true)\n",
      " |-- Fireplaces: integer (nullable = true)\n",
      " |-- FireplaceQu: string (nullable = true)\n",
      " |-- GarageType: string (nullable = true)\n",
      " |-- GarageYrBlt: string (nullable = true)\n",
      " |-- GarageFinish: string (nullable = true)\n",
      " |-- GarageCars: integer (nullable = true)\n",
      " |-- GarageArea: integer (nullable = true)\n",
      " |-- GarageQual: string (nullable = true)\n",
      " |-- GarageCond: string (nullable = true)\n",
      " |-- PavedDrive: string (nullable = true)\n",
      " |-- WoodDeckSF: integer (nullable = true)\n",
      " |-- OpenPorchSF: integer (nullable = true)\n",
      " |-- EnclosedPorch: integer (nullable = true)\n",
      " |-- 3SsnPorch: integer (nullable = true)\n",
      " |-- ScreenPorch: integer (nullable = true)\n",
      " |-- PoolArea: integer (nullable = true)\n",
      " |-- PoolQC: string (nullable = true)\n",
      " |-- Fence: string (nullable = true)\n",
      " |-- MiscFeature: string (nullable = true)\n",
      " |-- MiscVal: integer (nullable = true)\n",
      " |-- MoSold: integer (nullable = true)\n",
      " |-- YrSold: integer (nullable = true)\n",
      " |-- SaleType: string (nullable = true)\n",
      " |-- SaleCondition: string (nullable = true)\n",
      " |-- SalePrice: integer (nullable = true)\n",
      "\n"
     ]
    }
   ],
   "source": [
    "# Printing the info/schema \n",
    "DF.printSchema()"
   ]
  },
  {
   "cell_type": "code",
   "execution_count": 14,
   "metadata": {
    "colab": {
     "base_uri": "https://localhost:8080/"
    },
    "executionInfo": {
     "elapsed": 3901,
     "status": "ok",
     "timestamp": 1659260593947,
     "user": {
      "displayName": "Prerna Waghray",
      "userId": "08074246852708739388"
     },
     "user_tz": -330
    },
    "id": "0uYM9rj5dzHR",
    "outputId": "95685351-3278-436c-e6da-35b429defcb7"
   },
   "outputs": [
    {
     "name": "stdout",
     "output_type": "stream",
     "text": [
      "+---+----------+--------+-----------+-------+------+-----+--------+-----------+---------+---------+---------+------------+----------+----------+--------+----------+-----------+-----------+---------+------------+---------+--------+-----------+-----------+----------+----------+---------+---------+----------+--------+--------+------------+------------+----------+------------+----------+---------+-----------+-------+---------+----------+----------+--------+--------+------------+---------+------------+------------+--------+--------+------------+------------+-----------+------------+----------+----------+-----------+----------+-----------+------------+----------+----------+----------+----------+----------+----------+-----------+-------------+---------+-----------+--------+------+-----+-----------+-------+------+------+--------+-------------+---------+\n",
      "| Id|MSSubClass|MSZoning|LotFrontage|LotArea|Street|Alley|LotShape|LandContour|Utilities|LotConfig|LandSlope|Neighborhood|Condition1|Condition2|BldgType|HouseStyle|OverallQual|OverallCond|YearBuilt|YearRemodAdd|RoofStyle|RoofMatl|Exterior1st|Exterior2nd|MasVnrType|MasVnrArea|ExterQual|ExterCond|Foundation|BsmtQual|BsmtCond|BsmtExposure|BsmtFinType1|BsmtFinSF1|BsmtFinType2|BsmtFinSF2|BsmtUnfSF|TotalBsmtSF|Heating|HeatingQC|CentralAir|Electrical|1stFlrSF|2ndFlrSF|LowQualFinSF|GrLivArea|BsmtFullBath|BsmtHalfBath|FullBath|HalfBath|BedroomAbvGr|KitchenAbvGr|KitchenQual|TotRmsAbvGrd|Functional|Fireplaces|FireplaceQu|GarageType|GarageYrBlt|GarageFinish|GarageCars|GarageArea|GarageQual|GarageCond|PavedDrive|WoodDeckSF|OpenPorchSF|EnclosedPorch|3SsnPorch|ScreenPorch|PoolArea|PoolQC|Fence|MiscFeature|MiscVal|MoSold|YrSold|SaleType|SaleCondition|SalePrice|\n",
      "+---+----------+--------+-----------+-------+------+-----+--------+-----------+---------+---------+---------+------------+----------+----------+--------+----------+-----------+-----------+---------+------------+---------+--------+-----------+-----------+----------+----------+---------+---------+----------+--------+--------+------------+------------+----------+------------+----------+---------+-----------+-------+---------+----------+----------+--------+--------+------------+---------+------------+------------+--------+--------+------------+------------+-----------+------------+----------+----------+-----------+----------+-----------+------------+----------+----------+----------+----------+----------+----------+-----------+-------------+---------+-----------+--------+------+-----+-----------+-------+------+------+--------+-------------+---------+\n",
      "|  0|         0|       0|          0|      0|     0|    0|       0|          0|        0|        0|        0|           0|         0|         0|       0|         0|          0|          0|        0|           0|        0|       0|          0|          0|         0|         0|        0|        0|         0|       0|       0|           0|           0|         0|           0|         0|        0|          0|      0|        0|         0|         0|       0|       0|           0|        0|           0|           0|       0|       0|           0|           0|          0|           0|         0|         0|          0|         0|          0|           0|         0|         0|         0|         0|         0|         0|          0|            0|        0|          0|       0|     0|    0|          0|      0|     0|     0|       0|            0|        0|\n",
      "+---+----------+--------+-----------+-------+------+-----+--------+-----------+---------+---------+---------+------------+----------+----------+--------+----------+-----------+-----------+---------+------------+---------+--------+-----------+-----------+----------+----------+---------+---------+----------+--------+--------+------------+------------+----------+------------+----------+---------+-----------+-------+---------+----------+----------+--------+--------+------------+---------+------------+------------+--------+--------+------------+------------+-----------+------------+----------+----------+-----------+----------+-----------+------------+----------+----------+----------+----------+----------+----------+-----------+-------------+---------+-----------+--------+------+-----+-----------+-------+------+------+--------+-------------+---------+\n",
      "\n"
     ]
    }
   ],
   "source": [
    "# Checking for null values\n",
    "from pyspark.sql.functions import isnull, when, count, col\n",
    "DF.select([count(when(isnull(c), c)).alias(c) for c in DF.columns]).show()"
   ]
  },
  {
   "cell_type": "code",
   "execution_count": 15,
   "metadata": {
    "colab": {
     "base_uri": "https://localhost:8080/"
    },
    "executionInfo": {
     "elapsed": 2511,
     "status": "ok",
     "timestamp": 1659260598414,
     "user": {
      "displayName": "Prerna Waghray",
      "userId": "08074246852708739388"
     },
     "user_tz": -330
    },
    "id": "_NVqLwgRek0R",
    "outputId": "d46bd419-24d9-468f-e897-4e3f1b35e3ed"
   },
   "outputs": [
    {
     "name": "stdout",
     "output_type": "stream",
     "text": [
      "+----+----------+--------+-----------+-------+------+-----+--------+-----------+---------+---------+---------+------------+----------+----------+--------+----------+-----------+-----------+---------+------------+---------+--------+-----------+-----------+----------+----------+---------+---------+----------+--------+--------+------------+------------+----------+------------+----------+---------+-----------+-------+---------+----------+----------+--------+--------+------------+---------+------------+------------+--------+--------+------------+------------+-----------+------------+----------+----------+-----------+----------+-----------+------------+----------+----------+----------+----------+----------+----------+-----------+-------------+---------+-----------+--------+------+-----+-----------+-------+------+------+--------+-------------+---------+\n",
      "|  Id|MSSubClass|MSZoning|LotFrontage|LotArea|Street|Alley|LotShape|LandContour|Utilities|LotConfig|LandSlope|Neighborhood|Condition1|Condition2|BldgType|HouseStyle|OverallQual|OverallCond|YearBuilt|YearRemodAdd|RoofStyle|RoofMatl|Exterior1st|Exterior2nd|MasVnrType|MasVnrArea|ExterQual|ExterCond|Foundation|BsmtQual|BsmtCond|BsmtExposure|BsmtFinType1|BsmtFinSF1|BsmtFinType2|BsmtFinSF2|BsmtUnfSF|TotalBsmtSF|Heating|HeatingQC|CentralAir|Electrical|1stFlrSF|2ndFlrSF|LowQualFinSF|GrLivArea|BsmtFullBath|BsmtHalfBath|FullBath|HalfBath|BedroomAbvGr|KitchenAbvGr|KitchenQual|TotRmsAbvGrd|Functional|Fireplaces|FireplaceQu|GarageType|GarageYrBlt|GarageFinish|GarageCars|GarageArea|GarageQual|GarageCond|PavedDrive|WoodDeckSF|OpenPorchSF|EnclosedPorch|3SsnPorch|ScreenPorch|PoolArea|PoolQC|Fence|MiscFeature|MiscVal|MoSold|YrSold|SaleType|SaleCondition|SalePrice|\n",
      "+----+----------+--------+-----------+-------+------+-----+--------+-----------+---------+---------+---------+------------+----------+----------+--------+----------+-----------+-----------+---------+------------+---------+--------+-----------+-----------+----------+----------+---------+---------+----------+--------+--------+------------+------------+----------+------------+----------+---------+-----------+-------+---------+----------+----------+--------+--------+------------+---------+------------+------------+--------+--------+------------+------------+-----------+------------+----------+----------+-----------+----------+-----------+------------+----------+----------+----------+----------+----------+----------+-----------+-------------+---------+-----------+--------+------+-----+-----------+-------+------+------+--------+-------------+---------+\n",
      "| 185|        50|      RL|         92|   7438|  Pave|   NA|     IR1|        Lvl|   AllPub|   Inside|      Gtl|     BrkSide|      RRAn|     Feedr|    1Fam|    1.5Fin|          5|          8|     1908|        1991|    Gable| CompShg|    AsbShng|    Plywood|      None|         0|       TA|       TA|     PConc|      Fa|      TA|          No|         Unf|         0|         Unf|         0|      504|        504|   GasA|       Gd|         Y|     SBrkr|     936|     316|           0|     1252|           0|           0|       1|       0|           3|           1|         TA|           5|       Typ|         0|         NA|    Attchd|       1986|         Unf|         2|       576|        TA|        TA|         Y|       104|          0|            0|        0|          0|       0|    NA|MnPrv|         NA|      0|     6|  2006|      WD|       Normal|   127000|\n",
      "| 523|        50|      RM|         50|   5000|  Pave|   NA|     Reg|        Lvl|   AllPub|   Corner|      Gtl|     BrkSide|     Feedr|      Norm|    1Fam|    1.5Fin|          6|          7|     1947|        1950|    Gable| CompShg|    CemntBd|    CmentBd|      None|         0|       TA|       Gd|    CBlock|      TA|      TA|          No|         ALQ|       399|         Unf|         0|      605|       1004|   GasA|       Ex|         Y|     SBrkr|    1004|     660|           0|     1664|           0|           0|       2|       0|           3|           1|         TA|           7|       Typ|         2|         Gd|    Detchd|       1950|         Unf|         2|       420|        TA|        TA|         Y|         0|         24|           36|        0|          0|       0|    NA|   NA|         NA|      0|    10|  2006|      WD|       Normal|   159000|\n",
      "| 937|        20|      RL|         67|  10083|  Pave|   NA|     Reg|        Lvl|   AllPub|   Inside|      Gtl|     SawyerW|      Norm|      Norm|    1Fam|    1Story|          7|          5|     2003|        2003|    Gable| CompShg|    VinylSd|    VinylSd|        NA|        NA|       Gd|       TA|     PConc|      Gd|      TA|          No|         GLQ|       833|         Unf|         0|      343|       1176|   GasA|       Ex|         Y|     SBrkr|    1200|       0|           0|     1200|           1|           0|       2|       0|           2|           1|         Gd|           5|       Typ|         0|         NA|    Attchd|       2003|         RFn|         2|       555|        TA|        TA|         Y|         0|         41|            0|        0|          0|       0|    NA|   NA|         NA|      0|     8|  2009|      WD|       Normal|   184900|\n",
      "|1005|       120|      RL|         43|   3182|  Pave|   NA|     Reg|        Lvl|   AllPub|   Inside|      Gtl|     Blmngtn|      Norm|      Norm|  TwnhsE|    1Story|          7|          5|     2005|        2006|    Gable| CompShg|    VinylSd|    VinylSd|   BrkFace|        16|       Gd|       TA|     PConc|      Gd|      TA|          No|         GLQ|        16|         Unf|         0|     1330|       1346|   GasA|       Ex|         Y|     SBrkr|    1504|       0|           0|     1504|           0|           0|       2|       0|           1|           1|         Gd|           7|       Typ|         1|         Gd|    Attchd|       2005|         Fin|         2|       457|        TA|        TA|         Y|       156|          0|            0|        0|          0|       0|    NA|   NA|         NA|      0|     5|  2009|      WD|       Normal|   181000|\n",
      "|1121|        30|      RM|         59|   8263|  Pave|   NA|     Reg|        Bnk|   AllPub|   Inside|      Mod|      IDOTRR|      Norm|      Norm|    1Fam|    1Story|          6|          5|     1920|        1950|    Gable| CompShg|    BrkFace|    BrkFace|      None|         0|       TA|       TA|    BrkTil|      TA|      TA|          No|         Unf|         0|         Unf|         0|     1012|       1012|   GasA|       TA|         Y|     FuseA|    1012|       0|           0|     1012|           0|           0|       1|       0|           2|           1|         TA|           6|       Typ|         1|         Gd|    Detchd|       1920|         Unf|         1|       308|        TA|        TA|         Y|         0|         22|          112|        0|          0|       0|    NA|MnPrv|         NA|      0|     5|  2007|      WD|       Normal|   118400|\n",
      "|  48|        20|      FV|         84|  11096|  Pave|   NA|     Reg|        Lvl|   AllPub|   Inside|      Gtl|     Somerst|      Norm|      Norm|    1Fam|    1Story|          8|          5|     2006|        2006|    Gable| CompShg|    VinylSd|    VinylSd|      None|         0|       Gd|       TA|     PConc|      Gd|      TA|          Av|         GLQ|        24|         Unf|         0|     1632|       1656|   GasA|       Ex|         Y|     SBrkr|    1656|       0|           0|     1656|           0|           0|       2|       0|           3|           1|         Gd|           7|       Typ|         0|         NA|    Attchd|       2006|         RFn|         3|       826|        TA|        TA|         Y|         0|        146|            0|        0|          0|       0|    NA|   NA|         NA|      0|     7|  2007|      WD|       Normal|   249700|\n",
      "| 499|        20|      RL|         65|   7800|  Pave|   NA|     Reg|        Lvl|   AllPub|   Inside|      Gtl|      Sawyer|      Norm|      Norm|    1Fam|    1Story|          5|          7|     1967|        2004|      Hip| CompShg|    HdBoard|    HdBoard|   BrkFace|        89|       TA|       TA|     PConc|      TA|      TA|          No|         ALQ|       450|         Unf|         0|      414|        864|   GasA|       Ex|         Y|     SBrkr|     899|       0|           0|      899|           0|           0|       1|       0|           3|           1|         Gd|           5|       Typ|         0|         NA|    Attchd|       1967|         Fin|         1|       288|        TA|        TA|         Y|        64|          0|            0|        0|          0|       0|    NA|MnPrv|         NA|      0|     6|  2009|      WD|       Normal|   130000|\n",
      "| 536|       190|      RL|         70|   7000|  Pave|   NA|     Reg|        Lvl|   AllPub|   Inside|      Gtl|     Edwards|      Norm|      Norm|  2fmCon|    2Story|          5|          7|     1910|        1991|    Gable| CompShg|    MetalSd|    MetalSd|      None|         0|       TA|       TA|    CBlock|      Gd|      TA|          Gd|         GLQ|       969|         Unf|         0|      148|       1117|   GasA|       TA|         Y|     SBrkr|     820|     527|           0|     1347|           1|           0|       1|       0|           3|           1|         TA|           5|       Typ|         0|         NA|        NA|         NA|          NA|         0|         0|        NA|        NA|         N|        85|          0|          148|        0|          0|       0|    NA|   NA|         NA|      0|     1|  2008|      WD|       Normal|   107500|\n",
      "| 651|        60|      FV|         65|   8125|  Pave|   NA|     Reg|        Lvl|   AllPub|   Inside|      Gtl|     Somerst|      Norm|      Norm|    1Fam|    2Story|          7|          6|     2007|        2007|    Gable| CompShg|    CemntBd|    CmentBd|        NA|        NA|       Gd|       TA|     PConc|      Gd|      TA|          No|         Unf|         0|         Unf|         0|      813|        813|   GasA|       Ex|         Y|     SBrkr|     822|     843|           0|     1665|           0|           0|       2|       1|           3|           1|         Gd|           7|       Typ|         0|         NA|    Attchd|       2007|         RFn|         2|       562|        TA|        TA|         Y|         0|          0|            0|        0|          0|       0|    NA|   NA|         NA|      0|     5|  2008|      WD|       Normal|   205950|\n",
      "| 757|        60|      RL|         68|  10769|  Pave|   NA|     IR1|        Lvl|   AllPub|   Inside|      Gtl|     CollgCr|      Norm|      Norm|    1Fam|    2Story|          8|          5|     2007|        2007|    Gable| CompShg|    VinylSd|    VinylSd|      None|         0|       Gd|       TA|     PConc|      Gd|      TA|          Av|         GLQ|        20|         Unf|         0|      846|        866|   GasA|       Ex|         Y|     SBrkr|     866|     902|           0|     1768|           0|           0|       2|       1|           3|           1|         Gd|           7|       Typ|         0|         NA|    Attchd|       2007|         RFn|         2|       578|        TA|        TA|         Y|       144|        105|            0|        0|          0|       0|    NA|   NA|         NA|      0|     4|  2009|      WD|       Normal|   212000|\n",
      "| 945|        20|      RL|         NA|  14375|  Pave|   NA|     IR1|        Lvl|   NoSeWa|  CulDSac|      Gtl|      Timber|      Norm|      Norm|    1Fam|      SLvl|          6|          6|     1958|        1958|    Gable| CompShg|    HdBoard|    HdBoard|   BrkFace|       541|       TA|       TA|    CBlock|      TA|      TA|          No|         GLQ|       111|         Rec|       354|      354|        819|   GasA|       Gd|         Y|     FuseA|    1344|       0|           0|     1344|           0|           1|       1|       0|           3|           1|         Gd|           7|       Typ|         1|         Gd|   Basment|       1958|         RFn|         2|       525|        TA|        TA|         Y|         0|        118|            0|        0|        233|       0|    NA|   NA|         NA|      0|     1|  2009|     COD|      Abnorml|   137500|\n",
      "|1044|        60|      RL|         86|  11839|  Pave|   NA|     Reg|        Lvl|   AllPub|   Inside|      Gtl|     SawyerW|      Norm|      Norm|    1Fam|    2Story|          7|          5|     1990|        1990|      Hip| CompShg|    HdBoard|    HdBoard|   BrkFace|        99|       TA|       TA|     PConc|      Gd|      TA|          No|         GLQ|      1085|         Unf|         0|      390|       1475|   GasA|       Ex|         Y|     SBrkr|    1532|     797|           0|     2329|           1|           0|       2|       1|           4|           1|         Gd|          10|       Typ|         1|         Ex|    Attchd|       1990|         Unf|         2|       514|        TA|        TA|         Y|       192|        121|            0|        0|          0|       0|    NA|   NA|         NA|      0|     5|  2008|      WD|       Normal|   262280|\n",
      "|1134|        60|      RL|         80|   9828|  Pave|   NA|     IR1|        Lvl|   AllPub|   Inside|      Gtl|     SawyerW|      Norm|      Norm|    1Fam|    2Story|          8|          5|     1995|        1995|    Gable| CompShg|    VinylSd|    VinylSd|      None|         0|       Gd|       TA|     PConc|      Gd|      TA|          No|         GLQ|       584|         Unf|         0|      544|       1128|   GasA|       Ex|         Y|     SBrkr|    1142|     878|           0|     2020|           0|           0|       2|       1|           3|           1|         Gd|           8|       Typ|         1|         TA|    Attchd|       1995|         RFn|         2|       466|        TA|        TA|         Y|         0|        155|            0|        0|          0|       0|    NA|   NA|         NA|      0|     6|  2009|      WD|       Normal|   239500|\n",
      "|1184|        30|      RL|         60|  10800|  Pave| Grvl|     Reg|        Lvl|   AllPub|   Inside|      Gtl|     OldTown|      Norm|      Norm|    1Fam|    1Story|          5|          6|     1920|        1950|      Hip| CompShg|     Stucco|     Stucco|      None|         0|       TA|       TA|    BrkTil|      TA|      TA|          No|         Rec|       821|         Unf|         0|      299|       1120|   GasA|       Ex|         Y|     SBrkr|    1130|       0|           0|     1130|           1|           0|       1|       0|           2|           1|         TA|           5|       Typ|         1|         Gd|    Detchd|       1970|         Unf|         2|       720|        TA|        TA|         Y|       229|          0|            0|        0|          0|       0|    NA|   NA|         NA|      0|     6|  2006|      WD|       Normal|   120000|\n",
      "|1331|        20|      RL|         85|  10000|  Pave|   NA|     Reg|        Lvl|   AllPub|   Inside|      Gtl|     Somerst|      Norm|      Norm|    1Fam|    1Story|          8|          5|     2006|        2006|      Hip| CompShg|    VinylSd|    VinylSd|     Stone|       410|       Gd|       TA|     PConc|      Gd|      Gd|          Av|         Unf|         0|         Unf|         0|     1588|       1588|   GasA|       Ex|         Y|     SBrkr|    1588|       0|           0|     1588|           0|           0|       2|       0|           3|           1|         Gd|           7|       Typ|         1|         Gd|    Attchd|       2006|         RFn|         3|       825|        TA|        TA|         Y|       144|         45|            0|        0|          0|       0|    NA|   NA|         NA|      0|    12|  2007|      WD|       Normal|   227000|\n",
      "|1332|        80|      RL|         55|  10780|  Pave|   NA|     IR1|        Lvl|   AllPub|   Inside|      Gtl|     CollgCr|      Norm|      Norm|    1Fam|      SLvl|          5|          5|     1976|        1976|    Gable| CompShg|    MetalSd|    MetalSd|      None|         0|       TA|       TA|    CBlock|      TA|      TA|          Av|         ALQ|       483|         Unf|         0|      428|        911|   GasA|       Gd|         Y|     SBrkr|     954|       0|           0|      954|           0|           0|       1|       0|           3|           1|         TA|           6|       Typ|         0|         NA|    Detchd|       1976|         Unf|         2|       576|        TA|        TA|         Y|         0|          0|            0|        0|          0|       0|    NA|   NA|         NA|      0|     7|  2006|      WD|       Normal|   132500|\n",
      "|1441|        70|      RL|         79|  11526|  Pave|   NA|     IR1|        Bnk|   AllPub|   Inside|      Mod|     Crawfor|      Norm|      Norm|    1Fam|    2.5Fin|          6|          7|     1922|        1994|    Gable| CompShg|    MetalSd|    MetalSd|      None|         0|       TA|       TA|    BrkTil|      Ex|      TA|          No|         Unf|         0|         Unf|         0|      588|        588|   GasA|       Fa|         Y|     SBrkr|    1423|     748|         384|     2555|           0|           0|       2|       0|           3|           1|         TA|          11|      Min1|         1|         Gd|    Detchd|       1993|         Fin|         2|       672|        TA|        TA|         Y|       431|          0|            0|        0|          0|       0|    NA|   NA|         NA|      0|     9|  2008|      WD|       Normal|   191000|\n",
      "| 439|        30|      RL|         40|   4280|  Pave|   NA|     Reg|        Lvl|   AllPub|   Inside|      Gtl|     Crawfor|      Norm|      Norm|    1Fam|    1Story|          5|          6|     1913|        2002|    Gable| CompShg|    WdShing|     Stucco|      None|         0|       TA|       TA|     PConc|      TA|      TA|          No|         LwQ|       365|         Unf|         0|       75|        440|   GasA|       TA|         N|     SBrkr|     694|       0|           0|      694|           0|           0|       1|       0|           2|           1|         Gd|           4|       Typ|         1|         Gd|    Detchd|       1990|         Unf|         1|       352|        Gd|        TA|         P|         0|          0|           34|        0|          0|       0|    NA|MnPrv|         NA|      0|     3|  2007|      WD|       Normal|    90350|\n",
      "| 915|       160|      FV|         30|   3000|  Pave| Pave|     Reg|        Lvl|   AllPub|   Inside|      Gtl|     Somerst|      Norm|      Norm|  TwnhsE|    2Story|          6|          5|     2009|        2009|    Gable| CompShg|    VinylSd|    VinylSd|     Stone|        76|       Gd|       TA|     PConc|      Gd|      TA|          Av|         GLQ|       294|         Unf|         0|      318|        612|   GasA|       Ex|         Y|     SBrkr|     612|     612|           0|     1224|           0|           0|       2|       1|           2|           1|         Gd|           4|       Typ|         0|         NA|    Detchd|       2009|         RFn|         2|       528|        TA|        TA|         Y|         0|        234|            0|        0|          0|       0|    NA|   NA|         NA|      0|     6|  2009|     New|      Partial|   173733|\n",
      "|1179|        50|      RL|         54|   7681|  Pave|   NA|     IR1|        Lvl|   AllPub|      FR2|      Gtl|     Crawfor|      Norm|      Norm|    1Fam|    1.5Fin|          5|          6|     1921|        1950|    Gable| CompShg|    Wd Sdng|    Wd Sdng|      None|         0|       TA|       TA|    BrkTil|      TA|      TA|          No|         Unf|         0|         Unf|         0|      731|        731|   GasA|       Ex|         Y|     SBrkr|     820|     523|           0|     1343|           0|           0|       1|       1|           3|           1|         TA|           7|       Typ|         1|         Gd|    Detchd|       1921|         Unf|         1|       186|        Fa|        TA|         Y|       192|          0|          102|        0|          0|       0|    NA|   NA|         NA|      0|     7|  2009|      WD|       Normal|   154900|\n",
      "+----+----------+--------+-----------+-------+------+-----+--------+-----------+---------+---------+---------+------------+----------+----------+--------+----------+-----------+-----------+---------+------------+---------+--------+-----------+-----------+----------+----------+---------+---------+----------+--------+--------+------------+------------+----------+------------+----------+---------+-----------+-------+---------+----------+----------+--------+--------+------------+---------+------------+------------+--------+--------+------------+------------+-----------+------------+----------+----------+-----------+----------+-----------+------------+----------+----------+----------+----------+----------+----------+-----------+-------------+---------+-----------+--------+------+-----+-----------+-------+------+------+--------+-------------+---------+\n",
      "only showing top 20 rows\n",
      "\n"
     ]
    }
   ],
   "source": [
    "DF.distinct().show()"
   ]
  },
  {
   "cell_type": "code",
   "execution_count": 16,
   "metadata": {
    "colab": {
     "base_uri": "https://localhost:8080/"
    },
    "executionInfo": {
     "elapsed": 1306,
     "status": "ok",
     "timestamp": 1659260602680,
     "user": {
      "displayName": "Prerna Waghray",
      "userId": "08074246852708739388"
     },
     "user_tz": -330
    },
    "id": "3Sil7rlpmE0j",
    "outputId": "c6be200e-43ef-42ff-f83e-a155deb1e67c"
   },
   "outputs": [
    {
     "name": "stdout",
     "output_type": "stream",
     "text": [
      "+---+----------+--------+-----------+-------+------+-----+--------+-----------+---------+---------+---------+------------+----------+----------+--------+----------+-----------+-----------+---------+------------+---------+--------+-----------+-----------+----------+----------+---------+---------+----------+--------+--------+------------+------------+----------+------------+----------+---------+-----------+-------+---------+----------+----------+--------+--------+------------+---------+------------+------------+--------+--------+------------+------------+-----------+------------+----------+----------+-----------+----------+-----------+------------+----------+----------+----------+----------+----------+----------+-----------+-------------+---------+-----------+--------+------+-----+-----------+-------+------+------+--------+-------------+---------+\n",
      "| Id|MSSubClass|MSZoning|LotFrontage|LotArea|Street|Alley|LotShape|LandContour|Utilities|LotConfig|LandSlope|Neighborhood|Condition1|Condition2|BldgType|HouseStyle|OverallQual|OverallCond|YearBuilt|YearRemodAdd|RoofStyle|RoofMatl|Exterior1st|Exterior2nd|MasVnrType|MasVnrArea|ExterQual|ExterCond|Foundation|BsmtQual|BsmtCond|BsmtExposure|BsmtFinType1|BsmtFinSF1|BsmtFinType2|BsmtFinSF2|BsmtUnfSF|TotalBsmtSF|Heating|HeatingQC|CentralAir|Electrical|1stFlrSF|2ndFlrSF|LowQualFinSF|GrLivArea|BsmtFullBath|BsmtHalfBath|FullBath|HalfBath|BedroomAbvGr|KitchenAbvGr|KitchenQual|TotRmsAbvGrd|Functional|Fireplaces|FireplaceQu|GarageType|GarageYrBlt|GarageFinish|GarageCars|GarageArea|GarageQual|GarageCond|PavedDrive|WoodDeckSF|OpenPorchSF|EnclosedPorch|3SsnPorch|ScreenPorch|PoolArea|PoolQC|Fence|MiscFeature|MiscVal|MoSold|YrSold|SaleType|SaleCondition|SalePrice|\n",
      "+---+----------+--------+-----------+-------+------+-----+--------+-----------+---------+---------+---------+------------+----------+----------+--------+----------+-----------+-----------+---------+------------+---------+--------+-----------+-----------+----------+----------+---------+---------+----------+--------+--------+------------+------------+----------+------------+----------+---------+-----------+-------+---------+----------+----------+--------+--------+------------+---------+------------+------------+--------+--------+------------+------------+-----------+------------+----------+----------+-----------+----------+-----------+------------+----------+----------+----------+----------+----------+----------+-----------+-------------+---------+-----------+--------+------+-----+-----------+-------+------+------+--------+-------------+---------+\n",
      "|  1|        60|      RL|       65.0|   8450|  Pave|   NA|     Reg|        Lvl|   AllPub|   Inside|      Gtl|     CollgCr|      Norm|      Norm|    1Fam|    2Story|          7|          5|     2003|        2003|    Gable| CompShg|    VinylSd|    VinylSd|   BrkFace|     196.0|       Gd|       TA|     PConc|      Gd|      TA|          No|         GLQ|       706|         Unf|         0|      150|        856|   GasA|       Ex|         Y|     SBrkr|     856|     854|           0|     1710|           1|           0|       2|       1|           3|           1|         Gd|           8|       Typ|         0|         NA|    Attchd|     2003.0|         RFn|         2|       548|        TA|        TA|         Y|         0|         61|            0|        0|          0|       0|    NA|   NA|         NA|      0|     2|  2008|      WD|       Normal|   208500|\n",
      "|  2|        20|      RL|       80.0|   9600|  Pave|   NA|     Reg|        Lvl|   AllPub|      FR2|      Gtl|     Veenker|     Feedr|      Norm|    1Fam|    1Story|          6|          8|     1976|        1976|    Gable| CompShg|    MetalSd|    MetalSd|      None|       0.0|       TA|       TA|    CBlock|      Gd|      TA|          Gd|         ALQ|       978|         Unf|         0|      284|       1262|   GasA|       Ex|         Y|     SBrkr|    1262|       0|           0|     1262|           0|           1|       2|       0|           3|           1|         TA|           6|       Typ|         1|         TA|    Attchd|     1976.0|         RFn|         2|       460|        TA|        TA|         Y|       298|          0|            0|        0|          0|       0|    NA|   NA|         NA|      0|     5|  2007|      WD|       Normal|   181500|\n",
      "|  3|        60|      RL|       68.0|  11250|  Pave|   NA|     IR1|        Lvl|   AllPub|   Inside|      Gtl|     CollgCr|      Norm|      Norm|    1Fam|    2Story|          7|          5|     2001|        2002|    Gable| CompShg|    VinylSd|    VinylSd|   BrkFace|     162.0|       Gd|       TA|     PConc|      Gd|      TA|          Mn|         GLQ|       486|         Unf|         0|      434|        920|   GasA|       Ex|         Y|     SBrkr|     920|     866|           0|     1786|           1|           0|       2|       1|           3|           1|         Gd|           6|       Typ|         1|         TA|    Attchd|     2001.0|         RFn|         2|       608|        TA|        TA|         Y|         0|         42|            0|        0|          0|       0|    NA|   NA|         NA|      0|     9|  2008|      WD|       Normal|   223500|\n",
      "|  4|        70|      RL|       60.0|   9550|  Pave|   NA|     IR1|        Lvl|   AllPub|   Corner|      Gtl|     Crawfor|      Norm|      Norm|    1Fam|    2Story|          7|          5|     1915|        1970|    Gable| CompShg|    Wd Sdng|    Wd Shng|      None|       0.0|       TA|       TA|    BrkTil|      TA|      Gd|          No|         ALQ|       216|         Unf|         0|      540|        756|   GasA|       Gd|         Y|     SBrkr|     961|     756|           0|     1717|           1|           0|       1|       0|           3|           1|         Gd|           7|       Typ|         1|         Gd|    Detchd|     1998.0|         Unf|         3|       642|        TA|        TA|         Y|         0|         35|          272|        0|          0|       0|    NA|   NA|         NA|      0|     2|  2006|      WD|      Abnorml|   140000|\n",
      "|  5|        60|      RL|       84.0|  14260|  Pave|   NA|     IR1|        Lvl|   AllPub|      FR2|      Gtl|     NoRidge|      Norm|      Norm|    1Fam|    2Story|          8|          5|     2000|        2000|    Gable| CompShg|    VinylSd|    VinylSd|   BrkFace|     350.0|       Gd|       TA|     PConc|      Gd|      TA|          Av|         GLQ|       655|         Unf|         0|      490|       1145|   GasA|       Ex|         Y|     SBrkr|    1145|    1053|           0|     2198|           1|           0|       2|       1|           4|           1|         Gd|           9|       Typ|         1|         TA|    Attchd|     2000.0|         RFn|         3|       836|        TA|        TA|         Y|       192|         84|            0|        0|          0|       0|    NA|   NA|         NA|      0|    12|  2008|      WD|       Normal|   250000|\n",
      "|  6|        50|      RL|       85.0|  14115|  Pave|   NA|     IR1|        Lvl|   AllPub|   Inside|      Gtl|     Mitchel|      Norm|      Norm|    1Fam|    1.5Fin|          5|          5|     1993|        1995|    Gable| CompShg|    VinylSd|    VinylSd|      None|       0.0|       TA|       TA|      Wood|      Gd|      TA|          No|         GLQ|       732|         Unf|         0|       64|        796|   GasA|       Ex|         Y|     SBrkr|     796|     566|           0|     1362|           1|           0|       1|       1|           1|           1|         TA|           5|       Typ|         0|         NA|    Attchd|     1993.0|         Unf|         2|       480|        TA|        TA|         Y|        40|         30|            0|      320|          0|       0|    NA|MnPrv|       Shed|    700|    10|  2009|      WD|       Normal|   143000|\n",
      "|  7|        20|      RL|       75.0|  10084|  Pave|   NA|     Reg|        Lvl|   AllPub|   Inside|      Gtl|     Somerst|      Norm|      Norm|    1Fam|    1Story|          8|          5|     2004|        2005|    Gable| CompShg|    VinylSd|    VinylSd|     Stone|     186.0|       Gd|       TA|     PConc|      Ex|      TA|          Av|         GLQ|      1369|         Unf|         0|      317|       1686|   GasA|       Ex|         Y|     SBrkr|    1694|       0|           0|     1694|           1|           0|       2|       0|           3|           1|         Gd|           7|       Typ|         1|         Gd|    Attchd|     2004.0|         RFn|         2|       636|        TA|        TA|         Y|       255|         57|            0|        0|          0|       0|    NA|   NA|         NA|      0|     8|  2007|      WD|       Normal|   307000|\n",
      "|  8|        60|      RL|       null|  10382|  Pave|   NA|     IR1|        Lvl|   AllPub|   Corner|      Gtl|      NWAmes|      PosN|      Norm|    1Fam|    2Story|          7|          6|     1973|        1973|    Gable| CompShg|    HdBoard|    HdBoard|     Stone|     240.0|       TA|       TA|    CBlock|      Gd|      TA|          Mn|         ALQ|       859|         BLQ|        32|      216|       1107|   GasA|       Ex|         Y|     SBrkr|    1107|     983|           0|     2090|           1|           0|       2|       1|           3|           1|         TA|           7|       Typ|         2|         TA|    Attchd|     1973.0|         RFn|         2|       484|        TA|        TA|         Y|       235|        204|          228|        0|          0|       0|    NA|   NA|       Shed|    350|    11|  2009|      WD|       Normal|   200000|\n",
      "|  9|        50|      RM|       51.0|   6120|  Pave|   NA|     Reg|        Lvl|   AllPub|   Inside|      Gtl|     OldTown|    Artery|      Norm|    1Fam|    1.5Fin|          7|          5|     1931|        1950|    Gable| CompShg|    BrkFace|    Wd Shng|      None|       0.0|       TA|       TA|    BrkTil|      TA|      TA|          No|         Unf|         0|         Unf|         0|      952|        952|   GasA|       Gd|         Y|     FuseF|    1022|     752|           0|     1774|           0|           0|       2|       0|           2|           2|         TA|           8|      Min1|         2|         TA|    Detchd|     1931.0|         Unf|         2|       468|        Fa|        TA|         Y|        90|          0|          205|        0|          0|       0|    NA|   NA|         NA|      0|     4|  2008|      WD|      Abnorml|   129900|\n",
      "| 10|       190|      RL|       50.0|   7420|  Pave|   NA|     Reg|        Lvl|   AllPub|   Corner|      Gtl|     BrkSide|    Artery|    Artery|  2fmCon|    1.5Unf|          5|          6|     1939|        1950|    Gable| CompShg|    MetalSd|    MetalSd|      None|       0.0|       TA|       TA|    BrkTil|      TA|      TA|          No|         GLQ|       851|         Unf|         0|      140|        991|   GasA|       Ex|         Y|     SBrkr|    1077|       0|           0|     1077|           1|           0|       1|       0|           2|           2|         TA|           5|       Typ|         2|         TA|    Attchd|     1939.0|         RFn|         1|       205|        Gd|        TA|         Y|         0|          4|            0|        0|          0|       0|    NA|   NA|         NA|      0|     1|  2008|      WD|       Normal|   118000|\n",
      "| 11|        20|      RL|       70.0|  11200|  Pave|   NA|     Reg|        Lvl|   AllPub|   Inside|      Gtl|      Sawyer|      Norm|      Norm|    1Fam|    1Story|          5|          5|     1965|        1965|      Hip| CompShg|    HdBoard|    HdBoard|      None|       0.0|       TA|       TA|    CBlock|      TA|      TA|          No|         Rec|       906|         Unf|         0|      134|       1040|   GasA|       Ex|         Y|     SBrkr|    1040|       0|           0|     1040|           1|           0|       1|       0|           3|           1|         TA|           5|       Typ|         0|         NA|    Detchd|     1965.0|         Unf|         1|       384|        TA|        TA|         Y|         0|          0|            0|        0|          0|       0|    NA|   NA|         NA|      0|     2|  2008|      WD|       Normal|   129500|\n",
      "| 12|        60|      RL|       85.0|  11924|  Pave|   NA|     IR1|        Lvl|   AllPub|   Inside|      Gtl|     NridgHt|      Norm|      Norm|    1Fam|    2Story|          9|          5|     2005|        2006|      Hip| CompShg|    WdShing|    Wd Shng|     Stone|     286.0|       Ex|       TA|     PConc|      Ex|      TA|          No|         GLQ|       998|         Unf|         0|      177|       1175|   GasA|       Ex|         Y|     SBrkr|    1182|    1142|           0|     2324|           1|           0|       3|       0|           4|           1|         Ex|          11|       Typ|         2|         Gd|   BuiltIn|     2005.0|         Fin|         3|       736|        TA|        TA|         Y|       147|         21|            0|        0|          0|       0|    NA|   NA|         NA|      0|     7|  2006|     New|      Partial|   345000|\n",
      "| 13|        20|      RL|       null|  12968|  Pave|   NA|     IR2|        Lvl|   AllPub|   Inside|      Gtl|      Sawyer|      Norm|      Norm|    1Fam|    1Story|          5|          6|     1962|        1962|      Hip| CompShg|    HdBoard|    Plywood|      None|       0.0|       TA|       TA|    CBlock|      TA|      TA|          No|         ALQ|       737|         Unf|         0|      175|        912|   GasA|       TA|         Y|     SBrkr|     912|       0|           0|      912|           1|           0|       1|       0|           2|           1|         TA|           4|       Typ|         0|         NA|    Detchd|     1962.0|         Unf|         1|       352|        TA|        TA|         Y|       140|          0|            0|        0|        176|       0|    NA|   NA|         NA|      0|     9|  2008|      WD|       Normal|   144000|\n",
      "| 14|        20|      RL|       91.0|  10652|  Pave|   NA|     IR1|        Lvl|   AllPub|   Inside|      Gtl|     CollgCr|      Norm|      Norm|    1Fam|    1Story|          7|          5|     2006|        2007|    Gable| CompShg|    VinylSd|    VinylSd|     Stone|     306.0|       Gd|       TA|     PConc|      Gd|      TA|          Av|         Unf|         0|         Unf|         0|     1494|       1494|   GasA|       Ex|         Y|     SBrkr|    1494|       0|           0|     1494|           0|           0|       2|       0|           3|           1|         Gd|           7|       Typ|         1|         Gd|    Attchd|     2006.0|         RFn|         3|       840|        TA|        TA|         Y|       160|         33|            0|        0|          0|       0|    NA|   NA|         NA|      0|     8|  2007|     New|      Partial|   279500|\n",
      "| 15|        20|      RL|       null|  10920|  Pave|   NA|     IR1|        Lvl|   AllPub|   Corner|      Gtl|       NAmes|      Norm|      Norm|    1Fam|    1Story|          6|          5|     1960|        1960|      Hip| CompShg|    MetalSd|    MetalSd|   BrkFace|     212.0|       TA|       TA|    CBlock|      TA|      TA|          No|         BLQ|       733|         Unf|         0|      520|       1253|   GasA|       TA|         Y|     SBrkr|    1253|       0|           0|     1253|           1|           0|       1|       1|           2|           1|         TA|           5|       Typ|         1|         Fa|    Attchd|     1960.0|         RFn|         1|       352|        TA|        TA|         Y|         0|        213|          176|        0|          0|       0|    NA| GdWo|         NA|      0|     5|  2008|      WD|       Normal|   157000|\n",
      "| 16|        45|      RM|       51.0|   6120|  Pave|   NA|     Reg|        Lvl|   AllPub|   Corner|      Gtl|     BrkSide|      Norm|      Norm|    1Fam|    1.5Unf|          7|          8|     1929|        2001|    Gable| CompShg|    Wd Sdng|    Wd Sdng|      None|       0.0|       TA|       TA|    BrkTil|      TA|      TA|          No|         Unf|         0|         Unf|         0|      832|        832|   GasA|       Ex|         Y|     FuseA|     854|       0|           0|      854|           0|           0|       1|       0|           2|           1|         TA|           5|       Typ|         0|         NA|    Detchd|     1991.0|         Unf|         2|       576|        TA|        TA|         Y|        48|        112|            0|        0|          0|       0|    NA|GdPrv|         NA|      0|     7|  2007|      WD|       Normal|   132000|\n",
      "| 17|        20|      RL|       null|  11241|  Pave|   NA|     IR1|        Lvl|   AllPub|  CulDSac|      Gtl|       NAmes|      Norm|      Norm|    1Fam|    1Story|          6|          7|     1970|        1970|    Gable| CompShg|    Wd Sdng|    Wd Sdng|   BrkFace|     180.0|       TA|       TA|    CBlock|      TA|      TA|          No|         ALQ|       578|         Unf|         0|      426|       1004|   GasA|       Ex|         Y|     SBrkr|    1004|       0|           0|     1004|           1|           0|       1|       0|           2|           1|         TA|           5|       Typ|         1|         TA|    Attchd|     1970.0|         Fin|         2|       480|        TA|        TA|         Y|         0|          0|            0|        0|          0|       0|    NA|   NA|       Shed|    700|     3|  2010|      WD|       Normal|   149000|\n",
      "| 18|        90|      RL|       72.0|  10791|  Pave|   NA|     Reg|        Lvl|   AllPub|   Inside|      Gtl|      Sawyer|      Norm|      Norm|  Duplex|    1Story|          4|          5|     1967|        1967|    Gable| CompShg|    MetalSd|    MetalSd|      None|       0.0|       TA|       TA|      Slab|      NA|      NA|          NA|          NA|         0|          NA|         0|        0|          0|   GasA|       TA|         Y|     SBrkr|    1296|       0|           0|     1296|           0|           0|       2|       0|           2|           2|         TA|           6|       Typ|         0|         NA|   CarPort|     1967.0|         Unf|         2|       516|        TA|        TA|         Y|         0|          0|            0|        0|          0|       0|    NA|   NA|       Shed|    500|    10|  2006|      WD|       Normal|    90000|\n",
      "| 19|        20|      RL|       66.0|  13695|  Pave|   NA|     Reg|        Lvl|   AllPub|   Inside|      Gtl|     SawyerW|      RRAe|      Norm|    1Fam|    1Story|          5|          5|     2004|        2004|    Gable| CompShg|    VinylSd|    VinylSd|      None|       0.0|       TA|       TA|     PConc|      TA|      TA|          No|         GLQ|       646|         Unf|         0|      468|       1114|   GasA|       Ex|         Y|     SBrkr|    1114|       0|           0|     1114|           1|           0|       1|       1|           3|           1|         Gd|           6|       Typ|         0|         NA|    Detchd|     2004.0|         Unf|         2|       576|        TA|        TA|         Y|         0|        102|            0|        0|          0|       0|    NA|   NA|         NA|      0|     6|  2008|      WD|       Normal|   159000|\n",
      "| 20|        20|      RL|       70.0|   7560|  Pave|   NA|     Reg|        Lvl|   AllPub|   Inside|      Gtl|       NAmes|      Norm|      Norm|    1Fam|    1Story|          5|          6|     1958|        1965|      Hip| CompShg|    BrkFace|    Plywood|      None|       0.0|       TA|       TA|    CBlock|      TA|      TA|          No|         LwQ|       504|         Unf|         0|      525|       1029|   GasA|       TA|         Y|     SBrkr|    1339|       0|           0|     1339|           0|           0|       1|       0|           3|           1|         TA|           6|      Min1|         0|         NA|    Attchd|     1958.0|         Unf|         1|       294|        TA|        TA|         Y|         0|          0|            0|        0|          0|       0|    NA|MnPrv|         NA|      0|     5|  2009|     COD|      Abnorml|   139000|\n",
      "+---+----------+--------+-----------+-------+------+-----+--------+-----------+---------+---------+---------+------------+----------+----------+--------+----------+-----------+-----------+---------+------------+---------+--------+-----------+-----------+----------+----------+---------+---------+----------+--------+--------+------------+------------+----------+------------+----------+---------+-----------+-------+---------+----------+----------+--------+--------+------------+---------+------------+------------+--------+--------+------------+------------+-----------+------------+----------+----------+-----------+----------+-----------+------------+----------+----------+----------+----------+----------+----------+-----------+-------------+---------+-----------+--------+------+-----+-----------+-------+------+------+--------+-------------+---------+\n",
      "only showing top 20 rows\n",
      "\n"
     ]
    }
   ],
   "source": [
    "# Replacing NA to null values for imputation\n",
    "import warnings\n",
    "warnings.filterwarnings('ignore')\n",
    "def fixing_null_values(DF, col_name):\n",
    "  if col_name != 'MasVnrType' and col_name != 'Electrical':\n",
    "    new_DF = DF.withColumn(col_name, when((col(col_name)=='NA'), None).otherwise(col(col_name)).cast(\"float\"))\n",
    "  else:\n",
    "    new_DF = DF.withColumn(col_name, when((col(col_name)=='NA'), None).otherwise(col(col_name)))\n",
    "  return new_DF\n",
    "\n",
    "DF2 = fixing_null_values(DF, 'LotFrontage')\n",
    "DF3 = fixing_null_values(DF2, 'MasVnrType')\n",
    "DF4 = fixing_null_values(DF3, 'MasVnrArea')\n",
    "DF5 = fixing_null_values(DF4, 'Electrical')\n",
    "DF6 = fixing_null_values(DF5, 'GarageYrBlt')\n",
    "DF6.show()"
   ]
  },
  {
   "cell_type": "code",
   "execution_count": 17,
   "metadata": {
    "colab": {
     "base_uri": "https://localhost:8080/"
    },
    "executionInfo": {
     "elapsed": 2196,
     "status": "ok",
     "timestamp": 1659260607272,
     "user": {
      "displayName": "Prerna Waghray",
      "userId": "08074246852708739388"
     },
     "user_tz": -330
    },
    "id": "S784ELRVtsXN",
    "outputId": "69070f10-a52e-49ac-e538-6d441e6e46f1"
   },
   "outputs": [
    {
     "name": "stdout",
     "output_type": "stream",
     "text": [
      "+----+----------+--------+-----------+-------+------+-----+--------+-----------+---------+---------+---------+------------+----------+----------+--------+----------+-----------+-----------+---------+------------+---------+--------+-----------+-----------+----------+----------+---------+---------+----------+--------+--------+------------+------------+----------+------------+----------+---------+-----------+-------+---------+----------+----------+--------+--------+------------+---------+------------+------------+--------+--------+------------+------------+-----------+------------+----------+----------+-----------+----------+-----------+------------+----------+----------+----------+----------+----------+----------+-----------+-------------+---------+-----------+--------+------+-----+-----------+-------+------+------+--------+-------------+---------+\n",
      "|  Id|MSSubClass|MSZoning|LotFrontage|LotArea|Street|Alley|LotShape|LandContour|Utilities|LotConfig|LandSlope|Neighborhood|Condition1|Condition2|BldgType|HouseStyle|OverallQual|OverallCond|YearBuilt|YearRemodAdd|RoofStyle|RoofMatl|Exterior1st|Exterior2nd|MasVnrType|MasVnrArea|ExterQual|ExterCond|Foundation|BsmtQual|BsmtCond|BsmtExposure|BsmtFinType1|BsmtFinSF1|BsmtFinType2|BsmtFinSF2|BsmtUnfSF|TotalBsmtSF|Heating|HeatingQC|CentralAir|Electrical|1stFlrSF|2ndFlrSF|LowQualFinSF|GrLivArea|BsmtFullBath|BsmtHalfBath|FullBath|HalfBath|BedroomAbvGr|KitchenAbvGr|KitchenQual|TotRmsAbvGrd|Functional|Fireplaces|FireplaceQu|GarageType|GarageYrBlt|GarageFinish|GarageCars|GarageArea|GarageQual|GarageCond|PavedDrive|WoodDeckSF|OpenPorchSF|EnclosedPorch|3SsnPorch|ScreenPorch|PoolArea|PoolQC|Fence|MiscFeature|MiscVal|MoSold|YrSold|SaleType|SaleCondition|SalePrice|\n",
      "+----+----------+--------+-----------+-------+------+-----+--------+-----------+---------+---------+---------+------------+----------+----------+--------+----------+-----------+-----------+---------+------------+---------+--------+-----------+-----------+----------+----------+---------+---------+----------+--------+--------+------------+------------+----------+------------+----------+---------+-----------+-------+---------+----------+----------+--------+--------+------------+---------+------------+------------+--------+--------+------------+------------+-----------+------------+----------+----------+-----------+----------+-----------+------------+----------+----------+----------+----------+----------+----------+-----------+-------------+---------+-----------+--------+------+-----+-----------+-------+------+------+--------+-------------+---------+\n",
      "|  69|        30|      RM|       47.0|   4608|  Pave|   NA|     Reg|        Lvl|   AllPub|   Corner|      Gtl|     OldTown|    Artery|      Norm|    1Fam|    1Story|          4|          6|     1945|        1950|    Gable| CompShg|    MetalSd|    MetalSd|      None|       0.0|       TA|       Gd|    CBlock|      TA|      TA|          No|         Unf|         0|         Unf|         0|      747|        747|   GasA|       TA|         Y|     SBrkr|     747|       0|           0|      747|           0|           0|       1|       0|           2|           1|         TA|           4|       Typ|         0|         NA|    Attchd|     1945.0|         Unf|         1|       220|        TA|        TA|         Y|         0|          0|            0|        0|          0|       0|    NA|   NA|         NA|      0|     6|  2010|      WD|       Normal|    80000|\n",
      "|  78|        50|      RM|       50.0|   8635|  Pave|   NA|     Reg|        Lvl|   AllPub|   Inside|      Gtl|     BrkSide|      Norm|      Norm|    1Fam|    1.5Fin|          5|          5|     1948|        2001|    Gable| CompShg|    Wd Sdng|    Wd Sdng|      None|       0.0|       TA|       TA|    CBlock|      TA|      TA|          No|         BLQ|       336|         GLQ|        41|      295|        672|   GasA|       TA|         Y|     SBrkr|    1072|     213|           0|     1285|           1|           0|       1|       0|           2|           1|         TA|           6|      Min1|         0|         NA|    Detchd|     1948.0|         Unf|         1|       240|        TA|        TA|         Y|         0|          0|            0|        0|          0|       0|    NA|MnPrv|         NA|      0|     1|  2008|      WD|       Normal|   127000|\n",
      "| 181|       160|      FV|       null|   2117|  Pave|   NA|     Reg|        Lvl|   AllPub|   Inside|      Gtl|     Somerst|      Norm|      Norm|   Twnhs|    2Story|          6|          5|     2000|        2000|    Gable| CompShg|    MetalSd|    MetalSd|   BrkFace|     456.0|       Gd|       TA|     PConc|      Gd|      TA|          No|         GLQ|       436|         Unf|         0|      320|        756|   GasA|       Ex|         Y|     SBrkr|     769|     756|           0|     1525|           0|           0|       2|       1|           3|           1|         Gd|           5|       Typ|         1|         TA|    Detchd|     2000.0|         Unf|         2|       440|        TA|        TA|         Y|         0|          0|            0|        0|          0|       0|    NA|   NA|         NA|      0|     6|  2007|      WD|       Normal|   177000|\n",
      "| 258|        20|      RL|       68.0|   8814|  Pave|   NA|     Reg|        Lvl|   AllPub|   Inside|      Gtl|     CollgCr|      Norm|      Norm|    1Fam|    1Story|          7|          5|     2006|        2006|    Gable| CompShg|    VinylSd|    VinylSd|     Stone|     180.0|       Gd|       TA|     PConc|      Gd|      TA|          No|         GLQ|      1334|         Unf|         0|      270|       1604|   GasA|       Ex|         Y|     SBrkr|    1604|       0|           0|     1604|           1|           0|       2|       1|           3|           1|         Gd|           8|       Typ|         1|         Gd|    Attchd|     2006.0|         RFn|         2|       660|        TA|        TA|         Y|       123|        110|            0|        0|          0|       0|    NA|   NA|         NA|      0|     3|  2009|      WD|      Abnorml|   220000|\n",
      "| 294|        60|      RL|       null|  16659|  Pave|   NA|     IR1|        Lvl|   AllPub|   Corner|      Gtl|      NWAmes|      PosA|      Norm|    1Fam|    2Story|          7|          7|     1977|        1994|    Gable| CompShg|    Plywood|    Plywood|   BrkFace|      34.0|       TA|       TA|    CBlock|      TA|      TA|          No|         ALQ|       795|         Unf|         0|        0|        795|   GasA|       Fa|         Y|     SBrkr|    1468|     795|           0|     2263|           1|           0|       2|       1|           3|           1|         Gd|           9|       Typ|         1|         TA|    Attchd|     1977.0|         Fin|         2|       539|        TA|        TA|         Y|         0|        250|            0|        0|          0|       0|    NA|   NA|         NA|      0|     3|  2006|      WD|       Normal|   235000|\n",
      "| 314|        20|      RL|      150.0| 215245|  Pave|   NA|     IR3|        Low|   AllPub|   Inside|      Sev|      Timber|      Norm|      Norm|    1Fam|    1Story|          7|          5|     1965|        1965|      Hip| CompShg|    BrkFace|    BrkFace|      None|       0.0|       TA|       TA|    CBlock|      Gd|      TA|          Gd|         ALQ|      1236|         Rec|       820|       80|       2136|   GasW|       TA|         Y|     SBrkr|    2036|       0|           0|     2036|           2|           0|       2|       0|           3|           1|         TA|           8|       Typ|         2|         Gd|    Attchd|     1965.0|         RFn|         2|       513|        TA|        TA|         Y|         0|          0|            0|        0|          0|       0|    NA|   NA|         NA|      0|     6|  2009|      WD|       Normal|   375000|\n",
      "| 561|        20|      RL|       null|  11341|  Pave|   NA|     IR1|        Lvl|   AllPub|   Inside|      Gtl|      Sawyer|      Norm|      Norm|    1Fam|    1Story|          5|          6|     1957|        1996|      Hip| CompShg|    Wd Sdng|    Wd Sdng|   BrkFace|     180.0|       TA|       TA|    CBlock|      Gd|      TA|          No|         ALQ|      1302|         Unf|         0|       90|       1392|   GasA|       TA|         Y|     SBrkr|    1392|       0|           0|     1392|           1|           0|       1|       1|           3|           1|         TA|           5|       Mod|         1|         Gd|    Detchd|     1957.0|         Unf|         2|       528|        TA|        TA|         Y|         0|          0|            0|        0|         95|       0|    NA|   NA|         NA|      0|     5|  2010|      WD|       Normal|   121500|\n",
      "| 585|        50|      RM|       51.0|   6120|  Pave|   NA|     Reg|        Lvl|   AllPub|   Inside|      Gtl|     BrkSide|      Norm|      Norm|    1Fam|    1.5Fin|          4|          7|     1935|        1995|    Gable| CompShg|    AsbShng|    AsbShng|      None|       0.0|       TA|       TA|    BrkTil|      TA|      TA|          No|         Unf|         0|         Unf|         0|      884|        884|   GasA|       Ex|         Y|     SBrkr|     989|     584|           0|     1573|           0|           0|       1|       0|           3|           1|         Gd|           6|       Typ|         0|         NA|    Detchd|     1935.0|         Unf|         1|       240|        TA|        TA|         Y|         0|          0|           54|        0|        120|       0|    NA|   NA|         NA|      0|     7|  2009|      WD|       Normal|   133000|\n",
      "| 810|        75|      RM|       90.0|   8100|  Pave|   NA|     Reg|        Lvl|   AllPub|   Corner|      Gtl|     OldTown|      Norm|      Norm|    1Fam|    2.5Unf|          5|          5|     1898|        1965|      Hip| CompShg|    AsbShng|    AsbShng|      None|       0.0|       TA|       TA|     PConc|      TA|      TA|          No|         Unf|         0|         Unf|         0|      849|        849|   GasA|       TA|         N|     FuseA|    1075|    1063|           0|     2138|           0|           0|       2|       0|           2|           3|         TA|          11|       Typ|         0|         NA|    Detchd|     1910.0|         Unf|         2|       360|        Fa|        Po|         N|        40|        156|            0|        0|          0|       0|    NA|MnPrv|         NA|      0|    11|  2009|      WD|       Normal|   106000|\n",
      "|1103|        20|      RL|       70.0|   7000|  Pave|   NA|     Reg|        Lvl|   AllPub|   Inside|      Gtl|       NAmes|      Norm|      Norm|    1Fam|    1Story|          5|          7|     1960|        2002|    Gable| CompShg|    Wd Sdng|    Wd Sdng|   BrkFace|      45.0|       TA|       TA|    CBlock|      TA|      TA|          No|         Rec|       588|         Unf|         0|      422|       1010|   GasA|       Ex|         Y|     SBrkr|    1134|       0|           0|     1134|           0|           0|       1|       0|           2|           1|         TA|           6|       Typ|         0|         NA|    Attchd|     1960.0|         RFn|         1|       254|        TA|        TA|         Y|         0|         16|            0|        0|          0|       0|    NA| MnWw|         NA|      0|     4|  2007|      WD|       Family|   135000|\n",
      "|1180|        20|      RL|       77.0|   8335|  Pave|   NA|     Reg|        Lvl|   AllPub|   Corner|      Gtl|     Edwards|      Norm|      Norm|    1Fam|    1Story|          5|          5|     1954|        1954|    Gable| CompShg|    Wd Sdng|    Wd Sdng|      None|       0.0|       TA|       TA|      Slab|      NA|      NA|          NA|          NA|         0|          NA|         0|        0|          0|   GasA|       Gd|         Y|     SBrkr|    1124|       0|           0|     1124|           0|           0|       1|       0|           3|           1|         TA|           5|      Min2|         1|         Gd|        NA|       null|          NA|         0|         0|        NA|        NA|         N|         0|         36|          190|        0|          0|       0|    NA|   NA|         NA|      0|     4|  2006|      WD|       Normal|    93000|\n",
      "|1395|       120|      RL|       53.0|   4045|  Pave|   NA|     Reg|        Lvl|   AllPub|   Inside|      Gtl|     Blmngtn|      Norm|      Norm|  TwnhsE|    1Story|          7|          5|     2006|        2006|      Hip| CompShg|    VinylSd|    VinylSd|   BrkFace|      45.0|       Gd|       TA|     PConc|      Gd|      TA|          Av|         GLQ|      1070|         Unf|         0|      286|       1356|   GasA|       Ex|         Y|     SBrkr|    1500|       0|           0|     1500|           1|           0|       2|       0|           2|           1|         Gd|           6|       Typ|         1|         Gd|    Attchd|     2006.0|         Fin|         3|       648|        TA|        TA|         Y|       161|         20|            0|        0|          0|       0|    NA|   NA|         NA|      0|    10|  2006|     New|      Partial|   246578|\n",
      "| 178|        50|      RL|       null|  13650|  Pave|   NA|     Reg|        Lvl|   AllPub|   Inside|      Gtl|      Sawyer|      Norm|      Norm|    1Fam|    1.5Fin|          5|          5|     1958|        1958|    Gable| CompShg|    MetalSd|    MetalSd|      None|       0.0|       Gd|       Gd|    CBlock|      TA|      TA|          No|         ALQ|        57|         BLQ|       441|      554|       1052|   GasA|       Ex|         Y|     SBrkr|    1252|     668|           0|     1920|           1|           0|       2|       0|           4|           1|         Gd|           8|       Typ|         1|         Gd|    Attchd|     1958.0|         Unf|         2|       451|        TA|        TA|         Y|         0|          0|            0|        0|          0|       0|    NA|   NA|         NA|      0|     7|  2006|      WD|       Normal|   172500|\n",
      "| 292|       190|      RL|       55.0|   5687|  Pave| Grvl|     Reg|        Bnk|   AllPub|   Inside|      Gtl|       SWISU|      Norm|      Norm|  2fmCon|    2Story|          5|          6|     1912|        2000|    Gable| CompShg|    VinylSd|    VinylSd|      None|       0.0|       TA|       Fa|     PConc|      TA|      Fa|          No|         Rec|       210|         Unf|         0|      570|        780|   GasA|       Ex|         N|     SBrkr|     936|     780|           0|     1716|           1|           0|       2|       0|           6|           1|         Fa|           9|       Typ|         0|         NA|        NA|       null|          NA|         0|         0|        NA|        NA|         N|         0|        184|            0|        0|          0|       0|    NA|   NA|         NA|      0|     3|  2008|      WD|       Normal|   135900|\n",
      "| 334|       120|      RM|       59.0|   8198|  Pave|   NA|     Reg|        Lvl|   AllPub|      FR3|      Gtl|     NridgHt|      Norm|      Norm|  TwnhsE|    1Story|          7|          5|     2004|        2004|    Gable| CompShg|    VinylSd|    VinylSd|     Stone|     146.0|       Gd|       TA|     PConc|      Gd|      TA|          Av|         GLQ|       720|         Unf|         0|      638|       1358|   GasA|       Ex|         Y|     SBrkr|    1358|       0|           0|     1358|           1|           0|       2|       0|           2|           1|         Gd|           6|       Typ|         1|         Gd|    Attchd|     2004.0|         RFn|         2|       484|        TA|        TA|         Y|       192|         30|            0|        0|          0|       0|    NA|   NA|         NA|      0|     7|  2008|      WD|       Normal|   207000|\n",
      "| 664|        85|      RL|       90.0|  10012|  Pave|   NA|     Reg|        Lvl|   AllPub|   Inside|      Gtl|     Edwards|      Norm|      Norm|    1Fam|    SFoyer|          4|          5|     1972|        1972|    Gable| CompShg|    Plywood|    Plywood|      None|       0.0|       TA|       TA|    CBlock|      Gd|      TA|          Av|         BLQ|       920|         Rec|       180|       38|       1138|   GasA|       TA|         Y|     SBrkr|    1181|       0|           0|     1181|           1|           0|       2|       0|           3|           1|         TA|           6|       Typ|         0|         NA|    Detchd|     1974.0|         RFn|         2|       588|        TA|        TA|         Y|         0|          0|          180|        0|          0|       0|    NA|MnPrv|         NA|      0|     4|  2008|      WD|       Normal|   137500|\n",
      "|1023|        50|      RM|       52.0|   9439|  Pave|   NA|     Reg|        Lvl|   AllPub|   Inside|      Gtl|     OldTown|      Norm|      Norm|    1Fam|    1.5Fin|          5|          5|     1930|        1950|    Gable| CompShg|    Wd Sdng|    Wd Sdng|      None|       0.0|       TA|       TA|    CBlock|      TA|      TA|          No|         LwQ|       324|         Unf|         0|      588|        912|   GasA|       Gd|         Y|     FuseA|     912|     336|           0|     1248|           0|           0|       1|       0|           2|           1|         TA|           6|       Typ|         0|         NA|    Detchd|     1957.0|         Unf|         1|       160|        Fa|        Fa|         Y|         0|          0|          192|        0|          0|       0|    NA|   NA|         NA|      0|     3|  2007|      WD|       Normal|    87000|\n",
      "|1090|       120|      FV|       37.0|   3316|  Pave| Pave|     IR1|        Lvl|   AllPub|   Inside|      Gtl|     Somerst|      Norm|      Norm|  TwnhsE|    1Story|          8|          5|     2005|        2005|    Gable| CompShg|    MetalSd|    MetalSd|      None|       0.0|       Gd|       TA|     PConc|      Gd|      TA|          No|         GLQ|      1039|         Unf|         0|      208|       1247|   GasA|       Ex|         Y|     SBrkr|    1247|       0|           0|     1247|           1|           0|       1|       1|           1|           1|         Gd|           4|       Typ|         1|         Gd|    Attchd|     2005.0|         Fin|         2|       550|        TA|        TA|         Y|         0|         84|            0|        0|          0|       0|    NA|   NA|         NA|      0|     4|  2006|      WD|       Normal|   197000|\n",
      "|1359|       160|      FV|       null|   2117|  Pave|   NA|     Reg|        Lvl|   AllPub|   Inside|      Gtl|     Somerst|      Norm|      Norm|   Twnhs|    2Story|          6|          5|     2000|        2000|    Gable| CompShg|    MetalSd|    MetalSd|   BrkFace|     216.0|       Gd|       TA|     PConc|      Gd|      TA|          No|         GLQ|       378|         Unf|         0|      378|        756|   GasA|       Ex|         Y|     SBrkr|     769|     804|           0|     1573|           0|           0|       2|       1|           3|           1|         Gd|           5|       Typ|         0|         NA|    Detchd|     2000.0|         Unf|         2|       440|        TA|        TA|         Y|         0|         32|            0|        0|          0|       0|    NA|   NA|         NA|      0|     6|  2010|      WD|       Normal|   177500|\n",
      "| 362|        50|      RL|       null|   9144|  Pave| Pave|     Reg|        Lvl|   AllPub|   Inside|      Gtl|     BrkSide|      Norm|      Norm|    1Fam|    1.5Fin|          5|          5|     1940|        1982|    Gable| CompShg|    MetalSd|    MetalSd|      None|       0.0|       TA|       TA|    CBlock|      TA|      TA|          No|         Rec|       399|         Unf|         0|      484|        883|   GasA|       Gd|         Y|     SBrkr|     988|     517|           0|     1505|           1|           0|       1|       0|           3|           1|         TA|           8|       Typ|         0|         NA|    Detchd|     1940.0|         Unf|         1|       240|        TA|        TA|         N|         0|          0|            0|        0|          0|       0|    NA|   NA|         NA|      0|     7|  2008|      WD|       Normal|   145000|\n",
      "+----+----------+--------+-----------+-------+------+-----+--------+-----------+---------+---------+---------+------------+----------+----------+--------+----------+-----------+-----------+---------+------------+---------+--------+-----------+-----------+----------+----------+---------+---------+----------+--------+--------+------------+------------+----------+------------+----------+---------+-----------+-------+---------+----------+----------+--------+--------+------------+---------+------------+------------+--------+--------+------------+------------+-----------+------------+----------+----------+-----------+----------+-----------+------------+----------+----------+----------+----------+----------+----------+-----------+-------------+---------+-----------+--------+------+-----+-----------+-------+------+------+--------+-------------+---------+\n",
      "only showing top 20 rows\n",
      "\n"
     ]
    }
   ],
   "source": [
    "# Confirming that there are null values in the dataset\n",
    "DF6.distinct().show()"
   ]
  },
  {
   "cell_type": "code",
   "execution_count": 18,
   "metadata": {
    "colab": {
     "base_uri": "https://localhost:8080/"
    },
    "executionInfo": {
     "elapsed": 1824,
     "status": "ok",
     "timestamp": 1659260612563,
     "user": {
      "displayName": "Prerna Waghray",
      "userId": "08074246852708739388"
     },
     "user_tz": -330
    },
    "id": "D47iIUt_2978",
    "outputId": "743da285-27ff-47f8-effa-ad2161d3a3e0"
   },
   "outputs": [
    {
     "name": "stdout",
     "output_type": "stream",
     "text": [
      "+---+----------+--------+-----------+-------+------+-----+--------+-----------+---------+---------+---------+------------+----------+----------+--------+----------+-----------+-----------+---------+------------+---------+--------+-----------+-----------+----------+----------+---------+---------+----------+--------+--------+------------+------------+----------+------------+----------+---------+-----------+-------+---------+----------+----------+--------+--------+------------+---------+------------+------------+--------+--------+------------+------------+-----------+------------+----------+----------+-----------+----------+-----------+------------+----------+----------+----------+----------+----------+----------+-----------+-------------+---------+-----------+--------+------+-----+-----------+-------+------+------+--------+-------------+---------+\n",
      "| Id|MSSubClass|MSZoning|LotFrontage|LotArea|Street|Alley|LotShape|LandContour|Utilities|LotConfig|LandSlope|Neighborhood|Condition1|Condition2|BldgType|HouseStyle|OverallQual|OverallCond|YearBuilt|YearRemodAdd|RoofStyle|RoofMatl|Exterior1st|Exterior2nd|MasVnrType|MasVnrArea|ExterQual|ExterCond|Foundation|BsmtQual|BsmtCond|BsmtExposure|BsmtFinType1|BsmtFinSF1|BsmtFinType2|BsmtFinSF2|BsmtUnfSF|TotalBsmtSF|Heating|HeatingQC|CentralAir|Electrical|1stFlrSF|2ndFlrSF|LowQualFinSF|GrLivArea|BsmtFullBath|BsmtHalfBath|FullBath|HalfBath|BedroomAbvGr|KitchenAbvGr|KitchenQual|TotRmsAbvGrd|Functional|Fireplaces|FireplaceQu|GarageType|GarageYrBlt|GarageFinish|GarageCars|GarageArea|GarageQual|GarageCond|PavedDrive|WoodDeckSF|OpenPorchSF|EnclosedPorch|3SsnPorch|ScreenPorch|PoolArea|PoolQC|Fence|MiscFeature|MiscVal|MoSold|YrSold|SaleType|SaleCondition|SalePrice|\n",
      "+---+----------+--------+-----------+-------+------+-----+--------+-----------+---------+---------+---------+------------+----------+----------+--------+----------+-----------+-----------+---------+------------+---------+--------+-----------+-----------+----------+----------+---------+---------+----------+--------+--------+------------+------------+----------+------------+----------+---------+-----------+-------+---------+----------+----------+--------+--------+------------+---------+------------+------------+--------+--------+------------+------------+-----------+------------+----------+----------+-----------+----------+-----------+------------+----------+----------+----------+----------+----------+----------+-----------+-------------+---------+-----------+--------+------+-----+-----------+-------+------+------+--------+-------------+---------+\n",
      "|  0|         0|       0|        259|      0|     0|    0|       0|          0|        0|        0|        0|           0|         0|         0|       0|         0|          0|          0|        0|           0|        0|       0|          0|          0|         8|         8|        0|        0|         0|       0|       0|           0|           0|         0|           0|         0|        0|          0|      0|        0|         0|         1|       0|       0|           0|        0|           0|           0|       0|       0|           0|           0|          0|           0|         0|         0|          0|         0|         81|           0|         0|         0|         0|         0|         0|         0|          0|            0|        0|          0|       0|     0|    0|          0|      0|     0|     0|       0|            0|        0|\n",
      "+---+----------+--------+-----------+-------+------+-----+--------+-----------+---------+---------+---------+------------+----------+----------+--------+----------+-----------+-----------+---------+------------+---------+--------+-----------+-----------+----------+----------+---------+---------+----------+--------+--------+------------+------------+----------+------------+----------+---------+-----------+-------+---------+----------+----------+--------+--------+------------+---------+------------+------------+--------+--------+------------+------------+-----------+------------+----------+----------+-----------+----------+-----------+------------+----------+----------+----------+----------+----------+----------+-----------+-------------+---------+-----------+--------+------+-----+-----------+-------+------+------+--------+-------------+---------+\n",
      "\n"
     ]
    }
   ],
   "source": [
    "from pyspark.sql.functions import isnull, when, count, col\n",
    "DF6.select([count(when(isnull(c), c)).alias(c) for c in DF6.columns]).show()"
   ]
  },
  {
   "cell_type": "code",
   "execution_count": 19,
   "metadata": {
    "executionInfo": {
     "elapsed": 3,
     "status": "ok",
     "timestamp": 1659260614740,
     "user": {
      "displayName": "Prerna Waghray",
      "userId": "08074246852708739388"
     },
     "user_tz": -330
    },
    "id": "TZQTMZN4xG8p"
   },
   "outputs": [],
   "source": [
    "# Null value imputation\n",
    "from pyspark.ml.feature import Imputer\n",
    "\n",
    "imputer = Imputer(inputCols=['LotFrontage', 'MasVnrArea',  'GarageYrBlt'], outputCols=[\"{}_imputed\".format(c) for c in ['LotFrontage', 'MasVnrArea', 'GarageYrBlt']]).setStrategy(\"median\")"
   ]
  },
  {
   "cell_type": "code",
   "execution_count": 20,
   "metadata": {
    "colab": {
     "base_uri": "https://localhost:8080/"
    },
    "executionInfo": {
     "elapsed": 1688,
     "status": "ok",
     "timestamp": 1659260622718,
     "user": {
      "displayName": "Prerna Waghray",
      "userId": "08074246852708739388"
     },
     "user_tz": -330
    },
    "id": "dF6GlQsTxWjA",
    "outputId": "9e9ce06d-5734-45c5-cd27-2e1e332dc73b"
   },
   "outputs": [
    {
     "name": "stdout",
     "output_type": "stream",
     "text": [
      "+---+----------+--------+-----------+-------+------+-----+--------+-----------+---------+---------+---------+------------+----------+----------+--------+----------+-----------+-----------+---------+------------+---------+--------+-----------+-----------+----------+----------+---------+---------+----------+--------+--------+------------+------------+----------+------------+----------+---------+-----------+-------+---------+----------+----------+--------+--------+------------+---------+------------+------------+--------+--------+------------+------------+-----------+------------+----------+----------+-----------+----------+-----------+------------+----------+----------+----------+----------+----------+----------+-----------+-------------+---------+-----------+--------+------+-----+-----------+-------+------+------+--------+-------------+---------+-------------------+------------------+-------------------+\n",
      "| Id|MSSubClass|MSZoning|LotFrontage|LotArea|Street|Alley|LotShape|LandContour|Utilities|LotConfig|LandSlope|Neighborhood|Condition1|Condition2|BldgType|HouseStyle|OverallQual|OverallCond|YearBuilt|YearRemodAdd|RoofStyle|RoofMatl|Exterior1st|Exterior2nd|MasVnrType|MasVnrArea|ExterQual|ExterCond|Foundation|BsmtQual|BsmtCond|BsmtExposure|BsmtFinType1|BsmtFinSF1|BsmtFinType2|BsmtFinSF2|BsmtUnfSF|TotalBsmtSF|Heating|HeatingQC|CentralAir|Electrical|1stFlrSF|2ndFlrSF|LowQualFinSF|GrLivArea|BsmtFullBath|BsmtHalfBath|FullBath|HalfBath|BedroomAbvGr|KitchenAbvGr|KitchenQual|TotRmsAbvGrd|Functional|Fireplaces|FireplaceQu|GarageType|GarageYrBlt|GarageFinish|GarageCars|GarageArea|GarageQual|GarageCond|PavedDrive|WoodDeckSF|OpenPorchSF|EnclosedPorch|3SsnPorch|ScreenPorch|PoolArea|PoolQC|Fence|MiscFeature|MiscVal|MoSold|YrSold|SaleType|SaleCondition|SalePrice|LotFrontage_imputed|MasVnrArea_imputed|GarageYrBlt_imputed|\n",
      "+---+----------+--------+-----------+-------+------+-----+--------+-----------+---------+---------+---------+------------+----------+----------+--------+----------+-----------+-----------+---------+------------+---------+--------+-----------+-----------+----------+----------+---------+---------+----------+--------+--------+------------+------------+----------+------------+----------+---------+-----------+-------+---------+----------+----------+--------+--------+------------+---------+------------+------------+--------+--------+------------+------------+-----------+------------+----------+----------+-----------+----------+-----------+------------+----------+----------+----------+----------+----------+----------+-----------+-------------+---------+-----------+--------+------+-----+-----------+-------+------+------+--------+-------------+---------+-------------------+------------------+-------------------+\n",
      "|  1|        60|      RL|       65.0|   8450|  Pave|   NA|     Reg|        Lvl|   AllPub|   Inside|      Gtl|     CollgCr|      Norm|      Norm|    1Fam|    2Story|          7|          5|     2003|        2003|    Gable| CompShg|    VinylSd|    VinylSd|   BrkFace|     196.0|       Gd|       TA|     PConc|      Gd|      TA|          No|         GLQ|       706|         Unf|         0|      150|        856|   GasA|       Ex|         Y|     SBrkr|     856|     854|           0|     1710|           1|           0|       2|       1|           3|           1|         Gd|           8|       Typ|         0|         NA|    Attchd|     2003.0|         RFn|         2|       548|        TA|        TA|         Y|         0|         61|            0|        0|          0|       0|    NA|   NA|         NA|      0|     2|  2008|      WD|       Normal|   208500|               65.0|             196.0|             2003.0|\n",
      "|  2|        20|      RL|       80.0|   9600|  Pave|   NA|     Reg|        Lvl|   AllPub|      FR2|      Gtl|     Veenker|     Feedr|      Norm|    1Fam|    1Story|          6|          8|     1976|        1976|    Gable| CompShg|    MetalSd|    MetalSd|      None|       0.0|       TA|       TA|    CBlock|      Gd|      TA|          Gd|         ALQ|       978|         Unf|         0|      284|       1262|   GasA|       Ex|         Y|     SBrkr|    1262|       0|           0|     1262|           0|           1|       2|       0|           3|           1|         TA|           6|       Typ|         1|         TA|    Attchd|     1976.0|         RFn|         2|       460|        TA|        TA|         Y|       298|          0|            0|        0|          0|       0|    NA|   NA|         NA|      0|     5|  2007|      WD|       Normal|   181500|               80.0|               0.0|             1976.0|\n",
      "|  3|        60|      RL|       68.0|  11250|  Pave|   NA|     IR1|        Lvl|   AllPub|   Inside|      Gtl|     CollgCr|      Norm|      Norm|    1Fam|    2Story|          7|          5|     2001|        2002|    Gable| CompShg|    VinylSd|    VinylSd|   BrkFace|     162.0|       Gd|       TA|     PConc|      Gd|      TA|          Mn|         GLQ|       486|         Unf|         0|      434|        920|   GasA|       Ex|         Y|     SBrkr|     920|     866|           0|     1786|           1|           0|       2|       1|           3|           1|         Gd|           6|       Typ|         1|         TA|    Attchd|     2001.0|         RFn|         2|       608|        TA|        TA|         Y|         0|         42|            0|        0|          0|       0|    NA|   NA|         NA|      0|     9|  2008|      WD|       Normal|   223500|               68.0|             162.0|             2001.0|\n",
      "|  4|        70|      RL|       60.0|   9550|  Pave|   NA|     IR1|        Lvl|   AllPub|   Corner|      Gtl|     Crawfor|      Norm|      Norm|    1Fam|    2Story|          7|          5|     1915|        1970|    Gable| CompShg|    Wd Sdng|    Wd Shng|      None|       0.0|       TA|       TA|    BrkTil|      TA|      Gd|          No|         ALQ|       216|         Unf|         0|      540|        756|   GasA|       Gd|         Y|     SBrkr|     961|     756|           0|     1717|           1|           0|       1|       0|           3|           1|         Gd|           7|       Typ|         1|         Gd|    Detchd|     1998.0|         Unf|         3|       642|        TA|        TA|         Y|         0|         35|          272|        0|          0|       0|    NA|   NA|         NA|      0|     2|  2006|      WD|      Abnorml|   140000|               60.0|               0.0|             1998.0|\n",
      "|  5|        60|      RL|       84.0|  14260|  Pave|   NA|     IR1|        Lvl|   AllPub|      FR2|      Gtl|     NoRidge|      Norm|      Norm|    1Fam|    2Story|          8|          5|     2000|        2000|    Gable| CompShg|    VinylSd|    VinylSd|   BrkFace|     350.0|       Gd|       TA|     PConc|      Gd|      TA|          Av|         GLQ|       655|         Unf|         0|      490|       1145|   GasA|       Ex|         Y|     SBrkr|    1145|    1053|           0|     2198|           1|           0|       2|       1|           4|           1|         Gd|           9|       Typ|         1|         TA|    Attchd|     2000.0|         RFn|         3|       836|        TA|        TA|         Y|       192|         84|            0|        0|          0|       0|    NA|   NA|         NA|      0|    12|  2008|      WD|       Normal|   250000|               84.0|             350.0|             2000.0|\n",
      "|  6|        50|      RL|       85.0|  14115|  Pave|   NA|     IR1|        Lvl|   AllPub|   Inside|      Gtl|     Mitchel|      Norm|      Norm|    1Fam|    1.5Fin|          5|          5|     1993|        1995|    Gable| CompShg|    VinylSd|    VinylSd|      None|       0.0|       TA|       TA|      Wood|      Gd|      TA|          No|         GLQ|       732|         Unf|         0|       64|        796|   GasA|       Ex|         Y|     SBrkr|     796|     566|           0|     1362|           1|           0|       1|       1|           1|           1|         TA|           5|       Typ|         0|         NA|    Attchd|     1993.0|         Unf|         2|       480|        TA|        TA|         Y|        40|         30|            0|      320|          0|       0|    NA|MnPrv|       Shed|    700|    10|  2009|      WD|       Normal|   143000|               85.0|               0.0|             1993.0|\n",
      "|  7|        20|      RL|       75.0|  10084|  Pave|   NA|     Reg|        Lvl|   AllPub|   Inside|      Gtl|     Somerst|      Norm|      Norm|    1Fam|    1Story|          8|          5|     2004|        2005|    Gable| CompShg|    VinylSd|    VinylSd|     Stone|     186.0|       Gd|       TA|     PConc|      Ex|      TA|          Av|         GLQ|      1369|         Unf|         0|      317|       1686|   GasA|       Ex|         Y|     SBrkr|    1694|       0|           0|     1694|           1|           0|       2|       0|           3|           1|         Gd|           7|       Typ|         1|         Gd|    Attchd|     2004.0|         RFn|         2|       636|        TA|        TA|         Y|       255|         57|            0|        0|          0|       0|    NA|   NA|         NA|      0|     8|  2007|      WD|       Normal|   307000|               75.0|             186.0|             2004.0|\n",
      "|  8|        60|      RL|       null|  10382|  Pave|   NA|     IR1|        Lvl|   AllPub|   Corner|      Gtl|      NWAmes|      PosN|      Norm|    1Fam|    2Story|          7|          6|     1973|        1973|    Gable| CompShg|    HdBoard|    HdBoard|     Stone|     240.0|       TA|       TA|    CBlock|      Gd|      TA|          Mn|         ALQ|       859|         BLQ|        32|      216|       1107|   GasA|       Ex|         Y|     SBrkr|    1107|     983|           0|     2090|           1|           0|       2|       1|           3|           1|         TA|           7|       Typ|         2|         TA|    Attchd|     1973.0|         RFn|         2|       484|        TA|        TA|         Y|       235|        204|          228|        0|          0|       0|    NA|   NA|       Shed|    350|    11|  2009|      WD|       Normal|   200000|               69.0|             240.0|             1973.0|\n",
      "|  9|        50|      RM|       51.0|   6120|  Pave|   NA|     Reg|        Lvl|   AllPub|   Inside|      Gtl|     OldTown|    Artery|      Norm|    1Fam|    1.5Fin|          7|          5|     1931|        1950|    Gable| CompShg|    BrkFace|    Wd Shng|      None|       0.0|       TA|       TA|    BrkTil|      TA|      TA|          No|         Unf|         0|         Unf|         0|      952|        952|   GasA|       Gd|         Y|     FuseF|    1022|     752|           0|     1774|           0|           0|       2|       0|           2|           2|         TA|           8|      Min1|         2|         TA|    Detchd|     1931.0|         Unf|         2|       468|        Fa|        TA|         Y|        90|          0|          205|        0|          0|       0|    NA|   NA|         NA|      0|     4|  2008|      WD|      Abnorml|   129900|               51.0|               0.0|             1931.0|\n",
      "| 10|       190|      RL|       50.0|   7420|  Pave|   NA|     Reg|        Lvl|   AllPub|   Corner|      Gtl|     BrkSide|    Artery|    Artery|  2fmCon|    1.5Unf|          5|          6|     1939|        1950|    Gable| CompShg|    MetalSd|    MetalSd|      None|       0.0|       TA|       TA|    BrkTil|      TA|      TA|          No|         GLQ|       851|         Unf|         0|      140|        991|   GasA|       Ex|         Y|     SBrkr|    1077|       0|           0|     1077|           1|           0|       1|       0|           2|           2|         TA|           5|       Typ|         2|         TA|    Attchd|     1939.0|         RFn|         1|       205|        Gd|        TA|         Y|         0|          4|            0|        0|          0|       0|    NA|   NA|         NA|      0|     1|  2008|      WD|       Normal|   118000|               50.0|               0.0|             1939.0|\n",
      "| 11|        20|      RL|       70.0|  11200|  Pave|   NA|     Reg|        Lvl|   AllPub|   Inside|      Gtl|      Sawyer|      Norm|      Norm|    1Fam|    1Story|          5|          5|     1965|        1965|      Hip| CompShg|    HdBoard|    HdBoard|      None|       0.0|       TA|       TA|    CBlock|      TA|      TA|          No|         Rec|       906|         Unf|         0|      134|       1040|   GasA|       Ex|         Y|     SBrkr|    1040|       0|           0|     1040|           1|           0|       1|       0|           3|           1|         TA|           5|       Typ|         0|         NA|    Detchd|     1965.0|         Unf|         1|       384|        TA|        TA|         Y|         0|          0|            0|        0|          0|       0|    NA|   NA|         NA|      0|     2|  2008|      WD|       Normal|   129500|               70.0|               0.0|             1965.0|\n",
      "| 12|        60|      RL|       85.0|  11924|  Pave|   NA|     IR1|        Lvl|   AllPub|   Inside|      Gtl|     NridgHt|      Norm|      Norm|    1Fam|    2Story|          9|          5|     2005|        2006|      Hip| CompShg|    WdShing|    Wd Shng|     Stone|     286.0|       Ex|       TA|     PConc|      Ex|      TA|          No|         GLQ|       998|         Unf|         0|      177|       1175|   GasA|       Ex|         Y|     SBrkr|    1182|    1142|           0|     2324|           1|           0|       3|       0|           4|           1|         Ex|          11|       Typ|         2|         Gd|   BuiltIn|     2005.0|         Fin|         3|       736|        TA|        TA|         Y|       147|         21|            0|        0|          0|       0|    NA|   NA|         NA|      0|     7|  2006|     New|      Partial|   345000|               85.0|             286.0|             2005.0|\n",
      "| 13|        20|      RL|       null|  12968|  Pave|   NA|     IR2|        Lvl|   AllPub|   Inside|      Gtl|      Sawyer|      Norm|      Norm|    1Fam|    1Story|          5|          6|     1962|        1962|      Hip| CompShg|    HdBoard|    Plywood|      None|       0.0|       TA|       TA|    CBlock|      TA|      TA|          No|         ALQ|       737|         Unf|         0|      175|        912|   GasA|       TA|         Y|     SBrkr|     912|       0|           0|      912|           1|           0|       1|       0|           2|           1|         TA|           4|       Typ|         0|         NA|    Detchd|     1962.0|         Unf|         1|       352|        TA|        TA|         Y|       140|          0|            0|        0|        176|       0|    NA|   NA|         NA|      0|     9|  2008|      WD|       Normal|   144000|               69.0|               0.0|             1962.0|\n",
      "| 14|        20|      RL|       91.0|  10652|  Pave|   NA|     IR1|        Lvl|   AllPub|   Inside|      Gtl|     CollgCr|      Norm|      Norm|    1Fam|    1Story|          7|          5|     2006|        2007|    Gable| CompShg|    VinylSd|    VinylSd|     Stone|     306.0|       Gd|       TA|     PConc|      Gd|      TA|          Av|         Unf|         0|         Unf|         0|     1494|       1494|   GasA|       Ex|         Y|     SBrkr|    1494|       0|           0|     1494|           0|           0|       2|       0|           3|           1|         Gd|           7|       Typ|         1|         Gd|    Attchd|     2006.0|         RFn|         3|       840|        TA|        TA|         Y|       160|         33|            0|        0|          0|       0|    NA|   NA|         NA|      0|     8|  2007|     New|      Partial|   279500|               91.0|             306.0|             2006.0|\n",
      "| 15|        20|      RL|       null|  10920|  Pave|   NA|     IR1|        Lvl|   AllPub|   Corner|      Gtl|       NAmes|      Norm|      Norm|    1Fam|    1Story|          6|          5|     1960|        1960|      Hip| CompShg|    MetalSd|    MetalSd|   BrkFace|     212.0|       TA|       TA|    CBlock|      TA|      TA|          No|         BLQ|       733|         Unf|         0|      520|       1253|   GasA|       TA|         Y|     SBrkr|    1253|       0|           0|     1253|           1|           0|       1|       1|           2|           1|         TA|           5|       Typ|         1|         Fa|    Attchd|     1960.0|         RFn|         1|       352|        TA|        TA|         Y|         0|        213|          176|        0|          0|       0|    NA| GdWo|         NA|      0|     5|  2008|      WD|       Normal|   157000|               69.0|             212.0|             1960.0|\n",
      "| 16|        45|      RM|       51.0|   6120|  Pave|   NA|     Reg|        Lvl|   AllPub|   Corner|      Gtl|     BrkSide|      Norm|      Norm|    1Fam|    1.5Unf|          7|          8|     1929|        2001|    Gable| CompShg|    Wd Sdng|    Wd Sdng|      None|       0.0|       TA|       TA|    BrkTil|      TA|      TA|          No|         Unf|         0|         Unf|         0|      832|        832|   GasA|       Ex|         Y|     FuseA|     854|       0|           0|      854|           0|           0|       1|       0|           2|           1|         TA|           5|       Typ|         0|         NA|    Detchd|     1991.0|         Unf|         2|       576|        TA|        TA|         Y|        48|        112|            0|        0|          0|       0|    NA|GdPrv|         NA|      0|     7|  2007|      WD|       Normal|   132000|               51.0|               0.0|             1991.0|\n",
      "| 17|        20|      RL|       null|  11241|  Pave|   NA|     IR1|        Lvl|   AllPub|  CulDSac|      Gtl|       NAmes|      Norm|      Norm|    1Fam|    1Story|          6|          7|     1970|        1970|    Gable| CompShg|    Wd Sdng|    Wd Sdng|   BrkFace|     180.0|       TA|       TA|    CBlock|      TA|      TA|          No|         ALQ|       578|         Unf|         0|      426|       1004|   GasA|       Ex|         Y|     SBrkr|    1004|       0|           0|     1004|           1|           0|       1|       0|           2|           1|         TA|           5|       Typ|         1|         TA|    Attchd|     1970.0|         Fin|         2|       480|        TA|        TA|         Y|         0|          0|            0|        0|          0|       0|    NA|   NA|       Shed|    700|     3|  2010|      WD|       Normal|   149000|               69.0|             180.0|             1970.0|\n",
      "| 18|        90|      RL|       72.0|  10791|  Pave|   NA|     Reg|        Lvl|   AllPub|   Inside|      Gtl|      Sawyer|      Norm|      Norm|  Duplex|    1Story|          4|          5|     1967|        1967|    Gable| CompShg|    MetalSd|    MetalSd|      None|       0.0|       TA|       TA|      Slab|      NA|      NA|          NA|          NA|         0|          NA|         0|        0|          0|   GasA|       TA|         Y|     SBrkr|    1296|       0|           0|     1296|           0|           0|       2|       0|           2|           2|         TA|           6|       Typ|         0|         NA|   CarPort|     1967.0|         Unf|         2|       516|        TA|        TA|         Y|         0|          0|            0|        0|          0|       0|    NA|   NA|       Shed|    500|    10|  2006|      WD|       Normal|    90000|               72.0|               0.0|             1967.0|\n",
      "| 19|        20|      RL|       66.0|  13695|  Pave|   NA|     Reg|        Lvl|   AllPub|   Inside|      Gtl|     SawyerW|      RRAe|      Norm|    1Fam|    1Story|          5|          5|     2004|        2004|    Gable| CompShg|    VinylSd|    VinylSd|      None|       0.0|       TA|       TA|     PConc|      TA|      TA|          No|         GLQ|       646|         Unf|         0|      468|       1114|   GasA|       Ex|         Y|     SBrkr|    1114|       0|           0|     1114|           1|           0|       1|       1|           3|           1|         Gd|           6|       Typ|         0|         NA|    Detchd|     2004.0|         Unf|         2|       576|        TA|        TA|         Y|         0|        102|            0|        0|          0|       0|    NA|   NA|         NA|      0|     6|  2008|      WD|       Normal|   159000|               66.0|               0.0|             2004.0|\n",
      "| 20|        20|      RL|       70.0|   7560|  Pave|   NA|     Reg|        Lvl|   AllPub|   Inside|      Gtl|       NAmes|      Norm|      Norm|    1Fam|    1Story|          5|          6|     1958|        1965|      Hip| CompShg|    BrkFace|    Plywood|      None|       0.0|       TA|       TA|    CBlock|      TA|      TA|          No|         LwQ|       504|         Unf|         0|      525|       1029|   GasA|       TA|         Y|     SBrkr|    1339|       0|           0|     1339|           0|           0|       1|       0|           3|           1|         TA|           6|      Min1|         0|         NA|    Attchd|     1958.0|         Unf|         1|       294|        TA|        TA|         Y|         0|          0|            0|        0|          0|       0|    NA|MnPrv|         NA|      0|     5|  2009|     COD|      Abnorml|   139000|               70.0|               0.0|             1958.0|\n",
      "+---+----------+--------+-----------+-------+------+-----+--------+-----------+---------+---------+---------+------------+----------+----------+--------+----------+-----------+-----------+---------+------------+---------+--------+-----------+-----------+----------+----------+---------+---------+----------+--------+--------+------------+------------+----------+------------+----------+---------+-----------+-------+---------+----------+----------+--------+--------+------------+---------+------------+------------+--------+--------+------------+------------+-----------+------------+----------+----------+-----------+----------+-----------+------------+----------+----------+----------+----------+----------+----------+-----------+-------------+---------+-----------+--------+------+-----+-----------+-------+------+------+--------+-------------+---------+-------------------+------------------+-------------------+\n",
      "only showing top 20 rows\n",
      "\n"
     ]
    }
   ],
   "source": [
    "imputer.fit(DF6).transform(DF6).show()"
   ]
  },
  {
   "cell_type": "code",
   "execution_count": 21,
   "metadata": {
    "executionInfo": {
     "elapsed": 576,
     "status": "ok",
     "timestamp": 1659260627759,
     "user": {
      "displayName": "Prerna Waghray",
      "userId": "08074246852708739388"
     },
     "user_tz": -330
    },
    "id": "2UD2ojQF2wdA"
   },
   "outputs": [],
   "source": [
    "# Replacing the null values in categorical columns\n",
    "DF7 = DF6.na.fill(\"None\",[\"MasVnrType\"]).na.fill(\"SBrkr\",[\"Electrical\"])"
   ]
  },
  {
   "cell_type": "code",
   "execution_count": 22,
   "metadata": {
    "executionInfo": {
     "elapsed": 386,
     "status": "ok",
     "timestamp": 1659260633541,
     "user": {
      "displayName": "Prerna Waghray",
      "userId": "08074246852708739388"
     },
     "user_tz": -330
    },
    "id": "JqCWQ5sp33k1"
   },
   "outputs": [],
   "source": [
    "# Dropping these columns post null value imputation\n",
    "DF8 = DF7.drop('LotFrontage', 'MasVnrArea',  'GarageYrBlt')"
   ]
  },
  {
   "cell_type": "code",
   "execution_count": 23,
   "metadata": {
    "colab": {
     "base_uri": "https://localhost:8080/"
    },
    "executionInfo": {
     "elapsed": 641,
     "status": "ok",
     "timestamp": 1659260637006,
     "user": {
      "displayName": "Prerna Waghray",
      "userId": "08074246852708739388"
     },
     "user_tz": -330
    },
    "id": "Z9tNzim_mEgd",
    "outputId": "f14cfe1a-5080-4d21-f3e8-a9dd9878f648"
   },
   "outputs": [
    {
     "name": "stdout",
     "output_type": "stream",
     "text": [
      "+---+----------+--------+-------+------+-----+--------+-----------+---------+---------+---------+------------+----------+----------+--------+----------+-----------+-----------+---------+------------+---------+--------+-----------+-----------+----------+---------+---------+----------+--------+--------+------------+------------+----------+------------+----------+---------+-----------+-------+---------+----------+----------+--------+--------+------------+---------+------------+------------+--------+--------+------------+------------+-----------+------------+----------+----------+-----------+----------+------------+----------+----------+----------+----------+----------+----------+-----------+-------------+---------+-----------+--------+------+-----+-----------+-------+------+------+--------+-------------+---------+\n",
      "| Id|MSSubClass|MSZoning|LotArea|Street|Alley|LotShape|LandContour|Utilities|LotConfig|LandSlope|Neighborhood|Condition1|Condition2|BldgType|HouseStyle|OverallQual|OverallCond|YearBuilt|YearRemodAdd|RoofStyle|RoofMatl|Exterior1st|Exterior2nd|MasVnrType|ExterQual|ExterCond|Foundation|BsmtQual|BsmtCond|BsmtExposure|BsmtFinType1|BsmtFinSF1|BsmtFinType2|BsmtFinSF2|BsmtUnfSF|TotalBsmtSF|Heating|HeatingQC|CentralAir|Electrical|1stFlrSF|2ndFlrSF|LowQualFinSF|GrLivArea|BsmtFullBath|BsmtHalfBath|FullBath|HalfBath|BedroomAbvGr|KitchenAbvGr|KitchenQual|TotRmsAbvGrd|Functional|Fireplaces|FireplaceQu|GarageType|GarageFinish|GarageCars|GarageArea|GarageQual|GarageCond|PavedDrive|WoodDeckSF|OpenPorchSF|EnclosedPorch|3SsnPorch|ScreenPorch|PoolArea|PoolQC|Fence|MiscFeature|MiscVal|MoSold|YrSold|SaleType|SaleCondition|SalePrice|\n",
      "+---+----------+--------+-------+------+-----+--------+-----------+---------+---------+---------+------------+----------+----------+--------+----------+-----------+-----------+---------+------------+---------+--------+-----------+-----------+----------+---------+---------+----------+--------+--------+------------+------------+----------+------------+----------+---------+-----------+-------+---------+----------+----------+--------+--------+------------+---------+------------+------------+--------+--------+------------+------------+-----------+------------+----------+----------+-----------+----------+------------+----------+----------+----------+----------+----------+----------+-----------+-------------+---------+-----------+--------+------+-----+-----------+-------+------+------+--------+-------------+---------+\n",
      "|  1|        60|      RL|   8450|  Pave|   NA|     Reg|        Lvl|   AllPub|   Inside|      Gtl|     CollgCr|      Norm|      Norm|    1Fam|    2Story|          7|          5|     2003|        2003|    Gable| CompShg|    VinylSd|    VinylSd|   BrkFace|       Gd|       TA|     PConc|      Gd|      TA|          No|         GLQ|       706|         Unf|         0|      150|        856|   GasA|       Ex|         Y|     SBrkr|     856|     854|           0|     1710|           1|           0|       2|       1|           3|           1|         Gd|           8|       Typ|         0|         NA|    Attchd|         RFn|         2|       548|        TA|        TA|         Y|         0|         61|            0|        0|          0|       0|    NA|   NA|         NA|      0|     2|  2008|      WD|       Normal|   208500|\n",
      "|  2|        20|      RL|   9600|  Pave|   NA|     Reg|        Lvl|   AllPub|      FR2|      Gtl|     Veenker|     Feedr|      Norm|    1Fam|    1Story|          6|          8|     1976|        1976|    Gable| CompShg|    MetalSd|    MetalSd|      None|       TA|       TA|    CBlock|      Gd|      TA|          Gd|         ALQ|       978|         Unf|         0|      284|       1262|   GasA|       Ex|         Y|     SBrkr|    1262|       0|           0|     1262|           0|           1|       2|       0|           3|           1|         TA|           6|       Typ|         1|         TA|    Attchd|         RFn|         2|       460|        TA|        TA|         Y|       298|          0|            0|        0|          0|       0|    NA|   NA|         NA|      0|     5|  2007|      WD|       Normal|   181500|\n",
      "|  3|        60|      RL|  11250|  Pave|   NA|     IR1|        Lvl|   AllPub|   Inside|      Gtl|     CollgCr|      Norm|      Norm|    1Fam|    2Story|          7|          5|     2001|        2002|    Gable| CompShg|    VinylSd|    VinylSd|   BrkFace|       Gd|       TA|     PConc|      Gd|      TA|          Mn|         GLQ|       486|         Unf|         0|      434|        920|   GasA|       Ex|         Y|     SBrkr|     920|     866|           0|     1786|           1|           0|       2|       1|           3|           1|         Gd|           6|       Typ|         1|         TA|    Attchd|         RFn|         2|       608|        TA|        TA|         Y|         0|         42|            0|        0|          0|       0|    NA|   NA|         NA|      0|     9|  2008|      WD|       Normal|   223500|\n",
      "|  4|        70|      RL|   9550|  Pave|   NA|     IR1|        Lvl|   AllPub|   Corner|      Gtl|     Crawfor|      Norm|      Norm|    1Fam|    2Story|          7|          5|     1915|        1970|    Gable| CompShg|    Wd Sdng|    Wd Shng|      None|       TA|       TA|    BrkTil|      TA|      Gd|          No|         ALQ|       216|         Unf|         0|      540|        756|   GasA|       Gd|         Y|     SBrkr|     961|     756|           0|     1717|           1|           0|       1|       0|           3|           1|         Gd|           7|       Typ|         1|         Gd|    Detchd|         Unf|         3|       642|        TA|        TA|         Y|         0|         35|          272|        0|          0|       0|    NA|   NA|         NA|      0|     2|  2006|      WD|      Abnorml|   140000|\n",
      "|  5|        60|      RL|  14260|  Pave|   NA|     IR1|        Lvl|   AllPub|      FR2|      Gtl|     NoRidge|      Norm|      Norm|    1Fam|    2Story|          8|          5|     2000|        2000|    Gable| CompShg|    VinylSd|    VinylSd|   BrkFace|       Gd|       TA|     PConc|      Gd|      TA|          Av|         GLQ|       655|         Unf|         0|      490|       1145|   GasA|       Ex|         Y|     SBrkr|    1145|    1053|           0|     2198|           1|           0|       2|       1|           4|           1|         Gd|           9|       Typ|         1|         TA|    Attchd|         RFn|         3|       836|        TA|        TA|         Y|       192|         84|            0|        0|          0|       0|    NA|   NA|         NA|      0|    12|  2008|      WD|       Normal|   250000|\n",
      "|  6|        50|      RL|  14115|  Pave|   NA|     IR1|        Lvl|   AllPub|   Inside|      Gtl|     Mitchel|      Norm|      Norm|    1Fam|    1.5Fin|          5|          5|     1993|        1995|    Gable| CompShg|    VinylSd|    VinylSd|      None|       TA|       TA|      Wood|      Gd|      TA|          No|         GLQ|       732|         Unf|         0|       64|        796|   GasA|       Ex|         Y|     SBrkr|     796|     566|           0|     1362|           1|           0|       1|       1|           1|           1|         TA|           5|       Typ|         0|         NA|    Attchd|         Unf|         2|       480|        TA|        TA|         Y|        40|         30|            0|      320|          0|       0|    NA|MnPrv|       Shed|    700|    10|  2009|      WD|       Normal|   143000|\n",
      "|  7|        20|      RL|  10084|  Pave|   NA|     Reg|        Lvl|   AllPub|   Inside|      Gtl|     Somerst|      Norm|      Norm|    1Fam|    1Story|          8|          5|     2004|        2005|    Gable| CompShg|    VinylSd|    VinylSd|     Stone|       Gd|       TA|     PConc|      Ex|      TA|          Av|         GLQ|      1369|         Unf|         0|      317|       1686|   GasA|       Ex|         Y|     SBrkr|    1694|       0|           0|     1694|           1|           0|       2|       0|           3|           1|         Gd|           7|       Typ|         1|         Gd|    Attchd|         RFn|         2|       636|        TA|        TA|         Y|       255|         57|            0|        0|          0|       0|    NA|   NA|         NA|      0|     8|  2007|      WD|       Normal|   307000|\n",
      "|  8|        60|      RL|  10382|  Pave|   NA|     IR1|        Lvl|   AllPub|   Corner|      Gtl|      NWAmes|      PosN|      Norm|    1Fam|    2Story|          7|          6|     1973|        1973|    Gable| CompShg|    HdBoard|    HdBoard|     Stone|       TA|       TA|    CBlock|      Gd|      TA|          Mn|         ALQ|       859|         BLQ|        32|      216|       1107|   GasA|       Ex|         Y|     SBrkr|    1107|     983|           0|     2090|           1|           0|       2|       1|           3|           1|         TA|           7|       Typ|         2|         TA|    Attchd|         RFn|         2|       484|        TA|        TA|         Y|       235|        204|          228|        0|          0|       0|    NA|   NA|       Shed|    350|    11|  2009|      WD|       Normal|   200000|\n",
      "|  9|        50|      RM|   6120|  Pave|   NA|     Reg|        Lvl|   AllPub|   Inside|      Gtl|     OldTown|    Artery|      Norm|    1Fam|    1.5Fin|          7|          5|     1931|        1950|    Gable| CompShg|    BrkFace|    Wd Shng|      None|       TA|       TA|    BrkTil|      TA|      TA|          No|         Unf|         0|         Unf|         0|      952|        952|   GasA|       Gd|         Y|     FuseF|    1022|     752|           0|     1774|           0|           0|       2|       0|           2|           2|         TA|           8|      Min1|         2|         TA|    Detchd|         Unf|         2|       468|        Fa|        TA|         Y|        90|          0|          205|        0|          0|       0|    NA|   NA|         NA|      0|     4|  2008|      WD|      Abnorml|   129900|\n",
      "| 10|       190|      RL|   7420|  Pave|   NA|     Reg|        Lvl|   AllPub|   Corner|      Gtl|     BrkSide|    Artery|    Artery|  2fmCon|    1.5Unf|          5|          6|     1939|        1950|    Gable| CompShg|    MetalSd|    MetalSd|      None|       TA|       TA|    BrkTil|      TA|      TA|          No|         GLQ|       851|         Unf|         0|      140|        991|   GasA|       Ex|         Y|     SBrkr|    1077|       0|           0|     1077|           1|           0|       1|       0|           2|           2|         TA|           5|       Typ|         2|         TA|    Attchd|         RFn|         1|       205|        Gd|        TA|         Y|         0|          4|            0|        0|          0|       0|    NA|   NA|         NA|      0|     1|  2008|      WD|       Normal|   118000|\n",
      "| 11|        20|      RL|  11200|  Pave|   NA|     Reg|        Lvl|   AllPub|   Inside|      Gtl|      Sawyer|      Norm|      Norm|    1Fam|    1Story|          5|          5|     1965|        1965|      Hip| CompShg|    HdBoard|    HdBoard|      None|       TA|       TA|    CBlock|      TA|      TA|          No|         Rec|       906|         Unf|         0|      134|       1040|   GasA|       Ex|         Y|     SBrkr|    1040|       0|           0|     1040|           1|           0|       1|       0|           3|           1|         TA|           5|       Typ|         0|         NA|    Detchd|         Unf|         1|       384|        TA|        TA|         Y|         0|          0|            0|        0|          0|       0|    NA|   NA|         NA|      0|     2|  2008|      WD|       Normal|   129500|\n",
      "| 12|        60|      RL|  11924|  Pave|   NA|     IR1|        Lvl|   AllPub|   Inside|      Gtl|     NridgHt|      Norm|      Norm|    1Fam|    2Story|          9|          5|     2005|        2006|      Hip| CompShg|    WdShing|    Wd Shng|     Stone|       Ex|       TA|     PConc|      Ex|      TA|          No|         GLQ|       998|         Unf|         0|      177|       1175|   GasA|       Ex|         Y|     SBrkr|    1182|    1142|           0|     2324|           1|           0|       3|       0|           4|           1|         Ex|          11|       Typ|         2|         Gd|   BuiltIn|         Fin|         3|       736|        TA|        TA|         Y|       147|         21|            0|        0|          0|       0|    NA|   NA|         NA|      0|     7|  2006|     New|      Partial|   345000|\n",
      "| 13|        20|      RL|  12968|  Pave|   NA|     IR2|        Lvl|   AllPub|   Inside|      Gtl|      Sawyer|      Norm|      Norm|    1Fam|    1Story|          5|          6|     1962|        1962|      Hip| CompShg|    HdBoard|    Plywood|      None|       TA|       TA|    CBlock|      TA|      TA|          No|         ALQ|       737|         Unf|         0|      175|        912|   GasA|       TA|         Y|     SBrkr|     912|       0|           0|      912|           1|           0|       1|       0|           2|           1|         TA|           4|       Typ|         0|         NA|    Detchd|         Unf|         1|       352|        TA|        TA|         Y|       140|          0|            0|        0|        176|       0|    NA|   NA|         NA|      0|     9|  2008|      WD|       Normal|   144000|\n",
      "| 14|        20|      RL|  10652|  Pave|   NA|     IR1|        Lvl|   AllPub|   Inside|      Gtl|     CollgCr|      Norm|      Norm|    1Fam|    1Story|          7|          5|     2006|        2007|    Gable| CompShg|    VinylSd|    VinylSd|     Stone|       Gd|       TA|     PConc|      Gd|      TA|          Av|         Unf|         0|         Unf|         0|     1494|       1494|   GasA|       Ex|         Y|     SBrkr|    1494|       0|           0|     1494|           0|           0|       2|       0|           3|           1|         Gd|           7|       Typ|         1|         Gd|    Attchd|         RFn|         3|       840|        TA|        TA|         Y|       160|         33|            0|        0|          0|       0|    NA|   NA|         NA|      0|     8|  2007|     New|      Partial|   279500|\n",
      "| 15|        20|      RL|  10920|  Pave|   NA|     IR1|        Lvl|   AllPub|   Corner|      Gtl|       NAmes|      Norm|      Norm|    1Fam|    1Story|          6|          5|     1960|        1960|      Hip| CompShg|    MetalSd|    MetalSd|   BrkFace|       TA|       TA|    CBlock|      TA|      TA|          No|         BLQ|       733|         Unf|         0|      520|       1253|   GasA|       TA|         Y|     SBrkr|    1253|       0|           0|     1253|           1|           0|       1|       1|           2|           1|         TA|           5|       Typ|         1|         Fa|    Attchd|         RFn|         1|       352|        TA|        TA|         Y|         0|        213|          176|        0|          0|       0|    NA| GdWo|         NA|      0|     5|  2008|      WD|       Normal|   157000|\n",
      "| 16|        45|      RM|   6120|  Pave|   NA|     Reg|        Lvl|   AllPub|   Corner|      Gtl|     BrkSide|      Norm|      Norm|    1Fam|    1.5Unf|          7|          8|     1929|        2001|    Gable| CompShg|    Wd Sdng|    Wd Sdng|      None|       TA|       TA|    BrkTil|      TA|      TA|          No|         Unf|         0|         Unf|         0|      832|        832|   GasA|       Ex|         Y|     FuseA|     854|       0|           0|      854|           0|           0|       1|       0|           2|           1|         TA|           5|       Typ|         0|         NA|    Detchd|         Unf|         2|       576|        TA|        TA|         Y|        48|        112|            0|        0|          0|       0|    NA|GdPrv|         NA|      0|     7|  2007|      WD|       Normal|   132000|\n",
      "| 17|        20|      RL|  11241|  Pave|   NA|     IR1|        Lvl|   AllPub|  CulDSac|      Gtl|       NAmes|      Norm|      Norm|    1Fam|    1Story|          6|          7|     1970|        1970|    Gable| CompShg|    Wd Sdng|    Wd Sdng|   BrkFace|       TA|       TA|    CBlock|      TA|      TA|          No|         ALQ|       578|         Unf|         0|      426|       1004|   GasA|       Ex|         Y|     SBrkr|    1004|       0|           0|     1004|           1|           0|       1|       0|           2|           1|         TA|           5|       Typ|         1|         TA|    Attchd|         Fin|         2|       480|        TA|        TA|         Y|         0|          0|            0|        0|          0|       0|    NA|   NA|       Shed|    700|     3|  2010|      WD|       Normal|   149000|\n",
      "| 18|        90|      RL|  10791|  Pave|   NA|     Reg|        Lvl|   AllPub|   Inside|      Gtl|      Sawyer|      Norm|      Norm|  Duplex|    1Story|          4|          5|     1967|        1967|    Gable| CompShg|    MetalSd|    MetalSd|      None|       TA|       TA|      Slab|      NA|      NA|          NA|          NA|         0|          NA|         0|        0|          0|   GasA|       TA|         Y|     SBrkr|    1296|       0|           0|     1296|           0|           0|       2|       0|           2|           2|         TA|           6|       Typ|         0|         NA|   CarPort|         Unf|         2|       516|        TA|        TA|         Y|         0|          0|            0|        0|          0|       0|    NA|   NA|       Shed|    500|    10|  2006|      WD|       Normal|    90000|\n",
      "| 19|        20|      RL|  13695|  Pave|   NA|     Reg|        Lvl|   AllPub|   Inside|      Gtl|     SawyerW|      RRAe|      Norm|    1Fam|    1Story|          5|          5|     2004|        2004|    Gable| CompShg|    VinylSd|    VinylSd|      None|       TA|       TA|     PConc|      TA|      TA|          No|         GLQ|       646|         Unf|         0|      468|       1114|   GasA|       Ex|         Y|     SBrkr|    1114|       0|           0|     1114|           1|           0|       1|       1|           3|           1|         Gd|           6|       Typ|         0|         NA|    Detchd|         Unf|         2|       576|        TA|        TA|         Y|         0|        102|            0|        0|          0|       0|    NA|   NA|         NA|      0|     6|  2008|      WD|       Normal|   159000|\n",
      "| 20|        20|      RL|   7560|  Pave|   NA|     Reg|        Lvl|   AllPub|   Inside|      Gtl|       NAmes|      Norm|      Norm|    1Fam|    1Story|          5|          6|     1958|        1965|      Hip| CompShg|    BrkFace|    Plywood|      None|       TA|       TA|    CBlock|      TA|      TA|          No|         LwQ|       504|         Unf|         0|      525|       1029|   GasA|       TA|         Y|     SBrkr|    1339|       0|           0|     1339|           0|           0|       1|       0|           3|           1|         TA|           6|      Min1|         0|         NA|    Attchd|         Unf|         1|       294|        TA|        TA|         Y|         0|          0|            0|        0|          0|       0|    NA|MnPrv|         NA|      0|     5|  2009|     COD|      Abnorml|   139000|\n",
      "+---+----------+--------+-------+------+-----+--------+-----------+---------+---------+---------+------------+----------+----------+--------+----------+-----------+-----------+---------+------------+---------+--------+-----------+-----------+----------+---------+---------+----------+--------+--------+------------+------------+----------+------------+----------+---------+-----------+-------+---------+----------+----------+--------+--------+------------+---------+------------+------------+--------+--------+------------+------------+-----------+------------+----------+----------+-----------+----------+------------+----------+----------+----------+----------+----------+----------+-----------+-------------+---------+-----------+--------+------+-----+-----------+-------+------+------+--------+-------------+---------+\n",
      "only showing top 20 rows\n",
      "\n"
     ]
    }
   ],
   "source": [
    "DF8.show()"
   ]
  },
  {
   "cell_type": "code",
   "execution_count": 24,
   "metadata": {
    "colab": {
     "base_uri": "https://localhost:8080/"
    },
    "executionInfo": {
     "elapsed": 1663,
     "status": "ok",
     "timestamp": 1659260640456,
     "user": {
      "displayName": "Prerna Waghray",
      "userId": "08074246852708739388"
     },
     "user_tz": -330
    },
    "id": "D0ShX7IL58BV",
    "outputId": "85cfa798-b343-4a76-8d0f-c56b7cd9b94c"
   },
   "outputs": [
    {
     "name": "stdout",
     "output_type": "stream",
     "text": [
      "+---+----------+--------+-------+------+-----+--------+-----------+---------+---------+---------+------------+----------+----------+--------+----------+-----------+-----------+---------+------------+---------+--------+-----------+-----------+----------+---------+---------+----------+--------+--------+------------+------------+----------+------------+----------+---------+-----------+-------+---------+----------+----------+--------+--------+------------+---------+------------+------------+--------+--------+------------+------------+-----------+------------+----------+----------+-----------+----------+------------+----------+----------+----------+----------+----------+----------+-----------+-------------+---------+-----------+--------+------+-----+-----------+-------+------+------+--------+-------------+---------+\n",
      "| Id|MSSubClass|MSZoning|LotArea|Street|Alley|LotShape|LandContour|Utilities|LotConfig|LandSlope|Neighborhood|Condition1|Condition2|BldgType|HouseStyle|OverallQual|OverallCond|YearBuilt|YearRemodAdd|RoofStyle|RoofMatl|Exterior1st|Exterior2nd|MasVnrType|ExterQual|ExterCond|Foundation|BsmtQual|BsmtCond|BsmtExposure|BsmtFinType1|BsmtFinSF1|BsmtFinType2|BsmtFinSF2|BsmtUnfSF|TotalBsmtSF|Heating|HeatingQC|CentralAir|Electrical|1stFlrSF|2ndFlrSF|LowQualFinSF|GrLivArea|BsmtFullBath|BsmtHalfBath|FullBath|HalfBath|BedroomAbvGr|KitchenAbvGr|KitchenQual|TotRmsAbvGrd|Functional|Fireplaces|FireplaceQu|GarageType|GarageFinish|GarageCars|GarageArea|GarageQual|GarageCond|PavedDrive|WoodDeckSF|OpenPorchSF|EnclosedPorch|3SsnPorch|ScreenPorch|PoolArea|PoolQC|Fence|MiscFeature|MiscVal|MoSold|YrSold|SaleType|SaleCondition|SalePrice|\n",
      "+---+----------+--------+-------+------+-----+--------+-----------+---------+---------+---------+------------+----------+----------+--------+----------+-----------+-----------+---------+------------+---------+--------+-----------+-----------+----------+---------+---------+----------+--------+--------+------------+------------+----------+------------+----------+---------+-----------+-------+---------+----------+----------+--------+--------+------------+---------+------------+------------+--------+--------+------------+------------+-----------+------------+----------+----------+-----------+----------+------------+----------+----------+----------+----------+----------+----------+-----------+-------------+---------+-----------+--------+------+-----+-----------+-------+------+------+--------+-------------+---------+\n",
      "|  0|         0|       0|      0|     0|    0|       0|          0|        0|        0|        0|           0|         0|         0|       0|         0|          0|          0|        0|           0|        0|       0|          0|          0|         0|        0|        0|         0|       0|       0|           0|           0|         0|           0|         0|        0|          0|      0|        0|         0|         0|       0|       0|           0|        0|           0|           0|       0|       0|           0|           0|          0|           0|         0|         0|          0|         0|           0|         0|         0|         0|         0|         0|         0|          0|            0|        0|          0|       0|     0|    0|          0|      0|     0|     0|       0|            0|        0|\n",
      "+---+----------+--------+-------+------+-----+--------+-----------+---------+---------+---------+------------+----------+----------+--------+----------+-----------+-----------+---------+------------+---------+--------+-----------+-----------+----------+---------+---------+----------+--------+--------+------------+------------+----------+------------+----------+---------+-----------+-------+---------+----------+----------+--------+--------+------------+---------+------------+------------+--------+--------+------------+------------+-----------+------------+----------+----------+-----------+----------+------------+----------+----------+----------+----------+----------+----------+-----------+-------------+---------+-----------+--------+------+-----+-----------+-------+------+------+--------+-------------+---------+\n",
      "\n"
     ]
    }
   ],
   "source": [
    "# Checking for null values one last time - no null values found\n",
    "from pyspark.sql.functions import isnull, when, count, col\n",
    "DF8.select([count(when(isnull(c), c)).alias(c) for c in DF8.columns]).show()"
   ]
  },
  {
   "cell_type": "code",
   "execution_count": 25,
   "metadata": {
    "colab": {
     "base_uri": "https://localhost:8080/"
    },
    "executionInfo": {
     "elapsed": 1400,
     "status": "ok",
     "timestamp": 1659260643522,
     "user": {
      "displayName": "Prerna Waghray",
      "userId": "08074246852708739388"
     },
     "user_tz": -330
    },
    "id": "D7BH_n2B5750",
    "outputId": "2192e3fe-9455-40c6-d9d4-d9875ea05e09"
   },
   "outputs": [
    {
     "name": "stdout",
     "output_type": "stream",
     "text": [
      "+---+----------+--------+-------+------+-----+--------+-----------+---------+---------+---------+------------+----------+----------+--------+----------+-----------+-----------+---------+------------+---------+--------+-----------+-----------+----------+---------+---------+----------+--------+--------+------------+------------+----------+------------+----------+---------+-----------+-------+---------+----------+----------+--------+--------+------------+---------+------------+------------+--------+--------+------------+------------+-----------+------------+----------+----------+-----------+----------+------------+----------+----------+----------+----------+----------+----------+-----------+-------------+---------+-----------+--------+------+-----+-----------+-------+------+------+--------+-------------+---------+-----+\n",
      "| Id|MSSubClass|MSZoning|LotArea|Street|Alley|LotShape|LandContour|Utilities|LotConfig|LandSlope|Neighborhood|Condition1|Condition2|BldgType|HouseStyle|OverallQual|OverallCond|YearBuilt|YearRemodAdd|RoofStyle|RoofMatl|Exterior1st|Exterior2nd|MasVnrType|ExterQual|ExterCond|Foundation|BsmtQual|BsmtCond|BsmtExposure|BsmtFinType1|BsmtFinSF1|BsmtFinType2|BsmtFinSF2|BsmtUnfSF|TotalBsmtSF|Heating|HeatingQC|CentralAir|Electrical|1stFlrSF|2ndFlrSF|LowQualFinSF|GrLivArea|BsmtFullBath|BsmtHalfBath|FullBath|HalfBath|BedroomAbvGr|KitchenAbvGr|KitchenQual|TotRmsAbvGrd|Functional|Fireplaces|FireplaceQu|GarageType|GarageFinish|GarageCars|GarageArea|GarageQual|GarageCond|PavedDrive|WoodDeckSF|OpenPorchSF|EnclosedPorch|3SsnPorch|ScreenPorch|PoolArea|PoolQC|Fence|MiscFeature|MiscVal|MoSold|YrSold|SaleType|SaleCondition|SalePrice|count|\n",
      "+---+----------+--------+-------+------+-----+--------+-----------+---------+---------+---------+------------+----------+----------+--------+----------+-----------+-----------+---------+------------+---------+--------+-----------+-----------+----------+---------+---------+----------+--------+--------+------------+------------+----------+------------+----------+---------+-----------+-------+---------+----------+----------+--------+--------+------------+---------+------------+------------+--------+--------+------------+------------+-----------+------------+----------+----------+-----------+----------+------------+----------+----------+----------+----------+----------+----------+-----------+-------------+---------+-----------+--------+------+-----+-----------+-------+------+------+--------+-------------+---------+-----+\n",
      "+---+----------+--------+-------+------+-----+--------+-----------+---------+---------+---------+------------+----------+----------+--------+----------+-----------+-----------+---------+------------+---------+--------+-----------+-----------+----------+---------+---------+----------+--------+--------+------------+------------+----------+------------+----------+---------+-----------+-------+---------+----------+----------+--------+--------+------------+---------+------------+------------+--------+--------+------------+------------+-----------+------------+----------+----------+-----------+----------+------------+----------+----------+----------+----------+----------+----------+-----------+-------------+---------+-----------+--------+------+-----+-----------+-------+------+------+--------+-------------+---------+-----+\n",
      "\n"
     ]
    }
   ],
   "source": [
    "# Checking for duplicate values - no duplicate values found\n",
    "DF8.groupBy(DF8.columns).count().filter(\"count > 1\").show()"
   ]
  },
  {
   "cell_type": "code",
   "execution_count": 26,
   "metadata": {},
   "outputs": [
    {
     "name": "stdout",
     "output_type": "stream",
     "text": [
      "        Id  MSSubClass MSZoning  LotArea Street Alley LotShape LandContour  \\\n",
      "0        1          60       RL     8450   Pave    NA      Reg         Lvl   \n",
      "1        2          20       RL     9600   Pave    NA      Reg         Lvl   \n",
      "2        3          60       RL    11250   Pave    NA      IR1         Lvl   \n",
      "3        4          70       RL     9550   Pave    NA      IR1         Lvl   \n",
      "4        5          60       RL    14260   Pave    NA      IR1         Lvl   \n",
      "...    ...         ...      ...      ...    ...   ...      ...         ...   \n",
      "1455  1456          60       RL     7917   Pave    NA      Reg         Lvl   \n",
      "1456  1457          20       RL    13175   Pave    NA      Reg         Lvl   \n",
      "1457  1458          70       RL     9042   Pave    NA      Reg         Lvl   \n",
      "1458  1459          20       RL     9717   Pave    NA      Reg         Lvl   \n",
      "1459  1460          20       RL     9937   Pave    NA      Reg         Lvl   \n",
      "\n",
      "     Utilities LotConfig  ... PoolArea PoolQC  Fence MiscFeature MiscVal  \\\n",
      "0       AllPub    Inside  ...        0     NA     NA          NA       0   \n",
      "1       AllPub       FR2  ...        0     NA     NA          NA       0   \n",
      "2       AllPub    Inside  ...        0     NA     NA          NA       0   \n",
      "3       AllPub    Corner  ...        0     NA     NA          NA       0   \n",
      "4       AllPub       FR2  ...        0     NA     NA          NA       0   \n",
      "...        ...       ...  ...      ...    ...    ...         ...     ...   \n",
      "1455    AllPub    Inside  ...        0     NA     NA          NA       0   \n",
      "1456    AllPub    Inside  ...        0     NA  MnPrv          NA       0   \n",
      "1457    AllPub    Inside  ...        0     NA  GdPrv        Shed    2500   \n",
      "1458    AllPub    Inside  ...        0     NA     NA          NA       0   \n",
      "1459    AllPub    Inside  ...        0     NA     NA          NA       0   \n",
      "\n",
      "     MoSold  YrSold  SaleType  SaleCondition  SalePrice  \n",
      "0         2    2008        WD         Normal     208500  \n",
      "1         5    2007        WD         Normal     181500  \n",
      "2         9    2008        WD         Normal     223500  \n",
      "3         2    2006        WD        Abnorml     140000  \n",
      "4        12    2008        WD         Normal     250000  \n",
      "...     ...     ...       ...            ...        ...  \n",
      "1455      8    2007        WD         Normal     175000  \n",
      "1456      2    2010        WD         Normal     210000  \n",
      "1457      5    2010        WD         Normal     266500  \n",
      "1458      4    2010        WD         Normal     142125  \n",
      "1459      6    2008        WD         Normal     147500  \n",
      "\n",
      "[1460 rows x 78 columns]\n"
     ]
    }
   ],
   "source": [
    "pandasDF = DF8.toPandas()\n",
    "print(pandasDF)"
   ]
  },
  {
   "cell_type": "code",
   "execution_count": 27,
   "metadata": {},
   "outputs": [],
   "source": [
    "from sdv.tabular import GaussianCopula\n",
    "model = GaussianCopula()\n",
    "model.fit(pandasDF)"
   ]
  },
  {
   "cell_type": "code",
   "execution_count": 28,
   "metadata": {},
   "outputs": [
    {
     "data": {
      "text/html": [
       "<div>\n",
       "<style scoped>\n",
       "    .dataframe tbody tr th:only-of-type {\n",
       "        vertical-align: middle;\n",
       "    }\n",
       "\n",
       "    .dataframe tbody tr th {\n",
       "        vertical-align: top;\n",
       "    }\n",
       "\n",
       "    .dataframe thead th {\n",
       "        text-align: right;\n",
       "    }\n",
       "</style>\n",
       "<table border=\"1\" class=\"dataframe\">\n",
       "  <thead>\n",
       "    <tr style=\"text-align: right;\">\n",
       "      <th></th>\n",
       "      <th>Id</th>\n",
       "      <th>MSSubClass</th>\n",
       "      <th>MSZoning</th>\n",
       "      <th>LotArea</th>\n",
       "      <th>Street</th>\n",
       "      <th>Alley</th>\n",
       "      <th>LotShape</th>\n",
       "      <th>LandContour</th>\n",
       "      <th>Utilities</th>\n",
       "      <th>LotConfig</th>\n",
       "      <th>...</th>\n",
       "      <th>PoolArea</th>\n",
       "      <th>PoolQC</th>\n",
       "      <th>Fence</th>\n",
       "      <th>MiscFeature</th>\n",
       "      <th>MiscVal</th>\n",
       "      <th>MoSold</th>\n",
       "      <th>YrSold</th>\n",
       "      <th>SaleType</th>\n",
       "      <th>SaleCondition</th>\n",
       "      <th>SalePrice</th>\n",
       "    </tr>\n",
       "  </thead>\n",
       "  <tbody>\n",
       "    <tr>\n",
       "      <th>0</th>\n",
       "      <td>1408</td>\n",
       "      <td>43</td>\n",
       "      <td>RL</td>\n",
       "      <td>18116</td>\n",
       "      <td>Pave</td>\n",
       "      <td>NA</td>\n",
       "      <td>IR1</td>\n",
       "      <td>Lvl</td>\n",
       "      <td>AllPub</td>\n",
       "      <td>Inside</td>\n",
       "      <td>...</td>\n",
       "      <td>34</td>\n",
       "      <td>NA</td>\n",
       "      <td>NA</td>\n",
       "      <td>NA</td>\n",
       "      <td>12</td>\n",
       "      <td>3</td>\n",
       "      <td>2009</td>\n",
       "      <td>WD</td>\n",
       "      <td>Normal</td>\n",
       "      <td>174167</td>\n",
       "    </tr>\n",
       "    <tr>\n",
       "      <th>1</th>\n",
       "      <td>351</td>\n",
       "      <td>73</td>\n",
       "      <td>RL</td>\n",
       "      <td>7687</td>\n",
       "      <td>Pave</td>\n",
       "      <td>NA</td>\n",
       "      <td>IR2</td>\n",
       "      <td>Lvl</td>\n",
       "      <td>AllPub</td>\n",
       "      <td>Corner</td>\n",
       "      <td>...</td>\n",
       "      <td>15</td>\n",
       "      <td>NA</td>\n",
       "      <td>NA</td>\n",
       "      <td>NA</td>\n",
       "      <td>1324</td>\n",
       "      <td>4</td>\n",
       "      <td>2007</td>\n",
       "      <td>WD</td>\n",
       "      <td>Normal</td>\n",
       "      <td>142248</td>\n",
       "    </tr>\n",
       "    <tr>\n",
       "      <th>2</th>\n",
       "      <td>312</td>\n",
       "      <td>95</td>\n",
       "      <td>RL</td>\n",
       "      <td>4020</td>\n",
       "      <td>Pave</td>\n",
       "      <td>NA</td>\n",
       "      <td>Reg</td>\n",
       "      <td>Lvl</td>\n",
       "      <td>AllPub</td>\n",
       "      <td>Corner</td>\n",
       "      <td>...</td>\n",
       "      <td>0</td>\n",
       "      <td>NA</td>\n",
       "      <td>NA</td>\n",
       "      <td>NA</td>\n",
       "      <td>406</td>\n",
       "      <td>7</td>\n",
       "      <td>2006</td>\n",
       "      <td>WD</td>\n",
       "      <td>Normal</td>\n",
       "      <td>88813</td>\n",
       "    </tr>\n",
       "    <tr>\n",
       "      <th>3</th>\n",
       "      <td>1077</td>\n",
       "      <td>46</td>\n",
       "      <td>RL</td>\n",
       "      <td>4503</td>\n",
       "      <td>Pave</td>\n",
       "      <td>NA</td>\n",
       "      <td>Reg</td>\n",
       "      <td>Lvl</td>\n",
       "      <td>AllPub</td>\n",
       "      <td>Inside</td>\n",
       "      <td>...</td>\n",
       "      <td>11</td>\n",
       "      <td>NA</td>\n",
       "      <td>NA</td>\n",
       "      <td>NA</td>\n",
       "      <td>183</td>\n",
       "      <td>4</td>\n",
       "      <td>2008</td>\n",
       "      <td>WD</td>\n",
       "      <td>Partial</td>\n",
       "      <td>88861</td>\n",
       "    </tr>\n",
       "    <tr>\n",
       "      <th>4</th>\n",
       "      <td>773</td>\n",
       "      <td>27</td>\n",
       "      <td>RL</td>\n",
       "      <td>19858</td>\n",
       "      <td>Pave</td>\n",
       "      <td>NA</td>\n",
       "      <td>IR1</td>\n",
       "      <td>Lvl</td>\n",
       "      <td>AllPub</td>\n",
       "      <td>Inside</td>\n",
       "      <td>...</td>\n",
       "      <td>13</td>\n",
       "      <td>NA</td>\n",
       "      <td>NA</td>\n",
       "      <td>NA</td>\n",
       "      <td>925</td>\n",
       "      <td>2</td>\n",
       "      <td>2008</td>\n",
       "      <td>New</td>\n",
       "      <td>Normal</td>\n",
       "      <td>424470</td>\n",
       "    </tr>\n",
       "  </tbody>\n",
       "</table>\n",
       "<p>5 rows × 78 columns</p>\n",
       "</div>"
      ],
      "text/plain": [
       "     Id  MSSubClass MSZoning  LotArea Street Alley LotShape LandContour  \\\n",
       "0  1408          43       RL    18116   Pave    NA      IR1         Lvl   \n",
       "1   351          73       RL     7687   Pave    NA      IR2         Lvl   \n",
       "2   312          95       RL     4020   Pave    NA      Reg         Lvl   \n",
       "3  1077          46       RL     4503   Pave    NA      Reg         Lvl   \n",
       "4   773          27       RL    19858   Pave    NA      IR1         Lvl   \n",
       "\n",
       "  Utilities LotConfig  ... PoolArea PoolQC Fence MiscFeature MiscVal MoSold  \\\n",
       "0    AllPub    Inside  ...       34     NA    NA          NA      12      3   \n",
       "1    AllPub    Corner  ...       15     NA    NA          NA    1324      4   \n",
       "2    AllPub    Corner  ...        0     NA    NA          NA     406      7   \n",
       "3    AllPub    Inside  ...       11     NA    NA          NA     183      4   \n",
       "4    AllPub    Inside  ...       13     NA    NA          NA     925      2   \n",
       "\n",
       "   YrSold  SaleType  SaleCondition  SalePrice  \n",
       "0    2009        WD         Normal     174167  \n",
       "1    2007        WD         Normal     142248  \n",
       "2    2006        WD         Normal      88813  \n",
       "3    2008        WD        Partial      88861  \n",
       "4    2008       New         Normal     424470  \n",
       "\n",
       "[5 rows x 78 columns]"
      ]
     },
     "execution_count": 28,
     "metadata": {},
     "output_type": "execute_result"
    }
   ],
   "source": [
    "sample = model.sample(20000)\n",
    "sample.head()"
   ]
  },
  {
   "cell_type": "code",
   "execution_count": 29,
   "metadata": {},
   "outputs": [],
   "source": [
    "import pandas as pd\n",
    "pandasDF = pd.concat([pandasDF, sample], axis=0)"
   ]
  },
  {
   "cell_type": "code",
   "execution_count": 30,
   "metadata": {},
   "outputs": [
    {
     "data": {
      "text/plain": [
       "0           1\n",
       "1           2\n",
       "2           3\n",
       "3           4\n",
       "4           5\n",
       "         ... \n",
       "19995     340\n",
       "19996     140\n",
       "19997    1364\n",
       "19998     165\n",
       "19999    1020\n",
       "Name: Id, Length: 21460, dtype: int32"
      ]
     },
     "execution_count": 30,
     "metadata": {},
     "output_type": "execute_result"
    }
   ],
   "source": [
    "pandasDF[\"Id\"]"
   ]
  },
  {
   "cell_type": "code",
   "execution_count": 31,
   "metadata": {},
   "outputs": [
    {
     "name": "stdout",
     "output_type": "stream",
     "text": [
      "<class 'pandas.core.frame.DataFrame'>\n",
      "Int64Index: 21460 entries, 0 to 19999\n",
      "Data columns (total 78 columns):\n",
      " #   Column         Non-Null Count  Dtype \n",
      "---  ------         --------------  ----- \n",
      " 0   Id             21460 non-null  int32 \n",
      " 1   MSSubClass     21460 non-null  int32 \n",
      " 2   MSZoning       21460 non-null  object\n",
      " 3   LotArea        21460 non-null  int32 \n",
      " 4   Street         21460 non-null  object\n",
      " 5   Alley          21460 non-null  object\n",
      " 6   LotShape       21460 non-null  object\n",
      " 7   LandContour    21460 non-null  object\n",
      " 8   Utilities      21460 non-null  object\n",
      " 9   LotConfig      21460 non-null  object\n",
      " 10  LandSlope      21460 non-null  object\n",
      " 11  Neighborhood   21460 non-null  object\n",
      " 12  Condition1     21460 non-null  object\n",
      " 13  Condition2     21460 non-null  object\n",
      " 14  BldgType       21460 non-null  object\n",
      " 15  HouseStyle     21460 non-null  object\n",
      " 16  OverallQual    21460 non-null  int32 \n",
      " 17  OverallCond    21460 non-null  int32 \n",
      " 18  YearBuilt      21460 non-null  int32 \n",
      " 19  YearRemodAdd   21460 non-null  int32 \n",
      " 20  RoofStyle      21460 non-null  object\n",
      " 21  RoofMatl       21460 non-null  object\n",
      " 22  Exterior1st    21460 non-null  object\n",
      " 23  Exterior2nd    21460 non-null  object\n",
      " 24  MasVnrType     21460 non-null  object\n",
      " 25  ExterQual      21460 non-null  object\n",
      " 26  ExterCond      21460 non-null  object\n",
      " 27  Foundation     21460 non-null  object\n",
      " 28  BsmtQual       21460 non-null  object\n",
      " 29  BsmtCond       21460 non-null  object\n",
      " 30  BsmtExposure   21460 non-null  object\n",
      " 31  BsmtFinType1   21460 non-null  object\n",
      " 32  BsmtFinSF1     21460 non-null  int32 \n",
      " 33  BsmtFinType2   21460 non-null  object\n",
      " 34  BsmtFinSF2     21460 non-null  int32 \n",
      " 35  BsmtUnfSF      21460 non-null  int32 \n",
      " 36  TotalBsmtSF    21460 non-null  int32 \n",
      " 37  Heating        21460 non-null  object\n",
      " 38  HeatingQC      21460 non-null  object\n",
      " 39  CentralAir     21460 non-null  object\n",
      " 40  Electrical     21460 non-null  object\n",
      " 41  1stFlrSF       21460 non-null  int32 \n",
      " 42  2ndFlrSF       21460 non-null  int32 \n",
      " 43  LowQualFinSF   21460 non-null  int32 \n",
      " 44  GrLivArea      21460 non-null  int32 \n",
      " 45  BsmtFullBath   21460 non-null  int32 \n",
      " 46  BsmtHalfBath   21460 non-null  int32 \n",
      " 47  FullBath       21460 non-null  int32 \n",
      " 48  HalfBath       21460 non-null  int32 \n",
      " 49  BedroomAbvGr   21460 non-null  int32 \n",
      " 50  KitchenAbvGr   21460 non-null  int32 \n",
      " 51  KitchenQual    21460 non-null  object\n",
      " 52  TotRmsAbvGrd   21460 non-null  int32 \n",
      " 53  Functional     21460 non-null  object\n",
      " 54  Fireplaces     21460 non-null  int32 \n",
      " 55  FireplaceQu    21460 non-null  object\n",
      " 56  GarageType     21460 non-null  object\n",
      " 57  GarageFinish   21460 non-null  object\n",
      " 58  GarageCars     21460 non-null  int32 \n",
      " 59  GarageArea     21460 non-null  int32 \n",
      " 60  GarageQual     21460 non-null  object\n",
      " 61  GarageCond     21460 non-null  object\n",
      " 62  PavedDrive     21460 non-null  object\n",
      " 63  WoodDeckSF     21460 non-null  int32 \n",
      " 64  OpenPorchSF    21460 non-null  int32 \n",
      " 65  EnclosedPorch  21460 non-null  int32 \n",
      " 66  3SsnPorch      21460 non-null  int32 \n",
      " 67  ScreenPorch    21460 non-null  int32 \n",
      " 68  PoolArea       21460 non-null  int32 \n",
      " 69  PoolQC         21460 non-null  object\n",
      " 70  Fence          21460 non-null  object\n",
      " 71  MiscFeature    21460 non-null  object\n",
      " 72  MiscVal        21460 non-null  int32 \n",
      " 73  MoSold         21460 non-null  int32 \n",
      " 74  YrSold         21460 non-null  int32 \n",
      " 75  SaleType       21460 non-null  object\n",
      " 76  SaleCondition  21460 non-null  object\n",
      " 77  SalePrice      21460 non-null  int32 \n",
      "dtypes: int32(35), object(43)\n",
      "memory usage: 10.1+ MB\n"
     ]
    }
   ],
   "source": [
    "pandasDF.info()"
   ]
  },
  {
   "cell_type": "code",
   "execution_count": 32,
   "metadata": {},
   "outputs": [],
   "source": [
    "DF = spark.createDataFrame(pandasDF) "
   ]
  },
  {
   "cell_type": "code",
   "execution_count": 33,
   "metadata": {
    "colab": {
     "base_uri": "https://localhost:8080/"
    },
    "executionInfo": {
     "elapsed": 5,
     "status": "ok",
     "timestamp": 1659260645259,
     "user": {
      "displayName": "Prerna Waghray",
      "userId": "08074246852708739388"
     },
     "user_tz": -330
    },
    "id": "nueVcXdvlHvf",
    "outputId": "b5ebaf6a-fa48-49d7-b3a9-610a11d737d1"
   },
   "outputs": [
    {
     "data": {
      "text/plain": [
       "['Id',\n",
       " 'MSSubClass',\n",
       " 'MSZoning',\n",
       " 'LotArea',\n",
       " 'Street',\n",
       " 'Alley',\n",
       " 'LotShape',\n",
       " 'LandContour',\n",
       " 'Utilities',\n",
       " 'LotConfig',\n",
       " 'LandSlope',\n",
       " 'Neighborhood',\n",
       " 'Condition1',\n",
       " 'Condition2',\n",
       " 'BldgType',\n",
       " 'HouseStyle',\n",
       " 'OverallQual',\n",
       " 'OverallCond',\n",
       " 'YearBuilt',\n",
       " 'YearRemodAdd',\n",
       " 'RoofStyle',\n",
       " 'RoofMatl',\n",
       " 'Exterior1st',\n",
       " 'Exterior2nd',\n",
       " 'MasVnrType',\n",
       " 'ExterQual',\n",
       " 'ExterCond',\n",
       " 'Foundation',\n",
       " 'BsmtQual',\n",
       " 'BsmtCond',\n",
       " 'BsmtExposure',\n",
       " 'BsmtFinType1',\n",
       " 'BsmtFinSF1',\n",
       " 'BsmtFinType2',\n",
       " 'BsmtFinSF2',\n",
       " 'BsmtUnfSF',\n",
       " 'TotalBsmtSF',\n",
       " 'Heating',\n",
       " 'HeatingQC',\n",
       " 'CentralAir',\n",
       " 'Electrical',\n",
       " '1stFlrSF',\n",
       " '2ndFlrSF',\n",
       " 'LowQualFinSF',\n",
       " 'GrLivArea',\n",
       " 'BsmtFullBath',\n",
       " 'BsmtHalfBath',\n",
       " 'FullBath',\n",
       " 'HalfBath',\n",
       " 'BedroomAbvGr',\n",
       " 'KitchenAbvGr',\n",
       " 'KitchenQual',\n",
       " 'TotRmsAbvGrd',\n",
       " 'Functional',\n",
       " 'Fireplaces',\n",
       " 'FireplaceQu',\n",
       " 'GarageType',\n",
       " 'GarageFinish',\n",
       " 'GarageCars',\n",
       " 'GarageArea',\n",
       " 'GarageQual',\n",
       " 'GarageCond',\n",
       " 'PavedDrive',\n",
       " 'WoodDeckSF',\n",
       " 'OpenPorchSF',\n",
       " 'EnclosedPorch',\n",
       " '3SsnPorch',\n",
       " 'ScreenPorch',\n",
       " 'PoolArea',\n",
       " 'PoolQC',\n",
       " 'Fence',\n",
       " 'MiscFeature',\n",
       " 'MiscVal',\n",
       " 'MoSold',\n",
       " 'YrSold',\n",
       " 'SaleType',\n",
       " 'SaleCondition',\n",
       " 'SalePrice']"
      ]
     },
     "execution_count": 33,
     "metadata": {},
     "output_type": "execute_result"
    }
   ],
   "source": [
    "DF.columns"
   ]
  },
  {
   "cell_type": "code",
   "execution_count": 34,
   "metadata": {
    "colab": {
     "base_uri": "https://localhost:8080/"
    },
    "executionInfo": {
     "elapsed": 13069,
     "status": "ok",
     "timestamp": 1659260660364,
     "user": {
      "displayName": "Prerna Waghray",
      "userId": "08074246852708739388"
     },
     "user_tz": -330
    },
    "id": "Bjl8AaJQo98G",
    "outputId": "03ab9355-abc7-4905-a5bf-3a9080410f6b"
   },
   "outputs": [
    {
     "name": "stdout",
     "output_type": "stream",
     "text": [
      "23/02/05 17:06:20 WARN TaskSetManager: Stage 28 contains a task of very large size (2099 KiB). The maximum recommended task size is 1000 KiB.\n"
     ]
    },
    {
     "name": "stderr",
     "output_type": "stream",
     "text": [
      "                                                                                \r"
     ]
    },
    {
     "data": {
      "text/plain": [
       "DataFrame[summary: string, Id: string, MSSubClass: string, MSZoning: string, LotArea: string, Street: string, Alley: string, LotShape: string, LandContour: string, Utilities: string, LotConfig: string, LandSlope: string, Neighborhood: string, Condition1: string, Condition2: string, BldgType: string, HouseStyle: string, OverallQual: string, OverallCond: string, YearBuilt: string, YearRemodAdd: string, RoofStyle: string, RoofMatl: string, Exterior1st: string, Exterior2nd: string, MasVnrType: string, ExterQual: string, ExterCond: string, Foundation: string, BsmtQual: string, BsmtCond: string, BsmtExposure: string, BsmtFinType1: string, BsmtFinSF1: string, BsmtFinType2: string, BsmtFinSF2: string, BsmtUnfSF: string, TotalBsmtSF: string, Heating: string, HeatingQC: string, CentralAir: string, Electrical: string, 1stFlrSF: string, 2ndFlrSF: string, LowQualFinSF: string, GrLivArea: string, BsmtFullBath: string, BsmtHalfBath: string, FullBath: string, HalfBath: string, BedroomAbvGr: string, KitchenAbvGr: string, KitchenQual: string, TotRmsAbvGrd: string, Functional: string, Fireplaces: string, FireplaceQu: string, GarageType: string, GarageFinish: string, GarageCars: string, GarageArea: string, GarageQual: string, GarageCond: string, PavedDrive: string, WoodDeckSF: string, OpenPorchSF: string, EnclosedPorch: string, 3SsnPorch: string, ScreenPorch: string, PoolArea: string, PoolQC: string, Fence: string, MiscFeature: string, MiscVal: string, MoSold: string, YrSold: string, SaleType: string, SaleCondition: string, SalePrice: string]"
      ]
     },
     "execution_count": 34,
     "metadata": {},
     "output_type": "execute_result"
    }
   ],
   "source": [
    "DF.summary()"
   ]
  },
  {
   "cell_type": "code",
   "execution_count": 35,
   "metadata": {
    "executionInfo": {
     "elapsed": 8,
     "status": "ok",
     "timestamp": 1659260660365,
     "user": {
      "displayName": "Prerna Waghray",
      "userId": "08074246852708739388"
     },
     "user_tz": -330
    },
    "id": "FVE1uyqFwAxo"
   },
   "outputs": [],
   "source": [
    "columnList = [item[0] for item in DF.dtypes if item[1].startswith('string')]"
   ]
  },
  {
   "cell_type": "code",
   "execution_count": 36,
   "metadata": {},
   "outputs": [
    {
     "data": {
      "text/plain": [
       "['MSZoning',\n",
       " 'Street',\n",
       " 'Alley',\n",
       " 'LotShape',\n",
       " 'LandContour',\n",
       " 'Utilities',\n",
       " 'LotConfig',\n",
       " 'LandSlope',\n",
       " 'Neighborhood',\n",
       " 'Condition1',\n",
       " 'Condition2',\n",
       " 'BldgType',\n",
       " 'HouseStyle',\n",
       " 'RoofStyle',\n",
       " 'RoofMatl',\n",
       " 'Exterior1st',\n",
       " 'Exterior2nd',\n",
       " 'MasVnrType',\n",
       " 'ExterQual',\n",
       " 'ExterCond',\n",
       " 'Foundation',\n",
       " 'BsmtQual',\n",
       " 'BsmtCond',\n",
       " 'BsmtExposure',\n",
       " 'BsmtFinType1',\n",
       " 'BsmtFinType2',\n",
       " 'Heating',\n",
       " 'HeatingQC',\n",
       " 'CentralAir',\n",
       " 'Electrical',\n",
       " 'KitchenQual',\n",
       " 'Functional',\n",
       " 'FireplaceQu',\n",
       " 'GarageType',\n",
       " 'GarageFinish',\n",
       " 'GarageQual',\n",
       " 'GarageCond',\n",
       " 'PavedDrive',\n",
       " 'PoolQC',\n",
       " 'Fence',\n",
       " 'MiscFeature',\n",
       " 'SaleType',\n",
       " 'SaleCondition']"
      ]
     },
     "execution_count": 36,
     "metadata": {},
     "output_type": "execute_result"
    }
   ],
   "source": [
    "columnList"
   ]
  },
  {
   "cell_type": "code",
   "execution_count": 37,
   "metadata": {
    "executionInfo": {
     "elapsed": 379,
     "status": "ok",
     "timestamp": 1659260667235,
     "user": {
      "displayName": "Prerna Waghray",
      "userId": "08074246852708739388"
     },
     "user_tz": -330
    },
    "id": "wRWjBA9byErW"
   },
   "outputs": [],
   "source": [
    "output_column_list = list(map(lambda x: x+\"_index\", columnList))"
   ]
  },
  {
   "cell_type": "code",
   "execution_count": 38,
   "metadata": {},
   "outputs": [
    {
     "data": {
      "text/plain": [
       "['MSZoning_index',\n",
       " 'Street_index',\n",
       " 'Alley_index',\n",
       " 'LotShape_index',\n",
       " 'LandContour_index',\n",
       " 'Utilities_index',\n",
       " 'LotConfig_index',\n",
       " 'LandSlope_index',\n",
       " 'Neighborhood_index',\n",
       " 'Condition1_index',\n",
       " 'Condition2_index',\n",
       " 'BldgType_index',\n",
       " 'HouseStyle_index',\n",
       " 'RoofStyle_index',\n",
       " 'RoofMatl_index',\n",
       " 'Exterior1st_index',\n",
       " 'Exterior2nd_index',\n",
       " 'MasVnrType_index',\n",
       " 'ExterQual_index',\n",
       " 'ExterCond_index',\n",
       " 'Foundation_index',\n",
       " 'BsmtQual_index',\n",
       " 'BsmtCond_index',\n",
       " 'BsmtExposure_index',\n",
       " 'BsmtFinType1_index',\n",
       " 'BsmtFinType2_index',\n",
       " 'Heating_index',\n",
       " 'HeatingQC_index',\n",
       " 'CentralAir_index',\n",
       " 'Electrical_index',\n",
       " 'KitchenQual_index',\n",
       " 'Functional_index',\n",
       " 'FireplaceQu_index',\n",
       " 'GarageType_index',\n",
       " 'GarageFinish_index',\n",
       " 'GarageQual_index',\n",
       " 'GarageCond_index',\n",
       " 'PavedDrive_index',\n",
       " 'PoolQC_index',\n",
       " 'Fence_index',\n",
       " 'MiscFeature_index',\n",
       " 'SaleType_index',\n",
       " 'SaleCondition_index']"
      ]
     },
     "execution_count": 38,
     "metadata": {},
     "output_type": "execute_result"
    }
   ],
   "source": [
    "output_column_list"
   ]
  },
  {
   "cell_type": "code",
   "execution_count": 39,
   "metadata": {
    "executionInfo": {
     "elapsed": 2613,
     "status": "ok",
     "timestamp": 1659260671862,
     "user": {
      "displayName": "Prerna Waghray",
      "userId": "08074246852708739388"
     },
     "user_tz": -330
    },
    "id": "bwiK_gB9pJbG"
   },
   "outputs": [
    {
     "name": "stdout",
     "output_type": "stream",
     "text": [
      "23/02/05 17:06:56 WARN TaskSetManager: Stage 31 contains a task of very large size (2099 KiB). The maximum recommended task size is 1000 KiB.\n"
     ]
    },
    {
     "name": "stderr",
     "output_type": "stream",
     "text": [
      "                                                                                \r"
     ]
    }
   ],
   "source": [
    "# String indexer\n",
    "from pyspark.ml.feature import StringIndexer, OneHotEncoder\n",
    "indexers = StringIndexer(inputCols=columnList, \n",
    "                         outputCols=output_column_list)\n",
    "strindexedDF = indexers.fit(DF).transform(DF)\n",
    "DF9 = strindexedDF.select(\"*\")\n"
   ]
  },
  {
   "cell_type": "code",
   "execution_count": 40,
   "metadata": {
    "colab": {
     "base_uri": "https://localhost:8080/"
    },
    "executionInfo": {
     "elapsed": 1229,
     "status": "ok",
     "timestamp": 1659260675098,
     "user": {
      "displayName": "Prerna Waghray",
      "userId": "08074246852708739388"
     },
     "user_tz": -330
    },
    "id": "CIIVgszgv2pa",
    "outputId": "47e89f5e-3bdb-45fe-92cc-7b0e3ad9ef09"
   },
   "outputs": [
    {
     "name": "stdout",
     "output_type": "stream",
     "text": [
      "23/02/05 17:06:58 WARN TaskSetManager: Stage 34 contains a task of very large size (2099 KiB). The maximum recommended task size is 1000 KiB.\n",
      "+---+----------+--------+-------+------+-----+--------+-----------+---------+---------+---------+------------+----------+----------+--------+----------+-----------+-----------+---------+------------+---------+--------+-----------+-----------+----------+---------+---------+----------+--------+--------+------------+------------+----------+------------+----------+---------+-----------+-------+---------+----------+----------+--------+--------+------------+---------+------------+------------+--------+--------+------------+------------+-----------+------------+----------+----------+-----------+----------+------------+----------+----------+----------+----------+----------+----------+-----------+-------------+---------+-----------+--------+------+-----+-----------+-------+------+------+--------+-------------+---------+--------------+------------+-----------+--------------+-----------------+---------------+---------------+---------------+------------------+----------------+----------------+--------------+----------------+---------------+--------------+-----------------+-----------------+----------------+---------------+---------------+----------------+--------------+--------------+------------------+------------------+------------------+-------------+---------------+----------------+----------------+-----------------+----------------+-----------------+----------------+------------------+----------------+----------------+----------------+------------+-----------+-----------------+--------------+-------------------+\n",
      "| Id|MSSubClass|MSZoning|LotArea|Street|Alley|LotShape|LandContour|Utilities|LotConfig|LandSlope|Neighborhood|Condition1|Condition2|BldgType|HouseStyle|OverallQual|OverallCond|YearBuilt|YearRemodAdd|RoofStyle|RoofMatl|Exterior1st|Exterior2nd|MasVnrType|ExterQual|ExterCond|Foundation|BsmtQual|BsmtCond|BsmtExposure|BsmtFinType1|BsmtFinSF1|BsmtFinType2|BsmtFinSF2|BsmtUnfSF|TotalBsmtSF|Heating|HeatingQC|CentralAir|Electrical|1stFlrSF|2ndFlrSF|LowQualFinSF|GrLivArea|BsmtFullBath|BsmtHalfBath|FullBath|HalfBath|BedroomAbvGr|KitchenAbvGr|KitchenQual|TotRmsAbvGrd|Functional|Fireplaces|FireplaceQu|GarageType|GarageFinish|GarageCars|GarageArea|GarageQual|GarageCond|PavedDrive|WoodDeckSF|OpenPorchSF|EnclosedPorch|3SsnPorch|ScreenPorch|PoolArea|PoolQC|Fence|MiscFeature|MiscVal|MoSold|YrSold|SaleType|SaleCondition|SalePrice|MSZoning_index|Street_index|Alley_index|LotShape_index|LandContour_index|Utilities_index|LotConfig_index|LandSlope_index|Neighborhood_index|Condition1_index|Condition2_index|BldgType_index|HouseStyle_index|RoofStyle_index|RoofMatl_index|Exterior1st_index|Exterior2nd_index|MasVnrType_index|ExterQual_index|ExterCond_index|Foundation_index|BsmtQual_index|BsmtCond_index|BsmtExposure_index|BsmtFinType1_index|BsmtFinType2_index|Heating_index|HeatingQC_index|CentralAir_index|Electrical_index|KitchenQual_index|Functional_index|FireplaceQu_index|GarageType_index|GarageFinish_index|GarageQual_index|GarageCond_index|PavedDrive_index|PoolQC_index|Fence_index|MiscFeature_index|SaleType_index|SaleCondition_index|\n",
      "+---+----------+--------+-------+------+-----+--------+-----------+---------+---------+---------+------------+----------+----------+--------+----------+-----------+-----------+---------+------------+---------+--------+-----------+-----------+----------+---------+---------+----------+--------+--------+------------+------------+----------+------------+----------+---------+-----------+-------+---------+----------+----------+--------+--------+------------+---------+------------+------------+--------+--------+------------+------------+-----------+------------+----------+----------+-----------+----------+------------+----------+----------+----------+----------+----------+----------+-----------+-------------+---------+-----------+--------+------+-----+-----------+-------+------+------+--------+-------------+---------+--------------+------------+-----------+--------------+-----------------+---------------+---------------+---------------+------------------+----------------+----------------+--------------+----------------+---------------+--------------+-----------------+-----------------+----------------+---------------+---------------+----------------+--------------+--------------+------------------+------------------+------------------+-------------+---------------+----------------+----------------+-----------------+----------------+-----------------+----------------+------------------+----------------+----------------+----------------+------------+-----------+-----------------+--------------+-------------------+\n",
      "|  1|        60|      RL|   8450|  Pave|   NA|     Reg|        Lvl|   AllPub|   Inside|      Gtl|     CollgCr|      Norm|      Norm|    1Fam|    2Story|          7|          5|     2003|        2003|    Gable| CompShg|    VinylSd|    VinylSd|   BrkFace|       Gd|       TA|     PConc|      Gd|      TA|          No|         GLQ|       706|         Unf|         0|      150|        856|   GasA|       Ex|         Y|     SBrkr|     856|     854|           0|     1710|           1|           0|       2|       1|           3|           1|         Gd|           8|       Typ|         0|         NA|    Attchd|         RFn|         2|       548|        TA|        TA|         Y|         0|         61|            0|        0|          0|       0|    NA|   NA|         NA|      0|     2|  2008|      WD|       Normal|   208500|           0.0|         0.0|        0.0|           0.0|              0.0|            0.0|            0.0|            0.0|               1.0|             0.0|             0.0|           0.0|             1.0|            0.0|           0.0|              0.0|              0.0|             1.0|            1.0|            0.0|             1.0|           1.0|           0.0|               0.0|               0.0|               0.0|          0.0|            0.0|             0.0|             0.0|              1.0|             0.0|              0.0|             0.0|               1.0|             0.0|             0.0|             0.0|         0.0|        0.0|              0.0|           0.0|                0.0|\n",
      "|  2|        20|      RL|   9600|  Pave|   NA|     Reg|        Lvl|   AllPub|      FR2|      Gtl|     Veenker|     Feedr|      Norm|    1Fam|    1Story|          6|          8|     1976|        1976|    Gable| CompShg|    MetalSd|    MetalSd|      None|       TA|       TA|    CBlock|      Gd|      TA|          Gd|         ALQ|       978|         Unf|         0|      284|       1262|   GasA|       Ex|         Y|     SBrkr|    1262|       0|           0|     1262|           0|           1|       2|       0|           3|           1|         TA|           6|       Typ|         1|         TA|    Attchd|         RFn|         2|       460|        TA|        TA|         Y|       298|          0|            0|        0|          0|       0|    NA|   NA|         NA|      0|     5|  2007|      WD|       Normal|   181500|           0.0|         0.0|        0.0|           0.0|              0.0|            0.0|            3.0|            0.0|              22.0|             1.0|             0.0|           0.0|             0.0|            0.0|           0.0|              1.0|              1.0|             0.0|            0.0|            0.0|             0.0|           1.0|           0.0|               2.0|               2.0|               0.0|          0.0|            0.0|             0.0|             0.0|              0.0|             0.0|              2.0|             0.0|               1.0|             0.0|             0.0|             0.0|         0.0|        0.0|              0.0|           0.0|                0.0|\n",
      "|  3|        60|      RL|  11250|  Pave|   NA|     IR1|        Lvl|   AllPub|   Inside|      Gtl|     CollgCr|      Norm|      Norm|    1Fam|    2Story|          7|          5|     2001|        2002|    Gable| CompShg|    VinylSd|    VinylSd|   BrkFace|       Gd|       TA|     PConc|      Gd|      TA|          Mn|         GLQ|       486|         Unf|         0|      434|        920|   GasA|       Ex|         Y|     SBrkr|     920|     866|           0|     1786|           1|           0|       2|       1|           3|           1|         Gd|           6|       Typ|         1|         TA|    Attchd|         RFn|         2|       608|        TA|        TA|         Y|         0|         42|            0|        0|          0|       0|    NA|   NA|         NA|      0|     9|  2008|      WD|       Normal|   223500|           0.0|         0.0|        0.0|           1.0|              0.0|            0.0|            0.0|            0.0|               1.0|             0.0|             0.0|           0.0|             1.0|            0.0|           0.0|              0.0|              0.0|             1.0|            1.0|            0.0|             1.0|           1.0|           0.0|               3.0|               0.0|               0.0|          0.0|            0.0|             0.0|             0.0|              1.0|             0.0|              2.0|             0.0|               1.0|             0.0|             0.0|             0.0|         0.0|        0.0|              0.0|           0.0|                0.0|\n",
      "|  4|        70|      RL|   9550|  Pave|   NA|     IR1|        Lvl|   AllPub|   Corner|      Gtl|     Crawfor|      Norm|      Norm|    1Fam|    2Story|          7|          5|     1915|        1970|    Gable| CompShg|    Wd Sdng|    Wd Shng|      None|       TA|       TA|    BrkTil|      TA|      Gd|          No|         ALQ|       216|         Unf|         0|      540|        756|   GasA|       Gd|         Y|     SBrkr|     961|     756|           0|     1717|           1|           0|       1|       0|           3|           1|         Gd|           7|       Typ|         1|         Gd|    Detchd|         Unf|         3|       642|        TA|        TA|         Y|         0|         35|          272|        0|          0|       0|    NA|   NA|         NA|      0|     2|  2006|      WD|      Abnorml|   140000|           0.0|         0.0|        0.0|           1.0|              0.0|            0.0|            1.0|            0.0|              11.0|             0.0|             0.0|           0.0|             1.0|            0.0|           0.0|              3.0|              6.0|             0.0|            0.0|            0.0|             2.0|           0.0|           1.0|               0.0|               2.0|               0.0|          0.0|            2.0|             0.0|             0.0|              1.0|             0.0|              1.0|             1.0|               0.0|             0.0|             0.0|             0.0|         0.0|        0.0|              0.0|           0.0|                2.0|\n",
      "|  5|        60|      RL|  14260|  Pave|   NA|     IR1|        Lvl|   AllPub|      FR2|      Gtl|     NoRidge|      Norm|      Norm|    1Fam|    2Story|          8|          5|     2000|        2000|    Gable| CompShg|    VinylSd|    VinylSd|   BrkFace|       Gd|       TA|     PConc|      Gd|      TA|          Av|         GLQ|       655|         Unf|         0|      490|       1145|   GasA|       Ex|         Y|     SBrkr|    1145|    1053|           0|     2198|           1|           0|       2|       1|           4|           1|         Gd|           9|       Typ|         1|         TA|    Attchd|         RFn|         3|       836|        TA|        TA|         Y|       192|         84|            0|        0|          0|       0|    NA|   NA|         NA|      0|    12|  2008|      WD|       Normal|   250000|           0.0|         0.0|        0.0|           1.0|              0.0|            0.0|            3.0|            0.0|              13.0|             0.0|             0.0|           0.0|             1.0|            0.0|           0.0|              0.0|              0.0|             1.0|            1.0|            0.0|             1.0|           1.0|           0.0|               1.0|               0.0|               0.0|          0.0|            0.0|             0.0|             0.0|              1.0|             0.0|              2.0|             0.0|               1.0|             0.0|             0.0|             0.0|         0.0|        0.0|              0.0|           0.0|                0.0|\n",
      "|  6|        50|      RL|  14115|  Pave|   NA|     IR1|        Lvl|   AllPub|   Inside|      Gtl|     Mitchel|      Norm|      Norm|    1Fam|    1.5Fin|          5|          5|     1993|        1995|    Gable| CompShg|    VinylSd|    VinylSd|      None|       TA|       TA|      Wood|      Gd|      TA|          No|         GLQ|       732|         Unf|         0|       64|        796|   GasA|       Ex|         Y|     SBrkr|     796|     566|           0|     1362|           1|           0|       1|       1|           1|           1|         TA|           5|       Typ|         0|         NA|    Attchd|         Unf|         2|       480|        TA|        TA|         Y|        40|         30|            0|      320|          0|       0|    NA|MnPrv|       Shed|    700|    10|  2009|      WD|       Normal|   143000|           0.0|         0.0|        0.0|           1.0|              0.0|            0.0|            0.0|            0.0|              12.0|             0.0|             0.0|           0.0|             2.0|            0.0|           0.0|              0.0|              0.0|             0.0|            0.0|            0.0|             5.0|           1.0|           0.0|               0.0|               0.0|               0.0|          0.0|            0.0|             0.0|             0.0|              0.0|             0.0|              0.0|             0.0|               0.0|             0.0|             0.0|             0.0|         0.0|        1.0|              1.0|           0.0|                0.0|\n",
      "|  7|        20|      RL|  10084|  Pave|   NA|     Reg|        Lvl|   AllPub|   Inside|      Gtl|     Somerst|      Norm|      Norm|    1Fam|    1Story|          8|          5|     2004|        2005|    Gable| CompShg|    VinylSd|    VinylSd|     Stone|       Gd|       TA|     PConc|      Ex|      TA|          Av|         GLQ|      1369|         Unf|         0|      317|       1686|   GasA|       Ex|         Y|     SBrkr|    1694|       0|           0|     1694|           1|           0|       2|       0|           3|           1|         Gd|           7|       Typ|         1|         Gd|    Attchd|         RFn|         2|       636|        TA|        TA|         Y|       255|         57|            0|        0|          0|       0|    NA|   NA|         NA|      0|     8|  2007|      WD|       Normal|   307000|           0.0|         0.0|        0.0|           0.0|              0.0|            0.0|            0.0|            0.0|               4.0|             0.0|             0.0|           0.0|             0.0|            0.0|           0.0|              0.0|              0.0|             2.0|            1.0|            0.0|             1.0|           2.0|           0.0|               1.0|               0.0|               0.0|          0.0|            0.0|             0.0|             0.0|              1.0|             0.0|              1.0|             0.0|               1.0|             0.0|             0.0|             0.0|         0.0|        0.0|              0.0|           0.0|                0.0|\n",
      "|  8|        60|      RL|  10382|  Pave|   NA|     IR1|        Lvl|   AllPub|   Corner|      Gtl|      NWAmes|      PosN|      Norm|    1Fam|    2Story|          7|          6|     1973|        1973|    Gable| CompShg|    HdBoard|    HdBoard|     Stone|       TA|       TA|    CBlock|      Gd|      TA|          Mn|         ALQ|       859|         BLQ|        32|      216|       1107|   GasA|       Ex|         Y|     SBrkr|    1107|     983|           0|     2090|           1|           0|       2|       1|           3|           1|         TA|           7|       Typ|         2|         TA|    Attchd|         RFn|         2|       484|        TA|        TA|         Y|       235|        204|          228|        0|          0|       0|    NA|   NA|       Shed|    350|    11|  2009|      WD|       Normal|   200000|           0.0|         0.0|        0.0|           1.0|              0.0|            0.0|            1.0|            0.0|               7.0|             4.0|             0.0|           0.0|             1.0|            0.0|           0.0|              2.0|              2.0|             2.0|            0.0|            0.0|             0.0|           1.0|           0.0|               3.0|               2.0|               4.0|          0.0|            0.0|             0.0|             0.0|              0.0|             0.0|              2.0|             0.0|               1.0|             0.0|             0.0|             0.0|         0.0|        0.0|              1.0|           0.0|                0.0|\n",
      "|  9|        50|      RM|   6120|  Pave|   NA|     Reg|        Lvl|   AllPub|   Inside|      Gtl|     OldTown|    Artery|      Norm|    1Fam|    1.5Fin|          7|          5|     1931|        1950|    Gable| CompShg|    BrkFace|    Wd Shng|      None|       TA|       TA|    BrkTil|      TA|      TA|          No|         Unf|         0|         Unf|         0|      952|        952|   GasA|       Gd|         Y|     FuseF|    1022|     752|           0|     1774|           0|           0|       2|       0|           2|           2|         TA|           8|      Min1|         2|         TA|    Detchd|         Unf|         2|       468|        Fa|        TA|         Y|        90|          0|          205|        0|          0|       0|    NA|   NA|         NA|      0|     4|  2008|      WD|      Abnorml|   129900|           1.0|         0.0|        0.0|           0.0|              0.0|            0.0|            0.0|            0.0|               2.0|             2.0|             0.0|           0.0|             2.0|            0.0|           0.0|              6.0|              6.0|             0.0|            0.0|            0.0|             2.0|           0.0|           0.0|               0.0|               1.0|               0.0|          0.0|            2.0|             0.0|             2.0|              0.0|             2.0|              2.0|             1.0|               0.0|             2.0|             0.0|             0.0|         0.0|        0.0|              0.0|           0.0|                2.0|\n",
      "| 10|       190|      RL|   7420|  Pave|   NA|     Reg|        Lvl|   AllPub|   Corner|      Gtl|     BrkSide|    Artery|    Artery|  2fmCon|    1.5Unf|          5|          6|     1939|        1950|    Gable| CompShg|    MetalSd|    MetalSd|      None|       TA|       TA|    BrkTil|      TA|      TA|          No|         GLQ|       851|         Unf|         0|      140|        991|   GasA|       Ex|         Y|     SBrkr|    1077|       0|           0|     1077|           1|           0|       1|       0|           2|           2|         TA|           5|       Typ|         2|         TA|    Attchd|         RFn|         1|       205|        Gd|        TA|         Y|         0|          4|            0|        0|          0|       0|    NA|   NA|         NA|      0|     1|  2008|      WD|       Normal|   118000|           0.0|         0.0|        0.0|           0.0|              0.0|            0.0|            1.0|            0.0|              10.0|             2.0|             2.0|           4.0|             5.0|            0.0|           0.0|              1.0|              1.0|             0.0|            0.0|            0.0|             2.0|           0.0|           0.0|               0.0|               0.0|               0.0|          0.0|            0.0|             0.0|             0.0|              0.0|             0.0|              2.0|             0.0|               1.0|             3.0|             0.0|             0.0|         0.0|        0.0|              0.0|           0.0|                0.0|\n",
      "| 11|        20|      RL|  11200|  Pave|   NA|     Reg|        Lvl|   AllPub|   Inside|      Gtl|      Sawyer|      Norm|      Norm|    1Fam|    1Story|          5|          5|     1965|        1965|      Hip| CompShg|    HdBoard|    HdBoard|      None|       TA|       TA|    CBlock|      TA|      TA|          No|         Rec|       906|         Unf|         0|      134|       1040|   GasA|       Ex|         Y|     SBrkr|    1040|       0|           0|     1040|           1|           0|       1|       0|           3|           1|         TA|           5|       Typ|         0|         NA|    Detchd|         Unf|         1|       384|        TA|        TA|         Y|         0|          0|            0|        0|          0|       0|    NA|   NA|         NA|      0|     2|  2008|      WD|       Normal|   129500|           0.0|         0.0|        0.0|           0.0|              0.0|            0.0|            0.0|            0.0|               8.0|             0.0|             0.0|           0.0|             0.0|            1.0|           0.0|              2.0|              2.0|             0.0|            0.0|            0.0|             0.0|           0.0|           0.0|               0.0|               4.0|               0.0|          0.0|            0.0|             0.0|             0.0|              0.0|             0.0|              0.0|             1.0|               0.0|             0.0|             0.0|             0.0|         0.0|        0.0|              0.0|           0.0|                0.0|\n",
      "| 12|        60|      RL|  11924|  Pave|   NA|     IR1|        Lvl|   AllPub|   Inside|      Gtl|     NridgHt|      Norm|      Norm|    1Fam|    2Story|          9|          5|     2005|        2006|      Hip| CompShg|    WdShing|    Wd Shng|     Stone|       Ex|       TA|     PConc|      Ex|      TA|          No|         GLQ|       998|         Unf|         0|      177|       1175|   GasA|       Ex|         Y|     SBrkr|    1182|    1142|           0|     2324|           1|           0|       3|       0|           4|           1|         Ex|          11|       Typ|         2|         Gd|   BuiltIn|         Fin|         3|       736|        TA|        TA|         Y|       147|         21|            0|        0|          0|       0|    NA|   NA|         NA|      0|     7|  2006|     New|      Partial|   345000|           0.0|         0.0|        0.0|           1.0|              0.0|            0.0|            0.0|            0.0|               6.0|             0.0|             0.0|           0.0|             1.0|            1.0|           0.0|              8.0|              6.0|             2.0|            2.0|            0.0|             1.0|           2.0|           0.0|               0.0|               0.0|               0.0|          0.0|            0.0|             0.0|             0.0|              2.0|             0.0|              1.0|             2.0|               2.0|             0.0|             0.0|             0.0|         0.0|        0.0|              0.0|           1.0|                1.0|\n",
      "| 13|        20|      RL|  12968|  Pave|   NA|     IR2|        Lvl|   AllPub|   Inside|      Gtl|      Sawyer|      Norm|      Norm|    1Fam|    1Story|          5|          6|     1962|        1962|      Hip| CompShg|    HdBoard|    Plywood|      None|       TA|       TA|    CBlock|      TA|      TA|          No|         ALQ|       737|         Unf|         0|      175|        912|   GasA|       TA|         Y|     SBrkr|     912|       0|           0|      912|           1|           0|       1|       0|           2|           1|         TA|           4|       Typ|         0|         NA|    Detchd|         Unf|         1|       352|        TA|        TA|         Y|       140|          0|            0|        0|        176|       0|    NA|   NA|         NA|      0|     9|  2008|      WD|       Normal|   144000|           0.0|         0.0|        0.0|           2.0|              0.0|            0.0|            0.0|            0.0|               8.0|             0.0|             0.0|           0.0|             0.0|            1.0|           0.0|              2.0|              4.0|             0.0|            0.0|            0.0|             0.0|           0.0|           0.0|               0.0|               2.0|               0.0|          0.0|            1.0|             0.0|             0.0|              0.0|             0.0|              0.0|             1.0|               0.0|             0.0|             0.0|             0.0|         0.0|        0.0|              0.0|           0.0|                0.0|\n",
      "| 14|        20|      RL|  10652|  Pave|   NA|     IR1|        Lvl|   AllPub|   Inside|      Gtl|     CollgCr|      Norm|      Norm|    1Fam|    1Story|          7|          5|     2006|        2007|    Gable| CompShg|    VinylSd|    VinylSd|     Stone|       Gd|       TA|     PConc|      Gd|      TA|          Av|         Unf|         0|         Unf|         0|     1494|       1494|   GasA|       Ex|         Y|     SBrkr|    1494|       0|           0|     1494|           0|           0|       2|       0|           3|           1|         Gd|           7|       Typ|         1|         Gd|    Attchd|         RFn|         3|       840|        TA|        TA|         Y|       160|         33|            0|        0|          0|       0|    NA|   NA|         NA|      0|     8|  2007|     New|      Partial|   279500|           0.0|         0.0|        0.0|           1.0|              0.0|            0.0|            0.0|            0.0|               1.0|             0.0|             0.0|           0.0|             0.0|            0.0|           0.0|              0.0|              0.0|             2.0|            1.0|            0.0|             1.0|           1.0|           0.0|               1.0|               1.0|               0.0|          0.0|            0.0|             0.0|             0.0|              1.0|             0.0|              1.0|             0.0|               1.0|             0.0|             0.0|             0.0|         0.0|        0.0|              0.0|           1.0|                1.0|\n",
      "| 15|        20|      RL|  10920|  Pave|   NA|     IR1|        Lvl|   AllPub|   Corner|      Gtl|       NAmes|      Norm|      Norm|    1Fam|    1Story|          6|          5|     1960|        1960|      Hip| CompShg|    MetalSd|    MetalSd|   BrkFace|       TA|       TA|    CBlock|      TA|      TA|          No|         BLQ|       733|         Unf|         0|      520|       1253|   GasA|       TA|         Y|     SBrkr|    1253|       0|           0|     1253|           1|           0|       1|       1|           2|           1|         TA|           5|       Typ|         1|         Fa|    Attchd|         RFn|         1|       352|        TA|        TA|         Y|         0|        213|          176|        0|          0|       0|    NA| GdWo|         NA|      0|     5|  2008|      WD|       Normal|   157000|           0.0|         0.0|        0.0|           1.0|              0.0|            0.0|            1.0|            0.0|               0.0|             0.0|             0.0|           0.0|             0.0|            1.0|           0.0|              1.0|              1.0|             1.0|            0.0|            0.0|             0.0|           0.0|           0.0|               0.0|               3.0|               0.0|          0.0|            1.0|             0.0|             0.0|              0.0|             0.0|              3.0|             0.0|               1.0|             0.0|             0.0|             0.0|         0.0|        3.0|              0.0|           0.0|                0.0|\n",
      "| 16|        45|      RM|   6120|  Pave|   NA|     Reg|        Lvl|   AllPub|   Corner|      Gtl|     BrkSide|      Norm|      Norm|    1Fam|    1.5Unf|          7|          8|     1929|        2001|    Gable| CompShg|    Wd Sdng|    Wd Sdng|      None|       TA|       TA|    BrkTil|      TA|      TA|          No|         Unf|         0|         Unf|         0|      832|        832|   GasA|       Ex|         Y|     FuseA|     854|       0|           0|      854|           0|           0|       1|       0|           2|           1|         TA|           5|       Typ|         0|         NA|    Detchd|         Unf|         2|       576|        TA|        TA|         Y|        48|        112|            0|        0|          0|       0|    NA|GdPrv|         NA|      0|     7|  2007|      WD|       Normal|   132000|           1.0|         0.0|        0.0|           0.0|              0.0|            0.0|            1.0|            0.0|              10.0|             0.0|             0.0|           0.0|             5.0|            0.0|           0.0|              3.0|              3.0|             0.0|            0.0|            0.0|             2.0|           0.0|           0.0|               0.0|               1.0|               0.0|          0.0|            0.0|             0.0|             1.0|              0.0|             0.0|              0.0|             1.0|               0.0|             0.0|             0.0|             0.0|         0.0|        2.0|              0.0|           0.0|                0.0|\n",
      "| 17|        20|      RL|  11241|  Pave|   NA|     IR1|        Lvl|   AllPub|  CulDSac|      Gtl|       NAmes|      Norm|      Norm|    1Fam|    1Story|          6|          7|     1970|        1970|    Gable| CompShg|    Wd Sdng|    Wd Sdng|   BrkFace|       TA|       TA|    CBlock|      TA|      TA|          No|         ALQ|       578|         Unf|         0|      426|       1004|   GasA|       Ex|         Y|     SBrkr|    1004|       0|           0|     1004|           1|           0|       1|       0|           2|           1|         TA|           5|       Typ|         1|         TA|    Attchd|         Fin|         2|       480|        TA|        TA|         Y|         0|          0|            0|        0|          0|       0|    NA|   NA|       Shed|    700|     3|  2010|      WD|       Normal|   149000|           0.0|         0.0|        0.0|           1.0|              0.0|            0.0|            2.0|            0.0|               0.0|             0.0|             0.0|           0.0|             0.0|            0.0|           0.0|              3.0|              3.0|             1.0|            0.0|            0.0|             0.0|           0.0|           0.0|               0.0|               2.0|               0.0|          0.0|            0.0|             0.0|             0.0|              0.0|             0.0|              2.0|             0.0|               2.0|             0.0|             0.0|             0.0|         0.0|        0.0|              1.0|           0.0|                0.0|\n",
      "| 18|        90|      RL|  10791|  Pave|   NA|     Reg|        Lvl|   AllPub|   Inside|      Gtl|      Sawyer|      Norm|      Norm|  Duplex|    1Story|          4|          5|     1967|        1967|    Gable| CompShg|    MetalSd|    MetalSd|      None|       TA|       TA|      Slab|      NA|      NA|          NA|          NA|         0|          NA|         0|        0|          0|   GasA|       TA|         Y|     SBrkr|    1296|       0|           0|     1296|           0|           0|       2|       0|           2|           2|         TA|           6|       Typ|         0|         NA|   CarPort|         Unf|         2|       516|        TA|        TA|         Y|         0|          0|            0|        0|          0|       0|    NA|   NA|       Shed|    500|    10|  2006|      WD|       Normal|    90000|           0.0|         0.0|        0.0|           0.0|              0.0|            0.0|            0.0|            0.0|               8.0|             0.0|             0.0|           2.0|             0.0|            0.0|           0.0|              1.0|              1.0|             0.0|            0.0|            0.0|             3.0|           3.0|           3.0|               4.0|               6.0|               3.0|          0.0|            1.0|             0.0|             0.0|              0.0|             0.0|              0.0|             5.0|               0.0|             0.0|             0.0|             0.0|         0.0|        0.0|              1.0|           0.0|                0.0|\n",
      "| 19|        20|      RL|  13695|  Pave|   NA|     Reg|        Lvl|   AllPub|   Inside|      Gtl|     SawyerW|      RRAe|      Norm|    1Fam|    1Story|          5|          5|     2004|        2004|    Gable| CompShg|    VinylSd|    VinylSd|      None|       TA|       TA|     PConc|      TA|      TA|          No|         GLQ|       646|         Unf|         0|      468|       1114|   GasA|       Ex|         Y|     SBrkr|    1114|       0|           0|     1114|           1|           0|       1|       1|           3|           1|         Gd|           6|       Typ|         0|         NA|    Detchd|         Unf|         2|       576|        TA|        TA|         Y|         0|        102|            0|        0|          0|       0|    NA|   NA|         NA|      0|     6|  2008|      WD|       Normal|   159000|           0.0|         0.0|        0.0|           0.0|              0.0|            0.0|            0.0|            0.0|               9.0|             5.0|             0.0|           0.0|             0.0|            0.0|           0.0|              0.0|              0.0|             0.0|            0.0|            0.0|             1.0|           0.0|           0.0|               0.0|               0.0|               0.0|          0.0|            0.0|             0.0|             0.0|              1.0|             0.0|              0.0|             1.0|               0.0|             0.0|             0.0|             0.0|         0.0|        0.0|              0.0|           0.0|                0.0|\n",
      "| 20|        20|      RL|   7560|  Pave|   NA|     Reg|        Lvl|   AllPub|   Inside|      Gtl|       NAmes|      Norm|      Norm|    1Fam|    1Story|          5|          6|     1958|        1965|      Hip| CompShg|    BrkFace|    Plywood|      None|       TA|       TA|    CBlock|      TA|      TA|          No|         LwQ|       504|         Unf|         0|      525|       1029|   GasA|       TA|         Y|     SBrkr|    1339|       0|           0|     1339|           0|           0|       1|       0|           3|           1|         TA|           6|      Min1|         0|         NA|    Attchd|         Unf|         1|       294|        TA|        TA|         Y|         0|          0|            0|        0|          0|       0|    NA|MnPrv|         NA|      0|     5|  2009|     COD|      Abnorml|   139000|           0.0|         0.0|        0.0|           0.0|              0.0|            0.0|            0.0|            0.0|               0.0|             0.0|             0.0|           0.0|             0.0|            1.0|           0.0|              6.0|              4.0|             0.0|            0.0|            0.0|             0.0|           0.0|           0.0|               0.0|               5.0|               0.0|          0.0|            1.0|             0.0|             0.0|              0.0|             2.0|              0.0|             0.0|               0.0|             0.0|             0.0|             0.0|         0.0|        1.0|              0.0|           2.0|                2.0|\n",
      "+---+----------+--------+-------+------+-----+--------+-----------+---------+---------+---------+------------+----------+----------+--------+----------+-----------+-----------+---------+------------+---------+--------+-----------+-----------+----------+---------+---------+----------+--------+--------+------------+------------+----------+------------+----------+---------+-----------+-------+---------+----------+----------+--------+--------+------------+---------+------------+------------+--------+--------+------------+------------+-----------+------------+----------+----------+-----------+----------+------------+----------+----------+----------+----------+----------+----------+-----------+-------------+---------+-----------+--------+------+-----+-----------+-------+------+------+--------+-------------+---------+--------------+------------+-----------+--------------+-----------------+---------------+---------------+---------------+------------------+----------------+----------------+--------------+----------------+---------------+--------------+-----------------+-----------------+----------------+---------------+---------------+----------------+--------------+--------------+------------------+------------------+------------------+-------------+---------------+----------------+----------------+-----------------+----------------+-----------------+----------------+------------------+----------------+----------------+----------------+------------+-----------+-----------------+--------------+-------------------+\n",
      "only showing top 20 rows\n",
      "\n"
     ]
    }
   ],
   "source": [
    "DF9.show()"
   ]
  },
  {
   "cell_type": "code",
   "execution_count": 41,
   "metadata": {
    "executionInfo": {
     "elapsed": 404,
     "status": "ok",
     "timestamp": 1659260679223,
     "user": {
      "displayName": "Prerna Waghray",
      "userId": "08074246852708739388"
     },
     "user_tz": -330
    },
    "id": "FZqXdalI9KxJ"
   },
   "outputs": [],
   "source": [
    "# Dropping columns post String Indexing\n",
    "DF10 = DF9.drop(*columnList)"
   ]
  },
  {
   "cell_type": "code",
   "execution_count": 42,
   "metadata": {
    "colab": {
     "base_uri": "https://localhost:8080/"
    },
    "executionInfo": {
     "elapsed": 374,
     "status": "ok",
     "timestamp": 1659260682512,
     "user": {
      "displayName": "Prerna Waghray",
      "userId": "08074246852708739388"
     },
     "user_tz": -330
    },
    "id": "1Td2NNiC-EeU",
    "outputId": "a34479dd-7a11-4304-f103-23f8c7c4b74f"
   },
   "outputs": [
    {
     "name": "stdout",
     "output_type": "stream",
     "text": [
      "root\n",
      " |-- Id: long (nullable = true)\n",
      " |-- MSSubClass: long (nullable = true)\n",
      " |-- LotArea: long (nullable = true)\n",
      " |-- OverallQual: long (nullable = true)\n",
      " |-- OverallCond: long (nullable = true)\n",
      " |-- YearBuilt: long (nullable = true)\n",
      " |-- YearRemodAdd: long (nullable = true)\n",
      " |-- BsmtFinSF1: long (nullable = true)\n",
      " |-- BsmtFinSF2: long (nullable = true)\n",
      " |-- BsmtUnfSF: long (nullable = true)\n",
      " |-- TotalBsmtSF: long (nullable = true)\n",
      " |-- 1stFlrSF: long (nullable = true)\n",
      " |-- 2ndFlrSF: long (nullable = true)\n",
      " |-- LowQualFinSF: long (nullable = true)\n",
      " |-- GrLivArea: long (nullable = true)\n",
      " |-- BsmtFullBath: long (nullable = true)\n",
      " |-- BsmtHalfBath: long (nullable = true)\n",
      " |-- FullBath: long (nullable = true)\n",
      " |-- HalfBath: long (nullable = true)\n",
      " |-- BedroomAbvGr: long (nullable = true)\n",
      " |-- KitchenAbvGr: long (nullable = true)\n",
      " |-- TotRmsAbvGrd: long (nullable = true)\n",
      " |-- Fireplaces: long (nullable = true)\n",
      " |-- GarageCars: long (nullable = true)\n",
      " |-- GarageArea: long (nullable = true)\n",
      " |-- WoodDeckSF: long (nullable = true)\n",
      " |-- OpenPorchSF: long (nullable = true)\n",
      " |-- EnclosedPorch: long (nullable = true)\n",
      " |-- 3SsnPorch: long (nullable = true)\n",
      " |-- ScreenPorch: long (nullable = true)\n",
      " |-- PoolArea: long (nullable = true)\n",
      " |-- MiscVal: long (nullable = true)\n",
      " |-- MoSold: long (nullable = true)\n",
      " |-- YrSold: long (nullable = true)\n",
      " |-- SalePrice: long (nullable = true)\n",
      " |-- MSZoning_index: double (nullable = false)\n",
      " |-- Street_index: double (nullable = false)\n",
      " |-- Alley_index: double (nullable = false)\n",
      " |-- LotShape_index: double (nullable = false)\n",
      " |-- LandContour_index: double (nullable = false)\n",
      " |-- Utilities_index: double (nullable = false)\n",
      " |-- LotConfig_index: double (nullable = false)\n",
      " |-- LandSlope_index: double (nullable = false)\n",
      " |-- Neighborhood_index: double (nullable = false)\n",
      " |-- Condition1_index: double (nullable = false)\n",
      " |-- Condition2_index: double (nullable = false)\n",
      " |-- BldgType_index: double (nullable = false)\n",
      " |-- HouseStyle_index: double (nullable = false)\n",
      " |-- RoofStyle_index: double (nullable = false)\n",
      " |-- RoofMatl_index: double (nullable = false)\n",
      " |-- Exterior1st_index: double (nullable = false)\n",
      " |-- Exterior2nd_index: double (nullable = false)\n",
      " |-- MasVnrType_index: double (nullable = false)\n",
      " |-- ExterQual_index: double (nullable = false)\n",
      " |-- ExterCond_index: double (nullable = false)\n",
      " |-- Foundation_index: double (nullable = false)\n",
      " |-- BsmtQual_index: double (nullable = false)\n",
      " |-- BsmtCond_index: double (nullable = false)\n",
      " |-- BsmtExposure_index: double (nullable = false)\n",
      " |-- BsmtFinType1_index: double (nullable = false)\n",
      " |-- BsmtFinType2_index: double (nullable = false)\n",
      " |-- Heating_index: double (nullable = false)\n",
      " |-- HeatingQC_index: double (nullable = false)\n",
      " |-- CentralAir_index: double (nullable = false)\n",
      " |-- Electrical_index: double (nullable = false)\n",
      " |-- KitchenQual_index: double (nullable = false)\n",
      " |-- Functional_index: double (nullable = false)\n",
      " |-- FireplaceQu_index: double (nullable = false)\n",
      " |-- GarageType_index: double (nullable = false)\n",
      " |-- GarageFinish_index: double (nullable = false)\n",
      " |-- GarageQual_index: double (nullable = false)\n",
      " |-- GarageCond_index: double (nullable = false)\n",
      " |-- PavedDrive_index: double (nullable = false)\n",
      " |-- PoolQC_index: double (nullable = false)\n",
      " |-- Fence_index: double (nullable = false)\n",
      " |-- MiscFeature_index: double (nullable = false)\n",
      " |-- SaleType_index: double (nullable = false)\n",
      " |-- SaleCondition_index: double (nullable = false)\n",
      "\n"
     ]
    }
   ],
   "source": [
    "DF10.printSchema()"
   ]
  },
  {
   "cell_type": "code",
   "execution_count": 43,
   "metadata": {
    "colab": {
     "base_uri": "https://localhost:8080/"
    },
    "executionInfo": {
     "elapsed": 645,
     "status": "ok",
     "timestamp": 1659260687499,
     "user": {
      "displayName": "Prerna Waghray",
      "userId": "08074246852708739388"
     },
     "user_tz": -330
    },
    "id": "uUXVj4td-Qxk",
    "outputId": "cdf05bfd-2bbf-40a4-db0e-3a998fc357a7"
   },
   "outputs": [
    {
     "name": "stdout",
     "output_type": "stream",
     "text": [
      "23/02/05 17:06:58 WARN TaskSetManager: Stage 35 contains a task of very large size (2099 KiB). The maximum recommended task size is 1000 KiB.\n",
      "+---+----------+-------+-----------+-----------+---------+------------+----------+----------+---------+-----------+--------+--------+------------+---------+------------+------------+--------+--------+------------+------------+------------+----------+----------+----------+----------+-----------+-------------+---------+-----------+--------+-------+------+------+---------+--------------+------------+-----------+--------------+-----------------+---------------+---------------+---------------+------------------+----------------+----------------+--------------+----------------+---------------+--------------+-----------------+-----------------+----------------+---------------+---------------+----------------+--------------+--------------+------------------+------------------+------------------+-------------+---------------+----------------+----------------+-----------------+----------------+-----------------+----------------+------------------+----------------+----------------+----------------+------------+-----------+-----------------+--------------+-------------------+\n",
      "| Id|MSSubClass|LotArea|OverallQual|OverallCond|YearBuilt|YearRemodAdd|BsmtFinSF1|BsmtFinSF2|BsmtUnfSF|TotalBsmtSF|1stFlrSF|2ndFlrSF|LowQualFinSF|GrLivArea|BsmtFullBath|BsmtHalfBath|FullBath|HalfBath|BedroomAbvGr|KitchenAbvGr|TotRmsAbvGrd|Fireplaces|GarageCars|GarageArea|WoodDeckSF|OpenPorchSF|EnclosedPorch|3SsnPorch|ScreenPorch|PoolArea|MiscVal|MoSold|YrSold|SalePrice|MSZoning_index|Street_index|Alley_index|LotShape_index|LandContour_index|Utilities_index|LotConfig_index|LandSlope_index|Neighborhood_index|Condition1_index|Condition2_index|BldgType_index|HouseStyle_index|RoofStyle_index|RoofMatl_index|Exterior1st_index|Exterior2nd_index|MasVnrType_index|ExterQual_index|ExterCond_index|Foundation_index|BsmtQual_index|BsmtCond_index|BsmtExposure_index|BsmtFinType1_index|BsmtFinType2_index|Heating_index|HeatingQC_index|CentralAir_index|Electrical_index|KitchenQual_index|Functional_index|FireplaceQu_index|GarageType_index|GarageFinish_index|GarageQual_index|GarageCond_index|PavedDrive_index|PoolQC_index|Fence_index|MiscFeature_index|SaleType_index|SaleCondition_index|\n",
      "+---+----------+-------+-----------+-----------+---------+------------+----------+----------+---------+-----------+--------+--------+------------+---------+------------+------------+--------+--------+------------+------------+------------+----------+----------+----------+----------+-----------+-------------+---------+-----------+--------+-------+------+------+---------+--------------+------------+-----------+--------------+-----------------+---------------+---------------+---------------+------------------+----------------+----------------+--------------+----------------+---------------+--------------+-----------------+-----------------+----------------+---------------+---------------+----------------+--------------+--------------+------------------+------------------+------------------+-------------+---------------+----------------+----------------+-----------------+----------------+-----------------+----------------+------------------+----------------+----------------+----------------+------------+-----------+-----------------+--------------+-------------------+\n",
      "|  1|        60|   8450|          7|          5|     2003|        2003|       706|         0|      150|        856|     856|     854|           0|     1710|           1|           0|       2|       1|           3|           1|           8|         0|         2|       548|         0|         61|            0|        0|          0|       0|      0|     2|  2008|   208500|           0.0|         0.0|        0.0|           0.0|              0.0|            0.0|            0.0|            0.0|               1.0|             0.0|             0.0|           0.0|             1.0|            0.0|           0.0|              0.0|              0.0|             1.0|            1.0|            0.0|             1.0|           1.0|           0.0|               0.0|               0.0|               0.0|          0.0|            0.0|             0.0|             0.0|              1.0|             0.0|              0.0|             0.0|               1.0|             0.0|             0.0|             0.0|         0.0|        0.0|              0.0|           0.0|                0.0|\n",
      "|  2|        20|   9600|          6|          8|     1976|        1976|       978|         0|      284|       1262|    1262|       0|           0|     1262|           0|           1|       2|       0|           3|           1|           6|         1|         2|       460|       298|          0|            0|        0|          0|       0|      0|     5|  2007|   181500|           0.0|         0.0|        0.0|           0.0|              0.0|            0.0|            3.0|            0.0|              22.0|             1.0|             0.0|           0.0|             0.0|            0.0|           0.0|              1.0|              1.0|             0.0|            0.0|            0.0|             0.0|           1.0|           0.0|               2.0|               2.0|               0.0|          0.0|            0.0|             0.0|             0.0|              0.0|             0.0|              2.0|             0.0|               1.0|             0.0|             0.0|             0.0|         0.0|        0.0|              0.0|           0.0|                0.0|\n",
      "|  3|        60|  11250|          7|          5|     2001|        2002|       486|         0|      434|        920|     920|     866|           0|     1786|           1|           0|       2|       1|           3|           1|           6|         1|         2|       608|         0|         42|            0|        0|          0|       0|      0|     9|  2008|   223500|           0.0|         0.0|        0.0|           1.0|              0.0|            0.0|            0.0|            0.0|               1.0|             0.0|             0.0|           0.0|             1.0|            0.0|           0.0|              0.0|              0.0|             1.0|            1.0|            0.0|             1.0|           1.0|           0.0|               3.0|               0.0|               0.0|          0.0|            0.0|             0.0|             0.0|              1.0|             0.0|              2.0|             0.0|               1.0|             0.0|             0.0|             0.0|         0.0|        0.0|              0.0|           0.0|                0.0|\n",
      "|  4|        70|   9550|          7|          5|     1915|        1970|       216|         0|      540|        756|     961|     756|           0|     1717|           1|           0|       1|       0|           3|           1|           7|         1|         3|       642|         0|         35|          272|        0|          0|       0|      0|     2|  2006|   140000|           0.0|         0.0|        0.0|           1.0|              0.0|            0.0|            1.0|            0.0|              11.0|             0.0|             0.0|           0.0|             1.0|            0.0|           0.0|              3.0|              6.0|             0.0|            0.0|            0.0|             2.0|           0.0|           1.0|               0.0|               2.0|               0.0|          0.0|            2.0|             0.0|             0.0|              1.0|             0.0|              1.0|             1.0|               0.0|             0.0|             0.0|             0.0|         0.0|        0.0|              0.0|           0.0|                2.0|\n",
      "|  5|        60|  14260|          8|          5|     2000|        2000|       655|         0|      490|       1145|    1145|    1053|           0|     2198|           1|           0|       2|       1|           4|           1|           9|         1|         3|       836|       192|         84|            0|        0|          0|       0|      0|    12|  2008|   250000|           0.0|         0.0|        0.0|           1.0|              0.0|            0.0|            3.0|            0.0|              13.0|             0.0|             0.0|           0.0|             1.0|            0.0|           0.0|              0.0|              0.0|             1.0|            1.0|            0.0|             1.0|           1.0|           0.0|               1.0|               0.0|               0.0|          0.0|            0.0|             0.0|             0.0|              1.0|             0.0|              2.0|             0.0|               1.0|             0.0|             0.0|             0.0|         0.0|        0.0|              0.0|           0.0|                0.0|\n",
      "|  6|        50|  14115|          5|          5|     1993|        1995|       732|         0|       64|        796|     796|     566|           0|     1362|           1|           0|       1|       1|           1|           1|           5|         0|         2|       480|        40|         30|            0|      320|          0|       0|    700|    10|  2009|   143000|           0.0|         0.0|        0.0|           1.0|              0.0|            0.0|            0.0|            0.0|              12.0|             0.0|             0.0|           0.0|             2.0|            0.0|           0.0|              0.0|              0.0|             0.0|            0.0|            0.0|             5.0|           1.0|           0.0|               0.0|               0.0|               0.0|          0.0|            0.0|             0.0|             0.0|              0.0|             0.0|              0.0|             0.0|               0.0|             0.0|             0.0|             0.0|         0.0|        1.0|              1.0|           0.0|                0.0|\n",
      "|  7|        20|  10084|          8|          5|     2004|        2005|      1369|         0|      317|       1686|    1694|       0|           0|     1694|           1|           0|       2|       0|           3|           1|           7|         1|         2|       636|       255|         57|            0|        0|          0|       0|      0|     8|  2007|   307000|           0.0|         0.0|        0.0|           0.0|              0.0|            0.0|            0.0|            0.0|               4.0|             0.0|             0.0|           0.0|             0.0|            0.0|           0.0|              0.0|              0.0|             2.0|            1.0|            0.0|             1.0|           2.0|           0.0|               1.0|               0.0|               0.0|          0.0|            0.0|             0.0|             0.0|              1.0|             0.0|              1.0|             0.0|               1.0|             0.0|             0.0|             0.0|         0.0|        0.0|              0.0|           0.0|                0.0|\n",
      "|  8|        60|  10382|          7|          6|     1973|        1973|       859|        32|      216|       1107|    1107|     983|           0|     2090|           1|           0|       2|       1|           3|           1|           7|         2|         2|       484|       235|        204|          228|        0|          0|       0|    350|    11|  2009|   200000|           0.0|         0.0|        0.0|           1.0|              0.0|            0.0|            1.0|            0.0|               7.0|             4.0|             0.0|           0.0|             1.0|            0.0|           0.0|              2.0|              2.0|             2.0|            0.0|            0.0|             0.0|           1.0|           0.0|               3.0|               2.0|               4.0|          0.0|            0.0|             0.0|             0.0|              0.0|             0.0|              2.0|             0.0|               1.0|             0.0|             0.0|             0.0|         0.0|        0.0|              1.0|           0.0|                0.0|\n",
      "|  9|        50|   6120|          7|          5|     1931|        1950|         0|         0|      952|        952|    1022|     752|           0|     1774|           0|           0|       2|       0|           2|           2|           8|         2|         2|       468|        90|          0|          205|        0|          0|       0|      0|     4|  2008|   129900|           1.0|         0.0|        0.0|           0.0|              0.0|            0.0|            0.0|            0.0|               2.0|             2.0|             0.0|           0.0|             2.0|            0.0|           0.0|              6.0|              6.0|             0.0|            0.0|            0.0|             2.0|           0.0|           0.0|               0.0|               1.0|               0.0|          0.0|            2.0|             0.0|             2.0|              0.0|             2.0|              2.0|             1.0|               0.0|             2.0|             0.0|             0.0|         0.0|        0.0|              0.0|           0.0|                2.0|\n",
      "| 10|       190|   7420|          5|          6|     1939|        1950|       851|         0|      140|        991|    1077|       0|           0|     1077|           1|           0|       1|       0|           2|           2|           5|         2|         1|       205|         0|          4|            0|        0|          0|       0|      0|     1|  2008|   118000|           0.0|         0.0|        0.0|           0.0|              0.0|            0.0|            1.0|            0.0|              10.0|             2.0|             2.0|           4.0|             5.0|            0.0|           0.0|              1.0|              1.0|             0.0|            0.0|            0.0|             2.0|           0.0|           0.0|               0.0|               0.0|               0.0|          0.0|            0.0|             0.0|             0.0|              0.0|             0.0|              2.0|             0.0|               1.0|             3.0|             0.0|             0.0|         0.0|        0.0|              0.0|           0.0|                0.0|\n",
      "| 11|        20|  11200|          5|          5|     1965|        1965|       906|         0|      134|       1040|    1040|       0|           0|     1040|           1|           0|       1|       0|           3|           1|           5|         0|         1|       384|         0|          0|            0|        0|          0|       0|      0|     2|  2008|   129500|           0.0|         0.0|        0.0|           0.0|              0.0|            0.0|            0.0|            0.0|               8.0|             0.0|             0.0|           0.0|             0.0|            1.0|           0.0|              2.0|              2.0|             0.0|            0.0|            0.0|             0.0|           0.0|           0.0|               0.0|               4.0|               0.0|          0.0|            0.0|             0.0|             0.0|              0.0|             0.0|              0.0|             1.0|               0.0|             0.0|             0.0|             0.0|         0.0|        0.0|              0.0|           0.0|                0.0|\n",
      "| 12|        60|  11924|          9|          5|     2005|        2006|       998|         0|      177|       1175|    1182|    1142|           0|     2324|           1|           0|       3|       0|           4|           1|          11|         2|         3|       736|       147|         21|            0|        0|          0|       0|      0|     7|  2006|   345000|           0.0|         0.0|        0.0|           1.0|              0.0|            0.0|            0.0|            0.0|               6.0|             0.0|             0.0|           0.0|             1.0|            1.0|           0.0|              8.0|              6.0|             2.0|            2.0|            0.0|             1.0|           2.0|           0.0|               0.0|               0.0|               0.0|          0.0|            0.0|             0.0|             0.0|              2.0|             0.0|              1.0|             2.0|               2.0|             0.0|             0.0|             0.0|         0.0|        0.0|              0.0|           1.0|                1.0|\n",
      "| 13|        20|  12968|          5|          6|     1962|        1962|       737|         0|      175|        912|     912|       0|           0|      912|           1|           0|       1|       0|           2|           1|           4|         0|         1|       352|       140|          0|            0|        0|        176|       0|      0|     9|  2008|   144000|           0.0|         0.0|        0.0|           2.0|              0.0|            0.0|            0.0|            0.0|               8.0|             0.0|             0.0|           0.0|             0.0|            1.0|           0.0|              2.0|              4.0|             0.0|            0.0|            0.0|             0.0|           0.0|           0.0|               0.0|               2.0|               0.0|          0.0|            1.0|             0.0|             0.0|              0.0|             0.0|              0.0|             1.0|               0.0|             0.0|             0.0|             0.0|         0.0|        0.0|              0.0|           0.0|                0.0|\n",
      "| 14|        20|  10652|          7|          5|     2006|        2007|         0|         0|     1494|       1494|    1494|       0|           0|     1494|           0|           0|       2|       0|           3|           1|           7|         1|         3|       840|       160|         33|            0|        0|          0|       0|      0|     8|  2007|   279500|           0.0|         0.0|        0.0|           1.0|              0.0|            0.0|            0.0|            0.0|               1.0|             0.0|             0.0|           0.0|             0.0|            0.0|           0.0|              0.0|              0.0|             2.0|            1.0|            0.0|             1.0|           1.0|           0.0|               1.0|               1.0|               0.0|          0.0|            0.0|             0.0|             0.0|              1.0|             0.0|              1.0|             0.0|               1.0|             0.0|             0.0|             0.0|         0.0|        0.0|              0.0|           1.0|                1.0|\n",
      "| 15|        20|  10920|          6|          5|     1960|        1960|       733|         0|      520|       1253|    1253|       0|           0|     1253|           1|           0|       1|       1|           2|           1|           5|         1|         1|       352|         0|        213|          176|        0|          0|       0|      0|     5|  2008|   157000|           0.0|         0.0|        0.0|           1.0|              0.0|            0.0|            1.0|            0.0|               0.0|             0.0|             0.0|           0.0|             0.0|            1.0|           0.0|              1.0|              1.0|             1.0|            0.0|            0.0|             0.0|           0.0|           0.0|               0.0|               3.0|               0.0|          0.0|            1.0|             0.0|             0.0|              0.0|             0.0|              3.0|             0.0|               1.0|             0.0|             0.0|             0.0|         0.0|        3.0|              0.0|           0.0|                0.0|\n",
      "| 16|        45|   6120|          7|          8|     1929|        2001|         0|         0|      832|        832|     854|       0|           0|      854|           0|           0|       1|       0|           2|           1|           5|         0|         2|       576|        48|        112|            0|        0|          0|       0|      0|     7|  2007|   132000|           1.0|         0.0|        0.0|           0.0|              0.0|            0.0|            1.0|            0.0|              10.0|             0.0|             0.0|           0.0|             5.0|            0.0|           0.0|              3.0|              3.0|             0.0|            0.0|            0.0|             2.0|           0.0|           0.0|               0.0|               1.0|               0.0|          0.0|            0.0|             0.0|             1.0|              0.0|             0.0|              0.0|             1.0|               0.0|             0.0|             0.0|             0.0|         0.0|        2.0|              0.0|           0.0|                0.0|\n",
      "| 17|        20|  11241|          6|          7|     1970|        1970|       578|         0|      426|       1004|    1004|       0|           0|     1004|           1|           0|       1|       0|           2|           1|           5|         1|         2|       480|         0|          0|            0|        0|          0|       0|    700|     3|  2010|   149000|           0.0|         0.0|        0.0|           1.0|              0.0|            0.0|            2.0|            0.0|               0.0|             0.0|             0.0|           0.0|             0.0|            0.0|           0.0|              3.0|              3.0|             1.0|            0.0|            0.0|             0.0|           0.0|           0.0|               0.0|               2.0|               0.0|          0.0|            0.0|             0.0|             0.0|              0.0|             0.0|              2.0|             0.0|               2.0|             0.0|             0.0|             0.0|         0.0|        0.0|              1.0|           0.0|                0.0|\n",
      "| 18|        90|  10791|          4|          5|     1967|        1967|         0|         0|        0|          0|    1296|       0|           0|     1296|           0|           0|       2|       0|           2|           2|           6|         0|         2|       516|         0|          0|            0|        0|          0|       0|    500|    10|  2006|    90000|           0.0|         0.0|        0.0|           0.0|              0.0|            0.0|            0.0|            0.0|               8.0|             0.0|             0.0|           2.0|             0.0|            0.0|           0.0|              1.0|              1.0|             0.0|            0.0|            0.0|             3.0|           3.0|           3.0|               4.0|               6.0|               3.0|          0.0|            1.0|             0.0|             0.0|              0.0|             0.0|              0.0|             5.0|               0.0|             0.0|             0.0|             0.0|         0.0|        0.0|              1.0|           0.0|                0.0|\n",
      "| 19|        20|  13695|          5|          5|     2004|        2004|       646|         0|      468|       1114|    1114|       0|           0|     1114|           1|           0|       1|       1|           3|           1|           6|         0|         2|       576|         0|        102|            0|        0|          0|       0|      0|     6|  2008|   159000|           0.0|         0.0|        0.0|           0.0|              0.0|            0.0|            0.0|            0.0|               9.0|             5.0|             0.0|           0.0|             0.0|            0.0|           0.0|              0.0|              0.0|             0.0|            0.0|            0.0|             1.0|           0.0|           0.0|               0.0|               0.0|               0.0|          0.0|            0.0|             0.0|             0.0|              1.0|             0.0|              0.0|             1.0|               0.0|             0.0|             0.0|             0.0|         0.0|        0.0|              0.0|           0.0|                0.0|\n",
      "| 20|        20|   7560|          5|          6|     1958|        1965|       504|         0|      525|       1029|    1339|       0|           0|     1339|           0|           0|       1|       0|           3|           1|           6|         0|         1|       294|         0|          0|            0|        0|          0|       0|      0|     5|  2009|   139000|           0.0|         0.0|        0.0|           0.0|              0.0|            0.0|            0.0|            0.0|               0.0|             0.0|             0.0|           0.0|             0.0|            1.0|           0.0|              6.0|              4.0|             0.0|            0.0|            0.0|             0.0|           0.0|           0.0|               0.0|               5.0|               0.0|          0.0|            1.0|             0.0|             0.0|              0.0|             2.0|              0.0|             0.0|               0.0|             0.0|             0.0|             0.0|         0.0|        1.0|              0.0|           2.0|                2.0|\n",
      "+---+----------+-------+-----------+-----------+---------+------------+----------+----------+---------+-----------+--------+--------+------------+---------+------------+------------+--------+--------+------------+------------+------------+----------+----------+----------+----------+-----------+-------------+---------+-----------+--------+-------+------+------+---------+--------------+------------+-----------+--------------+-----------------+---------------+---------------+---------------+------------------+----------------+----------------+--------------+----------------+---------------+--------------+-----------------+-----------------+----------------+---------------+---------------+----------------+--------------+--------------+------------------+------------------+------------------+-------------+---------------+----------------+----------------+-----------------+----------------+-----------------+----------------+------------------+----------------+----------------+----------------+------------+-----------+-----------------+--------------+-------------------+\n",
      "only showing top 20 rows\n",
      "\n"
     ]
    }
   ],
   "source": [
    "DF10.show()"
   ]
  },
  {
   "cell_type": "code",
   "execution_count": 44,
   "metadata": {
    "colab": {
     "base_uri": "https://localhost:8080/"
    },
    "executionInfo": {
     "elapsed": 374,
     "status": "ok",
     "timestamp": 1659260690917,
     "user": {
      "displayName": "Prerna Waghray",
      "userId": "08074246852708739388"
     },
     "user_tz": -330
    },
    "id": "EGKge-HS-9Tn",
    "outputId": "a0d71c18-1f14-4fe2-b422-305c68e60ed4"
   },
   "outputs": [
    {
     "data": {
      "text/plain": [
       "['Id',\n",
       " 'MSSubClass',\n",
       " 'LotArea',\n",
       " 'OverallQual',\n",
       " 'OverallCond',\n",
       " 'YearBuilt',\n",
       " 'YearRemodAdd',\n",
       " 'BsmtFinSF1',\n",
       " 'BsmtFinSF2',\n",
       " 'BsmtUnfSF',\n",
       " 'TotalBsmtSF',\n",
       " '1stFlrSF',\n",
       " '2ndFlrSF',\n",
       " 'LowQualFinSF',\n",
       " 'GrLivArea',\n",
       " 'BsmtFullBath',\n",
       " 'BsmtHalfBath',\n",
       " 'FullBath',\n",
       " 'HalfBath',\n",
       " 'BedroomAbvGr',\n",
       " 'KitchenAbvGr',\n",
       " 'TotRmsAbvGrd',\n",
       " 'Fireplaces',\n",
       " 'GarageCars',\n",
       " 'GarageArea',\n",
       " 'WoodDeckSF',\n",
       " 'OpenPorchSF',\n",
       " 'EnclosedPorch',\n",
       " '3SsnPorch',\n",
       " 'ScreenPorch',\n",
       " 'PoolArea',\n",
       " 'MiscVal',\n",
       " 'MoSold',\n",
       " 'YrSold',\n",
       " 'SalePrice',\n",
       " 'MSZoning_index',\n",
       " 'Street_index',\n",
       " 'Alley_index',\n",
       " 'LotShape_index',\n",
       " 'LandContour_index',\n",
       " 'Utilities_index',\n",
       " 'LotConfig_index',\n",
       " 'LandSlope_index',\n",
       " 'Neighborhood_index',\n",
       " 'Condition1_index',\n",
       " 'Condition2_index',\n",
       " 'BldgType_index',\n",
       " 'HouseStyle_index',\n",
       " 'RoofStyle_index',\n",
       " 'RoofMatl_index',\n",
       " 'Exterior1st_index',\n",
       " 'Exterior2nd_index',\n",
       " 'MasVnrType_index',\n",
       " 'ExterQual_index',\n",
       " 'ExterCond_index',\n",
       " 'Foundation_index',\n",
       " 'BsmtQual_index',\n",
       " 'BsmtCond_index',\n",
       " 'BsmtExposure_index',\n",
       " 'BsmtFinType1_index',\n",
       " 'BsmtFinType2_index',\n",
       " 'Heating_index',\n",
       " 'HeatingQC_index',\n",
       " 'CentralAir_index',\n",
       " 'Electrical_index',\n",
       " 'KitchenQual_index',\n",
       " 'Functional_index',\n",
       " 'FireplaceQu_index',\n",
       " 'GarageType_index',\n",
       " 'GarageFinish_index',\n",
       " 'GarageQual_index',\n",
       " 'GarageCond_index',\n",
       " 'PavedDrive_index',\n",
       " 'PoolQC_index',\n",
       " 'Fence_index',\n",
       " 'MiscFeature_index',\n",
       " 'SaleType_index',\n",
       " 'SaleCondition_index']"
      ]
     },
     "execution_count": 44,
     "metadata": {},
     "output_type": "execute_result"
    }
   ],
   "source": [
    "DF10.columns"
   ]
  },
  {
   "cell_type": "code",
   "execution_count": 45,
   "metadata": {
    "executionInfo": {
     "elapsed": 376,
     "status": "ok",
     "timestamp": 1659260693236,
     "user": {
      "displayName": "Prerna Waghray",
      "userId": "08074246852708739388"
     },
     "user_tz": -330
    },
    "id": "RoBftjJy_Kv_"
   },
   "outputs": [],
   "source": [
    "input_cols = ['MSSubClass',\n",
    " 'LotArea',\n",
    " 'OverallQual',\n",
    " 'OverallCond',\n",
    " 'YearBuilt',\n",
    " 'YearRemodAdd',\n",
    " 'BsmtFinSF1',\n",
    " 'BsmtFinSF2',\n",
    " 'BsmtUnfSF',\n",
    " 'TotalBsmtSF',\n",
    " '1stFlrSF',\n",
    " '2ndFlrSF',\n",
    " 'LowQualFinSF',\n",
    " 'GrLivArea',\n",
    " 'BsmtFullBath',\n",
    " 'BsmtHalfBath',\n",
    " 'FullBath',\n",
    " 'HalfBath',\n",
    " 'BedroomAbvGr',\n",
    " 'KitchenAbvGr',\n",
    " 'TotRmsAbvGrd',\n",
    " 'Fireplaces',\n",
    " 'GarageCars',\n",
    " 'GarageArea',\n",
    " 'WoodDeckSF',\n",
    " 'OpenPorchSF',\n",
    " 'EnclosedPorch',\n",
    " '3SsnPorch',\n",
    " 'ScreenPorch',\n",
    " 'PoolArea',\n",
    " 'MiscVal',\n",
    " 'MoSold',\n",
    " 'YrSold']"
   ]
  },
  {
   "cell_type": "code",
   "execution_count": 46,
   "metadata": {
    "executionInfo": {
     "elapsed": 402,
     "status": "ok",
     "timestamp": 1659260726370,
     "user": {
      "displayName": "Prerna Waghray",
      "userId": "08074246852708739388"
     },
     "user_tz": -330
    },
    "id": "p1jIcYrV_P70"
   },
   "outputs": [],
   "source": [
    "output_cols = list(map(lambda x: x+\"_scaled\", input_cols))"
   ]
  },
  {
   "cell_type": "code",
   "execution_count": 47,
   "metadata": {
    "executionInfo": {
     "elapsed": 4,
     "status": "ok",
     "timestamp": 1659260728105,
     "user": {
      "displayName": "Prerna Waghray",
      "userId": "08074246852708739388"
     },
     "user_tz": -330
    },
    "id": "mwl8uxoLB4fZ"
   },
   "outputs": [],
   "source": [
    "# Vectorizing the independent features\n",
    "from pyspark.ml.feature import VectorAssembler\n",
    "featureassembler=VectorAssembler(inputCols=input_cols,outputCol=\"Independent_Features\")"
   ]
  },
  {
   "cell_type": "code",
   "execution_count": 48,
   "metadata": {
    "executionInfo": {
     "elapsed": 615,
     "status": "ok",
     "timestamp": 1659260730253,
     "user": {
      "displayName": "Prerna Waghray",
      "userId": "08074246852708739388"
     },
     "user_tz": -330
    },
    "id": "uf07Ew5BB4SZ"
   },
   "outputs": [],
   "source": [
    "DF11 = featureassembler.transform(DF10)"
   ]
  },
  {
   "cell_type": "code",
   "execution_count": 49,
   "metadata": {
    "colab": {
     "base_uri": "https://localhost:8080/"
    },
    "executionInfo": {
     "elapsed": 1236,
     "status": "ok",
     "timestamp": 1659260733047,
     "user": {
      "displayName": "Prerna Waghray",
      "userId": "08074246852708739388"
     },
     "user_tz": -330
    },
    "id": "LiPsB5BbCj_b",
    "outputId": "73f5d105-8e82-40f3-da03-55465754943b"
   },
   "outputs": [
    {
     "name": "stdout",
     "output_type": "stream",
     "text": [
      "23/02/05 17:06:59 WARN TaskSetManager: Stage 36 contains a task of very large size (2099 KiB). The maximum recommended task size is 1000 KiB.\n",
      "+---+----------+-------+-----------+-----------+---------+------------+----------+----------+---------+-----------+--------+--------+------------+---------+------------+------------+--------+--------+------------+------------+------------+----------+----------+----------+----------+-----------+-------------+---------+-----------+--------+-------+------+------+---------+--------------+------------+-----------+--------------+-----------------+---------------+---------------+---------------+------------------+----------------+----------------+--------------+----------------+---------------+--------------+-----------------+-----------------+----------------+---------------+---------------+----------------+--------------+--------------+------------------+------------------+------------------+-------------+---------------+----------------+----------------+-----------------+----------------+-----------------+----------------+------------------+----------------+----------------+----------------+------------+-----------+-----------------+--------------+-------------------+--------------------+\n",
      "| Id|MSSubClass|LotArea|OverallQual|OverallCond|YearBuilt|YearRemodAdd|BsmtFinSF1|BsmtFinSF2|BsmtUnfSF|TotalBsmtSF|1stFlrSF|2ndFlrSF|LowQualFinSF|GrLivArea|BsmtFullBath|BsmtHalfBath|FullBath|HalfBath|BedroomAbvGr|KitchenAbvGr|TotRmsAbvGrd|Fireplaces|GarageCars|GarageArea|WoodDeckSF|OpenPorchSF|EnclosedPorch|3SsnPorch|ScreenPorch|PoolArea|MiscVal|MoSold|YrSold|SalePrice|MSZoning_index|Street_index|Alley_index|LotShape_index|LandContour_index|Utilities_index|LotConfig_index|LandSlope_index|Neighborhood_index|Condition1_index|Condition2_index|BldgType_index|HouseStyle_index|RoofStyle_index|RoofMatl_index|Exterior1st_index|Exterior2nd_index|MasVnrType_index|ExterQual_index|ExterCond_index|Foundation_index|BsmtQual_index|BsmtCond_index|BsmtExposure_index|BsmtFinType1_index|BsmtFinType2_index|Heating_index|HeatingQC_index|CentralAir_index|Electrical_index|KitchenQual_index|Functional_index|FireplaceQu_index|GarageType_index|GarageFinish_index|GarageQual_index|GarageCond_index|PavedDrive_index|PoolQC_index|Fence_index|MiscFeature_index|SaleType_index|SaleCondition_index|Independent_Features|\n",
      "+---+----------+-------+-----------+-----------+---------+------------+----------+----------+---------+-----------+--------+--------+------------+---------+------------+------------+--------+--------+------------+------------+------------+----------+----------+----------+----------+-----------+-------------+---------+-----------+--------+-------+------+------+---------+--------------+------------+-----------+--------------+-----------------+---------------+---------------+---------------+------------------+----------------+----------------+--------------+----------------+---------------+--------------+-----------------+-----------------+----------------+---------------+---------------+----------------+--------------+--------------+------------------+------------------+------------------+-------------+---------------+----------------+----------------+-----------------+----------------+-----------------+----------------+------------------+----------------+----------------+----------------+------------+-----------+-----------------+--------------+-------------------+--------------------+\n",
      "|  1|        60|   8450|          7|          5|     2003|        2003|       706|         0|      150|        856|     856|     854|           0|     1710|           1|           0|       2|       1|           3|           1|           8|         0|         2|       548|         0|         61|            0|        0|          0|       0|      0|     2|  2008|   208500|           0.0|         0.0|        0.0|           0.0|              0.0|            0.0|            0.0|            0.0|               1.0|             0.0|             0.0|           0.0|             1.0|            0.0|           0.0|              0.0|              0.0|             1.0|            1.0|            0.0|             1.0|           1.0|           0.0|               0.0|               0.0|               0.0|          0.0|            0.0|             0.0|             0.0|              1.0|             0.0|              0.0|             0.0|               1.0|             0.0|             0.0|             0.0|         0.0|        0.0|              0.0|           0.0|                0.0|[60.0,8450.0,7.0,...|\n",
      "|  2|        20|   9600|          6|          8|     1976|        1976|       978|         0|      284|       1262|    1262|       0|           0|     1262|           0|           1|       2|       0|           3|           1|           6|         1|         2|       460|       298|          0|            0|        0|          0|       0|      0|     5|  2007|   181500|           0.0|         0.0|        0.0|           0.0|              0.0|            0.0|            3.0|            0.0|              22.0|             1.0|             0.0|           0.0|             0.0|            0.0|           0.0|              1.0|              1.0|             0.0|            0.0|            0.0|             0.0|           1.0|           0.0|               2.0|               2.0|               0.0|          0.0|            0.0|             0.0|             0.0|              0.0|             0.0|              2.0|             0.0|               1.0|             0.0|             0.0|             0.0|         0.0|        0.0|              0.0|           0.0|                0.0|[20.0,9600.0,6.0,...|\n",
      "|  3|        60|  11250|          7|          5|     2001|        2002|       486|         0|      434|        920|     920|     866|           0|     1786|           1|           0|       2|       1|           3|           1|           6|         1|         2|       608|         0|         42|            0|        0|          0|       0|      0|     9|  2008|   223500|           0.0|         0.0|        0.0|           1.0|              0.0|            0.0|            0.0|            0.0|               1.0|             0.0|             0.0|           0.0|             1.0|            0.0|           0.0|              0.0|              0.0|             1.0|            1.0|            0.0|             1.0|           1.0|           0.0|               3.0|               0.0|               0.0|          0.0|            0.0|             0.0|             0.0|              1.0|             0.0|              2.0|             0.0|               1.0|             0.0|             0.0|             0.0|         0.0|        0.0|              0.0|           0.0|                0.0|[60.0,11250.0,7.0...|\n",
      "|  4|        70|   9550|          7|          5|     1915|        1970|       216|         0|      540|        756|     961|     756|           0|     1717|           1|           0|       1|       0|           3|           1|           7|         1|         3|       642|         0|         35|          272|        0|          0|       0|      0|     2|  2006|   140000|           0.0|         0.0|        0.0|           1.0|              0.0|            0.0|            1.0|            0.0|              11.0|             0.0|             0.0|           0.0|             1.0|            0.0|           0.0|              3.0|              6.0|             0.0|            0.0|            0.0|             2.0|           0.0|           1.0|               0.0|               2.0|               0.0|          0.0|            2.0|             0.0|             0.0|              1.0|             0.0|              1.0|             1.0|               0.0|             0.0|             0.0|             0.0|         0.0|        0.0|              0.0|           0.0|                2.0|[70.0,9550.0,7.0,...|\n",
      "|  5|        60|  14260|          8|          5|     2000|        2000|       655|         0|      490|       1145|    1145|    1053|           0|     2198|           1|           0|       2|       1|           4|           1|           9|         1|         3|       836|       192|         84|            0|        0|          0|       0|      0|    12|  2008|   250000|           0.0|         0.0|        0.0|           1.0|              0.0|            0.0|            3.0|            0.0|              13.0|             0.0|             0.0|           0.0|             1.0|            0.0|           0.0|              0.0|              0.0|             1.0|            1.0|            0.0|             1.0|           1.0|           0.0|               1.0|               0.0|               0.0|          0.0|            0.0|             0.0|             0.0|              1.0|             0.0|              2.0|             0.0|               1.0|             0.0|             0.0|             0.0|         0.0|        0.0|              0.0|           0.0|                0.0|[60.0,14260.0,8.0...|\n",
      "|  6|        50|  14115|          5|          5|     1993|        1995|       732|         0|       64|        796|     796|     566|           0|     1362|           1|           0|       1|       1|           1|           1|           5|         0|         2|       480|        40|         30|            0|      320|          0|       0|    700|    10|  2009|   143000|           0.0|         0.0|        0.0|           1.0|              0.0|            0.0|            0.0|            0.0|              12.0|             0.0|             0.0|           0.0|             2.0|            0.0|           0.0|              0.0|              0.0|             0.0|            0.0|            0.0|             5.0|           1.0|           0.0|               0.0|               0.0|               0.0|          0.0|            0.0|             0.0|             0.0|              0.0|             0.0|              0.0|             0.0|               0.0|             0.0|             0.0|             0.0|         0.0|        1.0|              1.0|           0.0|                0.0|[50.0,14115.0,5.0...|\n",
      "|  7|        20|  10084|          8|          5|     2004|        2005|      1369|         0|      317|       1686|    1694|       0|           0|     1694|           1|           0|       2|       0|           3|           1|           7|         1|         2|       636|       255|         57|            0|        0|          0|       0|      0|     8|  2007|   307000|           0.0|         0.0|        0.0|           0.0|              0.0|            0.0|            0.0|            0.0|               4.0|             0.0|             0.0|           0.0|             0.0|            0.0|           0.0|              0.0|              0.0|             2.0|            1.0|            0.0|             1.0|           2.0|           0.0|               1.0|               0.0|               0.0|          0.0|            0.0|             0.0|             0.0|              1.0|             0.0|              1.0|             0.0|               1.0|             0.0|             0.0|             0.0|         0.0|        0.0|              0.0|           0.0|                0.0|[20.0,10084.0,8.0...|\n",
      "|  8|        60|  10382|          7|          6|     1973|        1973|       859|        32|      216|       1107|    1107|     983|           0|     2090|           1|           0|       2|       1|           3|           1|           7|         2|         2|       484|       235|        204|          228|        0|          0|       0|    350|    11|  2009|   200000|           0.0|         0.0|        0.0|           1.0|              0.0|            0.0|            1.0|            0.0|               7.0|             4.0|             0.0|           0.0|             1.0|            0.0|           0.0|              2.0|              2.0|             2.0|            0.0|            0.0|             0.0|           1.0|           0.0|               3.0|               2.0|               4.0|          0.0|            0.0|             0.0|             0.0|              0.0|             0.0|              2.0|             0.0|               1.0|             0.0|             0.0|             0.0|         0.0|        0.0|              1.0|           0.0|                0.0|[60.0,10382.0,7.0...|\n",
      "|  9|        50|   6120|          7|          5|     1931|        1950|         0|         0|      952|        952|    1022|     752|           0|     1774|           0|           0|       2|       0|           2|           2|           8|         2|         2|       468|        90|          0|          205|        0|          0|       0|      0|     4|  2008|   129900|           1.0|         0.0|        0.0|           0.0|              0.0|            0.0|            0.0|            0.0|               2.0|             2.0|             0.0|           0.0|             2.0|            0.0|           0.0|              6.0|              6.0|             0.0|            0.0|            0.0|             2.0|           0.0|           0.0|               0.0|               1.0|               0.0|          0.0|            2.0|             0.0|             2.0|              0.0|             2.0|              2.0|             1.0|               0.0|             2.0|             0.0|             0.0|         0.0|        0.0|              0.0|           0.0|                2.0|[50.0,6120.0,7.0,...|\n",
      "| 10|       190|   7420|          5|          6|     1939|        1950|       851|         0|      140|        991|    1077|       0|           0|     1077|           1|           0|       1|       0|           2|           2|           5|         2|         1|       205|         0|          4|            0|        0|          0|       0|      0|     1|  2008|   118000|           0.0|         0.0|        0.0|           0.0|              0.0|            0.0|            1.0|            0.0|              10.0|             2.0|             2.0|           4.0|             5.0|            0.0|           0.0|              1.0|              1.0|             0.0|            0.0|            0.0|             2.0|           0.0|           0.0|               0.0|               0.0|               0.0|          0.0|            0.0|             0.0|             0.0|              0.0|             0.0|              2.0|             0.0|               1.0|             3.0|             0.0|             0.0|         0.0|        0.0|              0.0|           0.0|                0.0|[190.0,7420.0,5.0...|\n",
      "| 11|        20|  11200|          5|          5|     1965|        1965|       906|         0|      134|       1040|    1040|       0|           0|     1040|           1|           0|       1|       0|           3|           1|           5|         0|         1|       384|         0|          0|            0|        0|          0|       0|      0|     2|  2008|   129500|           0.0|         0.0|        0.0|           0.0|              0.0|            0.0|            0.0|            0.0|               8.0|             0.0|             0.0|           0.0|             0.0|            1.0|           0.0|              2.0|              2.0|             0.0|            0.0|            0.0|             0.0|           0.0|           0.0|               0.0|               4.0|               0.0|          0.0|            0.0|             0.0|             0.0|              0.0|             0.0|              0.0|             1.0|               0.0|             0.0|             0.0|             0.0|         0.0|        0.0|              0.0|           0.0|                0.0|(33,[0,1,2,3,4,5,...|\n",
      "| 12|        60|  11924|          9|          5|     2005|        2006|       998|         0|      177|       1175|    1182|    1142|           0|     2324|           1|           0|       3|       0|           4|           1|          11|         2|         3|       736|       147|         21|            0|        0|          0|       0|      0|     7|  2006|   345000|           0.0|         0.0|        0.0|           1.0|              0.0|            0.0|            0.0|            0.0|               6.0|             0.0|             0.0|           0.0|             1.0|            1.0|           0.0|              8.0|              6.0|             2.0|            2.0|            0.0|             1.0|           2.0|           0.0|               0.0|               0.0|               0.0|          0.0|            0.0|             0.0|             0.0|              2.0|             0.0|              1.0|             2.0|               2.0|             0.0|             0.0|             0.0|         0.0|        0.0|              0.0|           1.0|                1.0|[60.0,11924.0,9.0...|\n",
      "| 13|        20|  12968|          5|          6|     1962|        1962|       737|         0|      175|        912|     912|       0|           0|      912|           1|           0|       1|       0|           2|           1|           4|         0|         1|       352|       140|          0|            0|        0|        176|       0|      0|     9|  2008|   144000|           0.0|         0.0|        0.0|           2.0|              0.0|            0.0|            0.0|            0.0|               8.0|             0.0|             0.0|           0.0|             0.0|            1.0|           0.0|              2.0|              4.0|             0.0|            0.0|            0.0|             0.0|           0.0|           0.0|               0.0|               2.0|               0.0|          0.0|            1.0|             0.0|             0.0|              0.0|             0.0|              0.0|             1.0|               0.0|             0.0|             0.0|             0.0|         0.0|        0.0|              0.0|           0.0|                0.0|[20.0,12968.0,5.0...|\n",
      "| 14|        20|  10652|          7|          5|     2006|        2007|         0|         0|     1494|       1494|    1494|       0|           0|     1494|           0|           0|       2|       0|           3|           1|           7|         1|         3|       840|       160|         33|            0|        0|          0|       0|      0|     8|  2007|   279500|           0.0|         0.0|        0.0|           1.0|              0.0|            0.0|            0.0|            0.0|               1.0|             0.0|             0.0|           0.0|             0.0|            0.0|           0.0|              0.0|              0.0|             2.0|            1.0|            0.0|             1.0|           1.0|           0.0|               1.0|               1.0|               0.0|          0.0|            0.0|             0.0|             0.0|              1.0|             0.0|              1.0|             0.0|               1.0|             0.0|             0.0|             0.0|         0.0|        0.0|              0.0|           1.0|                1.0|[20.0,10652.0,7.0...|\n",
      "| 15|        20|  10920|          6|          5|     1960|        1960|       733|         0|      520|       1253|    1253|       0|           0|     1253|           1|           0|       1|       1|           2|           1|           5|         1|         1|       352|         0|        213|          176|        0|          0|       0|      0|     5|  2008|   157000|           0.0|         0.0|        0.0|           1.0|              0.0|            0.0|            1.0|            0.0|               0.0|             0.0|             0.0|           0.0|             0.0|            1.0|           0.0|              1.0|              1.0|             1.0|            0.0|            0.0|             0.0|           0.0|           0.0|               0.0|               3.0|               0.0|          0.0|            1.0|             0.0|             0.0|              0.0|             0.0|              3.0|             0.0|               1.0|             0.0|             0.0|             0.0|         0.0|        3.0|              0.0|           0.0|                0.0|[20.0,10920.0,6.0...|\n",
      "| 16|        45|   6120|          7|          8|     1929|        2001|         0|         0|      832|        832|     854|       0|           0|      854|           0|           0|       1|       0|           2|           1|           5|         0|         2|       576|        48|        112|            0|        0|          0|       0|      0|     7|  2007|   132000|           1.0|         0.0|        0.0|           0.0|              0.0|            0.0|            1.0|            0.0|              10.0|             0.0|             0.0|           0.0|             5.0|            0.0|           0.0|              3.0|              3.0|             0.0|            0.0|            0.0|             2.0|           0.0|           0.0|               0.0|               1.0|               0.0|          0.0|            0.0|             0.0|             1.0|              0.0|             0.0|              0.0|             1.0|               0.0|             0.0|             0.0|             0.0|         0.0|        2.0|              0.0|           0.0|                0.0|(33,[0,1,2,3,4,5,...|\n",
      "| 17|        20|  11241|          6|          7|     1970|        1970|       578|         0|      426|       1004|    1004|       0|           0|     1004|           1|           0|       1|       0|           2|           1|           5|         1|         2|       480|         0|          0|            0|        0|          0|       0|    700|     3|  2010|   149000|           0.0|         0.0|        0.0|           1.0|              0.0|            0.0|            2.0|            0.0|               0.0|             0.0|             0.0|           0.0|             0.0|            0.0|           0.0|              3.0|              3.0|             1.0|            0.0|            0.0|             0.0|           0.0|           0.0|               0.0|               2.0|               0.0|          0.0|            0.0|             0.0|             0.0|              0.0|             0.0|              2.0|             0.0|               2.0|             0.0|             0.0|             0.0|         0.0|        0.0|              1.0|           0.0|                0.0|[20.0,11241.0,6.0...|\n",
      "| 18|        90|  10791|          4|          5|     1967|        1967|         0|         0|        0|          0|    1296|       0|           0|     1296|           0|           0|       2|       0|           2|           2|           6|         0|         2|       516|         0|          0|            0|        0|          0|       0|    500|    10|  2006|    90000|           0.0|         0.0|        0.0|           0.0|              0.0|            0.0|            0.0|            0.0|               8.0|             0.0|             0.0|           2.0|             0.0|            0.0|           0.0|              1.0|              1.0|             0.0|            0.0|            0.0|             3.0|           3.0|           3.0|               4.0|               6.0|               3.0|          0.0|            1.0|             0.0|             0.0|              0.0|             0.0|              0.0|             5.0|               0.0|             0.0|             0.0|             0.0|         0.0|        0.0|              1.0|           0.0|                0.0|(33,[0,1,2,3,4,5,...|\n",
      "| 19|        20|  13695|          5|          5|     2004|        2004|       646|         0|      468|       1114|    1114|       0|           0|     1114|           1|           0|       1|       1|           3|           1|           6|         0|         2|       576|         0|        102|            0|        0|          0|       0|      0|     6|  2008|   159000|           0.0|         0.0|        0.0|           0.0|              0.0|            0.0|            0.0|            0.0|               9.0|             5.0|             0.0|           0.0|             0.0|            0.0|           0.0|              0.0|              0.0|             0.0|            0.0|            0.0|             1.0|           0.0|           0.0|               0.0|               0.0|               0.0|          0.0|            0.0|             0.0|             0.0|              1.0|             0.0|              0.0|             1.0|               0.0|             0.0|             0.0|             0.0|         0.0|        0.0|              0.0|           0.0|                0.0|[20.0,13695.0,5.0...|\n",
      "| 20|        20|   7560|          5|          6|     1958|        1965|       504|         0|      525|       1029|    1339|       0|           0|     1339|           0|           0|       1|       0|           3|           1|           6|         0|         1|       294|         0|          0|            0|        0|          0|       0|      0|     5|  2009|   139000|           0.0|         0.0|        0.0|           0.0|              0.0|            0.0|            0.0|            0.0|               0.0|             0.0|             0.0|           0.0|             0.0|            1.0|           0.0|              6.0|              4.0|             0.0|            0.0|            0.0|             0.0|           0.0|           0.0|               0.0|               5.0|               0.0|          0.0|            1.0|             0.0|             0.0|              0.0|             2.0|              0.0|             0.0|               0.0|             0.0|             0.0|             0.0|         0.0|        1.0|              0.0|           2.0|                2.0|(33,[0,1,2,3,4,5,...|\n",
      "+---+----------+-------+-----------+-----------+---------+------------+----------+----------+---------+-----------+--------+--------+------------+---------+------------+------------+--------+--------+------------+------------+------------+----------+----------+----------+----------+-----------+-------------+---------+-----------+--------+-------+------+------+---------+--------------+------------+-----------+--------------+-----------------+---------------+---------------+---------------+------------------+----------------+----------------+--------------+----------------+---------------+--------------+-----------------+-----------------+----------------+---------------+---------------+----------------+--------------+--------------+------------------+------------------+------------------+-------------+---------------+----------------+----------------+-----------------+----------------+-----------------+----------------+------------------+----------------+----------------+----------------+------------+-----------+-----------------+--------------+-------------------+--------------------+\n",
      "only showing top 20 rows\n",
      "\n"
     ]
    }
   ],
   "source": [
    "DF11.show()"
   ]
  },
  {
   "cell_type": "code",
   "execution_count": 50,
   "metadata": {
    "colab": {
     "base_uri": "https://localhost:8080/"
    },
    "executionInfo": {
     "elapsed": 1815,
     "status": "ok",
     "timestamp": 1659260736909,
     "user": {
      "displayName": "Prerna Waghray",
      "userId": "08074246852708739388"
     },
     "user_tz": -330
    },
    "id": "46zNCIY_-dn6",
    "outputId": "31c29d26-0b31-440e-d5a4-2f6dabaa4d7b"
   },
   "outputs": [
    {
     "name": "stdout",
     "output_type": "stream",
     "text": [
      "23/02/05 17:07:00 WARN TaskSetManager: Stage 37 contains a task of very large size (2099 KiB). The maximum recommended task size is 1000 KiB.\n"
     ]
    },
    {
     "name": "stderr",
     "output_type": "stream",
     "text": [
      "                                                                                \r"
     ]
    },
    {
     "name": "stdout",
     "output_type": "stream",
     "text": [
      "23/02/05 17:07:01 WARN TaskSetManager: Stage 40 contains a task of very large size (2099 KiB). The maximum recommended task size is 1000 KiB.\n",
      "+---+----------+-------+-----------+-----------+---------+------------+----------+----------+---------+-----------+--------+--------+------------+---------+------------+------------+--------+--------+------------+------------+------------+----------+----------+----------+----------+-----------+-------------+---------+-----------+--------+-------+------+------+---------+--------------+------------+-----------+--------------+-----------------+---------------+---------------+---------------+------------------+----------------+----------------+--------------+----------------+---------------+--------------+-----------------+-----------------+----------------+---------------+---------------+----------------+--------------+--------------+------------------+------------------+------------------+-------------+---------------+----------------+----------------+-----------------+----------------+-----------------+----------------+------------------+----------------+----------------+----------------+------------+-----------+-----------------+--------------+-------------------+--------------------+--------------------+\n",
      "| Id|MSSubClass|LotArea|OverallQual|OverallCond|YearBuilt|YearRemodAdd|BsmtFinSF1|BsmtFinSF2|BsmtUnfSF|TotalBsmtSF|1stFlrSF|2ndFlrSF|LowQualFinSF|GrLivArea|BsmtFullBath|BsmtHalfBath|FullBath|HalfBath|BedroomAbvGr|KitchenAbvGr|TotRmsAbvGrd|Fireplaces|GarageCars|GarageArea|WoodDeckSF|OpenPorchSF|EnclosedPorch|3SsnPorch|ScreenPorch|PoolArea|MiscVal|MoSold|YrSold|SalePrice|MSZoning_index|Street_index|Alley_index|LotShape_index|LandContour_index|Utilities_index|LotConfig_index|LandSlope_index|Neighborhood_index|Condition1_index|Condition2_index|BldgType_index|HouseStyle_index|RoofStyle_index|RoofMatl_index|Exterior1st_index|Exterior2nd_index|MasVnrType_index|ExterQual_index|ExterCond_index|Foundation_index|BsmtQual_index|BsmtCond_index|BsmtExposure_index|BsmtFinType1_index|BsmtFinType2_index|Heating_index|HeatingQC_index|CentralAir_index|Electrical_index|KitchenQual_index|Functional_index|FireplaceQu_index|GarageType_index|GarageFinish_index|GarageQual_index|GarageCond_index|PavedDrive_index|PoolQC_index|Fence_index|MiscFeature_index|SaleType_index|SaleCondition_index|Independent_Features|     Scaled_Features|\n",
      "+---+----------+-------+-----------+-----------+---------+------------+----------+----------+---------+-----------+--------+--------+------------+---------+------------+------------+--------+--------+------------+------------+------------+----------+----------+----------+----------+-----------+-------------+---------+-----------+--------+-------+------+------+---------+--------------+------------+-----------+--------------+-----------------+---------------+---------------+---------------+------------------+----------------+----------------+--------------+----------------+---------------+--------------+-----------------+-----------------+----------------+---------------+---------------+----------------+--------------+--------------+------------------+------------------+------------------+-------------+---------------+----------------+----------------+-----------------+----------------+-----------------+----------------+------------------+----------------+----------------+----------------+------------+-----------+-----------------+--------------+-------------------+--------------------+--------------------+\n",
      "|  1|        60|   8450|          7|          5|     2003|        2003|       706|         0|      150|        856|     856|     854|           0|     1710|           1|           0|       2|       1|           3|           1|           8|         0|         2|       548|         0|         61|            0|        0|          0|       0|      0|     2|  2008|   208500|           0.0|         0.0|        0.0|           0.0|              0.0|            0.0|            0.0|            0.0|               1.0|             0.0|             0.0|           0.0|             1.0|            0.0|           0.0|              0.0|              0.0|             1.0|            1.0|            0.0|             1.0|           1.0|           0.0|               0.0|               0.0|               0.0|          0.0|            0.0|             0.0|             0.0|              1.0|             0.0|              0.0|             0.0|               1.0|             0.0|             0.0|             0.0|         0.0|        0.0|              0.0|           0.0|                0.0|[60.0,8450.0,7.0,...|[1.74811494984773...|\n",
      "|  2|        20|   9600|          6|          8|     1976|        1976|       978|         0|      284|       1262|    1262|       0|           0|     1262|           0|           1|       2|       0|           3|           1|           6|         1|         2|       460|       298|          0|            0|        0|          0|       0|      0|     5|  2007|   181500|           0.0|         0.0|        0.0|           0.0|              0.0|            0.0|            3.0|            0.0|              22.0|             1.0|             0.0|           0.0|             0.0|            0.0|           0.0|              1.0|              1.0|             0.0|            0.0|            0.0|             0.0|           1.0|           0.0|               2.0|               2.0|               0.0|          0.0|            0.0|             0.0|             0.0|              0.0|             0.0|              2.0|             0.0|               1.0|             0.0|             0.0|             0.0|         0.0|        0.0|              0.0|           0.0|                0.0|[20.0,9600.0,6.0,...|[0.58270498328257...|\n",
      "|  3|        60|  11250|          7|          5|     2001|        2002|       486|         0|      434|        920|     920|     866|           0|     1786|           1|           0|       2|       1|           3|           1|           6|         1|         2|       608|         0|         42|            0|        0|          0|       0|      0|     9|  2008|   223500|           0.0|         0.0|        0.0|           1.0|              0.0|            0.0|            0.0|            0.0|               1.0|             0.0|             0.0|           0.0|             1.0|            0.0|           0.0|              0.0|              0.0|             1.0|            1.0|            0.0|             1.0|           1.0|           0.0|               3.0|               0.0|               0.0|          0.0|            0.0|             0.0|             0.0|              1.0|             0.0|              2.0|             0.0|               1.0|             0.0|             0.0|             0.0|         0.0|        0.0|              0.0|           0.0|                0.0|[60.0,11250.0,7.0...|[1.74811494984773...|\n",
      "|  4|        70|   9550|          7|          5|     1915|        1970|       216|         0|      540|        756|     961|     756|           0|     1717|           1|           0|       1|       0|           3|           1|           7|         1|         3|       642|         0|         35|          272|        0|          0|       0|      0|     2|  2006|   140000|           0.0|         0.0|        0.0|           1.0|              0.0|            0.0|            1.0|            0.0|              11.0|             0.0|             0.0|           0.0|             1.0|            0.0|           0.0|              3.0|              6.0|             0.0|            0.0|            0.0|             2.0|           0.0|           1.0|               0.0|               2.0|               0.0|          0.0|            2.0|             0.0|             0.0|              1.0|             0.0|              1.0|             1.0|               0.0|             0.0|             0.0|             0.0|         0.0|        0.0|              0.0|           0.0|                2.0|[70.0,9550.0,7.0,...|[2.03946744148901...|\n",
      "|  5|        60|  14260|          8|          5|     2000|        2000|       655|         0|      490|       1145|    1145|    1053|           0|     2198|           1|           0|       2|       1|           4|           1|           9|         1|         3|       836|       192|         84|            0|        0|          0|       0|      0|    12|  2008|   250000|           0.0|         0.0|        0.0|           1.0|              0.0|            0.0|            3.0|            0.0|              13.0|             0.0|             0.0|           0.0|             1.0|            0.0|           0.0|              0.0|              0.0|             1.0|            1.0|            0.0|             1.0|           1.0|           0.0|               1.0|               0.0|               0.0|          0.0|            0.0|             0.0|             0.0|              1.0|             0.0|              2.0|             0.0|               1.0|             0.0|             0.0|             0.0|         0.0|        0.0|              0.0|           0.0|                0.0|[60.0,14260.0,8.0...|[1.74811494984773...|\n",
      "|  6|        50|  14115|          5|          5|     1993|        1995|       732|         0|       64|        796|     796|     566|           0|     1362|           1|           0|       1|       1|           1|           1|           5|         0|         2|       480|        40|         30|            0|      320|          0|       0|    700|    10|  2009|   143000|           0.0|         0.0|        0.0|           1.0|              0.0|            0.0|            0.0|            0.0|              12.0|             0.0|             0.0|           0.0|             2.0|            0.0|           0.0|              0.0|              0.0|             0.0|            0.0|            0.0|             5.0|           1.0|           0.0|               0.0|               0.0|               0.0|          0.0|            0.0|             0.0|             0.0|              0.0|             0.0|              0.0|             0.0|               0.0|             0.0|             0.0|             0.0|         0.0|        1.0|              1.0|           0.0|                0.0|[50.0,14115.0,5.0...|[1.45676245820644...|\n",
      "|  7|        20|  10084|          8|          5|     2004|        2005|      1369|         0|      317|       1686|    1694|       0|           0|     1694|           1|           0|       2|       0|           3|           1|           7|         1|         2|       636|       255|         57|            0|        0|          0|       0|      0|     8|  2007|   307000|           0.0|         0.0|        0.0|           0.0|              0.0|            0.0|            0.0|            0.0|               4.0|             0.0|             0.0|           0.0|             0.0|            0.0|           0.0|              0.0|              0.0|             2.0|            1.0|            0.0|             1.0|           2.0|           0.0|               1.0|               0.0|               0.0|          0.0|            0.0|             0.0|             0.0|              1.0|             0.0|              1.0|             0.0|               1.0|             0.0|             0.0|             0.0|         0.0|        0.0|              0.0|           0.0|                0.0|[20.0,10084.0,8.0...|[0.58270498328257...|\n",
      "|  8|        60|  10382|          7|          6|     1973|        1973|       859|        32|      216|       1107|    1107|     983|           0|     2090|           1|           0|       2|       1|           3|           1|           7|         2|         2|       484|       235|        204|          228|        0|          0|       0|    350|    11|  2009|   200000|           0.0|         0.0|        0.0|           1.0|              0.0|            0.0|            1.0|            0.0|               7.0|             4.0|             0.0|           0.0|             1.0|            0.0|           0.0|              2.0|              2.0|             2.0|            0.0|            0.0|             0.0|           1.0|           0.0|               3.0|               2.0|               4.0|          0.0|            0.0|             0.0|             0.0|              0.0|             0.0|              2.0|             0.0|               1.0|             0.0|             0.0|             0.0|         0.0|        0.0|              1.0|           0.0|                0.0|[60.0,10382.0,7.0...|[1.74811494984773...|\n",
      "|  9|        50|   6120|          7|          5|     1931|        1950|         0|         0|      952|        952|    1022|     752|           0|     1774|           0|           0|       2|       0|           2|           2|           8|         2|         2|       468|        90|          0|          205|        0|          0|       0|      0|     4|  2008|   129900|           1.0|         0.0|        0.0|           0.0|              0.0|            0.0|            0.0|            0.0|               2.0|             2.0|             0.0|           0.0|             2.0|            0.0|           0.0|              6.0|              6.0|             0.0|            0.0|            0.0|             2.0|           0.0|           0.0|               0.0|               1.0|               0.0|          0.0|            2.0|             0.0|             2.0|              0.0|             2.0|              2.0|             1.0|               0.0|             2.0|             0.0|             0.0|         0.0|        0.0|              0.0|           0.0|                2.0|[50.0,6120.0,7.0,...|[1.45676245820644...|\n",
      "| 10|       190|   7420|          5|          6|     1939|        1950|       851|         0|      140|        991|    1077|       0|           0|     1077|           1|           0|       1|       0|           2|           2|           5|         2|         1|       205|         0|          4|            0|        0|          0|       0|      0|     1|  2008|   118000|           0.0|         0.0|        0.0|           0.0|              0.0|            0.0|            1.0|            0.0|              10.0|             2.0|             2.0|           4.0|             5.0|            0.0|           0.0|              1.0|              1.0|             0.0|            0.0|            0.0|             2.0|           0.0|           0.0|               0.0|               0.0|               0.0|          0.0|            0.0|             0.0|             0.0|              0.0|             0.0|              2.0|             0.0|               1.0|             3.0|             0.0|             0.0|         0.0|        0.0|              0.0|           0.0|                0.0|[190.0,7420.0,5.0...|[5.53569734118447...|\n",
      "| 11|        20|  11200|          5|          5|     1965|        1965|       906|         0|      134|       1040|    1040|       0|           0|     1040|           1|           0|       1|       0|           3|           1|           5|         0|         1|       384|         0|          0|            0|        0|          0|       0|      0|     2|  2008|   129500|           0.0|         0.0|        0.0|           0.0|              0.0|            0.0|            0.0|            0.0|               8.0|             0.0|             0.0|           0.0|             0.0|            1.0|           0.0|              2.0|              2.0|             0.0|            0.0|            0.0|             0.0|           0.0|           0.0|               0.0|               4.0|               0.0|          0.0|            0.0|             0.0|             0.0|              0.0|             0.0|              0.0|             1.0|               0.0|             0.0|             0.0|             0.0|         0.0|        0.0|              0.0|           0.0|                0.0|(33,[0,1,2,3,4,5,...|(33,[0,1,2,3,4,5,...|\n",
      "| 12|        60|  11924|          9|          5|     2005|        2006|       998|         0|      177|       1175|    1182|    1142|           0|     2324|           1|           0|       3|       0|           4|           1|          11|         2|         3|       736|       147|         21|            0|        0|          0|       0|      0|     7|  2006|   345000|           0.0|         0.0|        0.0|           1.0|              0.0|            0.0|            0.0|            0.0|               6.0|             0.0|             0.0|           0.0|             1.0|            1.0|           0.0|              8.0|              6.0|             2.0|            2.0|            0.0|             1.0|           2.0|           0.0|               0.0|               0.0|               0.0|          0.0|            0.0|             0.0|             0.0|              2.0|             0.0|              1.0|             2.0|               2.0|             0.0|             0.0|             0.0|         0.0|        0.0|              0.0|           1.0|                1.0|[60.0,11924.0,9.0...|[1.74811494984773...|\n",
      "| 13|        20|  12968|          5|          6|     1962|        1962|       737|         0|      175|        912|     912|       0|           0|      912|           1|           0|       1|       0|           2|           1|           4|         0|         1|       352|       140|          0|            0|        0|        176|       0|      0|     9|  2008|   144000|           0.0|         0.0|        0.0|           2.0|              0.0|            0.0|            0.0|            0.0|               8.0|             0.0|             0.0|           0.0|             0.0|            1.0|           0.0|              2.0|              4.0|             0.0|            0.0|            0.0|             0.0|           0.0|           0.0|               0.0|               2.0|               0.0|          0.0|            1.0|             0.0|             0.0|              0.0|             0.0|              0.0|             1.0|               0.0|             0.0|             0.0|             0.0|         0.0|        0.0|              0.0|           0.0|                0.0|[20.0,12968.0,5.0...|[0.58270498328257...|\n",
      "| 14|        20|  10652|          7|          5|     2006|        2007|         0|         0|     1494|       1494|    1494|       0|           0|     1494|           0|           0|       2|       0|           3|           1|           7|         1|         3|       840|       160|         33|            0|        0|          0|       0|      0|     8|  2007|   279500|           0.0|         0.0|        0.0|           1.0|              0.0|            0.0|            0.0|            0.0|               1.0|             0.0|             0.0|           0.0|             0.0|            0.0|           0.0|              0.0|              0.0|             2.0|            1.0|            0.0|             1.0|           1.0|           0.0|               1.0|               1.0|               0.0|          0.0|            0.0|             0.0|             0.0|              1.0|             0.0|              1.0|             0.0|               1.0|             0.0|             0.0|             0.0|         0.0|        0.0|              0.0|           1.0|                1.0|[20.0,10652.0,7.0...|[0.58270498328257...|\n",
      "| 15|        20|  10920|          6|          5|     1960|        1960|       733|         0|      520|       1253|    1253|       0|           0|     1253|           1|           0|       1|       1|           2|           1|           5|         1|         1|       352|         0|        213|          176|        0|          0|       0|      0|     5|  2008|   157000|           0.0|         0.0|        0.0|           1.0|              0.0|            0.0|            1.0|            0.0|               0.0|             0.0|             0.0|           0.0|             0.0|            1.0|           0.0|              1.0|              1.0|             1.0|            0.0|            0.0|             0.0|           0.0|           0.0|               0.0|               3.0|               0.0|          0.0|            1.0|             0.0|             0.0|              0.0|             0.0|              3.0|             0.0|               1.0|             0.0|             0.0|             0.0|         0.0|        3.0|              0.0|           0.0|                0.0|[20.0,10920.0,6.0...|[0.58270498328257...|\n",
      "| 16|        45|   6120|          7|          8|     1929|        2001|         0|         0|      832|        832|     854|       0|           0|      854|           0|           0|       1|       0|           2|           1|           5|         0|         2|       576|        48|        112|            0|        0|          0|       0|      0|     7|  2007|   132000|           1.0|         0.0|        0.0|           0.0|              0.0|            0.0|            1.0|            0.0|              10.0|             0.0|             0.0|           0.0|             5.0|            0.0|           0.0|              3.0|              3.0|             0.0|            0.0|            0.0|             2.0|           0.0|           0.0|               0.0|               1.0|               0.0|          0.0|            0.0|             0.0|             1.0|              0.0|             0.0|              0.0|             1.0|               0.0|             0.0|             0.0|             0.0|         0.0|        2.0|              0.0|           0.0|                0.0|(33,[0,1,2,3,4,5,...|(33,[0,1,2,3,4,5,...|\n",
      "| 17|        20|  11241|          6|          7|     1970|        1970|       578|         0|      426|       1004|    1004|       0|           0|     1004|           1|           0|       1|       0|           2|           1|           5|         1|         2|       480|         0|          0|            0|        0|          0|       0|    700|     3|  2010|   149000|           0.0|         0.0|        0.0|           1.0|              0.0|            0.0|            2.0|            0.0|               0.0|             0.0|             0.0|           0.0|             0.0|            0.0|           0.0|              3.0|              3.0|             1.0|            0.0|            0.0|             0.0|           0.0|           0.0|               0.0|               2.0|               0.0|          0.0|            0.0|             0.0|             0.0|              0.0|             0.0|              2.0|             0.0|               2.0|             0.0|             0.0|             0.0|         0.0|        0.0|              1.0|           0.0|                0.0|[20.0,11241.0,6.0...|[0.58270498328257...|\n",
      "| 18|        90|  10791|          4|          5|     1967|        1967|         0|         0|        0|          0|    1296|       0|           0|     1296|           0|           0|       2|       0|           2|           2|           6|         0|         2|       516|         0|          0|            0|        0|          0|       0|    500|    10|  2006|    90000|           0.0|         0.0|        0.0|           0.0|              0.0|            0.0|            0.0|            0.0|               8.0|             0.0|             0.0|           2.0|             0.0|            0.0|           0.0|              1.0|              1.0|             0.0|            0.0|            0.0|             3.0|           3.0|           3.0|               4.0|               6.0|               3.0|          0.0|            1.0|             0.0|             0.0|              0.0|             0.0|              0.0|             5.0|               0.0|             0.0|             0.0|             0.0|         0.0|        0.0|              1.0|           0.0|                0.0|(33,[0,1,2,3,4,5,...|(33,[0,1,2,3,4,5,...|\n",
      "| 19|        20|  13695|          5|          5|     2004|        2004|       646|         0|      468|       1114|    1114|       0|           0|     1114|           1|           0|       1|       1|           3|           1|           6|         0|         2|       576|         0|        102|            0|        0|          0|       0|      0|     6|  2008|   159000|           0.0|         0.0|        0.0|           0.0|              0.0|            0.0|            0.0|            0.0|               9.0|             5.0|             0.0|           0.0|             0.0|            0.0|           0.0|              0.0|              0.0|             0.0|            0.0|            0.0|             1.0|           0.0|           0.0|               0.0|               0.0|               0.0|          0.0|            0.0|             0.0|             0.0|              1.0|             0.0|              0.0|             1.0|               0.0|             0.0|             0.0|             0.0|         0.0|        0.0|              0.0|           0.0|                0.0|[20.0,13695.0,5.0...|[0.58270498328257...|\n",
      "| 20|        20|   7560|          5|          6|     1958|        1965|       504|         0|      525|       1029|    1339|       0|           0|     1339|           0|           0|       1|       0|           3|           1|           6|         0|         1|       294|         0|          0|            0|        0|          0|       0|      0|     5|  2009|   139000|           0.0|         0.0|        0.0|           0.0|              0.0|            0.0|            0.0|            0.0|               0.0|             0.0|             0.0|           0.0|             0.0|            1.0|           0.0|              6.0|              4.0|             0.0|            0.0|            0.0|             0.0|           0.0|           0.0|               0.0|               5.0|               0.0|          0.0|            1.0|             0.0|             0.0|              0.0|             2.0|              0.0|             0.0|               0.0|             0.0|             0.0|             0.0|         0.0|        1.0|              0.0|           2.0|                2.0|(33,[0,1,2,3,4,5,...|(33,[0,1,2,3,4,5,...|\n",
      "+---+----------+-------+-----------+-----------+---------+------------+----------+----------+---------+-----------+--------+--------+------------+---------+------------+------------+--------+--------+------------+------------+------------+----------+----------+----------+----------+-----------+-------------+---------+-----------+--------+-------+------+------+---------+--------------+------------+-----------+--------------+-----------------+---------------+---------------+---------------+------------------+----------------+----------------+--------------+----------------+---------------+--------------+-----------------+-----------------+----------------+---------------+---------------+----------------+--------------+--------------+------------------+------------------+------------------+-------------+---------------+----------------+----------------+-----------------+----------------+-----------------+----------------+------------------+----------------+----------------+----------------+------------+-----------+-----------------+--------------+-------------------+--------------------+--------------------+\n",
      "only showing top 20 rows\n",
      "\n"
     ]
    }
   ],
   "source": [
    "# Import StandardScaler from pyspark.ml.feature package\n",
    "from pyspark.ml.feature import StandardScaler\n",
    "\n",
    "# Create the StandardScaler object. It only take feature column (dense vector)\n",
    "stdscaler = StandardScaler(inputCol=\"Independent_Features\", outputCol=\"Scaled_Features\")\n",
    "\n",
    "# Fit the StandardScaler object on the output of the dense vector data and transform\n",
    "stdscaledDF = stdscaler.fit(DF11).transform(DF11)\n",
    "stdscaledDF.select(\"*\").show()"
   ]
  },
  {
   "cell_type": "code",
   "execution_count": 51,
   "metadata": {
    "executionInfo": {
     "elapsed": 9,
     "status": "ok",
     "timestamp": 1659260738976,
     "user": {
      "displayName": "Prerna Waghray",
      "userId": "08074246852708739388"
     },
     "user_tz": -330
    },
    "id": "bukb4isYB3-M"
   },
   "outputs": [],
   "source": [
    "DF12 = stdscaledDF.drop(*input_cols, \"Independent_Features\")"
   ]
  },
  {
   "cell_type": "code",
   "execution_count": 52,
   "metadata": {
    "colab": {
     "base_uri": "https://localhost:8080/"
    },
    "executionInfo": {
     "elapsed": 661,
     "status": "ok",
     "timestamp": 1659260741839,
     "user": {
      "displayName": "Prerna Waghray",
      "userId": "08074246852708739388"
     },
     "user_tz": -330
    },
    "id": "JkMrnJ1-DedQ",
    "outputId": "14fb2443-b1aa-48f8-fd1d-aea41b9146e1"
   },
   "outputs": [
    {
     "name": "stdout",
     "output_type": "stream",
     "text": [
      "23/02/05 17:07:01 WARN TaskSetManager: Stage 41 contains a task of very large size (2099 KiB). The maximum recommended task size is 1000 KiB.\n",
      "+---+---------+--------------+------------+-----------+--------------+-----------------+---------------+---------------+---------------+------------------+----------------+----------------+--------------+----------------+---------------+--------------+-----------------+-----------------+----------------+---------------+---------------+----------------+--------------+--------------+------------------+------------------+------------------+-------------+---------------+----------------+----------------+-----------------+----------------+-----------------+----------------+------------------+----------------+----------------+----------------+------------+-----------+-----------------+--------------+-------------------+--------------------+\n",
      "| Id|SalePrice|MSZoning_index|Street_index|Alley_index|LotShape_index|LandContour_index|Utilities_index|LotConfig_index|LandSlope_index|Neighborhood_index|Condition1_index|Condition2_index|BldgType_index|HouseStyle_index|RoofStyle_index|RoofMatl_index|Exterior1st_index|Exterior2nd_index|MasVnrType_index|ExterQual_index|ExterCond_index|Foundation_index|BsmtQual_index|BsmtCond_index|BsmtExposure_index|BsmtFinType1_index|BsmtFinType2_index|Heating_index|HeatingQC_index|CentralAir_index|Electrical_index|KitchenQual_index|Functional_index|FireplaceQu_index|GarageType_index|GarageFinish_index|GarageQual_index|GarageCond_index|PavedDrive_index|PoolQC_index|Fence_index|MiscFeature_index|SaleType_index|SaleCondition_index|     Scaled_Features|\n",
      "+---+---------+--------------+------------+-----------+--------------+-----------------+---------------+---------------+---------------+------------------+----------------+----------------+--------------+----------------+---------------+--------------+-----------------+-----------------+----------------+---------------+---------------+----------------+--------------+--------------+------------------+------------------+------------------+-------------+---------------+----------------+----------------+-----------------+----------------+-----------------+----------------+------------------+----------------+----------------+----------------+------------+-----------+-----------------+--------------+-------------------+--------------------+\n",
      "|  1|   208500|           0.0|         0.0|        0.0|           0.0|              0.0|            0.0|            0.0|            0.0|               1.0|             0.0|             0.0|           0.0|             1.0|            0.0|           0.0|              0.0|              0.0|             1.0|            1.0|            0.0|             1.0|           1.0|           0.0|               0.0|               0.0|               0.0|          0.0|            0.0|             0.0|             0.0|              1.0|             0.0|              0.0|             0.0|               1.0|             0.0|             0.0|             0.0|         0.0|        0.0|              0.0|           0.0|                0.0|[1.74811494984773...|\n",
      "|  2|   181500|           0.0|         0.0|        0.0|           0.0|              0.0|            0.0|            3.0|            0.0|              22.0|             1.0|             0.0|           0.0|             0.0|            0.0|           0.0|              1.0|              1.0|             0.0|            0.0|            0.0|             0.0|           1.0|           0.0|               2.0|               2.0|               0.0|          0.0|            0.0|             0.0|             0.0|              0.0|             0.0|              2.0|             0.0|               1.0|             0.0|             0.0|             0.0|         0.0|        0.0|              0.0|           0.0|                0.0|[0.58270498328257...|\n",
      "|  3|   223500|           0.0|         0.0|        0.0|           1.0|              0.0|            0.0|            0.0|            0.0|               1.0|             0.0|             0.0|           0.0|             1.0|            0.0|           0.0|              0.0|              0.0|             1.0|            1.0|            0.0|             1.0|           1.0|           0.0|               3.0|               0.0|               0.0|          0.0|            0.0|             0.0|             0.0|              1.0|             0.0|              2.0|             0.0|               1.0|             0.0|             0.0|             0.0|         0.0|        0.0|              0.0|           0.0|                0.0|[1.74811494984773...|\n",
      "|  4|   140000|           0.0|         0.0|        0.0|           1.0|              0.0|            0.0|            1.0|            0.0|              11.0|             0.0|             0.0|           0.0|             1.0|            0.0|           0.0|              3.0|              6.0|             0.0|            0.0|            0.0|             2.0|           0.0|           1.0|               0.0|               2.0|               0.0|          0.0|            2.0|             0.0|             0.0|              1.0|             0.0|              1.0|             1.0|               0.0|             0.0|             0.0|             0.0|         0.0|        0.0|              0.0|           0.0|                2.0|[2.03946744148901...|\n",
      "|  5|   250000|           0.0|         0.0|        0.0|           1.0|              0.0|            0.0|            3.0|            0.0|              13.0|             0.0|             0.0|           0.0|             1.0|            0.0|           0.0|              0.0|              0.0|             1.0|            1.0|            0.0|             1.0|           1.0|           0.0|               1.0|               0.0|               0.0|          0.0|            0.0|             0.0|             0.0|              1.0|             0.0|              2.0|             0.0|               1.0|             0.0|             0.0|             0.0|         0.0|        0.0|              0.0|           0.0|                0.0|[1.74811494984773...|\n",
      "|  6|   143000|           0.0|         0.0|        0.0|           1.0|              0.0|            0.0|            0.0|            0.0|              12.0|             0.0|             0.0|           0.0|             2.0|            0.0|           0.0|              0.0|              0.0|             0.0|            0.0|            0.0|             5.0|           1.0|           0.0|               0.0|               0.0|               0.0|          0.0|            0.0|             0.0|             0.0|              0.0|             0.0|              0.0|             0.0|               0.0|             0.0|             0.0|             0.0|         0.0|        1.0|              1.0|           0.0|                0.0|[1.45676245820644...|\n",
      "|  7|   307000|           0.0|         0.0|        0.0|           0.0|              0.0|            0.0|            0.0|            0.0|               4.0|             0.0|             0.0|           0.0|             0.0|            0.0|           0.0|              0.0|              0.0|             2.0|            1.0|            0.0|             1.0|           2.0|           0.0|               1.0|               0.0|               0.0|          0.0|            0.0|             0.0|             0.0|              1.0|             0.0|              1.0|             0.0|               1.0|             0.0|             0.0|             0.0|         0.0|        0.0|              0.0|           0.0|                0.0|[0.58270498328257...|\n",
      "|  8|   200000|           0.0|         0.0|        0.0|           1.0|              0.0|            0.0|            1.0|            0.0|               7.0|             4.0|             0.0|           0.0|             1.0|            0.0|           0.0|              2.0|              2.0|             2.0|            0.0|            0.0|             0.0|           1.0|           0.0|               3.0|               2.0|               4.0|          0.0|            0.0|             0.0|             0.0|              0.0|             0.0|              2.0|             0.0|               1.0|             0.0|             0.0|             0.0|         0.0|        0.0|              1.0|           0.0|                0.0|[1.74811494984773...|\n",
      "|  9|   129900|           1.0|         0.0|        0.0|           0.0|              0.0|            0.0|            0.0|            0.0|               2.0|             2.0|             0.0|           0.0|             2.0|            0.0|           0.0|              6.0|              6.0|             0.0|            0.0|            0.0|             2.0|           0.0|           0.0|               0.0|               1.0|               0.0|          0.0|            2.0|             0.0|             2.0|              0.0|             2.0|              2.0|             1.0|               0.0|             2.0|             0.0|             0.0|         0.0|        0.0|              0.0|           0.0|                2.0|[1.45676245820644...|\n",
      "| 10|   118000|           0.0|         0.0|        0.0|           0.0|              0.0|            0.0|            1.0|            0.0|              10.0|             2.0|             2.0|           4.0|             5.0|            0.0|           0.0|              1.0|              1.0|             0.0|            0.0|            0.0|             2.0|           0.0|           0.0|               0.0|               0.0|               0.0|          0.0|            0.0|             0.0|             0.0|              0.0|             0.0|              2.0|             0.0|               1.0|             3.0|             0.0|             0.0|         0.0|        0.0|              0.0|           0.0|                0.0|[5.53569734118447...|\n",
      "| 11|   129500|           0.0|         0.0|        0.0|           0.0|              0.0|            0.0|            0.0|            0.0|               8.0|             0.0|             0.0|           0.0|             0.0|            1.0|           0.0|              2.0|              2.0|             0.0|            0.0|            0.0|             0.0|           0.0|           0.0|               0.0|               4.0|               0.0|          0.0|            0.0|             0.0|             0.0|              0.0|             0.0|              0.0|             1.0|               0.0|             0.0|             0.0|             0.0|         0.0|        0.0|              0.0|           0.0|                0.0|(33,[0,1,2,3,4,5,...|\n",
      "| 12|   345000|           0.0|         0.0|        0.0|           1.0|              0.0|            0.0|            0.0|            0.0|               6.0|             0.0|             0.0|           0.0|             1.0|            1.0|           0.0|              8.0|              6.0|             2.0|            2.0|            0.0|             1.0|           2.0|           0.0|               0.0|               0.0|               0.0|          0.0|            0.0|             0.0|             0.0|              2.0|             0.0|              1.0|             2.0|               2.0|             0.0|             0.0|             0.0|         0.0|        0.0|              0.0|           1.0|                1.0|[1.74811494984773...|\n",
      "| 13|   144000|           0.0|         0.0|        0.0|           2.0|              0.0|            0.0|            0.0|            0.0|               8.0|             0.0|             0.0|           0.0|             0.0|            1.0|           0.0|              2.0|              4.0|             0.0|            0.0|            0.0|             0.0|           0.0|           0.0|               0.0|               2.0|               0.0|          0.0|            1.0|             0.0|             0.0|              0.0|             0.0|              0.0|             1.0|               0.0|             0.0|             0.0|             0.0|         0.0|        0.0|              0.0|           0.0|                0.0|[0.58270498328257...|\n",
      "| 14|   279500|           0.0|         0.0|        0.0|           1.0|              0.0|            0.0|            0.0|            0.0|               1.0|             0.0|             0.0|           0.0|             0.0|            0.0|           0.0|              0.0|              0.0|             2.0|            1.0|            0.0|             1.0|           1.0|           0.0|               1.0|               1.0|               0.0|          0.0|            0.0|             0.0|             0.0|              1.0|             0.0|              1.0|             0.0|               1.0|             0.0|             0.0|             0.0|         0.0|        0.0|              0.0|           1.0|                1.0|[0.58270498328257...|\n",
      "| 15|   157000|           0.0|         0.0|        0.0|           1.0|              0.0|            0.0|            1.0|            0.0|               0.0|             0.0|             0.0|           0.0|             0.0|            1.0|           0.0|              1.0|              1.0|             1.0|            0.0|            0.0|             0.0|           0.0|           0.0|               0.0|               3.0|               0.0|          0.0|            1.0|             0.0|             0.0|              0.0|             0.0|              3.0|             0.0|               1.0|             0.0|             0.0|             0.0|         0.0|        3.0|              0.0|           0.0|                0.0|[0.58270498328257...|\n",
      "| 16|   132000|           1.0|         0.0|        0.0|           0.0|              0.0|            0.0|            1.0|            0.0|              10.0|             0.0|             0.0|           0.0|             5.0|            0.0|           0.0|              3.0|              3.0|             0.0|            0.0|            0.0|             2.0|           0.0|           0.0|               0.0|               1.0|               0.0|          0.0|            0.0|             0.0|             1.0|              0.0|             0.0|              0.0|             1.0|               0.0|             0.0|             0.0|             0.0|         0.0|        2.0|              0.0|           0.0|                0.0|(33,[0,1,2,3,4,5,...|\n",
      "| 17|   149000|           0.0|         0.0|        0.0|           1.0|              0.0|            0.0|            2.0|            0.0|               0.0|             0.0|             0.0|           0.0|             0.0|            0.0|           0.0|              3.0|              3.0|             1.0|            0.0|            0.0|             0.0|           0.0|           0.0|               0.0|               2.0|               0.0|          0.0|            0.0|             0.0|             0.0|              0.0|             0.0|              2.0|             0.0|               2.0|             0.0|             0.0|             0.0|         0.0|        0.0|              1.0|           0.0|                0.0|[0.58270498328257...|\n",
      "| 18|    90000|           0.0|         0.0|        0.0|           0.0|              0.0|            0.0|            0.0|            0.0|               8.0|             0.0|             0.0|           2.0|             0.0|            0.0|           0.0|              1.0|              1.0|             0.0|            0.0|            0.0|             3.0|           3.0|           3.0|               4.0|               6.0|               3.0|          0.0|            1.0|             0.0|             0.0|              0.0|             0.0|              0.0|             5.0|               0.0|             0.0|             0.0|             0.0|         0.0|        0.0|              1.0|           0.0|                0.0|(33,[0,1,2,3,4,5,...|\n",
      "| 19|   159000|           0.0|         0.0|        0.0|           0.0|              0.0|            0.0|            0.0|            0.0|               9.0|             5.0|             0.0|           0.0|             0.0|            0.0|           0.0|              0.0|              0.0|             0.0|            0.0|            0.0|             1.0|           0.0|           0.0|               0.0|               0.0|               0.0|          0.0|            0.0|             0.0|             0.0|              1.0|             0.0|              0.0|             1.0|               0.0|             0.0|             0.0|             0.0|         0.0|        0.0|              0.0|           0.0|                0.0|[0.58270498328257...|\n",
      "| 20|   139000|           0.0|         0.0|        0.0|           0.0|              0.0|            0.0|            0.0|            0.0|               0.0|             0.0|             0.0|           0.0|             0.0|            1.0|           0.0|              6.0|              4.0|             0.0|            0.0|            0.0|             0.0|           0.0|           0.0|               0.0|               5.0|               0.0|          0.0|            1.0|             0.0|             0.0|              0.0|             2.0|              0.0|             0.0|               0.0|             0.0|             0.0|             0.0|         0.0|        1.0|              0.0|           2.0|                2.0|(33,[0,1,2,3,4,5,...|\n",
      "+---+---------+--------------+------------+-----------+--------------+-----------------+---------------+---------------+---------------+------------------+----------------+----------------+--------------+----------------+---------------+--------------+-----------------+-----------------+----------------+---------------+---------------+----------------+--------------+--------------+------------------+------------------+------------------+-------------+---------------+----------------+----------------+-----------------+----------------+-----------------+----------------+------------------+----------------+----------------+----------------+------------+-----------+-----------------+--------------+-------------------+--------------------+\n",
      "only showing top 20 rows\n",
      "\n"
     ]
    }
   ],
   "source": [
    "DF12.show()"
   ]
  },
  {
   "cell_type": "code",
   "execution_count": 53,
   "metadata": {
    "colab": {
     "base_uri": "https://localhost:8080/"
    },
    "executionInfo": {
     "elapsed": 5,
     "status": "ok",
     "timestamp": 1659260743999,
     "user": {
      "displayName": "Prerna Waghray",
      "userId": "08074246852708739388"
     },
     "user_tz": -330
    },
    "id": "_qQ8qDTTEu_l",
    "outputId": "1c0b6748-fa3e-44ad-c1a4-2106310cbefc"
   },
   "outputs": [
    {
     "data": {
      "text/plain": [
       "['Id',\n",
       " 'SalePrice',\n",
       " 'MSZoning_index',\n",
       " 'Street_index',\n",
       " 'Alley_index',\n",
       " 'LotShape_index',\n",
       " 'LandContour_index',\n",
       " 'Utilities_index',\n",
       " 'LotConfig_index',\n",
       " 'LandSlope_index',\n",
       " 'Neighborhood_index',\n",
       " 'Condition1_index',\n",
       " 'Condition2_index',\n",
       " 'BldgType_index',\n",
       " 'HouseStyle_index',\n",
       " 'RoofStyle_index',\n",
       " 'RoofMatl_index',\n",
       " 'Exterior1st_index',\n",
       " 'Exterior2nd_index',\n",
       " 'MasVnrType_index',\n",
       " 'ExterQual_index',\n",
       " 'ExterCond_index',\n",
       " 'Foundation_index',\n",
       " 'BsmtQual_index',\n",
       " 'BsmtCond_index',\n",
       " 'BsmtExposure_index',\n",
       " 'BsmtFinType1_index',\n",
       " 'BsmtFinType2_index',\n",
       " 'Heating_index',\n",
       " 'HeatingQC_index',\n",
       " 'CentralAir_index',\n",
       " 'Electrical_index',\n",
       " 'KitchenQual_index',\n",
       " 'Functional_index',\n",
       " 'FireplaceQu_index',\n",
       " 'GarageType_index',\n",
       " 'GarageFinish_index',\n",
       " 'GarageQual_index',\n",
       " 'GarageCond_index',\n",
       " 'PavedDrive_index',\n",
       " 'PoolQC_index',\n",
       " 'Fence_index',\n",
       " 'MiscFeature_index',\n",
       " 'SaleType_index',\n",
       " 'SaleCondition_index',\n",
       " 'Scaled_Features']"
      ]
     },
     "execution_count": 53,
     "metadata": {},
     "output_type": "execute_result"
    }
   ],
   "source": [
    "DF12.columns"
   ]
  },
  {
   "cell_type": "code",
   "execution_count": 54,
   "metadata": {
    "scrolled": true
   },
   "outputs": [
    {
     "data": {
      "text/plain": [
       "pyspark.sql.dataframe.DataFrame"
      ]
     },
     "execution_count": 54,
     "metadata": {},
     "output_type": "execute_result"
    }
   ],
   "source": [
    "type(DF12)"
   ]
  },
  {
   "cell_type": "code",
   "execution_count": 55,
   "metadata": {},
   "outputs": [
    {
     "data": {
      "text/plain": [
       "['Id',\n",
       " 'SalePrice',\n",
       " 'MSZoning_index',\n",
       " 'Street_index',\n",
       " 'Alley_index',\n",
       " 'LotShape_index',\n",
       " 'LandContour_index',\n",
       " 'Utilities_index',\n",
       " 'LotConfig_index',\n",
       " 'LandSlope_index',\n",
       " 'Neighborhood_index',\n",
       " 'Condition1_index',\n",
       " 'Condition2_index',\n",
       " 'BldgType_index',\n",
       " 'HouseStyle_index',\n",
       " 'RoofStyle_index',\n",
       " 'RoofMatl_index',\n",
       " 'Exterior1st_index',\n",
       " 'Exterior2nd_index',\n",
       " 'MasVnrType_index',\n",
       " 'ExterQual_index',\n",
       " 'ExterCond_index',\n",
       " 'Foundation_index',\n",
       " 'BsmtQual_index',\n",
       " 'BsmtCond_index',\n",
       " 'BsmtExposure_index',\n",
       " 'BsmtFinType1_index',\n",
       " 'BsmtFinType2_index',\n",
       " 'Heating_index',\n",
       " 'HeatingQC_index',\n",
       " 'CentralAir_index',\n",
       " 'Electrical_index',\n",
       " 'KitchenQual_index',\n",
       " 'Functional_index',\n",
       " 'FireplaceQu_index',\n",
       " 'GarageType_index',\n",
       " 'GarageFinish_index',\n",
       " 'GarageQual_index',\n",
       " 'GarageCond_index',\n",
       " 'PavedDrive_index',\n",
       " 'PoolQC_index',\n",
       " 'Fence_index',\n",
       " 'MiscFeature_index',\n",
       " 'SaleType_index',\n",
       " 'SaleCondition_index',\n",
       " 'Scaled_Features']"
      ]
     },
     "execution_count": 55,
     "metadata": {},
     "output_type": "execute_result"
    }
   ],
   "source": [
    "DF12.columns"
   ]
  },
  {
   "cell_type": "code",
   "execution_count": 56,
   "metadata": {
    "executionInfo": {
     "elapsed": 393,
     "status": "ok",
     "timestamp": 1659260747618,
     "user": {
      "displayName": "Prerna Waghray",
      "userId": "08074246852708739388"
     },
     "user_tz": -330
    },
    "id": "tWRgMYEq1TOC"
   },
   "outputs": [],
   "source": [
    "# Import VectorAssembler from pyspark.ml.feature package\n",
    "from pyspark.ml.feature import VectorAssembler\n",
    "# Create a list of all the variables that you want to create feature vectors\n",
    "# These features are then further used for training model\n",
    "features_col = ['MSZoning_index',\n",
    " 'Street_index',\n",
    " 'Alley_index',\n",
    " 'LotShape_index',\n",
    " 'LandContour_index',\n",
    " 'Utilities_index',\n",
    " 'LotConfig_index',\n",
    " 'LandSlope_index',\n",
    " 'Neighborhood_index',\n",
    " 'Condition1_index',\n",
    " 'Condition2_index',\n",
    " 'BldgType_index',\n",
    " 'HouseStyle_index',\n",
    " 'RoofStyle_index',\n",
    " 'RoofMatl_index',\n",
    " 'Exterior1st_index',\n",
    " 'Exterior2nd_index',\n",
    " 'MasVnrType_index',\n",
    " 'ExterQual_index',\n",
    " 'ExterCond_index',\n",
    " 'Foundation_index',\n",
    " 'BsmtQual_index',\n",
    " 'BsmtCond_index',\n",
    " 'BsmtExposure_index',\n",
    " 'BsmtFinType1_index',\n",
    " 'BsmtFinType2_index',\n",
    " 'Heating_index',\n",
    " 'HeatingQC_index',\n",
    " 'CentralAir_index',\n",
    " 'Electrical_index',\n",
    " 'KitchenQual_index',\n",
    " 'Functional_index',\n",
    " 'FireplaceQu_index',\n",
    " 'GarageType_index',\n",
    " 'GarageFinish_index',\n",
    " 'GarageQual_index',\n",
    " 'GarageCond_index',\n",
    " 'PavedDrive_index',\n",
    " 'PoolQC_index',\n",
    " 'Fence_index',\n",
    " 'MiscFeature_index',\n",
    " 'SaleType_index',\n",
    " 'SaleCondition_index',\n",
    " 'Scaled_Features']\n",
    "# Create the VectorAssembler object\n",
    "assembler = VectorAssembler(inputCols=features_col, outputCol=\"independent_features\")\n",
    "DF13 = assembler.transform(DF12)\n",
    "final_DF = DF13.select('independent_features', 'SalePrice')\n",
    "final_DF_without_sp = DF13.select('independent_features')"
   ]
  },
  {
   "cell_type": "code",
   "execution_count": 57,
   "metadata": {
    "colab": {
     "base_uri": "https://localhost:8080/"
    },
    "executionInfo": {
     "elapsed": 758,
     "status": "ok",
     "timestamp": 1659260751849,
     "user": {
      "displayName": "Prerna Waghray",
      "userId": "08074246852708739388"
     },
     "user_tz": -330
    },
    "id": "Y9PiLB99Fyxe",
    "outputId": "f5ecd761-a60b-42ea-9f47-ee9554461e6d"
   },
   "outputs": [
    {
     "name": "stdout",
     "output_type": "stream",
     "text": [
      "23/02/05 17:07:02 WARN TaskSetManager: Stage 42 contains a task of very large size (2099 KiB). The maximum recommended task size is 1000 KiB.\n",
      "+--------------------+---------+\n",
      "|independent_features|SalePrice|\n",
      "+--------------------+---------+\n",
      "|(76,[8,12,17,18,2...|   208500|\n",
      "|(76,[6,8,9,15,16,...|   181500|\n",
      "|(76,[3,8,12,17,18...|   223500|\n",
      "|(76,[3,6,8,12,15,...|   140000|\n",
      "|(76,[3,6,8,12,17,...|   250000|\n",
      "|(76,[3,8,12,20,21...|   143000|\n",
      "|(76,[8,17,18,20,2...|   307000|\n",
      "|(76,[3,6,8,9,12,1...|   200000|\n",
      "|(76,[0,8,9,12,15,...|   129900|\n",
      "|(76,[6,8,9,10,11,...|   118000|\n",
      "|(76,[8,13,15,16,2...|   129500|\n",
      "|(76,[3,8,12,13,15...|   345000|\n",
      "|(76,[3,8,13,15,16...|   144000|\n",
      "|(76,[3,8,17,18,20...|   279500|\n",
      "|(76,[3,6,13,15,16...|   157000|\n",
      "|(76,[0,6,8,12,15,...|   132000|\n",
      "|(76,[3,6,15,16,17...|   149000|\n",
      "|(76,[8,11,15,16,2...|    90000|\n",
      "|(76,[8,9,20,30,33...|   159000|\n",
      "|(76,[13,15,16,24,...|   139000|\n",
      "+--------------------+---------+\n",
      "only showing top 20 rows\n",
      "\n"
     ]
    }
   ],
   "source": [
    "final_DF.show()"
   ]
  },
  {
   "cell_type": "code",
   "execution_count": 58,
   "metadata": {
    "colab": {
     "base_uri": "https://localhost:8080/"
    },
    "executionInfo": {
     "elapsed": 2180,
     "status": "ok",
     "timestamp": 1659260755654,
     "user": {
      "displayName": "Prerna Waghray",
      "userId": "08074246852708739388"
     },
     "user_tz": -330
    },
    "id": "pmib9cOVF9aB",
    "outputId": "a5375489-0587-4782-cfd1-9e87280c024e"
   },
   "outputs": [
    {
     "name": "stdout",
     "output_type": "stream",
     "text": [
      "23/02/05 17:07:02 WARN TaskSetManager: Stage 43 contains a task of very large size (2099 KiB). The maximum recommended task size is 1000 KiB.\n"
     ]
    },
    {
     "name": "stderr",
     "output_type": "stream",
     "text": [
      "                                                                                \r"
     ]
    },
    {
     "name": "stdout",
     "output_type": "stream",
     "text": [
      "Observations in training set =  15163\n",
      "23/02/05 17:07:04 WARN TaskSetManager: Stage 46 contains a task of very large size (2099 KiB). The maximum recommended task size is 1000 KiB.\n"
     ]
    },
    {
     "name": "stderr",
     "output_type": "stream",
     "text": [
      "\r",
      "[Stage 46:>                                                         (0 + 2) / 2]\r"
     ]
    },
    {
     "name": "stdout",
     "output_type": "stream",
     "text": [
      "Observations in testing set =  6297\n"
     ]
    },
    {
     "name": "stderr",
     "output_type": "stream",
     "text": [
      "\r",
      "                                                                                \r"
     ]
    }
   ],
   "source": [
    "# Train - test split\n",
    "# We spilt the data into 70-30 set\n",
    "# Training Set - 70% obesevations\n",
    "# Testing Set - 30% observations\n",
    "trainDF, testDF =  final_DF.randomSplit([0.7,0.3], seed = 42)\n",
    "\n",
    "# print the count of observations in each set\n",
    "print(\"Observations in training set = \", trainDF.count())\n",
    "print(\"Observations in testing set = \", testDF.count())"
   ]
  },
  {
   "cell_type": "code",
   "execution_count": 59,
   "metadata": {
    "executionInfo": {
     "elapsed": 3126,
     "status": "ok",
     "timestamp": 1659260759587,
     "user": {
      "displayName": "Prerna Waghray",
      "userId": "08074246852708739388"
     },
     "user_tz": -330
    },
    "id": "UgNcIYkgF9NA"
   },
   "outputs": [
    {
     "name": "stdout",
     "output_type": "stream",
     "text": [
      "23/02/05 17:07:05 WARN Instrumentation: [566a3ada] regParam is zero, which might cause numerical instability and overfitting.\n",
      "23/02/05 17:07:05 WARN TaskSetManager: Stage 49 contains a task of very large size (2099 KiB). The maximum recommended task size is 1000 KiB.\n"
     ]
    },
    {
     "name": "stderr",
     "output_type": "stream",
     "text": [
      "\r",
      "[Stage 49:>                                                         (0 + 2) / 2]\r",
      "\r",
      "                                                                                \r"
     ]
    },
    {
     "name": "stdout",
     "output_type": "stream",
     "text": [
      "23/02/05 17:07:06 WARN InstanceBuilder$NativeBLAS: Failed to load implementation from:dev.ludovic.netlib.blas.JNIBLAS\n",
      "23/02/05 17:07:06 WARN InstanceBuilder$NativeBLAS: Failed to load implementation from:dev.ludovic.netlib.blas.ForeignLinkerBLAS\n",
      "23/02/05 17:07:06 WARN InstanceBuilder$NativeLAPACK: Failed to load implementation from:dev.ludovic.netlib.lapack.JNILAPACK\n",
      "23/02/05 17:07:06 WARN Instrumentation: [566a3ada] Cholesky solver failed due to singular covariance matrix. Retrying with Quasi-Newton solver.\n",
      "23/02/05 17:07:06 WARN TaskSetManager: Stage 50 contains a task of very large size (2099 KiB). The maximum recommended task size is 1000 KiB.\n"
     ]
    },
    {
     "name": "stderr",
     "output_type": "stream",
     "text": [
      "\r",
      "[Stage 50:>                                                         (0 + 2) / 2]\r",
      "\r",
      "                                                                                \r"
     ]
    }
   ],
   "source": [
    "# Linear Regression\n",
    "from pyspark.ml.regression import LinearRegression\n",
    "regressor=LinearRegression(featuresCol='independent_features', labelCol='SalePrice')\n",
    "lr_model=regressor.fit(trainDF)"
   ]
  },
  {
   "cell_type": "code",
   "execution_count": 60,
   "metadata": {
    "colab": {
     "base_uri": "https://localhost:8080/"
    },
    "executionInfo": {
     "elapsed": 382,
     "status": "ok",
     "timestamp": 1659260761470,
     "user": {
      "displayName": "Prerna Waghray",
      "userId": "08074246852708739388"
     },
     "user_tz": -330
    },
    "id": "vjoP3HWiF8-O",
    "outputId": "abf2607f-b7fe-417f-f6a7-2703cd934838"
   },
   "outputs": [
    {
     "data": {
      "text/plain": [
       "DenseVector([-4291.4193, -31945.9108, 4782.5362, -228.6162, -2056.0086, 0.0, -680.1203, -847.6024, 511.149, -3110.9392, -8643.8307, -216.7968, 920.0321, 2026.0974, -480.1417, 1145.9896, -1269.1715, 1689.4456, 7144.7525, -302.6631, 2280.5995, 5400.3236, -265.7989, 2683.6527, -15.2069, 680.3132, -676.5423, -186.4936, -1819.1989, -997.3479, 6765.1922, -2578.9566, 405.9947, 395.3111, 2746.1192, 1390.7654, 289.583, 1125.6178, 10042.1634, -1026.8634, 2315.4076, 1814.6172, -1425.9112, -5324.2007, 6206.6836, 18570.2219, 6701.6294, 11456.6647, 2940.8505, 5360.2406, -1381.931, -2753.3267, 9299.2581, -1660.5946, -3889.9947, -1373.1651, 31501.1271, 1646.7994, -446.5343, 2387.0482, 1104.8995, -3757.3306, -1289.3614, 2941.9449, 2368.6641, 4349.1175, 3031.629, 1500.0838, -1170.5002, 799.3312, 420.5817, 3650.2159, -2633.6798, -129.4327, -142.7281, -1016.7646])"
      ]
     },
     "execution_count": 60,
     "metadata": {},
     "output_type": "execute_result"
    }
   ],
   "source": [
    "# Coefficients\n",
    "lr_model.coefficients"
   ]
  },
  {
   "cell_type": "code",
   "execution_count": 61,
   "metadata": {
    "colab": {
     "base_uri": "https://localhost:8080/"
    },
    "executionInfo": {
     "elapsed": 3,
     "status": "ok",
     "timestamp": 1659260763427,
     "user": {
      "displayName": "Prerna Waghray",
      "userId": "08074246852708739388"
     },
     "user_tz": -330
    },
    "id": "obkLek501VxA",
    "outputId": "90ec9b97-5c13-414b-9124-35d0e7c2e927"
   },
   "outputs": [
    {
     "data": {
      "text/plain": [
       "489229.2352229924"
      ]
     },
     "execution_count": 61,
     "metadata": {},
     "output_type": "execute_result"
    }
   ],
   "source": [
    "# Intercepts\n",
    "lr_model.intercept"
   ]
  },
  {
   "cell_type": "code",
   "execution_count": 62,
   "metadata": {
    "executionInfo": {
     "elapsed": 1834,
     "status": "ok",
     "timestamp": 1659260768194,
     "user": {
      "displayName": "Prerna Waghray",
      "userId": "08074246852708739388"
     },
     "user_tz": -330
    },
    "id": "YuR5-RRIGtmh"
   },
   "outputs": [
    {
     "name": "stdout",
     "output_type": "stream",
     "text": [
      "23/02/05 17:07:07 WARN TaskSetManager: Stage 51 contains a task of very large size (2099 KiB). The maximum recommended task size is 1000 KiB.\n"
     ]
    },
    {
     "name": "stderr",
     "output_type": "stream",
     "text": [
      "\r",
      "[Stage 51:>                                                         (0 + 2) / 2]\r",
      "\r",
      "                                                                                \r"
     ]
    }
   ],
   "source": [
    "# Prediction\n",
    "pred_results_lr=lr_model.evaluate(testDF)"
   ]
  },
  {
   "cell_type": "code",
   "execution_count": 63,
   "metadata": {
    "colab": {
     "base_uri": "https://localhost:8080/"
    },
    "executionInfo": {
     "elapsed": 665,
     "status": "ok",
     "timestamp": 1659260770780,
     "user": {
      "displayName": "Prerna Waghray",
      "userId": "08074246852708739388"
     },
     "user_tz": -330
    },
    "id": "tiUmdsKz1hJv",
    "outputId": "f3afee37-37a0-4499-f6a9-caff81a60b40"
   },
   "outputs": [
    {
     "name": "stdout",
     "output_type": "stream",
     "text": [
      "23/02/05 17:07:08 WARN TaskSetManager: Stage 52 contains a task of very large size (2099 KiB). The maximum recommended task size is 1000 KiB.\n",
      "+--------------------+---------+------------------+\n",
      "|independent_features|SalePrice|        prediction|\n",
      "+--------------------+---------+------------------+\n",
      "|(76,[0,1,4,8,15,1...|    81000|  60142.0059989795|\n",
      "|(76,[0,2,3,6,8,12...|   265979|261722.26276450203|\n",
      "|(76,[0,2,3,6,12,1...|    84967|145413.96088471607|\n",
      "|(76,[0,2,3,8,9,12...|    89500|126058.34276704019|\n",
      "|(76,[0,2,3,8,11,1...|   196000|201984.73244801577|\n",
      "|(76,[0,2,3,8,11,1...|   197000|229782.56173038454|\n",
      "|(76,[0,2,3,8,11,1...|   135387|170228.72357480339|\n",
      "|(76,[0,2,3,8,12,1...|    74512|  77731.7108701758|\n",
      "|(76,[0,2,4,7,8,11...|    93000|116276.18922505033|\n",
      "|(76,[0,2,4,8,9,11...|   200000|231718.64930176496|\n",
      "|(76,[0,2,4,8,9,12...|   115000|120934.24022642168|\n",
      "|(76,[0,2,6,8,9,12...|   168000|190658.32308121672|\n",
      "|(76,[0,2,6,8,9,12...|   124000| 142779.9846316913|\n",
      "|(76,[0,2,6,8,11,1...|   176000|160824.02566556883|\n",
      "|(76,[0,2,6,8,11,1...|   146000|168309.81473313126|\n",
      "|(76,[0,2,6,8,12,1...|   164235|202434.98432385124|\n",
      "|(76,[0,2,6,8,12,1...|   255243| 264986.8091686654|\n",
      "|(76,[0,2,6,8,12,1...|   110000| 98360.11612762854|\n",
      "|(76,[0,2,8,9,12,1...|    40000| 62136.18824807735|\n",
      "|(76,[0,2,8,9,12,1...|   136000| 184359.1837381962|\n",
      "+--------------------+---------+------------------+\n",
      "only showing top 20 rows\n",
      "\n"
     ]
    }
   ],
   "source": [
    "pred_results_lr.predictions.show()"
   ]
  },
  {
   "cell_type": "code",
   "execution_count": 64,
   "metadata": {
    "colab": {
     "base_uri": "https://localhost:8080/"
    },
    "executionInfo": {
     "elapsed": 5,
     "status": "ok",
     "timestamp": 1659260772972,
     "user": {
      "displayName": "Prerna Waghray",
      "userId": "08074246852708739388"
     },
     "user_tz": -330
    },
    "id": "LaVKm21J2Etq",
    "outputId": "23dac2d6-533d-46b6-d5b9-65f6f73c3a7b"
   },
   "outputs": [
    {
     "name": "stdout",
     "output_type": "stream",
     "text": [
      "Linear Regression - RMSE:  1160804080.1256924\n",
      "Linear Regression - MAE:  26315.61537304066\n",
      "Linear Regression - R-squared:  0.8193619300677886\n"
     ]
    }
   ],
   "source": [
    "# Printing metrics\n",
    "print(\"Linear Regression - RMSE: \",pred_results_lr.meanSquaredError)\n",
    "print(\"Linear Regression - MAE: \",pred_results_lr.meanAbsoluteError)\n",
    "print(\"Linear Regression - R-squared: \",pred_results_lr.r2)"
   ]
  },
  {
   "cell_type": "code",
   "execution_count": 65,
   "metadata": {
    "executionInfo": {
     "elapsed": 383,
     "status": "ok",
     "timestamp": 1659260775590,
     "user": {
      "displayName": "Prerna Waghray",
      "userId": "08074246852708739388"
     },
     "user_tz": -330
    },
    "id": "w58DOj0SQ968"
   },
   "outputs": [],
   "source": [
    "# Saving the metrics to a file\n",
    "with open(\"data/train_data_metrics.csv\",'a') as f:\n",
    "    print(\"Training Dataset Metrics \", file=f)\n",
    "    print(\"Linear Regression - RMSE: \",pred_results_lr.meanSquaredError, file=f)\n",
    "    print(\"Linear Regression - MAE: \",pred_results_lr.meanAbsoluteError, file=f)\n",
    "    print(\"Linear Regression - R-squared: \",pred_results_lr.r2, file=f)"
   ]
  },
  {
   "cell_type": "code",
   "execution_count": 66,
   "metadata": {
    "executionInfo": {
     "elapsed": 7225,
     "status": "ok",
     "timestamp": 1659260787909,
     "user": {
      "displayName": "Prerna Waghray",
      "userId": "08074246852708739388"
     },
     "user_tz": -330
    },
    "id": "Qmod0ouWHHOK"
   },
   "outputs": [
    {
     "name": "stdout",
     "output_type": "stream",
     "text": [
      "23/02/05 17:07:09 WARN TaskSetManager: Stage 53 contains a task of very large size (2099 KiB). The maximum recommended task size is 1000 KiB.\n"
     ]
    },
    {
     "name": "stderr",
     "output_type": "stream",
     "text": [
      "\r",
      "[Stage 53:>                                                         (0 + 1) / 1]\r",
      "\r",
      "                                                                                \r"
     ]
    },
    {
     "name": "stdout",
     "output_type": "stream",
     "text": [
      "23/02/05 17:07:10 WARN TaskSetManager: Stage 54 contains a task of very large size (2099 KiB). The maximum recommended task size is 1000 KiB.\n"
     ]
    },
    {
     "name": "stderr",
     "output_type": "stream",
     "text": [
      "                                                                                \r"
     ]
    },
    {
     "name": "stdout",
     "output_type": "stream",
     "text": [
      "23/02/05 17:07:11 WARN TaskSetManager: Stage 55 contains a task of very large size (2099 KiB). The maximum recommended task size is 1000 KiB.\n"
     ]
    },
    {
     "name": "stderr",
     "output_type": "stream",
     "text": [
      "                                                                                \r"
     ]
    },
    {
     "name": "stdout",
     "output_type": "stream",
     "text": [
      "23/02/05 17:07:12 WARN TaskSetManager: Stage 57 contains a task of very large size (2099 KiB). The maximum recommended task size is 1000 KiB.\n"
     ]
    },
    {
     "name": "stderr",
     "output_type": "stream",
     "text": [
      "                                                                                \r"
     ]
    },
    {
     "name": "stdout",
     "output_type": "stream",
     "text": [
      "23/02/05 17:07:14 WARN TaskSetManager: Stage 59 contains a task of very large size (2099 KiB). The maximum recommended task size is 1000 KiB.\n",
      "23/02/05 17:07:14 WARN TaskSetManager: Stage 61 contains a task of very large size (2099 KiB). The maximum recommended task size is 1000 KiB.\n",
      "23/02/05 17:07:15 WARN TaskSetManager: Stage 63 contains a task of very large size (2099 KiB). The maximum recommended task size is 1000 KiB.\n",
      "23/02/05 17:07:15 WARN TaskSetManager: Stage 65 contains a task of very large size (2099 KiB). The maximum recommended task size is 1000 KiB.\n",
      "23/02/05 17:07:16 WARN TaskSetManager: Stage 67 contains a task of very large size (2099 KiB). The maximum recommended task size is 1000 KiB.\n",
      "23/02/05 17:07:17 WARN TaskSetManager: Stage 69 contains a task of very large size (2099 KiB). The maximum recommended task size is 1000 KiB.\n",
      "23/02/05 17:07:18 WARN DAGScheduler: Broadcasting large task binary with size 1349.6 KiB\n",
      "23/02/05 17:07:18 WARN TaskSetManager: Stage 71 contains a task of very large size (2099 KiB). The maximum recommended task size is 1000 KiB.\n"
     ]
    },
    {
     "name": "stderr",
     "output_type": "stream",
     "text": [
      "                                                                                \r"
     ]
    }
   ],
   "source": [
    "# Random Forest Regression\n",
    "from pyspark.ml.regression import RandomForestRegressor\n",
    "rf = RandomForestRegressor(featuresCol='independent_features', labelCol='SalePrice',numTrees=20, maxDepth=8)\n",
    "rf.setSeed(17)\n",
    "rf_model = rf.fit(trainDF)"
   ]
  },
  {
   "cell_type": "code",
   "execution_count": 67,
   "metadata": {
    "executionInfo": {
     "elapsed": 631,
     "status": "ok",
     "timestamp": 1659260788534,
     "user": {
      "displayName": "Prerna Waghray",
      "userId": "08074246852708739388"
     },
     "user_tz": -330
    },
    "id": "q4ikBWj0HHCk"
   },
   "outputs": [
    {
     "name": "stderr",
     "output_type": "stream",
     "text": [
      "WARNING: An illegal reflective access operation has occurred\n",
      "WARNING: Illegal reflective access by org.apache.spark.util.SizeEstimator$ (file:/root/anaconda3/lib/python3.9/site-packages/pyspark/jars/spark-core_2.12-3.3.1.jar) to field java.nio.charset.Charset.name\n",
      "WARNING: Please consider reporting this to the maintainers of org.apache.spark.util.SizeEstimator$\n",
      "WARNING: Use --illegal-access=warn to enable warnings of further illegal reflective access operations\n",
      "WARNING: All illegal access operations will be denied in a future release\n"
     ]
    }
   ],
   "source": [
    "pred_results_rf=rf_model.transform(testDF)"
   ]
  },
  {
   "cell_type": "code",
   "execution_count": 68,
   "metadata": {
    "colab": {
     "base_uri": "https://localhost:8080/"
    },
    "executionInfo": {
     "elapsed": 980,
     "status": "ok",
     "timestamp": 1659260805044,
     "user": {
      "displayName": "Prerna Waghray",
      "userId": "08074246852708739388"
     },
     "user_tz": -330
    },
    "id": "ovpfW9XxHG9x",
    "outputId": "6e985ed6-4ca9-46c6-fd96-bbe91339eb49"
   },
   "outputs": [
    {
     "name": "stdout",
     "output_type": "stream",
     "text": [
      "23/02/05 17:07:20 WARN TaskSetManager: Stage 73 contains a task of very large size (2099 KiB). The maximum recommended task size is 1000 KiB.\n",
      "+--------------------+---------+------------------+\n",
      "|independent_features|SalePrice|        prediction|\n",
      "+--------------------+---------+------------------+\n",
      "|(76,[0,1,4,8,15,1...|    81000| 82932.83690149494|\n",
      "|(76,[0,2,3,6,8,12...|   265979| 261388.4897233137|\n",
      "|(76,[0,2,3,6,12,1...|    84967| 155745.3802926768|\n",
      "|(76,[0,2,3,8,9,12...|    89500|132997.15042218514|\n",
      "|(76,[0,2,3,8,11,1...|   196000|  212114.666218738|\n",
      "|(76,[0,2,3,8,11,1...|   197000|241370.57865442554|\n",
      "|(76,[0,2,3,8,11,1...|   135387|154052.70171450078|\n",
      "|(76,[0,2,3,8,12,1...|    74512|63408.511391466214|\n",
      "|(76,[0,2,4,7,8,11...|    93000| 93489.32287163101|\n",
      "|(76,[0,2,4,8,9,11...|   200000|203143.33317987906|\n",
      "|(76,[0,2,4,8,9,12...|   115000|131066.95204255279|\n",
      "|(76,[0,2,6,8,9,12...|   168000| 202814.5511250876|\n",
      "|(76,[0,2,6,8,9,12...|   124000|142585.76494619186|\n",
      "|(76,[0,2,6,8,11,1...|   176000|168965.07042785286|\n",
      "|(76,[0,2,6,8,11,1...|   146000|197628.63875791646|\n",
      "|(76,[0,2,6,8,12,1...|   164235|195821.16645415762|\n",
      "|(76,[0,2,6,8,12,1...|   255243|261284.26407606254|\n",
      "|(76,[0,2,6,8,12,1...|   110000| 116592.5839074835|\n",
      "|(76,[0,2,8,9,12,1...|    40000| 94672.98816736674|\n",
      "|(76,[0,2,8,9,12,1...|   136000|190458.24320260502|\n",
      "+--------------------+---------+------------------+\n",
      "only showing top 20 rows\n",
      "\n"
     ]
    }
   ],
   "source": [
    "pred_results_rf.show()"
   ]
  },
  {
   "cell_type": "code",
   "execution_count": 69,
   "metadata": {
    "executionInfo": {
     "elapsed": 13458,
     "status": "ok",
     "timestamp": 1659260822447,
     "user": {
      "displayName": "Prerna Waghray",
      "userId": "08074246852708739388"
     },
     "user_tz": -330
    },
    "id": "TJZHu0o-HG4k"
   },
   "outputs": [
    {
     "name": "stdout",
     "output_type": "stream",
     "text": [
      "23/02/05 17:07:21 WARN TaskSetManager: Stage 74 contains a task of very large size (2099 KiB). The maximum recommended task size is 1000 KiB.\n",
      "23/02/05 17:07:21 WARN TaskSetManager: Stage 75 contains a task of very large size (2099 KiB). The maximum recommended task size is 1000 KiB.\n"
     ]
    },
    {
     "name": "stderr",
     "output_type": "stream",
     "text": [
      "\r",
      "[Stage 75:>                                                         (0 + 2) / 2]\r",
      "\r",
      "                                                                                \r"
     ]
    },
    {
     "name": "stdout",
     "output_type": "stream",
     "text": [
      "23/02/05 17:07:22 WARN TaskSetManager: Stage 76 contains a task of very large size (2099 KiB). The maximum recommended task size is 1000 KiB.\n"
     ]
    },
    {
     "name": "stderr",
     "output_type": "stream",
     "text": [
      "                                                                                \r"
     ]
    },
    {
     "name": "stdout",
     "output_type": "stream",
     "text": [
      "23/02/05 17:07:23 WARN TaskSetManager: Stage 78 contains a task of very large size (2099 KiB). The maximum recommended task size is 1000 KiB.\n"
     ]
    },
    {
     "name": "stderr",
     "output_type": "stream",
     "text": [
      "                                                                                \r"
     ]
    },
    {
     "name": "stdout",
     "output_type": "stream",
     "text": [
      "23/02/05 17:07:24 WARN TaskSetManager: Stage 80 contains a task of very large size (2099 KiB). The maximum recommended task size is 1000 KiB.\n",
      "23/02/05 17:07:24 WARN TaskSetManager: Stage 82 contains a task of very large size (2099 KiB). The maximum recommended task size is 1000 KiB.\n",
      "23/02/05 17:07:25 WARN TaskSetManager: Stage 84 contains a task of very large size (2099 KiB). The maximum recommended task size is 1000 KiB.\n",
      "23/02/05 17:07:25 WARN TaskSetManager: Stage 86 contains a task of very large size (2099 KiB). The maximum recommended task size is 1000 KiB.\n",
      "23/02/05 17:07:25 WARN TaskSetManager: Stage 88 contains a task of very large size (2099 KiB). The maximum recommended task size is 1000 KiB.\n",
      "23/02/05 17:07:25 WARN TaskSetManager: Stage 90 contains a task of very large size (2099 KiB). The maximum recommended task size is 1000 KiB.\n",
      "23/02/05 17:07:25 WARN TaskSetManager: Stage 92 contains a task of very large size (2099 KiB). The maximum recommended task size is 1000 KiB.\n",
      "23/02/05 17:07:25 WARN TaskSetManager: Stage 94 contains a task of very large size (2099 KiB). The maximum recommended task size is 1000 KiB.\n",
      "23/02/05 17:07:25 WARN TaskSetManager: Stage 96 contains a task of very large size (2099 KiB). The maximum recommended task size is 1000 KiB.\n",
      "23/02/05 17:07:26 WARN TaskSetManager: Stage 98 contains a task of very large size (2099 KiB). The maximum recommended task size is 1000 KiB.\n",
      "23/02/05 17:07:26 WARN TaskSetManager: Stage 100 contains a task of very large size (2099 KiB). The maximum recommended task size is 1000 KiB.\n",
      "23/02/05 17:07:26 WARN TaskSetManager: Stage 102 contains a task of very large size (2099 KiB). The maximum recommended task size is 1000 KiB.\n",
      "23/02/05 17:07:26 WARN TaskSetManager: Stage 104 contains a task of very large size (2099 KiB). The maximum recommended task size is 1000 KiB.\n",
      "23/02/05 17:07:26 WARN TaskSetManager: Stage 106 contains a task of very large size (2099 KiB). The maximum recommended task size is 1000 KiB.\n",
      "23/02/05 17:07:26 WARN TaskSetManager: Stage 108 contains a task of very large size (2099 KiB). The maximum recommended task size is 1000 KiB.\n",
      "23/02/05 17:07:26 WARN TaskSetManager: Stage 110 contains a task of very large size (2099 KiB). The maximum recommended task size is 1000 KiB.\n",
      "23/02/05 17:07:26 WARN TaskSetManager: Stage 112 contains a task of very large size (2099 KiB). The maximum recommended task size is 1000 KiB.\n",
      "23/02/05 17:07:27 WARN TaskSetManager: Stage 114 contains a task of very large size (2099 KiB). The maximum recommended task size is 1000 KiB.\n",
      "23/02/05 17:07:27 WARN TaskSetManager: Stage 116 contains a task of very large size (2099 KiB). The maximum recommended task size is 1000 KiB.\n",
      "23/02/05 17:07:27 WARN TaskSetManager: Stage 118 contains a task of very large size (2099 KiB). The maximum recommended task size is 1000 KiB.\n",
      "23/02/05 17:07:27 WARN TaskSetManager: Stage 120 contains a task of very large size (2099 KiB). The maximum recommended task size is 1000 KiB.\n",
      "23/02/05 17:07:27 WARN TaskSetManager: Stage 122 contains a task of very large size (2099 KiB). The maximum recommended task size is 1000 KiB.\n",
      "23/02/05 17:07:27 WARN TaskSetManager: Stage 124 contains a task of very large size (2099 KiB). The maximum recommended task size is 1000 KiB.\n",
      "23/02/05 17:07:27 WARN TaskSetManager: Stage 126 contains a task of very large size (2099 KiB). The maximum recommended task size is 1000 KiB.\n",
      "23/02/05 17:07:27 WARN TaskSetManager: Stage 128 contains a task of very large size (2099 KiB). The maximum recommended task size is 1000 KiB.\n",
      "23/02/05 17:07:28 WARN TaskSetManager: Stage 130 contains a task of very large size (2099 KiB). The maximum recommended task size is 1000 KiB.\n",
      "23/02/05 17:07:28 WARN TaskSetManager: Stage 132 contains a task of very large size (2099 KiB). The maximum recommended task size is 1000 KiB.\n",
      "23/02/05 17:07:28 WARN TaskSetManager: Stage 134 contains a task of very large size (2099 KiB). The maximum recommended task size is 1000 KiB.\n",
      "23/02/05 17:07:28 WARN TaskSetManager: Stage 136 contains a task of very large size (2099 KiB). The maximum recommended task size is 1000 KiB.\n",
      "23/02/05 17:07:28 WARN TaskSetManager: Stage 138 contains a task of very large size (2099 KiB). The maximum recommended task size is 1000 KiB.\n",
      "23/02/05 17:07:28 WARN TaskSetManager: Stage 140 contains a task of very large size (2099 KiB). The maximum recommended task size is 1000 KiB.\n",
      "23/02/05 17:07:28 WARN TaskSetManager: Stage 142 contains a task of very large size (2099 KiB). The maximum recommended task size is 1000 KiB.\n",
      "23/02/05 17:07:28 WARN TaskSetManager: Stage 144 contains a task of very large size (2099 KiB). The maximum recommended task size is 1000 KiB.\n",
      "23/02/05 17:07:29 WARN TaskSetManager: Stage 146 contains a task of very large size (2099 KiB). The maximum recommended task size is 1000 KiB.\n",
      "23/02/05 17:07:29 WARN TaskSetManager: Stage 148 contains a task of very large size (2099 KiB). The maximum recommended task size is 1000 KiB.\n",
      "23/02/05 17:07:29 WARN TaskSetManager: Stage 150 contains a task of very large size (2099 KiB). The maximum recommended task size is 1000 KiB.\n",
      "23/02/05 17:07:29 WARN TaskSetManager: Stage 152 contains a task of very large size (2099 KiB). The maximum recommended task size is 1000 KiB.\n",
      "23/02/05 17:07:29 WARN TaskSetManager: Stage 154 contains a task of very large size (2099 KiB). The maximum recommended task size is 1000 KiB.\n",
      "23/02/05 17:07:29 WARN TaskSetManager: Stage 156 contains a task of very large size (2099 KiB). The maximum recommended task size is 1000 KiB.\n",
      "23/02/05 17:07:29 WARN TaskSetManager: Stage 158 contains a task of very large size (2099 KiB). The maximum recommended task size is 1000 KiB.\n",
      "23/02/05 17:07:29 WARN TaskSetManager: Stage 160 contains a task of very large size (2099 KiB). The maximum recommended task size is 1000 KiB.\n",
      "23/02/05 17:07:29 WARN TaskSetManager: Stage 162 contains a task of very large size (2099 KiB). The maximum recommended task size is 1000 KiB.\n",
      "23/02/05 17:07:30 WARN TaskSetManager: Stage 164 contains a task of very large size (2099 KiB). The maximum recommended task size is 1000 KiB.\n",
      "23/02/05 17:07:30 WARN TaskSetManager: Stage 166 contains a task of very large size (2099 KiB). The maximum recommended task size is 1000 KiB.\n",
      "23/02/05 17:07:30 WARN TaskSetManager: Stage 168 contains a task of very large size (2099 KiB). The maximum recommended task size is 1000 KiB.\n",
      "23/02/05 17:07:30 WARN TaskSetManager: Stage 170 contains a task of very large size (2099 KiB). The maximum recommended task size is 1000 KiB.\n",
      "23/02/05 17:07:30 WARN TaskSetManager: Stage 172 contains a task of very large size (2099 KiB). The maximum recommended task size is 1000 KiB.\n",
      "23/02/05 17:07:30 WARN TaskSetManager: Stage 174 contains a task of very large size (2099 KiB). The maximum recommended task size is 1000 KiB.\n",
      "23/02/05 17:07:30 WARN TaskSetManager: Stage 176 contains a task of very large size (2099 KiB). The maximum recommended task size is 1000 KiB.\n",
      "23/02/05 17:07:30 WARN TaskSetManager: Stage 178 contains a task of very large size (2099 KiB). The maximum recommended task size is 1000 KiB.\n",
      "23/02/05 17:07:31 WARN TaskSetManager: Stage 180 contains a task of very large size (2099 KiB). The maximum recommended task size is 1000 KiB.\n",
      "23/02/05 17:07:31 WARN TaskSetManager: Stage 182 contains a task of very large size (2099 KiB). The maximum recommended task size is 1000 KiB.\n",
      "23/02/05 17:07:31 WARN TaskSetManager: Stage 184 contains a task of very large size (2099 KiB). The maximum recommended task size is 1000 KiB.\n",
      "23/02/05 17:07:31 WARN TaskSetManager: Stage 186 contains a task of very large size (2099 KiB). The maximum recommended task size is 1000 KiB.\n",
      "23/02/05 17:07:31 WARN TaskSetManager: Stage 188 contains a task of very large size (2099 KiB). The maximum recommended task size is 1000 KiB.\n",
      "23/02/05 17:07:31 WARN TaskSetManager: Stage 190 contains a task of very large size (2099 KiB). The maximum recommended task size is 1000 KiB.\n",
      "23/02/05 17:07:31 WARN TaskSetManager: Stage 192 contains a task of very large size (2099 KiB). The maximum recommended task size is 1000 KiB.\n",
      "23/02/05 17:07:31 WARN TaskSetManager: Stage 194 contains a task of very large size (2099 KiB). The maximum recommended task size is 1000 KiB.\n",
      "23/02/05 17:07:31 WARN TaskSetManager: Stage 196 contains a task of very large size (2099 KiB). The maximum recommended task size is 1000 KiB.\n"
     ]
    },
    {
     "name": "stdout",
     "output_type": "stream",
     "text": [
      "23/02/05 17:07:31 WARN TaskSetManager: Stage 198 contains a task of very large size (2099 KiB). The maximum recommended task size is 1000 KiB.\n",
      "23/02/05 17:07:32 WARN TaskSetManager: Stage 200 contains a task of very large size (2099 KiB). The maximum recommended task size is 1000 KiB.\n",
      "23/02/05 17:07:32 WARN TaskSetManager: Stage 202 contains a task of very large size (2099 KiB). The maximum recommended task size is 1000 KiB.\n",
      "23/02/05 17:07:32 WARN TaskSetManager: Stage 204 contains a task of very large size (2099 KiB). The maximum recommended task size is 1000 KiB.\n",
      "23/02/05 17:07:32 WARN TaskSetManager: Stage 206 contains a task of very large size (2099 KiB). The maximum recommended task size is 1000 KiB.\n",
      "23/02/05 17:07:32 WARN TaskSetManager: Stage 208 contains a task of very large size (2099 KiB). The maximum recommended task size is 1000 KiB.\n",
      "23/02/05 17:07:32 WARN TaskSetManager: Stage 210 contains a task of very large size (2099 KiB). The maximum recommended task size is 1000 KiB.\n",
      "23/02/05 17:07:32 WARN TaskSetManager: Stage 212 contains a task of very large size (2099 KiB). The maximum recommended task size is 1000 KiB.\n",
      "23/02/05 17:07:32 WARN TaskSetManager: Stage 214 contains a task of very large size (2099 KiB). The maximum recommended task size is 1000 KiB.\n",
      "23/02/05 17:07:32 WARN TaskSetManager: Stage 216 contains a task of very large size (2099 KiB). The maximum recommended task size is 1000 KiB.\n",
      "23/02/05 17:07:33 WARN TaskSetManager: Stage 218 contains a task of very large size (2100 KiB). The maximum recommended task size is 1000 KiB.\n",
      "23/02/05 17:07:33 WARN TaskSetManager: Stage 220 contains a task of very large size (2100 KiB). The maximum recommended task size is 1000 KiB.\n",
      "23/02/05 17:07:33 WARN TaskSetManager: Stage 222 contains a task of very large size (2100 KiB). The maximum recommended task size is 1000 KiB.\n",
      "23/02/05 17:07:33 WARN TaskSetManager: Stage 224 contains a task of very large size (2100 KiB). The maximum recommended task size is 1000 KiB.\n",
      "23/02/05 17:07:33 WARN TaskSetManager: Stage 226 contains a task of very large size (2100 KiB). The maximum recommended task size is 1000 KiB.\n",
      "23/02/05 17:07:33 WARN TaskSetManager: Stage 228 contains a task of very large size (2100 KiB). The maximum recommended task size is 1000 KiB.\n",
      "23/02/05 17:07:33 WARN TaskSetManager: Stage 230 contains a task of very large size (2100 KiB). The maximum recommended task size is 1000 KiB.\n",
      "23/02/05 17:07:33 WARN TaskSetManager: Stage 232 contains a task of very large size (2100 KiB). The maximum recommended task size is 1000 KiB.\n",
      "23/02/05 17:07:33 WARN TaskSetManager: Stage 234 contains a task of very large size (2100 KiB). The maximum recommended task size is 1000 KiB.\n",
      "23/02/05 17:07:34 WARN TaskSetManager: Stage 236 contains a task of very large size (2100 KiB). The maximum recommended task size is 1000 KiB.\n",
      "23/02/05 17:07:34 WARN TaskSetManager: Stage 238 contains a task of very large size (2100 KiB). The maximum recommended task size is 1000 KiB.\n",
      "23/02/05 17:07:34 WARN TaskSetManager: Stage 240 contains a task of very large size (2100 KiB). The maximum recommended task size is 1000 KiB.\n",
      "23/02/05 17:07:34 WARN TaskSetManager: Stage 242 contains a task of very large size (2100 KiB). The maximum recommended task size is 1000 KiB.\n",
      "23/02/05 17:07:34 WARN TaskSetManager: Stage 244 contains a task of very large size (2100 KiB). The maximum recommended task size is 1000 KiB.\n",
      "23/02/05 17:07:34 WARN TaskSetManager: Stage 246 contains a task of very large size (2100 KiB). The maximum recommended task size is 1000 KiB.\n"
     ]
    }
   ],
   "source": [
    "# Gradient Boost Regression\n",
    "from pyspark.ml.regression import GBTRegressor\n",
    "gbtr = GBTRegressor(featuresCol='independent_features', labelCol='SalePrice', maxIter=17)\n",
    "gbr_model = gbtr.fit(trainDF)"
   ]
  },
  {
   "cell_type": "code",
   "execution_count": 70,
   "metadata": {
    "executionInfo": {
     "elapsed": 388,
     "status": "ok",
     "timestamp": 1659260829615,
     "user": {
      "displayName": "Prerna Waghray",
      "userId": "08074246852708739388"
     },
     "user_tz": -330
    },
    "id": "b3ehgyy1HGrg"
   },
   "outputs": [],
   "source": [
    "pred_results_gb = gbr_model.transform(testDF)"
   ]
  },
  {
   "cell_type": "code",
   "execution_count": 71,
   "metadata": {
    "colab": {
     "base_uri": "https://localhost:8080/"
    },
    "executionInfo": {
     "elapsed": 1055,
     "status": "ok",
     "timestamp": 1659260832908,
     "user": {
      "displayName": "Prerna Waghray",
      "userId": "08074246852708739388"
     },
     "user_tz": -330
    },
    "id": "FKneR6XSM8Vo",
    "outputId": "bf135be3-e7fc-482b-dccf-f2e53af37539"
   },
   "outputs": [
    {
     "name": "stdout",
     "output_type": "stream",
     "text": [
      "23/02/05 17:07:34 WARN TaskSetManager: Stage 248 contains a task of very large size (2099 KiB). The maximum recommended task size is 1000 KiB.\n",
      "+--------------------+---------+------------------+\n",
      "|independent_features|SalePrice|        prediction|\n",
      "+--------------------+---------+------------------+\n",
      "|(76,[0,1,4,8,15,1...|    81000|  55747.0691627625|\n",
      "|(76,[0,2,3,6,8,12...|   265979| 228310.6221244872|\n",
      "|(76,[0,2,3,6,12,1...|    84967| 138428.9994549804|\n",
      "|(76,[0,2,3,8,9,12...|    89500|124022.85776153856|\n",
      "|(76,[0,2,3,8,11,1...|   196000|200669.64673484946|\n",
      "|(76,[0,2,3,8,11,1...|   197000| 254942.2024614788|\n",
      "|(76,[0,2,3,8,11,1...|   135387|135015.13830454944|\n",
      "|(76,[0,2,3,8,12,1...|    74512| 73157.38079330922|\n",
      "|(76,[0,2,4,7,8,11...|    93000|  72507.0180294814|\n",
      "|(76,[0,2,4,8,9,11...|   200000|250279.20543797468|\n",
      "|(76,[0,2,4,8,9,12...|   115000|124563.77830430432|\n",
      "|(76,[0,2,6,8,9,12...|   168000| 214854.2285138366|\n",
      "|(76,[0,2,6,8,9,12...|   124000|117456.85325344128|\n",
      "|(76,[0,2,6,8,11,1...|   176000|143346.60566550438|\n",
      "|(76,[0,2,6,8,11,1...|   146000|171603.33499677773|\n",
      "|(76,[0,2,6,8,12,1...|   164235|178839.51111701914|\n",
      "|(76,[0,2,6,8,12,1...|   255243|216190.89998209602|\n",
      "|(76,[0,2,6,8,12,1...|   110000|  81415.6180736211|\n",
      "|(76,[0,2,8,9,12,1...|    40000|  78668.3077666444|\n",
      "|(76,[0,2,8,9,12,1...|   136000| 229633.0977207703|\n",
      "+--------------------+---------+------------------+\n",
      "only showing top 20 rows\n",
      "\n"
     ]
    },
    {
     "name": "stderr",
     "output_type": "stream",
     "text": [
      "\r",
      "[Stage 248:>                                                        (0 + 1) / 1]\r",
      "\r",
      "                                                                                \r"
     ]
    }
   ],
   "source": [
    "pred_results_gb.show()"
   ]
  },
  {
   "cell_type": "code",
   "execution_count": 72,
   "metadata": {
    "executionInfo": {
     "elapsed": 3140,
     "status": "ok",
     "timestamp": 1659260839252,
     "user": {
      "displayName": "Prerna Waghray",
      "userId": "08074246852708739388"
     },
     "user_tz": -330
    },
    "id": "tGSddei8MqyX"
   },
   "outputs": [
    {
     "name": "stdout",
     "output_type": "stream",
     "text": [
      "23/02/05 17:07:35 WARN TaskSetManager: Stage 249 contains a task of very large size (2099 KiB). The maximum recommended task size is 1000 KiB.\n"
     ]
    },
    {
     "name": "stderr",
     "output_type": "stream",
     "text": [
      "                                                                                \r"
     ]
    },
    {
     "name": "stdout",
     "output_type": "stream",
     "text": [
      "23/02/05 17:07:36 WARN TaskSetManager: Stage 250 contains a task of very large size (2099 KiB). The maximum recommended task size is 1000 KiB.\n"
     ]
    },
    {
     "name": "stderr",
     "output_type": "stream",
     "text": [
      "                                                                                \r"
     ]
    },
    {
     "name": "stdout",
     "output_type": "stream",
     "text": [
      "23/02/05 17:07:37 WARN TaskSetManager: Stage 251 contains a task of very large size (2099 KiB). The maximum recommended task size is 1000 KiB.\n"
     ]
    },
    {
     "name": "stderr",
     "output_type": "stream",
     "text": [
      "                                                                                \r"
     ]
    },
    {
     "name": "stdout",
     "output_type": "stream",
     "text": [
      "23/02/05 17:07:38 WARN TaskSetManager: Stage 252 contains a task of very large size (2099 KiB). The maximum recommended task size is 1000 KiB.\n"
     ]
    },
    {
     "name": "stderr",
     "output_type": "stream",
     "text": [
      "\r",
      "[Stage 252:============================>                            (1 + 1) / 2]\r",
      "\r",
      "                                                                                \r"
     ]
    },
    {
     "name": "stdout",
     "output_type": "stream",
     "text": [
      "23/02/05 17:07:39 WARN TaskSetManager: Stage 253 contains a task of very large size (2099 KiB). The maximum recommended task size is 1000 KiB.\n"
     ]
    },
    {
     "name": "stderr",
     "output_type": "stream",
     "text": [
      "\r",
      "[Stage 253:>                                                        (0 + 2) / 2]\r",
      "\r",
      "                                                                                \r"
     ]
    },
    {
     "name": "stdout",
     "output_type": "stream",
     "text": [
      "23/02/05 17:07:40 WARN TaskSetManager: Stage 254 contains a task of very large size (2099 KiB). The maximum recommended task size is 1000 KiB.\n"
     ]
    },
    {
     "name": "stderr",
     "output_type": "stream",
     "text": [
      "\r",
      "[Stage 254:>                                                        (0 + 2) / 2]\r",
      "\r",
      "                                                                                \r"
     ]
    }
   ],
   "source": [
    "# Evaluating metrics for RF and GB regression algorithms\n",
    "from pyspark.ml.evaluation import RegressionEvaluator\n",
    "def metrics(df, model_name):\n",
    "  rmse=RegressionEvaluator(labelCol=\"SalePrice\", predictionCol=\"prediction\", metricName=\"rmse\")\n",
    "  rmse=rmse.evaluate(df) \n",
    " \n",
    "  mae=RegressionEvaluator(labelCol=\"SalePrice\", predictionCol=\"prediction\", metricName=\"mae\")\n",
    "  mae=mae.evaluate(df) \n",
    " \n",
    "  r2=RegressionEvaluator(labelCol=\"SalePrice\", predictionCol=\"prediction\", metricName=\"r2\")\n",
    "  r2=r2.evaluate(df)\n",
    "\n",
    "  with open(\"Train_data_metrics5.csv\",'a') as f:\n",
    "    print(\"{0} - RMSE: {1}\".format(model_name,rmse), file=f)\n",
    "    print(\"{0} - MAE: {1}\".format(model_name,mae), file=f)\n",
    "    print(\"{0} - R-squared: {1}\".format(model_name,r2), file=f)\n",
    "\n",
    "metrics(pred_results_rf, \"Random Forest Regression\")\n",
    "metrics(pred_results_gb, \"Gradient Boost Regression\")"
   ]
  },
  {
   "cell_type": "code",
   "execution_count": 73,
   "metadata": {
    "executionInfo": {
     "elapsed": 6450,
     "status": "ok",
     "timestamp": 1659260855873,
     "user": {
      "displayName": "Prerna Waghray",
      "userId": "08074246852708739388"
     },
     "user_tz": -330
    },
    "id": "aCchMBNg4GmP"
   },
   "outputs": [
    {
     "name": "stderr",
     "output_type": "stream",
     "text": [
      "\r",
      "[Stage 258:>                                                        (0 + 1) / 1]\r",
      "\r",
      "                                                                                \r"
     ]
    }
   ],
   "source": [
    "# Saving the Models\n",
    "lr_model.write().overwrite().save(\"generated_models/linearmodel\")\n",
    "rf_model.write().overwrite().save(\"generated_models/rfmodel\")\n",
    "gbr_model.write().overwrite().save(\"generated_models/gbrmodel\")"
   ]
  }
 ],
 "metadata": {
  "colab": {
   "collapsed_sections": [],
   "name": "Hackathon 2 - House price prediction - training.ipynb",
   "provenance": []
  },
  "kernelspec": {
   "display_name": "Python 3 (ipykernel)",
   "language": "python",
   "name": "python3"
  },
  "language_info": {
   "codemirror_mode": {
    "name": "ipython",
    "version": 3
   },
   "file_extension": ".py",
   "mimetype": "text/x-python",
   "name": "python",
   "nbconvert_exporter": "python",
   "pygments_lexer": "ipython3",
   "version": "3.9.7"
  }
 },
 "nbformat": 4,
 "nbformat_minor": 1
}
